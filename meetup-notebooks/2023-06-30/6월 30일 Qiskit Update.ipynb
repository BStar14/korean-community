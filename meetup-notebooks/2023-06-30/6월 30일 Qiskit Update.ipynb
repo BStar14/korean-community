{
 "cells": [
  {
   "cell_type": "markdown",
   "id": "1cc88c16-ef42-49ef-a444-d290bbce69ca",
   "metadata": {},
   "source": [
    "# Qiskit 설치 및 업데이트\n",
    "\n",
    "최신 버젼의 Qiskit을 설치하는 것! 헷갈리신다면 다음의 순서를 따라해보세요 \n",
    "\n",
    "1. [아나콘다 설치](https://www.anaconda.com/)\n",
    "\n",
    "    1-1. 만약 오래된 아나콘다가 설치되어 있다면 터미널을 열어 다음의 명령어를 실행해 보세요\n",
    "\n",
    "    `conda update -n base conda`\n",
    "    \n",
    "2. 환경 만들기\n",
    "\n",
    "`conda create -n qiskit python=3.10`\n",
    "\n",
    "3. 쥬피터 노트북 혹은 쥬피터 랩 설치\n",
    "\n",
    "`conda install jupyter notebook` 혹은 `conda install jupyterlab`\n",
    "\n",
    "4. qiskit_ibm_provider 설치\n",
    "\n",
    "`pip install qiskit qiskit_ibm_provider`\n",
    "\n",
    "5. qiskit-ibm-runtime 설치\n",
    "\n",
    "`pip install qiskit-ibm-runtime`\n",
    "\n",
    "6.  Qiskit 설치\n",
    "\n",
    "`pip install qiskit`\n",
    "\n",
    "6.  Qiskit 업데이트\n",
    "\n",
    "`pip install -U qiskit`\n",
    "\n",
    "설치가 잘 되었는지 다음의 명령어를 실행해서 확인해 봅시다."
   ]
  },
  {
   "cell_type": "code",
   "execution_count": 4,
   "id": "0c3b5990-1f5b-4c25-b2ab-13f10ee73de4",
   "metadata": {},
   "outputs": [
    {
     "data": {
      "text/html": [
       "<h3>Version Information</h3><table><tr><th>Qiskit Software</th><th>Version</th></tr><tr><td><code>qiskit-terra</code></td><td>0.24.1</td></tr><tr><td><code>qiskit-aer</code></td><td>0.12.0</td></tr><tr><td><code>qiskit-ibmq-provider</code></td><td>0.20.2</td></tr><tr><td><code>qiskit</code></td><td>0.43.1</td></tr><tr><td><code>qiskit-nature</code></td><td>0.6.2</td></tr><tr><td><code>qiskit-finance</code></td><td>0.3.4</td></tr><tr><td><code>qiskit-optimization</code></td><td>0.5.0</td></tr><tr><td><code>qiskit-machine-learning</code></td><td>0.6.1</td></tr><tr><th>System information</th></tr><tr><td>Python version</td><td>3.10.11</td></tr><tr><td>Python compiler</td><td>MSC v.1916 64 bit (AMD64)</td></tr><tr><td>Python build</td><td>main, Apr 20 2023 18:56:50</td></tr><tr><td>OS</td><td>Windows</td></tr><tr><td>CPUs</td><td>12</td></tr><tr><td>Memory (Gb)</td><td>31.61235809326172</td></tr><tr><td colspan='2'>Fri Jun 30 05:46:16 2023 Korea Standard Time</td></tr></table>"
      ],
      "text/plain": [
       "<IPython.core.display.HTML object>"
      ]
     },
     "metadata": {},
     "output_type": "display_data"
    }
   ],
   "source": [
    "import qiskit.tools.jupyter\n",
    "%qiskit_version_table"
   ]
  },
  {
   "cell_type": "markdown",
   "id": "d1fd7fa1-28b6-409a-91d1-b58efe0ec893",
   "metadata": {},
   "source": [
    "## Qiskit Update News (6월 30일자 업데이트)\n",
    "\n",
    "Qiskit 0.43 주요 업데이트 사항\n",
    "- Opflow와 Quantum Instance를 더이상 사용할 수 없습니다: Opflow는 해밀토니안 시뮬레이션에, Quantum instance는 백엔드에 양자 회로를 실행하는데 중요한 역할을 해왔지만 이제 더 사용할 수 없게 되었습니다. 이 결정은 `qiskit.primitive` 를 중심으로 Qiskit의 효율성을 끌어올리고 코드 구조를 통일하면서 발생하게 되었습니다\n",
    "\n",
    "<img src=\"https://miro.medium.com/v2/resize:fit:1400/format:webp/1*f3CGKqQksPN1hrmI1LmojA.png\">\n",
    "    - `qiskit.opflow.gradients` 는 `qiskit.algorithms.gradients` 로 대체 되며 다음과 같이 큰폭의 성능향상을 얻게 됩니다.\n",
    "    \n",
    "<img src = \"https://miro.medium.com/v2/resize:fit:1400/format:webp/1*WOpP2SQOEqvS3kPjNeJWtQ.png\">\n"
   ]
  },
  {
   "cell_type": "markdown",
   "id": "4d914080-1ce2-4aaa-9168-074fb698b6b9",
   "metadata": {},
   "source": [
    "   - [Operator Global](https://qiskit.org/documentation/stable/0.43/apidoc/opflow.html#operator-globals)을 더이상 사용할 수 없습니다.\n",
    "   - 기존 사용자를 위한 대체 코드는 아래에 제공됩니다.\n",
    "    \n",
    "- nature, machine-learning, finance, optimization이 공식 Qiskit 패키지로 관리되지 않게 되었습니다. .\n",
    "\n",
    "- Qiskit Terra가 0.25 로 업데이트 되었습니다.\n",
    "    - 트랜스파일러가 끊어져있거나 여러개의 칩으로 구성된 장치를 지원하기 시작합니다: IBM의 하드웨어 개발 로드맵 중 \"Heron\"과 같은 형태의 분리되어 있는 QPU를 실시간 고전통신으로 연결하는 구조를 지원하기 시작합니다. \n",
    "    - [기타 업데이트 사항](https://github.com/Qiskit/qiskit-terra/milestones)\n",
    "    \n",
    "\n",
    "이어지는 실습에서 주요 업데이트와 관련하여 대체 코드등을 확인해 봅시다."
   ]
  },
  {
   "cell_type": "code",
   "execution_count": 5,
   "id": "81060b49-8aee-4c06-bf09-35cd873d07d1",
   "metadata": {},
   "outputs": [],
   "source": [
    "## qiskit-ibmq-provider alternative\n",
    "from qiskit import *\n",
    "\n",
    "from qiskit import QuantumCircuit\n",
    "from qiskit_ibm_provider import IBMProvider\n",
    "\n",
    "#IBMProvider.save_account(TOKEN)\n",
    "#provider = IBMProvider()\n",
    "\n",
    "#밋업을 위해 추가된 허브와 그룹, 프로젝트를 프로바이더에 설정\n",
    "provider = IBMProvider(instance=\"ibm-q-yonsei/externalq-meetup/tutorials\")"
   ]
  },
  {
   "cell_type": "code",
   "execution_count": 6,
   "id": "a1f22322-9135-4ea8-8539-95f4f0d93daf",
   "metadata": {},
   "outputs": [
    {
     "data": {
      "text/plain": [
       "[<IBMBackend('ibm_lagos')>,\n",
       " <IBMBackend('ibm_nairobi')>,\n",
       " <IBMBackend('ibm_perth')>]"
      ]
     },
     "execution_count": 6,
     "metadata": {},
     "output_type": "execute_result"
    }
   ],
   "source": [
    "#밋업 참가자들에게 제공되는 양자 백엔드 목록\n",
    "provider.backends()"
   ]
  },
  {
   "cell_type": "markdown",
   "id": "97d9a573-1cb4-498f-bfea-77b6fde6ee52",
   "metadata": {},
   "source": [
    "## Operator Global\n",
    "\n",
    "우선 가장 먼저, Operator Global의 변화를 확인해 봅시다. 업데이트 이전에 특정 양자게이트, 자주 사용하는 연산등을 사전에 정의하여 사용하는 것이 가능했지만 이제 다음과 같이 새로운 방식의 명령어를 사용할 것을 권장합니다.\n",
    "\n",
    "### Common non-parametrized gates (Clifford)\n"
   ]
  },
  {
   "cell_type": "code",
   "execution_count": 11,
   "id": "44c29caf-0d69-4685-984e-e1eff75ffc5d",
   "metadata": {},
   "outputs": [
    {
     "name": "stdout",
     "output_type": "stream",
     "text": [
      "     ┌───┐\n",
      "q_0: ┤ H ├\n",
      "     ├───┤\n",
      "q_1: ┤ H ├\n",
      "     └───┘\n"
     ]
    }
   ],
   "source": [
    "from qiskit.opflow import H\n",
    "\n",
    "operator = H ^ H\n",
    "\n",
    "print(operator)"
   ]
  },
  {
   "cell_type": "markdown",
   "id": "05415e74-5aa4-4f41-abff-418124c95fae",
   "metadata": {},
   "source": [
    "하지만 이제부터는 다음과 같이 코드를 작성할 것을 권장합니다."
   ]
  },
  {
   "cell_type": "code",
   "execution_count": 13,
   "id": "617bc31f-b134-4da4-8890-d2c020f22233",
   "metadata": {},
   "outputs": [
    {
     "name": "stdout",
     "output_type": "stream",
     "text": [
      "     ┌───┐\n",
      "q_0: ┤ H ├\n",
      "     ├───┤\n",
      "q_1: ┤ H ├\n",
      "     └───┘\n"
     ]
    }
   ],
   "source": [
    "from qiskit import QuantumCircuit\n",
    "from qiskit.quantum_info import Operator\n",
    "\n",
    "qc = QuantumCircuit(2)\n",
    "qc.h(0)\n",
    "qc.h(1)\n",
    "\n",
    "operator = Operator(qc)\n",
    "\n",
    "print(qc)"
   ]
  },
  {
   "cell_type": "markdown",
   "id": "1c1d50d8-737a-413f-80a3-ed2ce12a3b18",
   "metadata": {},
   "source": [
    "### 1 Qubit Pauli\n",
    "\n",
    "알고리듬의 검증에 자주, 그리고 요긴하게 사용되는 1큐비트 파울리 행렬을 사용하여 operator를 정의하는 코드는 기존의 다음과 같은 코드를"
   ]
  },
  {
   "cell_type": "code",
   "execution_count": 9,
   "id": "bea95814-0a3b-4e4e-b137-a4f607a0cc9f",
   "metadata": {},
   "outputs": [
    {
     "name": "stdout",
     "output_type": "stream",
     "text": [
      "PauliSumOp(SparsePauliOp(['IZI', 'IXX'],\n",
      "              coeffs=[0.39+0.j, 0.5 +0.j]), coeff=1.0)\n"
     ]
    }
   ],
   "source": [
    "from qiskit.opflow import I, X, Z, PauliSumOp\n",
    "\n",
    "operator = 0.39 * (I ^ Z ^ I) + 0.5 * (I ^ X ^ X)\n",
    "\n",
    "# equivalent to:\n",
    "operator = PauliSumOp.from_list([(\"IZI\", 0.39), (\"IXX\", 0.5)])\n",
    "\n",
    "print(repr(operator))"
   ]
  },
  {
   "cell_type": "markdown",
   "id": "d2eb1cf0-9c27-4cc7-a41e-236e53d4d6d4",
   "metadata": {},
   "source": [
    "다음과 같은 세가지의 새로운 방식으로 사용할 것을 권장합니다."
   ]
  },
  {
   "cell_type": "code",
   "execution_count": 10,
   "id": "d188b18f-9dae-41f8-8c8a-693a1ec853df",
   "metadata": {},
   "outputs": [
    {
     "name": "stdout",
     "output_type": "stream",
     "text": [
      "SparsePauliOp(['IZI', 'IXX'],\n",
      "              coeffs=[0.39+0.j, 0.5 +0.j])\n"
     ]
    }
   ],
   "source": [
    "from qiskit.quantum_info import SparsePauliOp\n",
    "\n",
    "operator = SparsePauliOp([\"IZI\", \"IXX\"], coeffs = [0.39, 0.5])\n",
    "\n",
    "# equivalent to:\n",
    "operator = SparsePauliOp.from_list([(\"IZI\", 0.39), (\"IXX\", 0.5)])\n",
    "\n",
    "# equivalent to:\n",
    "operator = SparsePauliOp.from_sparse_list([(\"Z\", [1], 0.39), (\"XX\", [0,1], 0.5)], num_qubits = 3)\n",
    "\n",
    "print(repr(operator))"
   ]
  },
  {
   "cell_type": "markdown",
   "id": "8174d529-802e-48be-91b7-095745531759",
   "metadata": {},
   "source": [
    "## Applying Operator to a state\n",
    "\n",
    "연산자를 양자상태에 적용하는 방식이 이번 업데이트의 영향을 받습니다."
   ]
  },
  {
   "cell_type": "code",
   "execution_count": 17,
   "id": "5321d3f5-540b-491f-91d1-24e7c2a97740",
   "metadata": {},
   "outputs": [
    {
     "name": "stdout",
     "output_type": "stream",
     "text": [
      "CircuitStateFn(\n",
      "     ┌───┐\n",
      "q_0: ┤ X ├\n",
      "     ├───┤\n",
      "q_1: ┤ Z ├\n",
      "     └───┘\n",
      ")\n",
      "CircuitStateFn(\n",
      "     ┌───┐┌────────────┐\n",
      "q_0: ┤ X ├┤0           ├\n",
      "     ├───┤│  Pauli(XY) │\n",
      "q_1: ┤ Z ├┤1           ├\n",
      "     └───┘└────────────┘\n",
      ")\n",
      "VectorStateFn(Statevector([ 0.0e+00+0.j,  0.0e+00+0.j, -6.1e-17-1.j,  0.0e+00+0.j],\n",
      "            dims=(2, 2)), coeff=1.0, is_measurement=False)\n"
     ]
    },
    {
     "name": "stderr",
     "output_type": "stream",
     "text": [
      "C:\\Users\\8J5337897\\AppData\\Local\\Temp\\ipykernel_25244\\762569127.py:9: DeprecationWarning: The class ``qiskit.opflow.state_fns.circuit_state_fn.CircuitStateFn`` is deprecated as of qiskit-terra 0.24.0. It will be removed no earlier than 3 months after the release date. For code migration guidelines, visit https://qisk.it/opflow_migration.\n",
      "  state = StateFn(qc)\n"
     ]
    }
   ],
   "source": [
    "# 이전 방식\n",
    "from qiskit.opflow import StateFn, X, Y\n",
    "from qiskit import QuantumCircuit\n",
    "\n",
    "qc = QuantumCircuit(2)\n",
    "qc.x(0)\n",
    "qc.z(1)\n",
    "op = X ^ Y\n",
    "state = StateFn(qc)\n",
    "\n",
    "comp = ~op @ state\n",
    "eval = comp.eval()\n",
    "\n",
    "print(state)\n",
    "print(comp)\n",
    "print(repr(eval))"
   ]
  },
  {
   "cell_type": "code",
   "execution_count": 18,
   "id": "73e3e2f5-b9a7-4f9a-b3a4-777c8ef727fd",
   "metadata": {},
   "outputs": [
    {
     "name": "stdout",
     "output_type": "stream",
     "text": [
      "Statevector([0.+0.j, 1.+0.j, 0.+0.j, 0.+0.j],\n",
      "            dims=(2, 2))\n",
      "Statevector([0.+0.j, 0.+0.j, 0.-1.j, 0.+0.j],\n",
      "            dims=(2, 2))\n"
     ]
    }
   ],
   "source": [
    "# 새로운 방식\n",
    "\n",
    "from qiskit import QuantumCircuit\n",
    "from qiskit.quantum_info import SparsePauliOp, Statevector\n",
    "\n",
    "qc = QuantumCircuit(2)\n",
    "qc.x(0)\n",
    "qc.z(1)\n",
    "op = SparsePauliOp(\"XY\")\n",
    "state = Statevector(qc)\n",
    "\n",
    "eval = state.evolve(op)\n",
    "\n",
    "print(state)\n",
    "print(eval)"
   ]
  },
  {
   "cell_type": "markdown",
   "id": "6ed480ec-feae-4c1d-bcc4-dc84a86be216",
   "metadata": {},
   "source": [
    "## Trotter Evolution"
   ]
  },
  {
   "cell_type": "code",
   "execution_count": 19,
   "id": "f4d6f3de-111c-490a-9a4c-23578911c306",
   "metadata": {},
   "outputs": [
    {
     "name": "stdout",
     "output_type": "stream",
     "text": [
      "   ┌─────────────────────┐\n",
      "q: ┤ exp(-it (X + Z))(1) ├\n",
      "   └─────────────────────┘\n"
     ]
    },
    {
     "name": "stderr",
     "output_type": "stream",
     "text": [
      "C:\\Users\\8J5337897\\AppData\\Local\\Temp\\ipykernel_25244\\1305101551.py:6: DeprecationWarning: The class ``qiskit.opflow.evolutions.trotterizations.trotter.Trotter`` is deprecated as of qiskit-terra 0.24.0. It will be removed no earlier than 3 months after the release date. For code migration guidelines, visit https://qisk.it/opflow_migration.\n",
      "  evolution = PauliTrotterEvolution(trotter_mode=Trotter(), reps=2)\n",
      "C:\\Users\\8J5337897\\AppData\\Local\\Temp\\ipykernel_25244\\1305101551.py:6: DeprecationWarning: The class ``qiskit.opflow.evolutions.pauli_trotter_evolution.PauliTrotterEvolution`` is deprecated as of qiskit-terra 0.24.0. It will be removed no earlier than 3 months after the release date. For code migration guidelines, visit https://qisk.it/opflow_migration.\n",
      "  evolution = PauliTrotterEvolution(trotter_mode=Trotter(), reps=2)\n"
     ]
    }
   ],
   "source": [
    "# 이전방식 - Opflow\n",
    "\n",
    "from qiskit.opflow import Trotter, PauliTrotterEvolution, PauliSumOp\n",
    "\n",
    "hamiltonian = PauliSumOp.from_list([('X', 1), ('Z',1)])\n",
    "evolution = PauliTrotterEvolution(trotter_mode=Trotter(), reps=2)\n",
    "evol_result = evolution.convert(hamiltonian.exp_i())\n",
    "evolved_state = evol_result.to_circuit()\n",
    "\n",
    "print(evolved_state)"
   ]
  },
  {
   "cell_type": "code",
   "execution_count": 20,
   "id": "34e3fc69-a1df-4664-93ad-5be65a630f47",
   "metadata": {},
   "outputs": [
    {
     "name": "stdout",
     "output_type": "stream",
     "text": [
      "   ┌─────────────────────┐\n",
      "q: ┤ exp(-it (X + Z))(1) ├\n",
      "   └─────────────────────┘\n"
     ]
    }
   ],
   "source": [
    "# 새로운 방식 - qiskit.synthesis\n",
    "\n",
    "from qiskit import QuantumCircuit\n",
    "from qiskit.quantum_info import SparsePauliOp\n",
    "from qiskit.circuit.library import PauliEvolutionGate\n",
    "from qiskit.synthesis import SuzukiTrotter\n",
    "\n",
    "hamiltonian = SparsePauliOp.from_list([('X', 1), ('Z',1)])\n",
    "evol_gate = PauliEvolutionGate(hamiltonian, time=1, synthesis=SuzukiTrotter(reps=2))\n",
    "evolved_state = QuantumCircuit(1)\n",
    "evolved_state.append(evol_gate, [0])\n",
    "\n",
    "print(evolved_state)"
   ]
  },
  {
   "cell_type": "markdown",
   "id": "23b6172f-7521-4949-87c5-6d2d2681a2bb",
   "metadata": {},
   "source": [
    "## Evolution with time-dependent Hamiltonian"
   ]
  },
  {
   "cell_type": "code",
   "execution_count": 21,
   "id": "c7903c12-01e1-4ac1-93d4-2450553a868f",
   "metadata": {},
   "outputs": [
    {
     "name": "stdout",
     "output_type": "stream",
     "text": [
      "   ┌─────────────────────────┐\n",
      "q: ┤ exp(-it (X + Y))(1.0*t) ├\n",
      "   └─────────────────────────┘\n"
     ]
    },
    {
     "name": "stderr",
     "output_type": "stream",
     "text": [
      "C:\\Users\\8J5337897\\AppData\\Local\\Temp\\ipykernel_25244\\2538675533.py:8: DeprecationWarning: The class ``qiskit.opflow.evolutions.trotterizations.trotter.Trotter`` is deprecated as of qiskit-terra 0.24.0. It will be removed no earlier than 3 months after the release date. For code migration guidelines, visit https://qisk.it/opflow_migration.\n",
      "  evolution = PauliTrotterEvolution(trotter_mode=Trotter(), reps=1)\n",
      "C:\\Users\\8J5337897\\AppData\\Local\\Temp\\ipykernel_25244\\2538675533.py:8: DeprecationWarning: The class ``qiskit.opflow.evolutions.pauli_trotter_evolution.PauliTrotterEvolution`` is deprecated as of qiskit-terra 0.24.0. It will be removed no earlier than 3 months after the release date. For code migration guidelines, visit https://qisk.it/opflow_migration.\n",
      "  evolution = PauliTrotterEvolution(trotter_mode=Trotter(), reps=1)\n"
     ]
    }
   ],
   "source": [
    "# 이전방식 - opflow\n",
    "\n",
    "from qiskit.opflow import Trotter, PauliTrotterEvolution, PauliSumOp\n",
    "from qiskit.circuit import Parameter\n",
    "\n",
    "time = Parameter('t')\n",
    "hamiltonian = PauliSumOp.from_list([('X', 1), ('Y',1)])\n",
    "evolution = PauliTrotterEvolution(trotter_mode=Trotter(), reps=1)\n",
    "evol_result = evolution.convert((time * hamiltonian).exp_i())\n",
    "evolved_state = evol_result.to_circuit()\n",
    "\n",
    "print(evolved_state)"
   ]
  },
  {
   "cell_type": "code",
   "execution_count": 22,
   "id": "a160cca4-8002-4d2d-bf0f-5565814b7a9a",
   "metadata": {},
   "outputs": [
    {
     "name": "stdout",
     "output_type": "stream",
     "text": [
      "   ┌─────────────────────┐\n",
      "q: ┤ exp(-it (X + Y))(t) ├\n",
      "   └─────────────────────┘\n"
     ]
    }
   ],
   "source": [
    "# 새로운 방식 - Qiskit synthesis\n",
    "\n",
    "from qiskit.quantum_info import SparsePauliOp\n",
    "from qiskit.synthesis import LieTrotter\n",
    "from qiskit.circuit.library import PauliEvolutionGate\n",
    "from qiskit import QuantumCircuit\n",
    "from qiskit.circuit import Parameter\n",
    "\n",
    "time = Parameter('t')\n",
    "hamiltonian = SparsePauliOp.from_list([('X', 1), ('Y',1)])\n",
    "evol_gate = PauliEvolutionGate(hamiltonian, time=time, synthesis=LieTrotter())\n",
    "evolved_state = QuantumCircuit(1)\n",
    "evolved_state.append(evol_gate, [0])\n",
    "\n",
    "print(evolved_state)"
   ]
  },
  {
   "cell_type": "markdown",
   "id": "0a83acb2-0f9b-4327-a7d5-b81a5e86b6df",
   "metadata": {},
   "source": [
    "이와 관련한 더 많은 변경 사항과 새로운 예제 코드는 [Opflow Migration Guide](https://qiskit.org/documentation/migration_guides/opflow_migration.html)에서 확인하실 수 있습니다."
   ]
  },
  {
   "cell_type": "markdown",
   "id": "d333d6bc-e840-4235-9506-bc62bea3e0bc",
   "metadata": {},
   "source": [
    "# Quantum Instance\n",
    "\n",
    "Quantum Instance는 양자 회로를 백엔드에 실행할때 유용하게 사용되던 기능이었습니다. 새로운 사용법과 관련한 코드는 다음과 같습니다.\n",
    "\n",
    "## Circuit Sampling"
   ]
  },
  {
   "cell_type": "code",
   "execution_count": 23,
   "id": "ce4ba0f9-519c-487a-9a16-c98d64e2b5e0",
   "metadata": {},
   "outputs": [
    {
     "name": "stdout",
     "output_type": "stream",
     "text": [
      "Counts:  {'0x3': 200}\n",
      "Data:  ExperimentResultData(counts={'0x3': 200})\n",
      "Result:  ExperimentResult(shots=200, success=True, meas_level=2, data=ExperimentResultData(counts={'0x3': 200}), header=QobjExperimentHeader(creg_sizes=[['meas', 2]], global_phase=0.0, memory_slots=2, metadata=None, n_qubits=2, name='circuit-173', qreg_sizes=[['q', 2]]), status=DONE, seed_simulator=325188135, metadata={'batched_shots_optimization': False, 'method': 'stabilizer', 'active_input_qubits': [0, 1], 'device': 'CPU', 'remapped_qubits': False, 'num_qubits': 2, 'num_clbits': 2, 'sample_measure_time': 0.0002268, 'input_qubit_map': [[0, 0], [1, 1]], 'measure_sampling': True, 'noise': 'ideal', 'parallel_shots': 1, 'parallel_state_update': 16, 'fusion': {'enabled': False}}, time_taken=0.00069)\n"
     ]
    },
    {
     "name": "stderr",
     "output_type": "stream",
     "text": [
      "C:\\Users\\8J5337897\\AppData\\Local\\Temp\\ipykernel_25244\\2483793867.py:13: DeprecationWarning: The class ``qiskit.utils.quantum_instance.QuantumInstance`` is deprecated as of qiskit-terra 0.24.0. It will be removed no earlier than 3 months after the release date. For code migration guidelines, visit https://qisk.it/qi_migration.\n",
      "  qi = QuantumInstance(backend=simulator, shots=200)\n"
     ]
    }
   ],
   "source": [
    "# quantuminstance\n",
    "\n",
    "from qiskit import QuantumCircuit\n",
    "from qiskit_aer import AerSimulator\n",
    "from qiskit.utils import QuantumInstance\n",
    "\n",
    "circuit = QuantumCircuit(2)\n",
    "circuit.x(0)\n",
    "circuit.x(1)\n",
    "circuit.measure_all()\n",
    "\n",
    "simulator = AerSimulator()\n",
    "qi = QuantumInstance(backend=simulator, shots=200)\n",
    "result = qi.execute(circuit).results[0]\n",
    "data = result.data\n",
    "counts = data.counts\n",
    "\n",
    "print(\"Counts: \", counts)\n",
    "print(\"Data: \", data)\n",
    "print(\"Result: \", result)"
   ]
  },
  {
   "cell_type": "code",
   "execution_count": 24,
   "id": "dbea293c-41a9-4dcf-af7d-8df5ffe6a68e",
   "metadata": {},
   "outputs": [
    {
     "name": "stdout",
     "output_type": "stream",
     "text": [
      "Quasi-dists:  [{3: 1.0}]\n",
      "Result:  SamplerResult(quasi_dists=[{3: 1.0}], metadata=[{'shots': 200}])\n"
     ]
    }
   ],
   "source": [
    "from qiskit import QuantumCircuit\n",
    "from qiskit.primitives import Sampler\n",
    "\n",
    "circuit = QuantumCircuit(2)\n",
    "circuit.x(0)\n",
    "circuit.x(1)\n",
    "circuit.measure_all()\n",
    "\n",
    "sampler = Sampler()\n",
    "result = sampler.run(circuit, shots=200).result()\n",
    "quasi_dists = result.quasi_dists\n",
    "\n",
    "print(\"Quasi-dists: \", quasi_dists)\n",
    "print(\"Result: \", result)"
   ]
  },
  {
   "cell_type": "markdown",
   "id": "aeee9669-bea5-4849-8a45-4e6a13f19950",
   "metadata": {},
   "source": [
    "## Circuit Sampling with Error mitigation"
   ]
  },
  {
   "cell_type": "code",
   "execution_count": 27,
   "id": "b4944bcf-261d-44ed-b4c1-8efc30812b1a",
   "metadata": {},
   "outputs": [
    {
     "name": "stdout",
     "output_type": "stream",
     "text": [
      "ExperimentResultData(counts={'11': 4000})\n"
     ]
    },
    {
     "name": "stderr",
     "output_type": "stream",
     "text": [
      "C:\\Users\\8J5337897\\AppData\\Local\\Temp\\ipykernel_25244\\535179200.py:23: DeprecationWarning: The class ``qiskit.utils.quantum_instance.QuantumInstance`` is deprecated as of qiskit-terra 0.24.0. It will be removed no earlier than 3 months after the release date. For code migration guidelines, visit https://qisk.it/qi_migration.\n",
      "  qi = QuantumInstance(\n"
     ]
    }
   ],
   "source": [
    "#quantuminstance\n",
    "\n",
    "from qiskit import QuantumCircuit\n",
    "from qiskit.utils import QuantumInstance\n",
    "from qiskit.utils.mitigation import CompleteMeasFitter\n",
    "from qiskit_aer.noise import NoiseModel\n",
    "from qiskit_ibm_provider import IBMProvider\n",
    "\n",
    "\n",
    "circuit = QuantumCircuit(2)\n",
    "circuit.x(0)\n",
    "circuit.x(1)\n",
    "circuit.measure_all()\n",
    "\n",
    "# Define Quantum Instance with noisy simulator\n",
    "provider = IBMProvider()\n",
    "device = provider.get_backend(\"ibm_nairobi\")\n",
    "noise_model = NoiseModel.from_backend(device)\n",
    "coupling_map = device.configuration().coupling_map\n",
    "\n",
    "backend = AerSimulator()\n",
    "\n",
    "qi = QuantumInstance(\n",
    "    backend=backend,\n",
    "    shots=4000,\n",
    "    measurement_error_mitigation_cls=CompleteMeasFitter,\n",
    "    cals_matrix_refresh_period=0,\n",
    ")\n",
    "\n",
    "result = qi.execute(circuit).results[0].data\n",
    "print(result)"
   ]
  },
  {
   "cell_type": "code",
   "execution_count": 28,
   "id": "124a6fcf-4f2b-445a-a417-61ea5ef15635",
   "metadata": {},
   "outputs": [
    {
     "name": "stdout",
     "output_type": "stream",
     "text": [
      "[-0.0390625]\n"
     ]
    }
   ],
   "source": [
    "from qiskit import QuantumCircuit\n",
    "from qiskit.quantum_info import SparsePauliOp\n",
    "from qiskit_aer.noise import NoiseModel\n",
    "from qiskit_aer.primitives import Estimator\n",
    "from qiskit_ibm_provider import IBMProvider\n",
    "\n",
    "# Define problem\n",
    "op = SparsePauliOp(\"XY\")\n",
    "qc = QuantumCircuit(2)\n",
    "qc.x(0)\n",
    "qc.x(1)\n",
    "\n",
    "# Define Aer Estimator with noisy simulator\n",
    "device = provider.get_backend(\"ibm_nairobi\")\n",
    "noise_model = NoiseModel.from_backend(device)\n",
    "coupling_map = device.configuration().coupling_map\n",
    "\n",
    "# if Noise Model provided, the aer primitives\n",
    "# perform a \"qasm\" simulation\n",
    "estimator = Estimator(\n",
    "           backend_options={ # method chosen automatically to match options\n",
    "               \"coupling_map\": coupling_map,\n",
    "               \"noise_model\": noise_model,\n",
    "           },\n",
    "           run_options={\"seed\": 42, \"shots\": 1024},\n",
    "          transpile_options={\"seed_transpiler\": 42},\n",
    "       )\n",
    "\n",
    "# Run\n",
    "expectation_value = estimator.run(qc, op).result().values\n",
    "\n",
    "print(expectation_value)"
   ]
  },
  {
   "cell_type": "markdown",
   "id": "b0f65b2c-ee6b-41fe-a1c3-576b4f58e47f",
   "metadata": {},
   "source": [
    "더 많은 내용은 [QuantumInstance Migration Guide](https://qiskit.org/documentation/migration_guides/qi_migration.html)를 참고해 주세요."
   ]
  },
  {
   "cell_type": "markdown",
   "id": "40bc6b3a-ffa5-4b50-9611-9822d57979ec",
   "metadata": {},
   "source": [
    "# 알고리듬 구현 관련\n",
    "\n",
    "위의 업데이트들은 알고리듬 구현과 관련하여 여러가지 변경사항을 포함합니다. 아래의 예제 코드는 VQE, QAOA 구현에 있어서의 코드 변경사항에 대한 예제입니다.\n",
    "\n",
    "## VQE"
   ]
  },
  {
   "cell_type": "code",
   "execution_count": 29,
   "id": "9034ae02-a24d-446c-8f16-02a2476a379d",
   "metadata": {},
   "outputs": [
    {
     "name": "stderr",
     "output_type": "stream",
     "text": [
      "C:\\Users\\8J5337897\\AppData\\Local\\Temp\\ipykernel_25244\\3039800041.py:15: DeprecationWarning: The class ``qiskit.utils.quantum_instance.QuantumInstance`` is deprecated as of qiskit-terra 0.24.0. It will be removed no earlier than 3 months after the release date. For code migration guidelines, visit https://qisk.it/qi_migration.\n",
      "  qi = QuantumInstance(backend=backend, shots=2048, seed_simulator=42)\n",
      "C:\\Users\\8J5337897\\AppData\\Local\\Temp\\ipykernel_25244\\3039800041.py:16: DeprecationWarning: The class ``qiskit.algorithms.minimum_eigen_solvers.vqe.VQE`` is deprecated as of qiskit-terra 0.24.0. It will be removed no earlier than 3 months after the release date. Instead, use the class ``qiskit.algorithms.minimum_eigensolvers.VQE``. See https://qisk.it/algo_migration for a migration guide.\n",
      "  vqe = VQE(ansatz, optimizer=opt, quantum_instance=qi)\n"
     ]
    },
    {
     "name": "stdout",
     "output_type": "stream",
     "text": [
      "(-1.037109375+0j)\n"
     ]
    }
   ],
   "source": [
    "#이전 방식 - quantum instnace\n",
    "\n",
    "from qiskit.algorithms import VQE\n",
    "from qiskit.algorithms.optimizers import SPSA\n",
    "from qiskit.circuit.library import TwoLocal\n",
    "from qiskit.opflow import PauliSumOp\n",
    "from qiskit.utils import QuantumInstance\n",
    "from qiskit_aer import AerSimulator\n",
    "\n",
    "ansatz = TwoLocal(2, 'ry', 'cz')\n",
    "opt = SPSA(maxiter=50)\n",
    "\n",
    "# shot-based simulation\n",
    "backend = AerSimulator()\n",
    "qi = QuantumInstance(backend=backend, shots=2048, seed_simulator=42)\n",
    "vqe = VQE(ansatz, optimizer=opt, quantum_instance=qi)\n",
    "\n",
    "hamiltonian = PauliSumOp.from_list([(\"XX\", 1), (\"XY\", 1)])\n",
    "result = vqe.compute_minimum_eigenvalue(hamiltonian)\n",
    "\n",
    "print(result.eigenvalue)"
   ]
  },
  {
   "cell_type": "code",
   "execution_count": 31,
   "id": "1894505c-cc5d-4334-87b3-2e54b83d3303",
   "metadata": {},
   "outputs": [
    {
     "name": "stdout",
     "output_type": "stream",
     "text": [
      "-0.9697265625\n"
     ]
    }
   ],
   "source": [
    "# 새방식 - Estimator Primitive\n",
    "\n",
    "from qiskit.algorithms.minimum_eigensolvers import VQE  # new import!!!\n",
    "from qiskit.algorithms.optimizers import SPSA\n",
    "from qiskit.circuit.library import TwoLocal\n",
    "from qiskit.quantum_info import SparsePauliOp\n",
    "from qiskit.primitives import Estimator\n",
    "from qiskit_aer.primitives import Estimator as AerEstimator\n",
    "\n",
    "ansatz = TwoLocal(2, 'ry', 'cz')\n",
    "opt = SPSA(maxiter=50)\n",
    "\n",
    "# shot-based simulation\n",
    "estimator = Estimator(options={\"shots\": 2048})\n",
    "vqe = VQE(estimator, ansatz, opt)\n",
    "\n",
    "# another option\n",
    "aer_estimator = AerEstimator(run_options={\"shots\": 2048, \"seed\": 42})\n",
    "vqe = VQE(aer_estimator, ansatz, opt)\n",
    "\n",
    "hamiltonian = SparsePauliOp.from_list([(\"XX\", 1), (\"XY\", 1)])\n",
    "result = vqe.compute_minimum_eigenvalue(hamiltonian)\n",
    "\n",
    "print(result.eigenvalue)"
   ]
  },
  {
   "cell_type": "markdown",
   "id": "0f5b0a11-6795-4d6d-9f7d-1bcad1303c5a",
   "metadata": {},
   "source": [
    "## QAOA"
   ]
  },
  {
   "cell_type": "code",
   "execution_count": 32,
   "id": "072ca832-3311-429f-ac05-b9654eca2038",
   "metadata": {},
   "outputs": [
    {
     "name": "stderr",
     "output_type": "stream",
     "text": [
      "C:\\Users\\8J5337897\\AppData\\Local\\Temp\\ipykernel_25244\\3924945156.py:10: DeprecationWarning: The class ``qiskit.utils.quantum_instance.QuantumInstance`` is deprecated as of qiskit-terra 0.24.0. It will be removed no earlier than 3 months after the release date. For code migration guidelines, visit https://qisk.it/qi_migration.\n",
      "  qi = QuantumInstance(backend=backend, shots=None,\n",
      "C:\\Users\\8J5337897\\AppData\\Local\\Temp\\ipykernel_25244\\3924945156.py:15: DeprecationWarning: The class ``qiskit.algorithms.minimum_eigen_solvers.qaoa.QAOA`` is deprecated as of qiskit-terra 0.24.0. It will be removed no earlier than 3 months after the release date. Instead, use the class ``qiskit.algorithms.minimum_eigensolvers.QAOA``. See https://qisk.it/algo_migration for a migration guide.\n",
      "  qaoa = QAOA(optimizer=optimizer, reps=2, quantum_instance=qi)\n"
     ]
    },
    {
     "name": "stdout",
     "output_type": "stream",
     "text": [
      "-3.99609375\n"
     ]
    }
   ],
   "source": [
    "#이전방식 \n",
    "from qiskit.algorithms import QAOA\n",
    "from qiskit.algorithms.optimizers import COBYLA\n",
    "from qiskit.opflow import PauliSumOp\n",
    "from qiskit.utils import QuantumInstance\n",
    "from qiskit_aer import AerSimulator\n",
    "\n",
    "# exact statevector simulation\n",
    "backend = AerSimulator()\n",
    "qi = QuantumInstance(backend=backend, shots=None,\n",
    "        seed_simulator = 42, seed_transpiler = 42,\n",
    "        backend_options={\"method\": \"statevector\"})\n",
    "\n",
    "optimizer = COBYLA()\n",
    "qaoa = QAOA(optimizer=optimizer, reps=2, quantum_instance=qi)\n",
    "\n",
    "# diagonal operator\n",
    "qubit_op = PauliSumOp.from_list([(\"ZIII\", 1),(\"IZII\", 1), (\"IIIZ\", 1), (\"IIZI\", 1)])\n",
    "result = qaoa.compute_minimum_eigenvalue(qubit_op)\n",
    "\n",
    "print(result.eigenvalue.real)"
   ]
  },
  {
   "cell_type": "code",
   "execution_count": 33,
   "id": "0efe9e3d-ce14-4b97-b6fb-96b1ca0b9eee",
   "metadata": {},
   "outputs": [
    {
     "name": "stdout",
     "output_type": "stream",
     "text": [
      "-3.9999999560279926\n"
     ]
    }
   ],
   "source": [
    "#새로운방식 - Sampler Primitive\n",
    "\n",
    "from qiskit.algorithms.minimum_eigensolvers import QAOA\n",
    "from qiskit.algorithms.optimizers import COBYLA\n",
    "from qiskit.quantum_info import SparsePauliOp\n",
    "from qiskit.primitives import Sampler\n",
    "from qiskit_aer.primitives import Sampler as AerSampler\n",
    "\n",
    "# exact statevector simulation\n",
    "sampler = Sampler()\n",
    "\n",
    "# another option\n",
    "sampler = AerSampler(backend_options={\"method\": \"statevector\"},\n",
    "                     run_options={\"shots\": None, \"seed\": 42})\n",
    "\n",
    "optimizer = COBYLA()\n",
    "qaoa = QAOA(sampler, optimizer, reps=2)\n",
    "\n",
    "# diagonal operator\n",
    "qubit_op = SparsePauliOp.from_list([(\"ZIII\", 1),(\"IZII\", 1), (\"IIIZ\", 1), (\"IIZI\", 1)])\n",
    "result = qaoa.compute_minimum_eigenvalue(qubit_op)\n",
    "\n",
    "print(result.eigenvalue)"
   ]
  },
  {
   "cell_type": "markdown",
   "id": "bda0369f-2405-410a-be0d-f547967e4e66",
   "metadata": {},
   "source": [
    "Qiskit Global 커뮤니티는 2주에 한번씩, 개발자 밋업을 개최하고 있습니다.\n",
    "\n",
    "- Repo: https://github.com/Qiskit/feedback/wiki/Qiskit-DemoDays\n",
    "- Tutorial Notebook: https://github.com/Qiskit/feedback/tree/main/demo-day-notebooks\n",
    "\n",
    "감사합니다!"
   ]
  },
  {
   "cell_type": "code",
   "execution_count": null,
   "id": "11e25803-bf60-49dd-8b90-030b3788ff6c",
   "metadata": {},
   "outputs": [],
   "source": []
  }
 ],
 "metadata": {
  "kernelspec": {
   "display_name": "Python 3 (ipykernel)",
   "language": "python",
   "name": "python3"
  },
  "language_info": {
   "codemirror_mode": {
    "name": "ipython",
    "version": 3
   },
   "file_extension": ".py",
   "mimetype": "text/x-python",
   "name": "python",
   "nbconvert_exporter": "python",
   "pygments_lexer": "ipython3",
   "version": "3.10.11"
  }
 },
 "nbformat": 4,
 "nbformat_minor": 5
}
