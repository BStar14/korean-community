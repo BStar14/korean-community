{
 "cells": [
  {
   "cell_type": "markdown",
   "id": "02cca869-a774-4cd8-b671-c298f74145d2",
   "metadata": {},
   "source": [
    "# Calculating $\\pi$ using QPE\n",
    "* $\\pi \\approx 11.001001000011111101101010100010001000010110100011_2$.\n",
    "* QPE can only measure phase information encoded under decimal point, i.e. $e^{2\\pi i (2.1)}=e^{2\\pi i(0.1)}$.\n",
    "* Let's instead calculate $\\pi/4$ and multiply the phase by 4 afterwards, which is equivalent to shifting the bits by 2."
   ]
  },
  {
   "cell_type": "markdown",
   "id": "0f29501c-b360-491f-8b00-906f6112e337",
   "metadata": {},
   "source": [
    "<img src=\"token.png\" width=\"450px\" height=\"300px\"></img><br/>"
   ]
  },
  {
   "cell_type": "code",
   "execution_count": null,
   "id": "abd415aa-5e1e-4c2d-aa69-fa3e53d5a948",
   "metadata": {},
   "outputs": [],
   "source": [
    "from qiskit_ibm_runtime import QiskitRuntimeService\n",
    "\n",
    "# token = 'MYTOKEN'\n",
    "#QiskitRuntimeService.save_account(channel=\"ibm_quantum\", token=token, overwrite=True)\n",
    "\n",
    "from qiskit.providers.fake_provider import FakeGeneva\n",
    "from qiskit_aer.noise import NoiseModel\n",
    "\n",
    "fake_backend = FakeGeneva()  # 27-qubit device\n",
    "noise_model = NoiseModel.from_backend(fake_backend)\n",
    "backend = \"ibmq_qasm_simulator\""
   ]
  },
  {
   "cell_type": "code",
   "execution_count": null,
   "id": "2b2fdf40-aae1-4097-90b8-e48d5390fbd1",
   "metadata": {},
   "outputs": [],
   "source": [
    "from qiskit import QuantumRegister, ClassicalRegister, QuantumCircuit\n",
    "from qiskit.circuit.library import QFT\n",
    "import numpy as np"
   ]
  },
  {
   "cell_type": "code",
   "execution_count": null,
   "id": "5ad03ca1-6668-4f78-9cc1-2c3fbff52167",
   "metadata": {},
   "outputs": [],
   "source": [
    "def create_qpe_circuit(theta, num_qubits):\n",
    "    '''Creates a QPE circuit given theta and num_qubits.'''\n",
    "\n",
    "    # Step 1: Create a circuit with two quantum registers and one classical register.\n",
    "    first = QuantumRegister(size=num_qubits, name='first')  # the first register for phase estimation\n",
    "    second = QuantumRegister(size=1, name='second')  # the second register for storing eigenvector |psi>\n",
    "    classical = ClassicalRegister(size=num_qubits, name='readout') # classical register for readout\n",
    "    qpe_circuit = QuantumCircuit(first, second, classical)\n",
    "\n",
    "    # Step 2: Initialize the qubits.\n",
    "    # All qubits are initialized in |0> by default, no extra code is needed to initialize the first register.\n",
    "    qpe_circuit.x(second)  # Initialize the second register with state |psi>, which is |1> in this example.\n",
    "\n",
    "    # Step 3: Create superposition in the first register.\n",
    "    qpe_circuit.barrier()  # Add barriers to separate each step of the algorithm for better visualization.\n",
    "    qpe_circuit.h(first)\n",
    "\n",
    "    # Step 4: Apply a controlled-U^(2^j) black box.\n",
    "    qpe_circuit.barrier()\n",
    "    for j in range(num_qubits):\n",
    "        qpe_circuit.cp(theta*2*np.pi*(2**j), j, num_qubits)  # Theta doesn't contain the 2 pi factor.\n",
    "\n",
    "    # Step 5: Apply an inverse QFT to the first register.\n",
    "    qpe_circuit.barrier()\n",
    "    qpe_circuit.compose(QFT(num_qubits, inverse=True), inplace=True)\n",
    "\n",
    "    # Step 6: Measure the first register.\n",
    "    qpe_circuit.barrier()\n",
    "    qpe_circuit.measure(first, classical)\n",
    "\n",
    "    return qpe_circuit"
   ]
  },
  {
   "cell_type": "code",
   "execution_count": null,
   "id": "06eee2d1-d791-49e6-8c39-691dc524113e",
   "metadata": {},
   "outputs": [],
   "source": [
    "from qiskit.circuit import Parameter\n",
    "\n",
    "num_qubits=10\n",
    "theta = Parameter('theta')  # Create a parameter `theta` whose values can be assigned later.\n",
    "qpe_circuit_parameterized = create_qpe_circuit(theta, num_qubits)"
   ]
  },
  {
   "cell_type": "code",
   "execution_count": null,
   "id": "d963c2df-0387-41b2-b05e-38cf47b23094",
   "metadata": {},
   "outputs": [],
   "source": [
    "phases = [np.pi/4]\n",
    "individual_phases = [[ph] for ph in phases]  # Phases need to be expressed as a list of lists."
   ]
  },
  {
   "cell_type": "code",
   "execution_count": null,
   "id": "89feda3e-d6e0-4705-b53c-8265999a66f6",
   "metadata": {
    "tags": []
   },
   "outputs": [],
   "source": [
    "from qiskit_ibm_runtime import QiskitRuntimeService\n",
    "\n",
    "service = QiskitRuntimeService()"
   ]
  },
  {
   "cell_type": "code",
   "execution_count": null,
   "id": "e541f8e8-1cf3-4683-be9c-4890f803e344",
   "metadata": {},
   "outputs": [],
   "source": [
    "from qiskit_ibm_runtime import Session, Sampler, Options\n",
    "\n",
    "options = Options(\n",
    "    simulator={\"noise_model\": noise_model},\n",
    "    resilience_level=1\n",
    ")\n",
    "\n",
    "with Session(service=service, backend=backend):\n",
    "    job_id = Sampler(options=options).run(\n",
    "        [qpe_circuit_parameterized]*len(individual_phases),\n",
    "        parameter_values=individual_phases\n",
    "    )\n",
    "    results = job_id.result()"
   ]
  },
  {
   "cell_type": "code",
   "execution_count": null,
   "id": "45e47c27-ebaa-48b1-8aad-6a2dbae64b02",
   "metadata": {},
   "outputs": [],
   "source": [
    "print(job_id)"
   ]
  },
  {
   "cell_type": "code",
   "execution_count": null,
   "id": "7f5a536d-af3b-4344-83b1-a68771057278",
   "metadata": {},
   "outputs": [],
   "source": [
    "job_id = 'cg7ncnn91ascc922orvg'"
   ]
  },
  {
   "cell_type": "code",
   "execution_count": null,
   "id": "ead630d7-5e30-4360-b3e3-182e21e2e3f3",
   "metadata": {},
   "outputs": [],
   "source": [
    "service = QiskitRuntimeService(channel=\"ibm_quantum\", instance='ibm-q-yonsei/externalq-meetup/tutorials')\n",
    "results = service.job(job_id).result()"
   ]
  },
  {
   "cell_type": "code",
   "execution_count": null,
   "id": "14de46a5-5c4c-46fb-93b6-714dcfb1fa3d",
   "metadata": {},
   "outputs": [],
   "source": [
    "pi_str = \"\"\n",
    "probs = results.quasi_dists[0].binary_probabilities()\n",
    "pi_str = pi_str + max(probs,key=probs.get)\n",
    "print(pi_str)"
   ]
  },
  {
   "cell_type": "code",
   "execution_count": null,
   "id": "b63ed19f-35ad-4ead-824b-d75edf322172",
   "metadata": {},
   "outputs": [],
   "source": [
    "PI = \"1100100100\""
   ]
  },
  {
   "cell_type": "code",
   "execution_count": null,
   "id": "77fe464a-8c0e-4a74-9ede-78e451dedf42",
   "metadata": {},
   "outputs": [],
   "source": [
    "PI == pi_str"
   ]
  },
  {
   "cell_type": "code",
   "execution_count": null,
   "id": "95f2fc7f-306f-44d1-9435-aecaf232af1f",
   "metadata": {},
   "outputs": [],
   "source": []
  },
  {
   "cell_type": "code",
   "execution_count": null,
   "id": "6042cd93-54f2-479d-85ff-2d1d17d7a21b",
   "metadata": {},
   "outputs": [],
   "source": [
    "from qiskit.tools.visualization import plot_histogram\n",
    "\n",
    "plot_histogram(results.quasi_dists[0].binary_probabilities(), bar_labels=False)"
   ]
  },
  {
   "cell_type": "code",
   "execution_count": null,
   "id": "202b6d15-8dbf-4b63-a2ac-efb96767dcf5",
   "metadata": {},
   "outputs": [],
   "source": [
    "probs = results.quasi_dists[0].binary_probabilities()\n",
    "print(max(probs,key=probs.get))"
   ]
  },
  {
   "cell_type": "markdown",
   "id": "d9c013e6-37b5-4ade-817a-a181302ea9b3",
   "metadata": {},
   "source": [
    "Note: $\\pi\\approx 11.001001000011111101101010100010001000010110100011_2$"
   ]
  },
  {
   "cell_type": "code",
   "execution_count": null,
   "id": "dbb64d0c-b6c0-4f3e-9b6c-40b599c7b96f",
   "metadata": {},
   "outputs": [],
   "source": [
    "# With M3\n",
    "results = investigate_options(1)"
   ]
  },
  {
   "cell_type": "code",
   "execution_count": null,
   "id": "a3701bfc-2c25-46f9-b364-d18a77d0926a",
   "metadata": {},
   "outputs": [],
   "source": [
    "from qiskit.tools.visualization import plot_histogram\n",
    "\n",
    "plot_histogram(results.quasi_dists[0].binary_probabilities(), bar_labels=False)"
   ]
  },
  {
   "cell_type": "code",
   "execution_count": null,
   "id": "98af7138-bad2-4274-ab72-0c5a4c0f4b35",
   "metadata": {},
   "outputs": [],
   "source": [
    "probs = results.quasi_dists[0].binary_probabilities()\n",
    "print(max(probs,key=probs.get))"
   ]
  },
  {
   "cell_type": "markdown",
   "id": "f583ff05-aafc-4f4c-a6cf-3b10dd64d907",
   "metadata": {},
   "source": [
    "Note: $\\pi\\approx 11.001001000011111101101010100010001000010110100011_2$"
   ]
  },
  {
   "cell_type": "markdown",
   "id": "c43033f0-61d8-471b-ac39-8ffe229acea0",
   "metadata": {
    "tags": []
   },
   "source": [
    "# Calculating 50 digits of $\\pi$\n",
    "This requires using 50 qubits, which is beyond the qubit count of our device (27).   \n",
    "Let's instead chop the sequence of $\\pi$ into 5 parts and \"estimate\" it using 10 qubits. We can run QPE 5 times.   \n",
    "However, this may be slower than you'd expect.\n",
    "<img src=\"ibm_sherbrooke.png\" width=\"450px\" height=\"300px\"></img><br/>\n",
    "5 minutes x 700 = 2.5 days!   \n",
    "2.5 days x 5 = 12.5 days!!!   \n",
    "Let's avoid being in the queue 5 times by actively using the Sampler primitive."
   ]
  },
  {
   "cell_type": "code",
   "execution_count": null,
   "id": "7d249e4a-9de7-428d-888b-b9b483b0704e",
   "metadata": {},
   "outputs": [],
   "source": [
    "phases = []\n",
    "PI = \"11001001000011111101101010100010001000010110100011\"\n",
    "for digits in np.arange(0,5):\n",
    "    phases.append(int(str(PI[(digits*num_qubits):((digits+1)*num_qubits)]),2)/2**num_qubits)\n",
    "individual_phases = [[ph] for ph in phases]  # Phases need to be expressed as a list of lists."
   ]
  },
  {
   "cell_type": "code",
   "execution_count": null,
   "id": "bc33019f-c36c-41a4-8ef7-f3ff5dfe8c04",
   "metadata": {
    "tags": []
   },
   "outputs": [],
   "source": [
    "from qiskit_ibm_runtime import QiskitRuntimeService\n",
    "\n",
    "service = QiskitRuntimeService()"
   ]
  },
  {
   "cell_type": "code",
   "execution_count": null,
   "id": "b3258269-4a9c-4f8b-ad3f-c74929741bda",
   "metadata": {},
   "outputs": [],
   "source": [
    "from qiskit_ibm_runtime import Session, Sampler, Options\n",
    "\n",
    "options = Options(\n",
    "    simulator={\"noise_model\": noise_model},\n",
    "    resilience_level=1\n",
    ")\n",
    "\n",
    "with Session(service=service, backend=backend):\n",
    "    job_id = Sampler(options=options).run(\n",
    "        [qpe_circuit_parameterized]*len(individual_phases),\n",
    "        parameter_values=individual_phases\n",
    "    )\n",
    "    results = job_id.result()"
   ]
  },
  {
   "cell_type": "code",
   "execution_count": null,
   "id": "05e84492-9d4b-4e15-b125-51a648d8d48b",
   "metadata": {},
   "outputs": [],
   "source": [
    "pi_str = \"\"\n",
    "for digits in np.arange(0,5):\n",
    "    probs = results.quasi_dists[digits].binary_probabilities()\n",
    "    pi_str = pi_str + max(probs,key=probs.get)\n",
    "print(pi_str)"
   ]
  },
  {
   "cell_type": "code",
   "execution_count": null,
   "id": "9169b445-5499-4083-b3bd-31892933c34b",
   "metadata": {},
   "outputs": [],
   "source": [
    "PI == pi_str"
   ]
  },
  {
   "cell_type": "markdown",
   "id": "1e709106-3160-48a4-b265-966259a578a1",
   "metadata": {
    "tags": []
   },
   "source": [
    "# Calculating 50 digits of $\\pi$ using ibm_sherbrooke\n",
    "Since we have the access to the 127-qubit device **ibm_sherbrooke**, let's estimated the value of $\\pi$ using 50 auxiliary qubits!"
   ]
  },
  {
   "cell_type": "code",
   "execution_count": null,
   "id": "37c198df-4b66-4c86-8a79-62f971ebb40e",
   "metadata": {},
   "outputs": [],
   "source": [
    "# 1. Setting up a real device\n",
    "from qiskit_ibm_provider import IBMProvider, IBMBackend\n",
    "\n",
    "provider = IBMProvider(instance=\"ibm-q-yonsei/externalq-meetup/tutorials\")\n",
    "backend = provider.get_backend('ibm_sherbrooke')\n",
    "service = QiskitRuntimeService(channel=\"ibm_quantum\", instance='ibm-q-yonsei/externalq-meetup/tutorials')"
   ]
  },
  {
   "cell_type": "code",
   "execution_count": null,
   "id": "cec3ce65-ee80-46bd-bcaf-8f0c48bdac20",
   "metadata": {},
   "outputs": [],
   "source": [
    "phases = [np.pi/4]\n",
    "individual_phases = [[ph] for ph in phases]  # Phases need to be expressed as a list of lists."
   ]
  },
  {
   "cell_type": "code",
   "execution_count": null,
   "id": "295af8fe-2685-40c9-9e03-a4bcedb99eee",
   "metadata": {},
   "outputs": [],
   "source": [
    "# With M3\n",
    "options = Options(\n",
    "    resilience_level=1\n",
    ")\n",
    "\n",
    "with Session(service=service, backend=backend):\n",
    "    job_id = Sampler(options=options).run(\n",
    "        [qpe_circuit_parameterized]*len(individual_phases),\n",
    "        parameter_values=individual_phases\n",
    "    )\n",
    "    print(job_id)"
   ]
  },
  {
   "cell_type": "code",
   "execution_count": null,
   "id": "f3c61e4e-9369-4537-b5f5-0ede9c2034ab",
   "metadata": {},
   "outputs": [],
   "source": [
    "service = QiskitRuntimeService(channel=\"ibm_quantum\", instance='ibm-q-yonsei/externalq-meetup/tutorials')\n",
    "results = service.job(job_id).result()"
   ]
  },
  {
   "cell_type": "code",
   "execution_count": null,
   "id": "cd4f0650-287e-4a8d-a6e3-770fe60bcd49",
   "metadata": {},
   "outputs": [],
   "source": [
    "pi_str = \"\"\n",
    "probs = results.quasi_dists[digits].binary_probabilities()\n",
    "pi_str = pi_str + max(probs,key=probs.get)\n",
    "print(pi_str)"
   ]
  },
  {
   "cell_type": "code",
   "execution_count": null,
   "id": "985509b5-80dd-4425-96ea-5746028a90da",
   "metadata": {},
   "outputs": [],
   "source": [
    "PI == pi_str"
   ]
  },
  {
   "cell_type": "code",
   "execution_count": null,
   "id": "ce2c4f39-a5cc-4ce2-88e2-467e483c3925",
   "metadata": {},
   "outputs": [],
   "source": []
  }
 ],
 "metadata": {
  "kernelspec": {
   "display_name": "Python 3 (ipykernel)",
   "language": "python",
   "name": "python3"
  },
  "language_info": {
   "codemirror_mode": {
    "name": "ipython",
    "version": 3
   },
   "file_extension": ".py",
   "mimetype": "text/x-python",
   "name": "python",
   "nbconvert_exporter": "python",
   "pygments_lexer": "ipython3",
   "version": "3.8.15"
  },
  "widgets": {
   "application/vnd.jupyter.widget-state+json": {
    "state": {},
    "version_major": 2,
    "version_minor": 0
   }
  }
 },
 "nbformat": 4,
 "nbformat_minor": 5
}
