{
 "cells": [
  {
   "cell_type": "markdown",
   "id": "69358fce-a428-4ac6-b702-e5901a09c9b7",
   "metadata": {
    "tags": []
   },
   "source": [
    "# About Me\n",
    "* 연세대학교 전기전자공학부\n",
    "* TU Delft Applied Physics 석사 과정 중\n",
    "  * Realization of Kitaev Chain\n",
    "<img src=\"delft.jpg\" width=\"450px\" height=\"300px\"></img><br/>"
   ]
  },
  {
   "cell_type": "code",
   "execution_count": null,
   "id": "086e28fe-8929-4b9b-99e6-2e51ced0d4a0",
   "metadata": {},
   "outputs": [],
   "source": [
    "!pip show qiskit"
   ]
  },
  {
   "cell_type": "code",
   "execution_count": null,
   "id": "652cbbf2-9b57-404c-b259-3539634ab43b",
   "metadata": {},
   "outputs": [],
   "source": [
    "!pip install --upgrade qiskit"
   ]
  },
  {
   "cell_type": "markdown",
   "id": "fadf17ae-f75a-42b9-b805-d674feaafd0f",
   "metadata": {
    "tags": []
   },
   "source": [
    "# Recap: Quantum Circuit in Qiskit\n",
    "* Elements of Quantum Circuit\n",
    "  1. Quantum register\n",
    "  2. Classical register\n",
    "  3. Quantum gates\n",
    "  4. Measurements\n",
    "  \n",
    "<img src=\"stagnantWater.png\" width=\"450px\" height=\"300px\"></img><br/>"
   ]
  },
  {
   "cell_type": "code",
   "execution_count": null,
   "id": "1146ce07-9b4a-46a7-95b3-feafceffd5ef",
   "metadata": {},
   "outputs": [],
   "source": [
    "from qiskit import QuantumCircuit, QuantumRegister, ClassicalRegister"
   ]
  },
  {
   "cell_type": "code",
   "execution_count": null,
   "id": "8828d9df-c0c4-4c45-a4d6-e1badf95fdef",
   "metadata": {},
   "outputs": [],
   "source": [
    "# Code for introduction to Qiskit syntax\n",
    "qr_a = QuantumRegister(2, 'a')\n",
    "qr_b = QuantumRegister(1, 'b')\n",
    "cr = ClassicalRegister(2, 'c')\n",
    "qc = QuantumCircuit(qr_a, qr_b, cr)\n",
    "qc.x(qr_a[0])\n",
    "qc.measure(qr_b[0], cr[1])\n",
    "qc.measure(qr_a[1], cr[0])\n",
    "qc.draw()"
   ]
  },
  {
   "cell_type": "markdown",
   "id": "b7d14945-ca59-4c13-b7c2-827e9e3056ad",
   "metadata": {
    "tags": []
   },
   "source": [
    "# Quantum Phase Estimation in Action\n",
    "* T-gate : $T\\equiv\\begin{bmatrix}1 & 0 \\\\ 0 & e^{i\\pi/4} \\end{bmatrix}$\n",
    "  * Adds phase $\\pi/4$ to $|1\\rangle$.\n",
    "  * $|1\\rangle$ is an eigenstate of T-gate.\n",
    "  * Thus, we can \"estimate\" the phase $\\theta$ s.t. $T|1\\rangle=e^{2\\pi i \\theta}|1\\rangle$.\n",
    "  * Note: We know the answer already. $\\theta = 0.001_{2}$\n",
    " "
   ]
  },
  {
   "cell_type": "markdown",
   "id": "0c5e537b-1aa8-4ba9-85d1-d654a88ae5f6",
   "metadata": {
    "tags": []
   },
   "source": [
    "## Step 0: Prepare an eigenstate.\n",
    "Here, the eigenstate $|\\psi\\rangle=|1\\rangle$.   \n",
    "$|\\psi_0\\rangle = |0\\rangle^{\\otimes n}|\\psi\\rangle$"
   ]
  },
  {
   "cell_type": "code",
   "execution_count": null,
   "id": "6bf16847-bfc5-4f99-b6e4-d9a8830bc8a9",
   "metadata": {},
   "outputs": [],
   "source": [
    "import numpy as np"
   ]
  },
  {
   "cell_type": "code",
   "execution_count": null,
   "id": "a97209b3-dc23-4e2e-9e68-998a54f02fb3",
   "metadata": {},
   "outputs": [],
   "source": [
    "# Code for QPE with T-gate (θ=0.001 base 2)\n",
    "qr_aux = QuantumRegister(3, 'aux')\n",
    "qr_eigen = QuantumRegister(1, 'eigen')\n",
    "cr = ClassicalRegister(3, 'aux_read')\n",
    "\n",
    "qc = QuantumCircuit(qr_aux, qr_eigen, cr)\n",
    "\n",
    "# Prepare eigenstate\n",
    "qc.x(qr_eigen)\n",
    "qc.barrier()\n",
    "        \n",
    "qc.draw()"
   ]
  },
  {
   "cell_type": "markdown",
   "id": "3b8c49fb-5f13-44e2-af67-fe17ce8afa23",
   "metadata": {
    "tags": []
   },
   "source": [
    "## Step 1: Put all auxiliary qubits in superposition.\n",
    "$|\\psi_1\\rangle=\\frac{1}{2^{n/2}}(|0\\rangle+|1\\rangle)^{\\otimes n}|\\psi\\rangle$"
   ]
  },
  {
   "cell_type": "code",
   "execution_count": null,
   "id": "1dfd1ab7-fa76-44a0-987c-41752c0d616d",
   "metadata": {},
   "outputs": [],
   "source": [
    "# Code for QPE with T-gate (θ=0.001 base 2)\n",
    "qr_aux = QuantumRegister(3, 'aux')\n",
    "qr_eigen = QuantumRegister(1, 'eigen')\n",
    "cr = ClassicalRegister(3, 'aux_read')\n",
    "\n",
    "qc = QuantumCircuit(qr_aux, qr_eigen, cr)\n",
    "\n",
    "# Prepare eigenstate\n",
    "qc.x(qr_eigen)\n",
    "qc.barrier()\n",
    "\n",
    "# QPE - step 1: Superposition\n",
    "qc.h(qr_aux)\n",
    "qc.barrier()\n",
    "\n",
    "qc.draw()"
   ]
  },
  {
   "cell_type": "markdown",
   "id": "657bb0a9-b954-4e4d-8a61-a906caae12c5",
   "metadata": {
    "tags": []
   },
   "source": [
    "## Step 2: Apply controlled unitaries (T-gate) to auxilary qubits.\n",
    "* Control qubit: Auxiliary quantum register. Target qubit: $|\\psi\\rangle$.   \n",
    "* Note that the controlled unitary $U$ is applied $2^j$ times for $j^{\\text{th}}$ quantum register.\n",
    "  * This leads to $U^{2^j}|\\psi\\rangle=e^{2\\pi i\\cdot 2^j\\theta}|\\psi\\rangle $\n",
    "* $|\\psi_2\\rangle=\\frac{1}{2^{n/2}}\\left(|0\\rangle+e^{2\\pi i\\theta 2^{n-1}}|1\\rangle\\right)\\otimes \\dots\\otimes(|0\\rangle+e^{2\\pi i\\theta 2^0}|1\\rangle)\\otimes|\\psi\\rangle$\n",
    "* Using $k$ expressed in binary,   \n",
    "$ |\\psi_2\\rangle=\\frac{1}{2^{n/2}}\\sum_{k=0}^{2^n-1}e^{2\\pi i \\theta k}|k\\rangle\\otimes|\\psi\\rangle$"
   ]
  },
  {
   "cell_type": "code",
   "execution_count": null,
   "id": "639f3978-16f2-403c-a1c4-9cb19d7d4bea",
   "metadata": {},
   "outputs": [],
   "source": [
    "# Code for QPE with T-gate (θ=0.001 base 2)\n",
    "qr_aux = QuantumRegister(3, 'aux')\n",
    "qr_eigen = QuantumRegister(1, 'eigen')\n",
    "cr = ClassicalRegister(3, 'aux_read')\n",
    "\n",
    "qc = QuantumCircuit(qr_aux, qr_eigen, cr)\n",
    "\n",
    "# Prepare eigenstate\n",
    "qc.x(qr_eigen)\n",
    "qc.barrier()\n",
    "\n",
    "# QPE - step 1: Superposition\n",
    "qc.h(qr_aux)\n",
    "qc.barrier()\n",
    "\n",
    "# QPE - step 2: Controlled Unibary\n",
    "for idx in np.arange(len(qr_aux)):\n",
    "    for digit in np.arange(2**idx): \n",
    "        qc.cp(np.pi/4, qr_aux[idx], qr_eigen)\n",
    "qc.barrier()\n",
    "  \n",
    "qc.draw()"
   ]
  },
  {
   "cell_type": "markdown",
   "id": "45d1d011-481b-47a7-983a-90957afba79c",
   "metadata": {
    "tags": []
   },
   "source": [
    "## Step 3: Apply inverse QFT to auxilary qubits.\n",
    "* $|\\psi_3\\rangle=\\frac{1}{2^n}\\sum_x\\sum_k e^{-2\\pi ik(x-2^n\\theta)/2^n}|x\\rangle\\otimes|\\psi\\rangle$\n",
    "* $x=2^n\\theta$ is the most likely outcome."
   ]
  },
  {
   "cell_type": "code",
   "execution_count": null,
   "id": "223df9ba-6e06-404a-9c50-566386355535",
   "metadata": {},
   "outputs": [],
   "source": [
    "def qft_dagger(qc, n):\n",
    "    \"\"\"n-qubit QFTdagger the first n qubits in circ\"\"\"\n",
    "    # Don't forget the Swaps!\n",
    "    for qubit in range(n//2):\n",
    "        qc.swap(qubit, n-qubit-1)\n",
    "    for j in range(n):\n",
    "        for m in range(j):\n",
    "            qc.cp(-np.pi/float(2**(j-m)), m, j)\n",
    "        qc.h(j)"
   ]
  },
  {
   "cell_type": "code",
   "execution_count": null,
   "id": "55f99a16-b108-46eb-b68b-f6eda233598e",
   "metadata": {},
   "outputs": [],
   "source": [
    "# Code for QPE with T-gate (θ=0.001 base 2)\n",
    "qr_aux = QuantumRegister(3, 'aux')\n",
    "qr_eigen = QuantumRegister(1, 'eigen')\n",
    "cr = ClassicalRegister(3, 'aux_read')\n",
    "\n",
    "qc = QuantumCircuit(qr_aux, qr_eigen, cr)\n",
    "\n",
    "# Prepare eigenstate\n",
    "qc.x(qr_eigen)\n",
    "qc.barrier()\n",
    "\n",
    "# QPE - step 1: Superposition\n",
    "qc.h(qr_aux)\n",
    "qc.barrier()\n",
    "\n",
    "# QPE - step 2: Controlled Unibary\n",
    "for idx in np.arange(len(qr_aux)):\n",
    "    for digit in np.arange(2**idx): \n",
    "        qc.cp(np.pi/4, qr_aux[idx], qr_eigen)\n",
    "qc.barrier()\n",
    "\n",
    "# QPE - step 3: Inverse QFT\n",
    "qft_dagger(qc, len(qr_aux))\n",
    "qc.barrier()\n",
    "        \n",
    "qc.draw()"
   ]
  },
  {
   "cell_type": "markdown",
   "id": "75346baa-a6e9-42f9-99d1-b16b0dd1fff2",
   "metadata": {
    "tags": []
   },
   "source": [
    "## Step 4: Measure the auxiliary qubits.\n",
    "* $|\\psi_4\\rangle=|2^n\\theta\\rangle|\\psi\\rangle$"
   ]
  },
  {
   "cell_type": "code",
   "execution_count": null,
   "id": "fe4fde7a-2160-4ffa-a0ee-53756a125c95",
   "metadata": {},
   "outputs": [],
   "source": [
    "# Code for QPE with T-gate (θ=0.001 base 2)\n",
    "qr_aux = QuantumRegister(3, 'aux')\n",
    "qr_eigen = QuantumRegister(1, 'eigen')\n",
    "cr = ClassicalRegister(3, 'aux_read')\n",
    "\n",
    "qc = QuantumCircuit(qr_aux, qr_eigen, cr)\n",
    "\n",
    "# Prepare eigenstate\n",
    "qc.x(qr_eigen)\n",
    "qc.barrier()\n",
    "\n",
    "# QPE - step 1: Superposition\n",
    "qc.h(qr_aux)\n",
    "qc.barrier()\n",
    "\n",
    "# QPE - step 2: Controlled Unibary\n",
    "for idx in np.arange(len(qr_aux)):\n",
    "    for digit in np.arange(2**idx): \n",
    "        qc.cp(np.pi/4, qr_aux[idx], qr_eigen)\n",
    "qc.barrier()\n",
    "\n",
    "# QPE - step 3: Inverse QFT\n",
    "qft_dagger(qc, len(qr_aux))\n",
    "qc.barrier()\n",
    "\n",
    "# QPE - step 4: Measurement\n",
    "qc.measure(qr_aux, cr)\n",
    "        \n",
    "qc.draw()"
   ]
  },
  {
   "cell_type": "code",
   "execution_count": null,
   "id": "5c9df97a-a66b-4e8c-8099-bfa42919a9ac",
   "metadata": {},
   "outputs": [],
   "source": [
    "# Let's run our circuit!\n",
    "# 1. Setting up fake device\n",
    "from qiskit.providers.fake_provider import FakeGeneva\n",
    "from qiskit_aer.noise import NoiseModel\n",
    "from qiskit_aer import AerSimulator\n",
    "from qiskit.tools.visualization import plot_histogram\n",
    "\n",
    "fake_backend = FakeGeneva()  # 27-qubit device\n",
    "sim = AerSimulator.from_backend(fake_backend)"
   ]
  },
  {
   "cell_type": "code",
   "execution_count": null,
   "id": "728ba482-4c9c-44fd-81d8-bb9793d38056",
   "metadata": {},
   "outputs": [],
   "source": [
    "# 2. Running on the fake device\n",
    "from qiskit import transpile\n",
    "\n",
    "t_qc = transpile(qc, sim)\n",
    "result = sim.run(t_qc).result()\n",
    "counts = result.get_counts(0)\n",
    "plot_histogram(counts)"
   ]
  },
  {
   "cell_type": "code",
   "execution_count": null,
   "id": "75ace4dc-36cc-49ab-9abd-6d00d0fa2602",
   "metadata": {},
   "outputs": [],
   "source": [
    "# 1. Setting up a real device\n",
    "from qiskit_ibm_provider import IBMProvider, IBMBackend\n",
    "\n",
    "provider = IBMProvider(instance=\"ibm-q-yonsei/externalq-meetup/tutorials\")\n",
    "backend = provider.get_backend('ibm_geneva')"
   ]
  },
  {
   "cell_type": "code",
   "execution_count": null,
   "id": "86e0573c-cf43-437a-be61-5baf220c9823",
   "metadata": {},
   "outputs": [],
   "source": [
    "# 2. Running on the real device\n",
    "from qiskit import transpile\n",
    "\n",
    "t_qc = transpile(qc, backend)\n",
    "result = backend.run(t_qc).result()\n",
    "counts = result.get_counts(0)\n",
    "plot_histogram(counts)"
   ]
  },
  {
   "cell_type": "code",
   "execution_count": null,
   "id": "6ff418b8-c541-4142-81ae-4a52368ce507",
   "metadata": {},
   "outputs": [],
   "source": []
  }
 ],
 "metadata": {
  "kernelspec": {
   "display_name": "Python 3 (ipykernel)",
   "language": "python",
   "name": "python3"
  },
  "language_info": {
   "codemirror_mode": {
    "name": "ipython",
    "version": 3
   },
   "file_extension": ".py",
   "mimetype": "text/x-python",
   "name": "python",
   "nbconvert_exporter": "python",
   "pygments_lexer": "ipython3",
   "version": "3.8.15"
  },
  "widgets": {
   "application/vnd.jupyter.widget-state+json": {
    "state": {},
    "version_major": 2,
    "version_minor": 0
   }
  }
 },
 "nbformat": 4,
 "nbformat_minor": 5
}
