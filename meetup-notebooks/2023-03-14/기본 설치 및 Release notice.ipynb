{
 "cells": [
  {
   "cell_type": "markdown",
   "id": "8696989c",
   "metadata": {},
   "source": [
    "# Qiskit Update 안내 \n",
    "\n",
    "최신 버젼의 Qiskit을 설치하는 것! 헷갈리신다면 다음의 순서를 따라해보세요 \n",
    "\n",
    "1. [아나콘다 설치](https://www.anaconda.com/)\n",
    "\n",
    "    1-1. 만약 오래된 아나콘다가 설치되어 있다면 터미널을 열어 다음의 명령어를 실행해 보세요\n",
    "\n",
    "    `conda update -n base conda`\n",
    "    \n",
    "2. 환경 만들기\n",
    "\n",
    "`conda create -n qiskit python=3.10`\n",
    "\n",
    "3. 쥬피터 노트북 혹은 쥬피터 랩 설치\n",
    "\n",
    "`conda install jupyter notebook` 혹은 `conda install jupyterlab`\n",
    "\n",
    "4. qiskit_ibm_provider 설치\n",
    "\n",
    "`pip install qiskit qiskit_ibm_provider`\n",
    "\n",
    "5. qiskit-ibm-runtime 설치\n",
    "\n",
    "`pip install qiskit-ibm-runtime`\n",
    "\n",
    "\n",
    "6.  Qiskit 설치 (머신러닝, 파이낸스 등 모든 라이브러리 한번에 설치)\n",
    "\n",
    "`pip install qiskit[all]`\n",
    "\n",
    "\n",
    "설치가 잘 되었는지 다음의 명령어를 실행해서 확인해 봅시다."
   ]
  },
  {
   "cell_type": "code",
   "execution_count": 1,
   "id": "6c2bbe7f",
   "metadata": {},
   "outputs": [
    {
     "data": {
      "text/html": [
       "<h3>Version Information</h3><table><tr><th>Qiskit Software</th><th>Version</th></tr><tr><td><code>qiskit-terra</code></td><td>0.23.2</td></tr><tr><td><code>qiskit-aer</code></td><td>0.12.0</td></tr><tr><td><code>qiskit-ibmq-provider</code></td><td>0.20.2</td></tr><tr><td><code>qiskit</code></td><td>0.42.0</td></tr><tr><td><code>qiskit-nature</code></td><td>0.5.2</td></tr><tr><td><code>qiskit-finance</code></td><td>0.3.4</td></tr><tr><td><code>qiskit-optimization</code></td><td>0.5.0</td></tr><tr><td><code>qiskit-machine-learning</code></td><td>0.5.0</td></tr><tr><th>System information</th></tr><tr><td>Python version</td><td>3.10.9</td></tr><tr><td>Python compiler</td><td>Clang 14.0.6 </td></tr><tr><td>Python build</td><td>main, Mar  8 2023 04:44:36</td></tr><tr><td>OS</td><td>Darwin</td></tr><tr><td>CPUs</td><td>10</td></tr><tr><td>Memory (Gb)</td><td>64.0</td></tr><tr><td colspan='2'>Mon Mar 13 21:55:35 2023 KST</td></tr></table>"
      ],
      "text/plain": [
       "<IPython.core.display.HTML object>"
      ]
     },
     "metadata": {},
     "output_type": "display_data"
    }
   ],
   "source": [
    "import qiskit.tools.jupyter\n",
    "%qiskit_version_table\n"
   ]
  },
  {
   "cell_type": "markdown",
   "id": "52aaf500",
   "metadata": {},
   "source": [
    "\n",
    "## Qiskit 주요 업데이트 사항\n",
    "\n",
    "다음의 라이브러리는 곧 삭제 됩니다.\n",
    "- qiskit-ibmq-provider\n",
    "- qiskit-aer\n",
    "\n",
    "이 두가지를 대체하는 라이브러리의 사용법은 다음과 같습니다."
   ]
  },
  {
   "cell_type": "code",
   "execution_count": 2,
   "id": "5fabaf71",
   "metadata": {},
   "outputs": [],
   "source": [
    "## qiskit-ibmq-provider alternative\n",
    "from qiskit import *\n",
    "\n",
    "from qiskit import QuantumCircuit\n",
    "from qiskit_ibm_provider import IBMProvider\n",
    "\n",
    "#IBMProvider.save_account(TOKEN)\n",
    "#provider = IBMProvider()\n",
    "\n",
    "#밋업을 위해 추가된 허브와 그룹, 프로젝트를 프로바이더에 설정\n",
    "provider = IBMProvider(instance=\"ibm-q-yonsei/externalq-meetup/tutorials\")\n"
   ]
  },
  {
   "cell_type": "code",
   "execution_count": 3,
   "id": "8641a002",
   "metadata": {},
   "outputs": [
    {
     "data": {
      "text/plain": [
       "[<IBMBackend('ibm_auckland')>, <IBMBackend('ibm_geneva')>]"
      ]
     },
     "execution_count": 3,
     "metadata": {},
     "output_type": "execute_result"
    }
   ],
   "source": [
    "#밋업 참가자들에게 제공되는 양자 백엔드 목록\n",
    "provider.backends()"
   ]
  },
  {
   "cell_type": "markdown",
   "id": "c64e80c0",
   "metadata": {},
   "source": [
    "이 둘 중 여러분의 실습을 위해 더 적은 Queue를 가진 백엔드를 선택하기 위해서는 다음의 코드를 실행하여 backend에 해당 정보를 저장해 두도록 합니다."
   ]
  },
  {
   "cell_type": "code",
   "execution_count": 4,
   "id": "b208b50f",
   "metadata": {},
   "outputs": [
    {
     "data": {
      "text/plain": [
       "<IBMBackend('ibm_auckland')>"
      ]
     },
     "execution_count": 4,
     "metadata": {},
     "output_type": "execute_result"
    }
   ],
   "source": [
    "from qiskit_ibm_provider import least_busy\n",
    "\n",
    "backend = least_busy(provider.backends())\n",
    "backend"
   ]
  },
  {
   "cell_type": "markdown",
   "id": "6ff01530",
   "metadata": {},
   "source": [
    "qiskit-aer 역시 곧 사라지게 됩니다. 다음과 같은 방식으로 새 라이브러리를 사용할 수 있습니다.\n",
    "\n",
    "새 라이브러리를 사용해 시뮬레이터 함수들을 불러서 간단한 양자 회로를 실행해 보는 예제를 소개합니다."
   ]
  },
  {
   "cell_type": "code",
   "execution_count": 5,
   "id": "f695496f",
   "metadata": {},
   "outputs": [
    {
     "data": {
      "image/png": "[encoded data removed]",
      "text/plain": [
       "<Figure size 700x500 with 1 Axes>"
      ]
     },
     "execution_count": 5,
     "metadata": {},
     "output_type": "execute_result"
    }
   ],
   "source": [
    "from qiskit.providers.aer import AerSimulator, PulseSimulator, QasmSimulator, StatevectorSimulator, UnitarySimulator\n",
    "from qiskit.tools.visualization import plot_histogram, plot_state_city\n",
    "\n",
    "#sim_backend = QasmSimulator()\n",
    "sim_backend = AerSimulator()\n",
    "\n",
    "circ = QuantumCircuit(2)\n",
    "circ.h(0)\n",
    "circ.cx(0, 1)\n",
    "circ.measure_all()\n",
    "\n",
    "# Run and get counts\n",
    "result = sim_backend.run(circ).result()\n",
    "counts = result.get_counts(circ)\n",
    "plot_histogram(counts, title='Bell-State counts')\n"
   ]
  },
  {
   "cell_type": "markdown",
   "id": "bfe9742c",
   "metadata": {},
   "source": [
    "기타 업데이트와 릴리즈 상황은 다음의 [link](https://github.com/Qiskit/feedback/wiki/Release-Planning)에서 확인하실 수 있습니다.\n",
    "\n",
    "새로 추가되는 기능이나 버그 픽스 등 외에도 주로 사용하던 기능이 사라질때 가장 불편하니 \"deprecate\" 부분을 잘 살펴보세요\n"
   ]
  },
  {
   "cell_type": "code",
   "execution_count": null,
   "id": "5ca266bb",
   "metadata": {},
   "outputs": [],
   "source": []
  }
 ],
 "metadata": {
  "kernelspec": {
   "display_name": "Python 3 (ipykernel)",
   "language": "python",
   "name": "python3"
  },
  "language_info": {
   "codemirror_mode": {
    "name": "ipython",
    "version": 3
   },
   "file_extension": ".py",
   "mimetype": "text/x-python",
   "name": "python",
   "nbconvert_exporter": "python",
   "pygments_lexer": "ipython3",
   "version": "3.10.9"
  }
 },
 "nbformat": 4,
 "nbformat_minor": 5
}
