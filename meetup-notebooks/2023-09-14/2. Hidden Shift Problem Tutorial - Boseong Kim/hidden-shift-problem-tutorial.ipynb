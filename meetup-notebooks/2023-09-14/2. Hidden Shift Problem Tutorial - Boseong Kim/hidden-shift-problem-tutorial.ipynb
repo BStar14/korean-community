{
 "cells": [
  {
   "cell_type": "markdown",
   "id": "ade8e984",
   "metadata": {},
   "source": [
    "# Hidden Shift Problem"
   ]
  },
  {
   "cell_type": "markdown",
   "id": "fd53d995",
   "metadata": {},
   "source": [
    "이번 튜토리얼에서는 hidden shift problem에 대해서 배워보겠습니다. 이 튜토리얼에서는 bent function 상에서 정의된 hidden shift problem과 이 문제를 푸는 2가지의 양자 알고리즘을 다룹니다. 또한 이 알고리즘을 직접 Qiskit으로 구현하고 시뮬레이터 또는 실제 양자컴퓨터에서 실행해봅니다.\n",
    "\n",
    "## 목차\n",
    "\n",
    "1. [개요](#introduction)  \n",
    "   1.1 [Bent Function 상에서 정의된 Hidden Shift Problem](#hidden-shift-problem-over-bent-functions)  \n",
    "   1.2 [Fourier-transform을 이용한 알고리즘](#fourier-transform-accessible-algorithm)  \n",
    "   1.3 [Fourier-transform을 이용하지 않는 알고리즘](#fourier-transform-free-algorithm)  \n",
    "2. [예시](#example)  \n",
    "3. [Qiskit 구현](#implementation)  \n",
    "   3.1 [Fourier-transform을 이용한 알고리즘](#ftaa)  \n",
    "   3.2 [Fourier-transform을 이용하지 않는 알고리즘](#ftfa)  \n",
    "<!--    3.3 [Integer-Valued Algorithm](#iva)   -->\n",
    "4. [문제](#problems)  \n",
    "<!-- 6. [Cryptanalysis of Poly1305](#poly1305)   -->\n",
    "5. [참고자료](#references)"
   ]
  },
  {
   "cell_type": "markdown",
   "id": "95f6bf02",
   "metadata": {},
   "source": [
    "## 1. 개요 <a id='introduction'> </a>\n",
    "\n",
    "Hidden shift problem은 oracle이 주어지는 문제이며, Simon's problem이나 소인수분해 문제와도 연관이 있습니다. 특히, bent function 상에서 정의된 hidden shift problem은 양자컴퓨터로 풀 때 exponential quantum advantage가 있는 것으로 알려져 있습니다 [1, 2].\n",
    "\n",
    "Bent function은 maximally non-linear한 Boolean 함수를 지칭하며, linear 함수나 affine 함수로 근사하기가 어렵기 때문에 암호학 분야에서 중요한 역할을 합니다 [3].\n",
    "\n",
    "이러한 quantum advantage는 일반적 정수 함수 상에서 정의된 hidden shift problem에서도 일정 부분 작동하며, 이로 인해 Poly1305, CSIDH 등의 암호체계가 위협받을 수도 있습니다 [4]. 이러한 중요성 때문에 hidden shift problem을 푸는 알고리즘들은 양자컴퓨터의 성능을 벤치마킹 할 때에도 중요하게 고려되고 있습니다 [5, 6].\n",
    "\n",
    "이번 튜토리얼에서는 exponential speedup이 있는 bent function 상의 hidden shift problem만을 다루도록 하겠습니다."
   ]
  },
  {
   "cell_type": "markdown",
   "id": "f430418a",
   "metadata": {},
   "source": [
    "### 1.1 Bent Function 상에서 정의된 Hidden Shift Problem <a id='hidden-shift-problem-over-bent-functions'> </a>\n",
    "\n",
    "$n$-비트 bent function $f, g: \\mathbb{Z}^n_2 \\rightarrow \\mathbb{Z}_2$ 가 다음의 관계를 만족한다고 가정합니다: 어떤 \"hidden shift\" $s \\in \\mathbb{Z}^n_2$ 에 대하여 $f(x + s) = g(x)$.\n",
    "\n",
    "$f, g$ 함수를 실행하는 oracle이 주어졌을 때 (또는 그것의 Fourier transform $\\tilde{f}, \\tilde{g}$도 실행할 수 있을 때), 어떻게 하면 최소한의 실행 횟수로 hidden shift $s$를 알아낼 수 있을까요?"
   ]
  },
  {
   "cell_type": "markdown",
   "id": "178a469a",
   "metadata": {},
   "source": [
    "### 1.2 Fourier-transform을 이용한 알고리즘 <a id='fourier-transform-accessible-algorithm'> </a>\n",
    "\n",
    "먼저 oracle이 Fourier transform된 함수 $\\tilde{f}$를 실행할 수 있는 경우를 살펴봅시다. 이 알고리즘은 참고자료 [1]에서 처음 발견되었습니다.\n",
    "\n",
    "#### 1.2a 고전 알고리즘\n",
    "\n",
    "단순하게 모든 입력값에 대한 결과값 $f(x)$, $g(x)$를 알아보는 경우 oracle에 엑세스하는 횟수는 $2 \\cdot 2^n$번 입니다. 참고자료 [1]에서는 Fourier transform $\\tilde{f}$를 실행할 수 있는 경우, 푸리에 해석을 적용하면 $\\Theta(n)$ order의 실행 횟수 내로 hidden shift $s$를 알아낼 수 있다고 하였습니다.\n",
    "\n",
    "#### 1.2b 양자 알고리즘\n",
    "\n",
    "양자 알고리즘을 바로 살펴보기 전에, Boolean group $\\mathbb{Z}^n_2$과 여기서의 Fourier transform에 대해 먼저 알아봅시다. Boolean group에서의 덧셈은 각 자릿수의 XOR 함수로 정의됩니다: $01 + 11 = (0+1, 1+1) = 10$. 이러한 Boolean group에서 실수로 가는 함수 $f : \\mathbb{Z}^n_2 \\rightarrow \\mathbb{R}$의 Fourier transform $\\tilde{f} : \\mathbb{Z}^n_2 \\rightarrow \\mathbb{R}$는 다음과 같이 정의됩니다:\n",
    "\n",
    "$$\n",
    "\\tilde{f}(x) = \\frac{1}{\\sqrt{2^n}} \\sum_{y} (-1)^{x \\cdot y}f(y)\n",
    "$$\n",
    "\n",
    "여기서 흥미로운 점은 이러한 경우의 Fourier transform을 특별히 \"Hadamard transform\"이라고 부른다는 것인데, 일반적인 큐비트에서의 Hadamard gate가 다음과 같이 작동한다는 것과 비교해봅시다:\n",
    "\n",
    "$$\n",
    "H \\left| x \\right> = \\frac{1}{\\sqrt{2^n}} \\sum_{y} (-1)^{x \\cdot y} \\left| y \\right>,\n",
    "$$\n",
    "\n",
    "이제 다시 양자 알고리즘을 살펴봅시다.\n",
    "\n",
    "만약 oracle에서 함수의 Fourier transform을 실행할 수 있다면, 양자 알고리즘에서는 hidden shift $s$를 한 번에 찾아낼 수 있습니다.\n",
    "\n",
    "![hsp_ftaa](images/hsp_ftaa.jpg)\n",
    "\n",
    "주어진 함수 $f$에 대해, oracle $U_f$는 주어진 함수를 다음과 같이 암호화합니다.\n",
    "\n",
    "$$\n",
    "U_f \\left| x \\right> = (-1)^{f(x)} \\left| x \\right> \\equiv F(x) \\left| x \\right>\n",
    "$$\n",
    "\n",
    "이 oracle은 입력 상태 $\\left| x \\right>$에 대응하는 함숫값에 따라 위상 반전을 가합니다. 이것을 간단하게 $(-1)^{f(x)} = F(x)$로 쓰면 Fourier 해석에 의해 다음의 사실 또한 활용할 수 있습니다: $\\tilde{F}(x) = (-1)^{\\tilde{f}(x)}$.\n",
    "\n",
    "이제 그림에서 나타내는 알고리즘을 한 단계씩 따라가봅시다:\n",
    "\n",
    "<ol>\n",
    "   <li>\n",
    "        $n$-큐빗 레지스터를 0으로 초기화합니다:  \n",
    "$$\n",
    "\\left| \\psi_1 \\right> = \\left| 0 \\right> ^{\\otimes n}\n",
    "$$\n",
    "\n",
    "   </li>\n",
    "   \n",
    "   <li>\n",
    "        전체 큐빗에 Hadamard transform을 가합니다:  \n",
    "$$\n",
    "\\left| \\psi_2 \\right> = \\frac{1}{\\sqrt{2^n}} \\sum_{x} \\left| x \\right>\n",
    "$$\n",
    "\n",
    "   </li>\n",
    "\n",
    "   <li>\n",
    "        Oracle $U_{g}$를 실행합니다:  \n",
    "$$\n",
    "\\begin{aligned}\n",
    "    \\left| \\psi_3 \\right>\n",
    "        & = \\frac{1}{\\sqrt{2^n}} \\sum_{x} G(x) \\left| x \\right> \\\\\n",
    "        & = \\frac{1}{\\sqrt{2^n}} \\sum_{x} F(x + s) \\left| x \\right>\n",
    "\\end{aligned}\n",
    "$$\n",
    "\n",
    "   </li>\n",
    "\n",
    "   <li>\n",
    "        Hadamard gate (Fourier transform) 를 다시 가합니다:  \n",
    "$$\n",
    "\\begin{aligned}\n",
    "    \\left| \\psi_4 \\right>\n",
    "        & = \\frac{1}{2^n} \\sum_{y} \\left[ \\sum_{x} (-1)^{x \\cdot y} F(x + s) \\right] \\left| y \\right> \\\\\n",
    "        & = \\frac{1}{\\sqrt{2^n}} \\sum_{y} (-1)^{s \\cdot y} \\left[ \\frac{1}{\\sqrt{2^n}} \\sum_{x} (-1)^{(x + s) \\cdot y} F(x + s) \\right] \\left| y \\right>\n",
    "\\end{aligned}\n",
    "$$\n",
    "\n",
    "한편 대괄호 안의 수식은 다름 아닌 $\\tilde{F}(y)$입니다:  \n",
    "$$\n",
    "= \\frac{1}{\\sqrt{2^n}} \\sum_{y} (-1)^{s \\cdot y} \\tilde{F}(y) \\left| y \\right>\n",
    "$$\n",
    "\n",
    "   </li>\n",
    "\n",
    "   <li>\n",
    "        Oracle $U_{\\tilde{f}}$를 실행합니다:  \n",
    "$$\n",
    "\\begin{aligned}\n",
    "    \\left| \\psi_5 \\right>\n",
    "        & = \\frac{1}{\\sqrt{2^n}} \\sum_{y} (-1)^{s \\cdot y} \\tilde{F}(y) \\tilde{F}(y) \\left| y \\right> \\\\\n",
    "        & = \\frac{1}{\\sqrt{2^n}} \\sum_{y} (-1)^{s \\cdot y} \\left| y \\right>\n",
    "\\end{aligned}\n",
    "$$\n",
    "        \n",
    "   </li>\n",
    "\n",
    "   <li>\n",
    "        마지막으로 Hadamard transform (Fourier transform) 을 다시 가해 $\\left| s \\right>$를 얻습니다:  \n",
    "$$\n",
    "\\left| \\psi_6 \\right> = \\left| s \\right>\n",
    "$$\n",
    "        \n",
    "   </li>\n",
    "</ol>\n",
    "\n",
    "따라서, 주어진 hidden shift problem이 $U_g$ 한 번, $U_{\\tilde{f}}$ 한 번의 실행만으로 풀리게 됩니다."
   ]
  },
  {
   "cell_type": "markdown",
   "id": "f8ead28b",
   "metadata": {},
   "source": [
    "### 1.3 Fourier-transform을 이용하지 않는 알고리즘 <a id='fourier-transform-free-algorithm'> </a>\n",
    "\n",
    "이번에는 oracle이 Fourier transform을 제공하지 않는 경우에 대해 생각해보겠습니다. 고전적인 방법에서 이 경우는 기하급수적으로 어려워지게 됩니다. 반면 양자 알고리즘은 이 문제를 여전히 선형 시간 안에 풀 수 있습니다. 이 알고리즘은 참고자료 [1]에서 처음 제시되었으며, 참고자료 [2]에서 추가로 개선되었습니다. 이 튜토리얼에서는 개선된 버전의 알고리즘을 소개하도록 하겠습니다.\n",
    "\n",
    "#### 1.3a 고전 알고리즘\n",
    "\n",
    "Fourier transform에 엑세스할 수 없는 경우에 대해, 참고자료 [2]에서 이 문제의 고전적 복잡도는 $\\Omega \\left( \\sqrt{2^n} \\right)$라는 것을 밝혀냈습니다. 즉, 이 문제를 풀기 위해 최소 $\\sqrt{2^n}$ order의 oracle 실행이 필요합니다. 가장 단순한 brute-force approach에서 필요한 실행 횟수가 $2^n$ order였다는 것과 비교해볼 수 있습니다.\n",
    "\n",
    "#### 1.3b The Quantum Solution\n",
    "\n",
    "이 문제를 양자 알고리즘으로 푸는 경우 $O(n)$ order의 실행 횟수 내에 확률적으로 문제를 풀 수 있습니다.\n",
    "\n",
    "![hsp_ftfa](images/hsp_ftfa.jpg)\n",
    "\n",
    "주어진 함수 $f$에 대해 oracle $O$는 다음과 같이 $f$를 인코딩합니다:\n",
    "\n",
    "$$\n",
    "O_f \\left| b \\right> \\left| x \\right> = \\left| b + f(x) \\right> \\left| x \\right>\n",
    "$$\n",
    "\n",
    "$O$는 두 번째 레지스터를 입력으로 받아 첫 번째 레지스터에 함숫값을 출력합니다. 여기서 정의된 oracle $O$가 앞에서 정의된 $U$와 약간 다르다는 점에 주의해주세요.\n",
    "\n",
    "이제 그림에 표시된 순서를 따라 알고리즘을 살펴봅시다:\n",
    "\n",
    "<ol>\n",
    "   <li>\n",
    "        입출력 레지스터를 전부 초기화합니다:  \n",
    "$$\n",
    "\\left| \\psi_1 \\right> = \\left| 0 \\right> \\left| 0 \\right>^{\\otimes n}\n",
    "$$\n",
    "   </li>\n",
    "   \n",
    "   <li>\n",
    "        입력 레지스터에 Hadamard gate를 가해 모든 상태를 중첩시킵니다:  \n",
    "$$\n",
    "\\left| \\psi_2 \\right> = \\frac{1}{\\sqrt{2^n}} \\sum_{x} \\left| 0 \\right> \\left| x \\right>\n",
    "$$\n",
    "\n",
    "   </li>\n",
    "\n",
    "   <li>\n",
    "        Oracle $O_f$를 실행합니다:  \n",
    "$$\n",
    "\\left| \\psi_3 \\right> = \\frac{1}{\\sqrt{2^n}} \\sum_{x} \\left| f(x) \\right> \\left| x \\right>\n",
    "$$\n",
    "\n",
    "   </li>\n",
    "\n",
    "   <li>\n",
    "        출력 레지스터에 Z gate를 (위상 반전) 가합니다:  \n",
    "$$\n",
    "\\left| \\psi_4 \\right> = \\frac{1}{\\sqrt{2^n}} \\sum_{x} F(x) \\left| f(x) \\right> \\left| x \\right>\n",
    "$$\n",
    "\n",
    "   </li>\n",
    "\n",
    "   <li>\n",
    "        Oracle $O_g$를 실행합니다:  \n",
    "$$\n",
    "\\begin{aligned}\n",
    "    \\left| \\psi_5 \\right>\n",
    "        & = \\frac{1}{\\sqrt{2^n}} \\sum_{x} F(x) \\left| f(x) + g(x) \\right> \\left| x \\right> \\\\\n",
    "        & = \\frac{1}{\\sqrt{2^n}} \\sum_{x} \\left[ \\frac{F(x) + G(x)}{2} \\left| 0 \\right> + \\frac{F(x) - G(x)}{2} \\left| 1 \\right> \\right] \\left| x \\right>\n",
    "\\end{aligned}\n",
    "$$\n",
    "\n",
    "   </li>\n",
    "\n",
    "   <li>\n",
    "        입력 레지스터에 Hadamard transform (Fourier transform)을 가합니다:  \n",
    "$$\n",
    "\\begin{aligned}\n",
    "    \\left| \\psi_6 \\right>\n",
    "        & = \\frac{1}{2^n} \\sum_{x, y} (-1)^{x \\cdot y} \\left[ \\frac{F(x) + G(x)}{2} \\left| 0 \\right> + \\frac{F(x) - G(x)}{2} \\left| 1 \\right> \\right] \\left| y \\right> \\\\\n",
    "        & = \\frac{1}{2^n} \\sum_{x, y} \\left[ \\frac{(-1)^{x \\cdot y} F(x) + (-1)^{x \\cdot y} F(x + s)}{2} \\left| 0 \\right> + \\frac{(-1)^{x \\cdot y} F(x) - (-1)^{x \\cdot y} F(x + s)}{2} \\left| 1 \\right> \\right] \\left| y \\right> \\\\\n",
    "        & = \\frac{1}{\\sqrt{2^n}} \\sum_{y} \\left[ \\frac{\\tilde{F}(y) + (-1)^{s \\cdot y} \\tilde{F}(y)}{2} \\left| 0 \\right> + \\frac{\\tilde{F}(y) - (-1)^{s \\cdot y} \\tilde{F}(y)}{2} \\left| 1 \\right> \\right] \\left| y \\right>\n",
    "\\end{aligned}\n",
    "$$\n",
    "\n",
    "이 식을 binary index $b$를 이용해 정리하면:  \n",
    "$$\n",
    "\\begin{aligned}\n",
    "    & = \\frac{1}{\\sqrt{2^n}} \\sum_{b, y} \\tilde{F}(y) \\left( \\frac{1 + (-1)^{(1, s) \\cdot (b, y)}}{2} \\right) \\left| b \\right> \\left| y \\right>\n",
    "\\end{aligned}\n",
    "$$\n",
    "\n",
    "우리가 전체 상태 $\\left| b, y \\right>$를 측정하는 경우, 결괏값 $\\left| b_0, y_0 \\right>$를 얻을 확률은:  \n",
    "$$\n",
    "\\begin{aligned}\n",
    "    P(b_0, y_0)\n",
    "        & = \\left| \\left< b_0, y_0 \\middle| \\frac{1}{\\sqrt{2^n}} \\sum_{b, y} \\tilde{F}(y) \\left( \\frac{1 + (-1)^{(1, s) \\cdot (b, y)}}{2} \\right) \\middle| b, y \\right> \\right| ^2 \\\\\n",
    "        & = \\frac{1}{2^n} \\cdot \\left| \\tilde{F}(y_0) \\right| ^2 \\cdot \\left| \\frac{1 + (-1)^{(1, s) \\cdot (b_0, y_0)}}{2} \\right| ^2 \\\\\n",
    "        & = \\frac{\\delta ((1, s) \\cdot (b_0, y_0))}{2^n}\n",
    "\\end{aligned}\n",
    "$$\n",
    "\n",
    "여기서 값 $\\left| \\tilde{F}(y_0) \\right|$ 은 함수 $f$가 bent일 때 항상 1이 됩니다. 따라서 우리가 얻는 결과는 상태 $\\left| 1, s \\right>$에 orthogonal한 상태들이며, 각각의 상태들을 uniform한 확률로 얻게 됩니다.\n",
    "\n",
    "만약 우리가 결괏값 $(b_1, y_1), (b_2, y_2), \\cdots (b_n, y_n)$을 얻었다면, 아래의 수식을 풀어 $\\left| s \\right>$를 얻을 수 있습니다:\n",
    "\n",
    "$$\n",
    "\\begin{cases}\n",
    "    s \\cdot y_1 = b_1 \\\\\n",
    "    s \\cdot y_2 = b_2 \\\\\n",
    "    \\vdots \\\\\n",
    "    s \\cdot y_n = b_n\n",
    "\\end{cases}\n",
    "$$\n",
    "\n",
    "Hidden shift $s$는 $n$개의 independent한 $y_i$들로부터 유일하게 결정되므로, 우리는 이 알고리즘을 $O(n)$번 반복하여 충분한 개수의 결과를 얻도록 합니다.\n",
    "\n",
    "   </li>\n",
    "</ol>"
   ]
  },
  {
   "cell_type": "markdown",
   "id": "1e6d6326",
   "metadata": {},
   "source": [
    "## 2. 예시 <a id='example'> </a>\n",
    "\n",
    "$n=2$, $s=10$인 경우의 예시를 살펴보겠습니다. Fourier transform $\\tilde{f}$를 사용하기 쉽도록, 여기서는 Maiorana-McFarland bent function을 사용했습니다: \n",
    "\n",
    "$$\n",
    "f(x, y) = x \\cdot y + h(x)\n",
    "$$\n",
    "\n",
    "여기서 h(x)는 Boolean function: $\\mathbb{Z}^{n/2}_2 \\rightarrow \\mathbb{Z}_2$, 즉, 입력 레지스터 개수가 반인 임의의 Boolean function입니다. 이러한 경우의 bent function에 대해 그것의 Fourier transform은:\n",
    "\n",
    "$$\n",
    "\\tilde{f}(x, y) = x \\cdot y + h(y)\n",
    "$$\n",
    "\n",
    "이 예시에서 우리는 간단히 $h(x) = x$라고 가정하겠습니다. 이 경우 함수의 입력값과 출력값은 다음과 같이 대응됩니다:\n",
    "\n",
    "<table>\n",
    "<thead>\n",
    "<tr>\n",
    "<th>$$(x,y)$$</th>\n",
    "<th>$$f(x,y)$$</th>\n",
    "<th>$$g(x,y)$$</th>\n",
    "<th>$$\\tilde{f}(x,y)$$</th>\n",
    "</tr>\n",
    "</thead>\n",
    "<tbody>\n",
    "<tr>\n",
    "<th>00</th>\n",
    "<th>0</th>\n",
    "<th>0</th>\n",
    "<th>0</th>\n",
    "</tr>\n",
    "<tr>\n",
    "<th>01</th>\n",
    "<th>1</th>\n",
    "<th>0</th>\n",
    "<th>0</th>\n",
    "</tr>\n",
    "<tr>\n",
    "<th>10</th>\n",
    "<th>0</th>\n",
    "<th>0</th>\n",
    "<th>1</th>\n",
    "</tr>\n",
    "<tr>\n",
    "<th>11</th>\n",
    "<th>0</th>\n",
    "<th>1</th>\n",
    "<th>0</th>\n",
    "</tr>\n",
    "</tbody>\n",
    "</table>"
   ]
  },
  {
   "cell_type": "markdown",
   "id": "1bd40cbb",
   "metadata": {},
   "source": [
    "### 2.1 Fourier-Transform을 이용한 알고리즘\n",
    "\n",
    "<ol>\n",
    "   <li>\n",
    "        2-큐빗 레지스터를 초기화합니다:  \n",
    "$$\n",
    "\\left| \\psi_1 \\right> = \\left| 00 \\right>\n",
    "$$\n",
    "\n",
    "   </li>\n",
    "   \n",
    "   <li>\n",
    "        전체 큐빗에 Hadamard gate를 가합니다:  \n",
    "$$\n",
    "\\left| \\psi_2 \\right> = \\frac{1}{\\sqrt{2^2}} \\left( \\; \\left| 00 \\right> + \\left| 01 \\right> + \\left| 10 \\right> + \\left| 11 \\right> \\; \\right)\n",
    "$$\n",
    "\n",
    "   </li>\n",
    "\n",
    "   <li>\n",
    "        Oracle $U_{g}$를 실행합니다:  \n",
    "$$\n",
    "\\left| \\psi_3 \\right> = \\frac{1}{\\sqrt{2^2}} \\left( \\; \\left| 00 \\right> + \\left| 01 \\right> + \\left| 10 \\right> - \\left| 11 \\right> \\; \\right)\n",
    "$$\n",
    "\n",
    "   </li>\n",
    "\n",
    "   <li>\n",
    "        Hadamard transform을 가합니다:  \n",
    "$$\n",
    "\\begin{aligned}\n",
    "    \\left| \\psi_4 \\right> = \\frac{1}{2^2} ( \\;\n",
    "        & \\left| 00 \\right> + \\left| 01 \\right> + \\left| 10 \\right> + \\left| 11 \\right> \\\\[5pt]\n",
    "        + & \\left| 00 \\right> - \\left| 01 \\right> + \\left| 10 \\right> - \\left| 11 \\right> \\\\[6pt]\n",
    "        + & \\left| 00 \\right> + \\left| 01 \\right> - \\left| 10 \\right> - \\left| 11 \\right> \\\\[6pt]\n",
    "        - & \\left| 00 \\right> + \\left| 01 \\right> + \\left| 10 \\right> - \\left| 11 \\right> \\; )\n",
    "\\end{aligned}\n",
    "$$\n",
    "\n",
    "위 식을 세로로 더하면\n",
    "$$\n",
    "= \\frac{1}{\\sqrt{2^2}} \\left( \\; \\left| 00 \\right> + \\left| 01 \\right> + \\left| 10 \\right> - \\left| 11 \\right> \\; \\right)\n",
    "$$\n",
    "\n",
    "   </li>\n",
    "\n",
    "   <li>\n",
    "        Oracle $U_{\\tilde{f}}$를 실행합니다:  \n",
    "$$\n",
    "\\left| \\psi_5 \\right> = \\frac{1}{\\sqrt{2^2}} \\left( \\; \\left| 00 \\right> + \\left| 01 \\right> - \\left| 10 \\right> - \\left| 11 \\right> \\; \\right)\n",
    "$$\n",
    "\n",
    "   </li>\n",
    "\n",
    "   <li>\n",
    "        마지막으로 Hadamard transform을 cancel시키면 $\\left| s \\right> = \\left| 10 \\right>$을 얻게 됩니다:  \n",
    "$$\n",
    "\\begin{aligned}\n",
    "    \\left| \\psi_6 \\right> = \\frac{1}{2^2} ( \\;\n",
    "        & \\left| 00 \\right> + \\left| 01 \\right> + \\left| 10 \\right> + \\left| 11 \\right> \\\\[5pt]\n",
    "        + & \\left| 00 \\right> - \\left| 01 \\right> + \\left| 10 \\right> - \\left| 11 \\right> \\\\[6pt]\n",
    "        - & \\left| 00 \\right> - \\left| 01 \\right> + \\left| 10 \\right> + \\left| 11 \\right> \\\\[6pt]\n",
    "        - & \\left| 00 \\right> + \\left| 01 \\right> + \\left| 10 \\right> - \\left| 11 \\right> \\; ) \\\\[6pt]\n",
    "    = \\left| 10 \\right> & = \\left| s \\right>\n",
    "\\end{aligned}\n",
    "$$\n",
    "        \n",
    "   </li>\n",
    "</ol>\n",
    "\n",
    "이 예시에서 hidden shift $\\left| s \\right>$를 양자 알고리즘을 통해 한 번에 얻을 수 있다는 것을 확인할 수 있습니다."
   ]
  },
  {
   "cell_type": "markdown",
   "id": "130e6b76",
   "metadata": {},
   "source": [
    "### 2.2 Fourier-Transform을 이용하지 않는 알고리즘\n",
    "\n",
    "<ol>\n",
    "   <li>\n",
    "        전체 레지스터를 초기화합니다:  \n",
    "$$\n",
    "\\left| \\psi_1 \\right> = \\left| 0 \\right> \\otimes \\left| 00 \\right>\n",
    "$$\n",
    "   </li>\n",
    "   \n",
    "   <li>\n",
    "        입력 레지스터에 Hadamard gate를 가해 중첩상태를 만듭니다:  \n",
    "$$\n",
    "\\left| \\psi_2 \\right> = \\frac{1}{\\sqrt{2^2}} \\left( \\; \\left| 0 \\right> \\otimes \\left| 00 \\right> + \\left| 0 \\right> \\otimes \\left| 01 \\right> + \\left| 0 \\right> \\otimes \\left| 10 \\right> + \\left| 0 \\right> \\otimes \\left| 11 \\right> \\; \\right)\n",
    "$$\n",
    "\n",
    "   </li>\n",
    "\n",
    "   <li>\n",
    "        Oracle $O_f$를 실행합니다:  \n",
    "$$\n",
    "\\left| \\psi_3 \\right> = \\frac{1}{\\sqrt{2^2}} \\left( \\; \\left| 0 \\right> \\otimes \\left| 00 \\right> + \\left| 1 \\right> \\otimes \\left| 01 \\right> + \\left| 0 \\right> \\otimes \\left| 10 \\right> + \\left| 0 \\right> \\otimes \\left| 11 \\right> \\; \\right)\n",
    "$$\n",
    "\n",
    "   </li>\n",
    "\n",
    "   <li>\n",
    "        출력 레지스터에 Z gate를 가합니다:  \n",
    "$$\n",
    "\\left| \\psi_4 \\right> = \\frac{1}{\\sqrt{2^2}} \\left( \\; \\left| 0 \\right> \\otimes \\left| 00 \\right> - \\left| 1 \\right> \\otimes \\left| 01 \\right> + \\left| 0 \\right> \\otimes \\left| 10 \\right> + \\left| 0 \\right> \\otimes \\left| 11 \\right> \\; \\right)\n",
    "$$\n",
    "\n",
    "   </li>\n",
    "\n",
    "   <li>\n",
    "        Oracle $O_g$를 실행합니다:  \n",
    "$$\n",
    "\\begin{aligned}\n",
    "    \\left| \\psi_5 \\right> = \\frac{1}{\\sqrt{2^2}} ( \\;\n",
    "        & \\left| 0 \\right> \\otimes \\left| 00 \\right> - \\left| 1 \\right> \\otimes \\left| 01 \\right> + \\left| 0 \\right> \\otimes \\left| 10 \\right> + \\left| 1 \\right> \\otimes \\left| 11 \\right> \\; ) \\\\\n",
    "    = \\frac{1}{\\sqrt{2^2}} ( \\;\n",
    "        & \\left| 0 \\right> \\otimes \\left( \\; \\left| 00 \\right> + \\left| 10 \\right> \\; \\right) \\\\\n",
    "      + & \\left| 1 \\right> \\otimes \\left( \\; - \\left| 01 \\right> + \\left| 11 \\right> \\; \\right) \\; )\n",
    "\\end{aligned}\n",
    "$$\n",
    "\n",
    "   </li>\n",
    "\n",
    "   <li>\n",
    "        입력 레지스터에 Hadamard transform을 가합니다:  \n",
    "$$\n",
    "\\begin{aligned}\n",
    "    \\left| \\psi_6 \\right> = \\frac{1}{2^2} ( \\; \\left| 0 \\right> \\otimes ( \\;\n",
    "        & \\left| 00 \\right> + \\left| 01 \\right> + \\left| 10 \\right> + \\left| 11 \\right> \\\\[5pt]\n",
    "    +   & \\left| 00 \\right> + \\left| 01 \\right> - \\left| 10 \\right> - \\left| 11 \\right> \\; ) \\\\[6pt]\n",
    "    + \\left| 1 \\right> \\otimes ( \\;\n",
    "        & - \\left| 00 \\right> + \\left| 01 \\right> - \\left| 10 \\right> + \\left| 11 \\right> \\\\[6pt]\n",
    "    +   & \\left| 00 \\right> - \\left| 01 \\right> - \\left| 10 \\right> + \\left| 11 \\right> \\; ) \\; ) \\\\[6pt]\n",
    "    = \\frac{1}{\\sqrt{2^2}} ( \\; \\left| 0 \\right> \\otimes ( \\;\n",
    "        & \\left| 00 \\right> + \\left| 01 \\right> \\; ) + \\left| 1 \\right> \\otimes ( \\; - \\left| 10 \\right> + \\left| 11 \\right> \\; ) \\; )\n",
    "\\end{aligned}\n",
    "$$\n",
    "\n",
    "   </li>\n",
    "</ol>\n",
    "\n",
    "알고리즘의 결과로 4개의 출력값 $\\left| 0 \\right> \\otimes \\left| 00 \\right>$, $\\left| 0 \\right> \\otimes \\left| 01 \\right>$, $\\left| 1 \\right> \\otimes \\left| 10 \\right>$ and $\\left| 1 \\right> \\otimes \\left| 11 \\right>$를 얻었습니다. 여기에서 hidden shift $s$는 $\\left| 0 \\right> \\otimes \\left| 00 \\right>$을 제외한 다른 출력값 2개만 주어지면 구할 수 있습니다. 예를 들어, 출력값 $\\left| 0 \\right> \\otimes \\left| 01 \\right>$와 $\\left| 1 \\right> \\otimes \\left| 11 \\right>$를 얻은 경우, $s$는 다음과 같이 구해집니다:\n",
    "\n",
    "$$\n",
    "\\begin{cases}\n",
    "    \\left<s \\mid 01 \\right> = 0 = s_2 \\\\\n",
    "    \\left<s \\mid 11 \\right> = 1 = s_1 + s_2\n",
    "\\end{cases}\n",
    "\\quad \\therefore \\left| s \\right> = \\left| s_1 s_2 \\right> = \\left| 10 \\right>\n",
    "$$\n",
    "\n",
    "각각의 출력값 $y$에서 $s$의 비트 하나씩을 얻을 수 있습니다. 따라서 일정한 확률에 대해 이 알고리즘의 복잡도가 $O(n)$일 것이라는 점도 어느 정도 예측할 수 있습니다. 모든 출력값에 대한 $(1, s) \\cdot (b, y)$값은 다음 표와 같습니다:\n",
    "\n",
    "<table>\n",
    "<thead>\n",
    "<tr>\n",
    "<th>$$(1, s)$$</th>\n",
    "<th>$$(b, y)$$</th>\n",
    "<th>product</th>\n",
    "</tr>\n",
    "</thead>\n",
    "<tbody>\n",
    "<tr>\n",
    "<th>110</th>\n",
    "<th>000</th>\n",
    "<th>0</th>\n",
    "</tr>\n",
    "<tr>\n",
    "<th>110</th>\n",
    "<th>001</th>\n",
    "<th>0</th>\n",
    "</tr>\n",
    "<tr>\n",
    "<th>110</th>\n",
    "<th>110</th>\n",
    "<th>1+1=0</th>\n",
    "</tr>\n",
    "<tr>\n",
    "<th>110</th>\n",
    "<th>111</th>\n",
    "<th>1+1=0</th>\n",
    "</tr>\n",
    "</tbody>\n",
    "</table>"
   ]
  },
  {
   "cell_type": "markdown",
   "id": "029899df",
   "metadata": {},
   "source": [
    "## 3. Qiskit 구현 <a id='implementation'> </a>\n",
    "\n",
    "### 3.1 Fourier-transform을 이용한 알고리즘 <a id='ftaa'> </a>\n",
    "\n",
    "이제 Fourier transform을 이용한 알고리즘을 Qiskit으로 구현해봅시다. 여기에서는 4-비트짜리 $s=1011$의 경우를 가정해봅니다."
   ]
  },
  {
   "cell_type": "code",
   "execution_count": 9,
   "id": "14b48eb8",
   "metadata": {},
   "outputs": [],
   "source": [
    "# 패키지를 불러옵니다\n",
    "import numpy as np\n",
    "\n",
    "# Qiskit을 불러옵니다\n",
    "from qiskit.circuit import QuantumCircuit\n",
    "\n",
    "# Qiskit에서 그래프를 그리는 함수를 불러옵니다\n",
    "from qiskit.visualization import plot_histogram"
   ]
  },
  {
   "cell_type": "markdown",
   "id": "eba1509b",
   "metadata": {},
   "source": [
    "먼저 사용할 큐비트 개수 $n$과 hidden shift $s$를 설정합니다."
   ]
  },
  {
   "cell_type": "code",
   "execution_count": 10,
   "id": "8c5c0b96",
   "metadata": {},
   "outputs": [],
   "source": [
    "n = 4         # 입력 큐비트 개수\n",
    "s = '1011'    # Hidden shift"
   ]
  },
  {
   "cell_type": "markdown",
   "id": "a4780cdf",
   "metadata": {},
   "source": [
    "Hidden shift $s$와, 어떤 bent function $f$가 주어지면 oracle을 만들 수 있습니다. 여기서도 Fourier transform $\\tilde{f}$를 구현해야 하므로, 앞의 예시에서와 같이 Maiorana-McFarland bent function을 이용하도록 하겠습니다. 여기서 $h(x) = x \\cdot e_2$로 설정하였습니다. 그러면 $f$는 아래와 같이 정의됩니다:\n",
    "\n",
    "$$\n",
    "f(x, y) = x \\cdot y + x \\cdot e_2 = (x_1 y_1 + x_2 y_2) + x_2\n",
    "$$\n",
    "\n",
    "이제 Qiskit에서 oracle $U_{g}$와 $U_{\\tilde{f}}$를 어떻게 구현하는지 살펴보겠습니다. 우리의 목표는 이 알고리즘이 hidden shift $s$를 잘 찾아내는지 확인하는 것입니다."
   ]
  },
  {
   "cell_type": "code",
   "execution_count": 11,
   "id": "72a3693e",
   "metadata": {},
   "outputs": [
    {
     "data": {
      "image/png": "[encoded data removed]",
      "text/plain": [
       "<Figure size 203.885x367.889 with 1 Axes>"
      ]
     },
     "execution_count": 11,
     "metadata": {},
     "output_type": "execute_result"
    }
   ],
   "source": [
    "def shift_s(n, s):\n",
    "    \"\"\"주어진 s에 대해 shifting operation을 가합니다\"\"\"\n",
    "    shift_s = QuantumCircuit(n)\n",
    "    s = s[::-1]    # Qiskit ordering에 맞춰 bitstring 순서를 뒤집습니다\n",
    "    for i in range(n):\n",
    "        if s[i] == '0': \n",
    "            continue\n",
    "        else:\n",
    "            shift_s.x(i)    # 입력 레지스터에 X gate를 가해 shifting을 줍니다\n",
    "    shift_s.name = 'Shift'\n",
    "    return shift_s\n",
    "\n",
    "# 회로를 표시합니다\n",
    "shift_s(n, s).draw('mpl')"
   ]
  },
  {
   "cell_type": "code",
   "execution_count": 12,
   "id": "e36506f8",
   "metadata": {},
   "outputs": [
    {
     "data": {
      "image/png": "[encoded data removed]",
      "text/plain": [
       "<Figure size 538.33x367.889 with 1 Axes>"
      ]
     },
     "execution_count": 12,
     "metadata": {},
     "output_type": "execute_result"
    }
   ],
   "source": [
    "def oracle_g(n):\n",
    "    \"\"\"g = U_g를 인코딩하는 오라클입니다\"\"\"\n",
    "    oracle_g = QuantumCircuit(n)\n",
    "    \n",
    "    # 입력값에 shifting을 줍니다\n",
    "    oracle_g.append(shift_s(n, s), range(n))\n",
    "    \n",
    "    # Oracle U_f = (-1)^f(x) = F(x) 를 실행합니다\n",
    "    # x·y는 controlled-Z gate에 해당합니다\n",
    "    for i in range(int(n/2)):\n",
    "        oracle_g.cz(i, i+int(n/2))\n",
    "    \n",
    "    # h(x) = x·e_2 는 첫 번째 레지스터의 두 번째 큐빗 = q1 에 Z gate를 가하는 것에 해당합니다\n",
    "    oracle_g.z(1)\n",
    "    \n",
    "    # Shifting을 다시 돌려놓습니다\n",
    "    oracle_g.append(shift_s(n, s), range(n))\n",
    "    \n",
    "    oracle_g.name = 'Oracle g'\n",
    "    return oracle_g\n",
    "\n",
    "# 회로를 표시합니다\n",
    "oracle_g(n).draw('mpl')"
   ]
  },
  {
   "cell_type": "code",
   "execution_count": 13,
   "id": "d1cd0c6b",
   "metadata": {},
   "outputs": [
    {
     "data": {
      "image/png": "[encoded data removed]",
      "text/plain": [
       "<Figure size 371.107x367.889 with 1 Axes>"
      ]
     },
     "execution_count": 13,
     "metadata": {},
     "output_type": "execute_result"
    }
   ],
   "source": [
    "def oracle_f_tilde(n):\n",
    "    \"\"\"Fourier transform된 f = U_f tilde 를 인코딩하는 oracle입니다\"\"\"\n",
    "    oracle_f_tilde = QuantumCircuit(n)\n",
    "    \n",
    "    # Oracle U_f tilde 를 실행합니다\n",
    "    # x·y는 controlled-Z gate에 해당합니다\n",
    "    for i in range(int(n/2)):\n",
    "        oracle_f_tilde.cz(i, i+int(n/2))\n",
    "    \n",
    "    # h(y) = y·e_2 는 두 번째 레지스터의 두 번째 큐빗 = q3 에 Z gate를 가하는 것에 해당합니다\n",
    "    oracle_f_tilde.z(3)\n",
    "    \n",
    "    oracle_f_tilde.name = 'Oracle f tilde'\n",
    "    return oracle_f_tilde\n",
    "\n",
    "# 회로를 표시합니다\n",
    "oracle_f_tilde(n).draw('mpl')"
   ]
  },
  {
   "cell_type": "markdown",
   "id": "901f742b",
   "metadata": {},
   "source": [
    "여기까지 각각의 oracle을 구현했습니다. 이제 이것들을 모아서 실제 알고리즘을 회로로 구현해봅시다."
   ]
  },
  {
   "cell_type": "code",
   "execution_count": 14,
   "id": "2e0a676f",
   "metadata": {},
   "outputs": [
    {
     "data": {
      "image/png": "[encoded data removed]",
      "text/plain": [
       "<Figure size 1541.66x451.5 with 1 Axes>"
      ]
     },
     "execution_count": 14,
     "metadata": {},
     "output_type": "execute_result"
    }
   ],
   "source": [
    "hsp_circuit = QuantumCircuit(n, n)\n",
    "\n",
    "# Hadamard gate를 가해 중첩상태를 만듭니다\n",
    "for i in range(n):\n",
    "    hsp_circuit.h(i)\n",
    "hsp_circuit.barrier()    # barrier는 시각적 분리만을 위한 것이며 실제 계산에 영향을 주지는 않습니다\n",
    "\n",
    "# Oracle g 회로를 추가합니다\n",
    "hsp_circuit.append(oracle_g(n), range(n))\n",
    "hsp_circuit.barrier()\n",
    "\n",
    "# Hadamard gate를 가해 Boolean Fourier transform을 수행합니다\n",
    "for i in range(n):\n",
    "    hsp_circuit.h(i)\n",
    "hsp_circuit.barrier()\n",
    "\n",
    "# Oracle f tilde 회로를 추가합니다\n",
    "hsp_circuit.append(oracle_f_tilde(n), range(n))\n",
    "hsp_circuit.barrier()\n",
    "\n",
    "# Boolean Fourier transform을 다시 수행해 s를 얻습니다\n",
    "for i in range(n):\n",
    "    hsp_circuit.h(i)\n",
    "hsp_circuit.barrier()\n",
    "\n",
    "# 큐빗을 관측합니다\n",
    "for i in range(n):\n",
    "    hsp_circuit.measure(i, i)\n",
    "\n",
    "# 회로를 표시합니다\n",
    "hsp_circuit.draw('mpl')"
   ]
  },
  {
   "cell_type": "markdown",
   "id": "f2f0ca38",
   "metadata": {},
   "source": [
    "#### 3.1a Simulator로 실행하기 <a id='ftaa-simulation'> </a>\n",
    "\n",
    "위의 회로를 simulator로 실행해봅시다."
   ]
  },
  {
   "cell_type": "code",
   "execution_count": 15,
   "id": "a611ed25",
   "metadata": {
    "scrolled": false
   },
   "outputs": [
    {
     "data": {
      "image/png": "[encoded data removed]",
      "text/plain": [
       "<Figure size 700x500 with 1 Axes>"
      ]
     },
     "execution_count": 15,
     "metadata": {},
     "output_type": "execute_result"
    }
   ],
   "source": [
    "from qiskit.primitives import Sampler\n",
    "\n",
    "# 로컬 (내 컴퓨터) 에서 계산을 수행합니다\n",
    "sampler = Sampler()\n",
    "results = sampler.run(hsp_circuit).result()\n",
    "quasi_dists = results.quasi_dists\n",
    "\n",
    "plot_histogram(quasi_dists)"
   ]
  },
  {
   "cell_type": "markdown",
   "id": "8104275e",
   "metadata": {},
   "source": [
    "측정 결과 hidden shift `1011`이 잘 출력되는 것을 확인할 수 있습니다."
   ]
  },
  {
   "cell_type": "markdown",
   "id": "360185dd",
   "metadata": {},
   "source": [
    "#### 3.1b Real Device로 실행하기 <a id='ftaa-device'> </a>\n",
    "\n",
    "이 회로를 실제 양자컴퓨터에서 실행해봅시다."
   ]
  },
  {
   "cell_type": "code",
   "execution_count": 16,
   "id": "725b48fc",
   "metadata": {},
   "outputs": [
    {
     "name": "stdout",
     "output_type": "stream",
     "text": [
      "least busy backend:  <IBMBackend('ibm_lagos')>\n"
     ]
    }
   ],
   "source": [
    "from qiskit_ibm_runtime import QiskitRuntimeService, Options, Session, Sampler\n",
    "\n",
    "# 저장된 IBMQ account를 불러오고 조건에 맞는 양자컴퓨터 중 가장 대기시간이 적은 백엔드를 가져옵니다.\n",
    "service = QiskitRuntimeService(channel=\"ibm_quantum\")\n",
    "backend = service.least_busy(filters=lambda x:\n",
    "                               int(x.configuration().n_qubits) <= 4*n\n",
    "                               and int(x.configuration().n_qubits) >= n\n",
    "                               and not x.configuration().simulator\n",
    "                               and x.status().operational==True)\n",
    "print(\"least busy backend: \", backend)"
   ]
  },
  {
   "cell_type": "code",
   "execution_count": null,
   "id": "a9ad2b5c",
   "metadata": {},
   "outputs": [],
   "source": [
    "# 불러온 백엔드에서 회로를 실행합니다\n",
    "shots = 1024\n",
    "options = Options(resilience_level = 1)\n",
    "with Session(service=service, backend=backend):\n",
    "    sampler = Sampler(options=options)\n",
    "    job = sampler.run(hsp_circuit, shots=shots)\n",
    "    results = job.result()\n",
    "    quasi_dists = results.quasi_dists"
   ]
  },
  {
   "cell_type": "code",
   "execution_count": 10,
   "id": "cc2c56c2",
   "metadata": {},
   "outputs": [
    {
     "data": {
      "image/png": "[encoded data removed]",
      "text/plain": [
       "<Figure size 700x500 with 1 Axes>"
      ]
     },
     "execution_count": 10,
     "metadata": {},
     "output_type": "execute_result"
    }
   ],
   "source": [
    "# 실험 결과를 표시합니다\n",
    "plot_histogram(quasi_dists)"
   ]
  },
  {
   "cell_type": "markdown",
   "id": "3c01582a",
   "metadata": {},
   "source": [
    "원하는 hidden shift `1011`을 얻을 확률이 가장 높은 것을 확인할 수 있습니다. 다른 결괏값들은 양자컴퓨터의 오류에 의한 값들입니다."
   ]
  },
  {
   "cell_type": "markdown",
   "id": "4a8eb54a",
   "metadata": {},
   "source": [
    "### 3.2 Fourier-Transform을 이용하지 않는 알고리즘 <a id='ftfa'> </a>\n",
    "\n",
    "이번에는 더 일반적으로 적용될 수 있는 Fourier transform을 이용하지 않는 알고리즘을 살펴보도록 하겠습니다. $n$, $s$, $f$는 앞에서 사용한 것과 똑같이 설정합니다."
   ]
  },
  {
   "cell_type": "code",
   "execution_count": 17,
   "id": "fab303a5",
   "metadata": {},
   "outputs": [
    {
     "data": {
      "image/png": "[encoded data removed]",
      "text/plain": [
       "<Figure size 371.107x451.5 with 1 Axes>"
      ]
     },
     "execution_count": 17,
     "metadata": {},
     "output_type": "execute_result"
    }
   ],
   "source": [
    "def oracle_f(n):\n",
    "    \"\"\"Oracle f\"\"\"\n",
    "    oracle_f = QuantumCircuit(n+1)\n",
    "    \n",
    "    # f(x)를 구현합니다\n",
    "    # 앞에서 controlled-Z gate를 Toffoli gate로 바꿉니다. 출력값은 첫 번째 레지스터에 출력됩니다\n",
    "    for i in range(int(n/2)):\n",
    "        oracle_f.ccx(i+1, i+int(n/2)+1, 0)\n",
    "    \n",
    "    # h(x)는 q2에서 q0로 controlled-X gate를 가하는 것이 됩니다\n",
    "    oracle_f.cx(2, 0)\n",
    "    \n",
    "    oracle_f.name = 'Oracle f'\n",
    "    return oracle_f\n",
    "\n",
    "def oracle_g(n, s):\n",
    "    \"\"\"Oracle g\"\"\"\n",
    "    oracle_g = QuantumCircuit(n+1)\n",
    "    oracle_g.append(shift_s(n, s), qargs=[i+1 for i in range(n)])    # 입력값을 shift합니다\n",
    "    oracle_g.append(oracle_f(n), range(n+1))                         # oracle f를 실행합니다\n",
    "    oracle_g.append(shift_s(n, s), qargs=[i+1 for i in range(n)])    # shift를 되돌립니다\n",
    "    oracle_g.name = 'Oracle g'\n",
    "    return oracle_g\n",
    "\n",
    "# Oracle f 회로를 표시합니다\n",
    "oracle_f(n).draw('mpl')"
   ]
  },
  {
   "cell_type": "code",
   "execution_count": 18,
   "id": "7de33347",
   "metadata": {},
   "outputs": [
    {
     "data": {
      "image/png": "[encoded data removed]",
      "text/plain": [
       "<Figure size 1374.44x535.111 with 1 Axes>"
      ]
     },
     "execution_count": 18,
     "metadata": {},
     "output_type": "execute_result"
    }
   ],
   "source": [
    "# Fourier-transform을 이용하지 않는 알고리즘을 만듭니다\n",
    "hsp_circuit = QuantumCircuit(n+1, n+1)\n",
    "\n",
    "# Hadamarad gate를 가해 중첩상태를 만듭니다\n",
    "for i in range(n):\n",
    "    hsp_circuit.h(i+1)\n",
    "hsp_circuit.barrier()    # barrier는 시각적 분리만을 위한 것이며 실제 계산에 영향을 주지는 않습니다\n",
    "\n",
    "# Oracle f, Z gate, oracle g를 순서대로 가합니다\n",
    "hsp_circuit.append(oracle_f(n), range(n+1))\n",
    "hsp_circuit.z(0)\n",
    "hsp_circuit.append(oracle_g(n, s), range(n+1))\n",
    "hsp_circuit.barrier()\n",
    "\n",
    "# Hadamard transform을 적용합니다\n",
    "for i in range(n):\n",
    "    hsp_circuit.h(i+1)\n",
    "hsp_circuit.barrier()\n",
    "\n",
    "# 모든 큐빗을 관측합니다\n",
    "for i in range(n+1):\n",
    "    hsp_circuit.measure(i, i)\n",
    "\n",
    "# 회로를 표시합니다\n",
    "hsp_circuit.draw('mpl')"
   ]
  },
  {
   "cell_type": "markdown",
   "id": "8d334e72",
   "metadata": {},
   "source": [
    "#### 3.2a Simulator로 실행하기 <a id='ftfa-simulation'> </a>\n",
    "\n",
    "만든 회로를 simulator로 실행해봅시다"
   ]
  },
  {
   "cell_type": "code",
   "execution_count": 19,
   "id": "512d4a2a",
   "metadata": {
    "scrolled": false
   },
   "outputs": [
    {
     "data": {
      "image/png": "[encoded data removed]",
      "text/plain": [
       "<Figure size 700x500 with 1 Axes>"
      ]
     },
     "execution_count": 19,
     "metadata": {},
     "output_type": "execute_result"
    }
   ],
   "source": [
    "from qiskit.primitives import Sampler\n",
    "\n",
    "# 로컬 (내 컴퓨터) 에서 계산을 수행합니다\n",
    "sampler = Sampler()\n",
    "results = sampler.run(hsp_circuit).result()\n",
    "quasi_dists = results.quasi_dists\n",
    "\n",
    "plot_histogram(quasi_dists)"
   ]
  },
  {
   "cell_type": "markdown",
   "id": "18b86cab",
   "metadata": {},
   "source": [
    "결과를 확인하면 16개의 서로 다른 결괏값이 나오는 것을 확인할 수 있습니다. Binary index $b$가 첫 번째 레지스터에 있으므로 $(y, b)$ 순서로 정렬되어 있다는 점에 주의하십시오. 만약 `00000`을 제외한 4개의 linearly independent한 결괏값들을 얻게 되면 $s$를 알 수 있습니다. 예를 들어, 결괏값 `00011`, `01011`, `10100`, `11111`을 얻는 경우 $s$를 아래와 같이 얻을 수 있습니다:\n",
    "\n",
    "$$\n",
    "\\begin{cases}\n",
    "    \\left<s \\mid 0001 \\right> = 1 = s_4 \\\\\n",
    "    \\left<s \\mid 0101 \\right> = 1 = s_2 + s_4 \\\\\n",
    "    \\left<s \\mid 1010 \\right> = 0 = s_1 + s_3 \\\\\n",
    "    \\left<s \\mid 1111 \\right> = 1 = s_1 + s_2 + s_3 + s_4\n",
    "\\end{cases}\n",
    "\\quad \\therefore \\left| s \\right> = \\left| s_1 s_2 s_3 s_4 \\right> = \\left| 1011 \\right>\n",
    "$$\n",
    "\n",
    "따라서 hidden shift `1011`을 주어진 4개의 결괏값으로부터 얻을 수 있습니다. 모든 결괏값의 dot product $(s, 1) \\cdot (y, b)$는 아래 리스트와 같습니다:\n",
    "\n",
    "<table>\n",
    "<thead>\n",
    "<tr>\n",
    "<th>$(s, 1)$</th>\n",
    "<th>$(y, b)$</th>\n",
    "<th>product</th>\n",
    "<th>$(s, 1)$</th>\n",
    "<th>$(y, b)$</th>\n",
    "<th>product</th>\n",
    "</tr>\n",
    "</thead>\n",
    "<tbody>\n",
    "<tr>\n",
    "<th>10111</th>\n",
    "<th>00000</th>\n",
    "<th>0</th>\n",
    "<th>10111</th>\n",
    "<th>10001</th>\n",
    "<th>1+1=0</th>\n",
    "</tr>\n",
    "<tr>\n",
    "<th>10111</th>\n",
    "<th>00011</th>\n",
    "<th>1+1=0</th>\n",
    "<th>10111</th>\n",
    "<th>10010</th>\n",
    "<th>1+1=0</th>\n",
    "</tr>\n",
    "<tr>\n",
    "<th>10111</th>\n",
    "<th>00101</th>\n",
    "<th>1+1=0</th>\n",
    "<th>10111</th>\n",
    "<th>10100</th>\n",
    "<th>1+1=0</th>\n",
    "</tr>\n",
    "<tr>\n",
    "<th>10111</th>\n",
    "<th>00110</th>\n",
    "<th>1+1=0</th>\n",
    "<th>10111</th>\n",
    "<th>10111</th>\n",
    "<th>1+1+1+1=0</th>\n",
    "</tr>\n",
    "<tr>\n",
    "<th>10111</th>\n",
    "<th>01000</th>\n",
    "<th>0</th>\n",
    "<th>10111</th>\n",
    "<th>11001</th>\n",
    "<th>1+1=0</th>\n",
    "</tr>\n",
    "<tr>\n",
    "<th>10111</th>\n",
    "<th>01011</th>\n",
    "<th>1+1=0</th>\n",
    "<th>10111</th>\n",
    "<th>11010</th>\n",
    "<th>1+1=0</th>\n",
    "</tr>\n",
    "<tr>\n",
    "<th>10111</th>\n",
    "<th>01101</th>\n",
    "<th>1+1=0</th>\n",
    "<th>10111</th>\n",
    "<th>11100</th>\n",
    "<th>1+1=0</th>\n",
    "</tr>\n",
    "<tr>\n",
    "<th>10111</th>\n",
    "<th>01110</th>\n",
    "<th>1+1=0</th>\n",
    "<th>10111</th>\n",
    "<th>11111</th>\n",
    "<th>1+1+1+1=0</th>\n",
    "</tr>\n",
    "</tbody>\n",
    "</table>"
   ]
  },
  {
   "cell_type": "markdown",
   "id": "bc6ed6fd",
   "metadata": {},
   "source": [
    "#### 3.2b Real Device로 실행하기 <a id='ftfa-device'> </a>\n",
    "\n",
    "이번에는 실제 양자컴퓨터로 실행해봅시다."
   ]
  },
  {
   "cell_type": "code",
   "execution_count": 20,
   "id": "db3d2c85",
   "metadata": {},
   "outputs": [
    {
     "name": "stdout",
     "output_type": "stream",
     "text": [
      "least busy backend:  <IBMBackend('ibm_lagos')>\n"
     ]
    }
   ],
   "source": [
    "from qiskit_ibm_runtime import QiskitRuntimeService, Options, Session, Sampler\n",
    "\n",
    "# 조건에 맞는 양자컴퓨터 중 가장 대기시간이 적은 백엔드를 가져옵니다\n",
    "backend = service.least_busy(filters=lambda x:\n",
    "                               int(x.configuration().n_qubits) <= 4*(n+1)\n",
    "                               and int(x.configuration().n_qubits) >= n+1\n",
    "                               and not x.configuration().simulator\n",
    "                               and x.status().operational==True)\n",
    "print(\"least busy backend: \", backend)"
   ]
  },
  {
   "cell_type": "code",
   "execution_count": null,
   "id": "ddff2238",
   "metadata": {},
   "outputs": [],
   "source": [
    "# 불러온 백엔드에서 회로를 실행합니다\n",
    "shots = 1024\n",
    "options = Options(resilience_level = 1)\n",
    "with Session(service=service, backend=backend):\n",
    "    sampler = Sampler(options=options)\n",
    "    job = sampler.run(hsp_circuit, shots=shots)\n",
    "    results = job.result()\n",
    "    quasi_dists = results.quasi_dists"
   ]
  },
  {
   "cell_type": "code",
   "execution_count": null,
   "id": "1965ddaf",
   "metadata": {},
   "outputs": [],
   "source": [
    "# 실험 결과를 표시합니다\n",
    "plot_histogram(quasi_dists)"
   ]
  },
  {
   "cell_type": "markdown",
   "id": "21ddc741",
   "metadata": {},
   "source": [
    "그러나 이 경우, 우리가 원하는 결과를 노이즈와 구분할 수 없는 것을 확인할 수 있습니다. 한 가지 이유는 현재의 컴퓨터에서는 Toffoli gate가 코스트가 높기 때문이고, 또 하나는 우리가 원하는 결괏값이 1/16 정도 확률밖에 안 된다는 점도 있을 것입니다. 이러한 노이즈를 정정하거나 완화하는 것도 연구자들에게는 중요한 이슈입니다."
   ]
  },
  {
   "cell_type": "markdown",
   "id": "ef364270",
   "metadata": {},
   "source": [
    "## 4. 문제 <a id='problems'> </a>\n",
    "\n",
    "아래의 함수 `hsp_oracle`는 integer `seed`, Booleans `output`, `shifted`, `fourier_transformed`을 입력으로 받습니다. 이 함수는 4-큐빗을 입력으로 받는 oracle 회로를 돌려줄 것입니다. 양자 알고리즘을 이용해 hidden shift $s$를 찾아보세요."
   ]
  },
  {
   "cell_type": "code",
   "execution_count": 22,
   "id": "bc68e20d",
   "metadata": {},
   "outputs": [
    {
     "data": {
      "image/png": "[encoded data removed]",
      "text/plain": [
       "<Figure size 538.33x451.5 with 1 Axes>"
      ]
     },
     "execution_count": 22,
     "metadata": {},
     "output_type": "execute_result"
    }
   ],
   "source": [
    "from problems import hsp_oracle\n",
    "# 사용법 예시\n",
    "n = 4\n",
    "seed = 137\n",
    "oracle_f_tilde = hsp_oracle(seed, output=False, shifted=False, fourier_transformed=True)\n",
    "oracle_g = hsp_oracle(seed, output=True, shifted=True, fourier_transformed=False)\n",
    "qc = QuantumCircuit(n+1)\n",
    "qc.append(oracle_f_tilde, [i+1 for i in range(n)])\n",
    "qc.append(oracle_g, range(n+1))\n",
    "qc.draw('mpl')"
   ]
  },
  {
   "cell_type": "markdown",
   "id": "5964e638",
   "metadata": {},
   "source": [
    "1. 주어진 hidden shift problem을 Fourier transform $\\tilde{f}$를 이용해 풀어보세요."
   ]
  },
  {
   "cell_type": "code",
   "execution_count": null,
   "id": "751f1c2c",
   "metadata": {},
   "outputs": [],
   "source": [
    "hsp_circuit = QuantumCircuit(n)\n",
    "\n",
    "####################\n",
    "# Your codes Here\n",
    "\n",
    "####################\n",
    "\n",
    "# Display circuit\n",
    "hsp_circuit.draw('mpl')"
   ]
  },
  {
   "cell_type": "code",
   "execution_count": null,
   "id": "c2670715",
   "metadata": {},
   "outputs": [],
   "source": [
    "# Check the result\n",
    "aer_sim = Aer.get_backend('aer_simulator')\n",
    "transpiled_hsp_circuit = transpile(hsp_circuit, aer_sim)\n",
    "qobj = assemble(transpiled_hsp_circuit, aer_sim)\n",
    "results = aer_sim.run(qobj).result()\n",
    "answer = results.get_counts()\n",
    "\n",
    "plot_histogram(answer)"
   ]
  },
  {
   "cell_type": "markdown",
   "id": "fd5daf5f",
   "metadata": {},
   "source": [
    "2. 주어진 hidden shift problem을 Fourier transform $\\tilde{f}$를 이용하지 않고 풀어보세요."
   ]
  },
  {
   "cell_type": "code",
   "execution_count": null,
   "id": "0d8053ae",
   "metadata": {},
   "outputs": [],
   "source": [
    "hsp_circuit = QuantumCircuit(n+1)\n",
    "\n",
    "####################\n",
    "# 여기에 코드를 작성해주세요\n",
    "\n",
    "####################\n",
    "\n",
    "# 회로를 표시합니다\n",
    "hsp_circuit.draw('mpl')"
   ]
  },
  {
   "cell_type": "code",
   "execution_count": null,
   "id": "95bb772b",
   "metadata": {},
   "outputs": [],
   "source": [
    "# 결과를 확인합니다\n",
    "sampler = Sampler()\n",
    "results = sampler.run(hsp_circuit).result()\n",
    "quasi_dists = results.quasi_dists\n",
    "\n",
    "plot_histogram(quasi_dists)"
   ]
  },
  {
   "cell_type": "markdown",
   "id": "c9a35568",
   "metadata": {},
   "source": [
    "## 5. 참고자료 <a id='references'> </a>\n",
    "\n",
    "1. M. Roetteler (2008), \"Quantum algorithms for highly non-linear Boolean functions\", Proceedings of the 21st Annual ACM-SIAM Symposium on Discrete Algorithms (SODA'10), pp. 448-457, [arXiv:0811.3208](https://arxiv.org/abs/0811.3208) [quant-ph]\n",
    "2. D. Gavinsky, M. Roetteler & J. Roland (2011), \"Quantum Algorithm for the Boolean Hidden Shift Problem\", 17th International Computing & Combinatorics Conference (COCOON'11), Lecture Notes in Computer Science 6842 (Springer), pp. 158-167, [doi:10.1007/978-3-642-22685-4_14](https://doi.org/10.1007/978-3-642-22685-4_14), [arXiv:1103.3017](https://arxiv.org/abs/1103.3017) [quant-ph]\n",
    "3. N. Tokareva (2015), \"Bent Functions - Results and Applications to Cryptography\", Academic Press. \n",
    "4. X. Bonnetain & M. Naya-Plasencia (2018), \"Hidden Shift Quantum Cryptanalysis and Implications\", In: T. Peyrin , S. Galbraith (eds) Advances in Cryptology – ASIACRYPT 2018, Lecture Notes in Computer Science, vol 11272, Springer, Cham, [doi:10.1007/978-3-030-03326-2_19](https://doi.org/10.1007/978-3-030-03326-2_19)\n",
    "5. K. Wright, K. M. Beck, S. Debnath et al. (2019), \"Benchmarking an 11-qubit quantum computer\", Nat Commun 10, 5464, [doi:10.1038/s41467-019-13534-2](https://doi.org/10.1038/s41467-019-13534-2)\n",
    "6. S. Bravyi & D. Gosset (2016), \"Improved classical simulation of quantum circuits dominated by Clifford gates\", Phys. Rev. Lett. 116, 250501, [doi:10.1103/PhysRevLett.116.250501](https://doi.org/10.1103/PhysRevLett.116.250501), [arXiv:1601.07601](https://arxiv.org/abs/1601.07601) [quant-ph]\n",
    "<!-- 6. G. Kuperberg (2005), \"A subexponential-time quantum algorithm for the dihedral hidden subgroup problem\", SIAM Journal on Computing, 35(1), pp. 170-188, [doi:10.1137/S0097539703436345](https://doi.org/10.1137/S0097539703436345), [arXiv:quant-ph/0302112](https://arxiv.org/abs/quant-ph/0302112) -->"
   ]
  },
  {
   "cell_type": "code",
   "execution_count": 23,
   "id": "bde320da",
   "metadata": {},
   "outputs": [
    {
     "data": {
      "text/html": [
       "<h3>Version Information</h3><table><tr><th>Software</th><th>Version</th></tr><tr><td><code>qiskit</code></td><td>0.44.1</td></tr><tr><td><code>qiskit-terra</code></td><td>0.25.1</td></tr><tr><td><code>qiskit_ibm_runtime</code></td><td>0.12.1</td></tr><tr><td><code>qiskit_ibm_provider</code></td><td>0.7.0</td></tr><tr><td><code>qiskit_aer</code></td><td>0.12.2</td></tr><tr><th colspan='2'>System information</th></tr><tr><td>Python version</td><td>3.11.5</td></tr><tr><td>Python compiler</td><td>MSC v.1916 64 bit (AMD64)</td></tr><tr><td>Python build</td><td>main, Sep 11 2023 13:26:23</td></tr><tr><td>OS</td><td>Windows</td></tr><tr><td>CPUs</td><td>14</td></tr><tr><td>Memory (Gb)</td><td>15.730949401855469</td></tr><tr><td colspan='2'>Thu Sep 14 15:48:44 2023 대한민국 표준시</td></tr></table>"
      ],
      "text/plain": [
       "<IPython.core.display.HTML object>"
      ]
     },
     "metadata": {},
     "output_type": "display_data"
    }
   ],
   "source": [
    "import qiskit.tools.jupyter\n",
    "%qiskit_version_table"
   ]
  },
  {
   "cell_type": "code",
   "execution_count": null,
   "id": "32c727b4",
   "metadata": {},
   "outputs": [],
   "source": []
  }
 ],
 "metadata": {
  "kernelspec": {
   "display_name": "Python 3 (ipykernel)",
   "language": "python",
   "name": "python3"
  },
  "language_info": {
   "codemirror_mode": {
    "name": "ipython",
    "version": 3
   },
   "file_extension": ".py",
   "mimetype": "text/x-python",
   "name": "python",
   "nbconvert_exporter": "python",
   "pygments_lexer": "ipython3",
   "version": "3.11.5"
  }
 },
 "nbformat": 4,
 "nbformat_minor": 5
}
