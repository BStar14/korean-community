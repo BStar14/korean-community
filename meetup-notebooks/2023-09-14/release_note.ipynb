{
 "cells": [
  {
   "cell_type": "markdown",
   "metadata": {},
   "source": [
    "# Qiskit 설치 및 업데이트\n",
    "\n",
    "최신 버젼의 Qiskit을 설치하는 것! 헷갈리신다면 다음의 순서를 따라해보세요 \n",
    "\n",
    "1. [아나콘다 설치](https://www.anaconda.com/)\n",
    "\n",
    "    1-1. 만약 오래된 아나콘다가 설치되어 있다면 터미널을 열어 다음의 명령어를 실행해 보세요\n",
    "\n",
    "    `conda update -n base conda`\n",
    "    \n",
    "2. 환경 만들기\n",
    "\n",
    "    `conda create -n qiskit python=3.10`\n",
    "\n",
    "3. 쥬피터 노트북 혹은 쥬피터 랩 설치\n",
    "\n",
    "    `conda install jupyter notebook` 혹은 `conda install jupyterlab`\n",
    "\n",
    "4.  Qiskit 설치 및 업데이트\n",
    "\n",
    "    `pip install qiskit` 및 `pip install -U qiskit`\n",
    "\n",
    "5. qiskit_ibm_provider 설치\n",
    "\n",
    "    `pip install qiskit qiskit_ibm_provider`\n",
    "\n",
    "6. qiskit-ibm-runtime 설치\n",
    "\n",
    "    `pip install qiskit-ibm-runtime`\n",
    "\n",
    "7. qiskit-aer 설치\n",
    "\n",
    "    `pip install qiskit-aer`\n",
    "\n",
    "8.  (Option) Qiskit visualization tool 설치\n",
    "\n",
    "- `bash`: `pip install qiskit[visualization]`\n",
    "\n",
    "- `zsh`: `pip install 'qiskit[visualization]'`\n",
    "\n",
    "설치가 잘 되었는지 다음의 명령어를 실행해서 확인해 봅시다."
   ]
  },
  {
   "cell_type": "code",
   "execution_count": 1,
   "metadata": {},
   "outputs": [
    {
     "data": {
      "text/html": [
       "<h3>Version Information</h3><table><tr><th>Software</th><th>Version</th></tr><tr><td><code>qiskit</code></td><td>0.44.1</td></tr><tr><td><code>qiskit-terra</code></td><td>0.25.1</td></tr><tr><th colspan='2'>System information</th></tr><tr><td>Python version</td><td>3.10.0</td></tr><tr><td>Python compiler</td><td>Clang 12.0.0 </td></tr><tr><td>Python build</td><td>default, Mar  3 2022 03:54:28</td></tr><tr><td>OS</td><td>Darwin</td></tr><tr><td>CPUs</td><td>8</td></tr><tr><td>Memory (Gb)</td><td>16.0</td></tr><tr><td colspan='2'>Sat Sep 09 23:03:19 2023 KST</td></tr></table>"
      ],
      "text/plain": [
       "<IPython.core.display.HTML object>"
      ]
     },
     "metadata": {},
     "output_type": "display_data"
    }
   ],
   "source": [
    "import qiskit.tools.jupyter\n",
    "%qiskit_version_table"
   ]
  },
  {
   "cell_type": "markdown",
   "metadata": {},
   "source": [
    "# Qiskit Update Highlighs (9월 14일자 업데이트)\n",
    "\n",
    "## Qiskit 0.44 주요 업데이트 사항\n",
    "\n",
    "- `qiskit-ibmq-provider` 패키지(`qiskit.providers.ibmq`)의 공식적인 지원이 종료되었습니다. `qiskit-ibm-provider`, `qiskit-ibm-experiment`, 그리고 `qiskit-ibm-runtime`로 대체하세요. 대체 코드 예제는 하단 참조. <https://github.com/Qiskit/qiskit-ibmq-provider#migration-guides>\n",
    "  \n",
    "- `qiskit-aer`가 Qiskit metapackage에서 분리되었습니다. 따라서 qiskit 설치 시 `qiskit-aer`를 추가로 설치해야하고 `qiskit_aer`를 import 해야 합니다.\n",
    "  \n",
    "- 현재 버전이 Qiskit metapackage의 마지막 릴리즈이기 때문에, 다음 버전(0.45.0)에서 선택적 의존성(dependency) 설치를 위한 다음의 setuptools extra가 작동하지 않습니다:\n",
    "  - `nature`\n",
    "  - `machine-learning`\n",
    "  - `finance`\n",
    "  - `optimization`\n",
    "  - `experiments` \n",
    "\n",
    "  예시로, `pip install qiskit[experiments]` 대신 `pip install qiskit qiskit-experiments`를 사용하여 `qiskit`과 `qiskit-experiments` 패키지를 설치하세요. \n",
    "  \n",
    "  마찬가지로 `all` extra (i.e. `pip install \"qiskit[all]\"`) 또한 위 패키지들을 설치하지 않습니다.\n",
    "  \n",
    "- 이로 인해 Qiskit metapackage에는 `qiskit-terra`만 남게 됩니다. 따라서 다음 버전(0.45.0)부터는 이 둘을 구분하지 않습니다. 따라서 Qiskit metapackage의 버전을 알려주던 `qiskit.__qiskit_version__`이 더이상 필요하지 않게 되어 `qiskit.__version__`으로 대체되었습니다.\n",
    "\n",
    "- Transpiler가 [Dynamic Circuit (Control flow)](https://qiskit.org/documentation/apidoc/circuit.html#control-flow-operations)를 모든 optimization level에서 지원됩니다. 예를 들어, [`transpile()`](https://qiskit.org/documentation/apidoc/compiler.html#qiskit.compiler.transpile)과 [`generate_preset_pass_manager()`](https://qiskit.org/documentation/apidoc/transpiler_preset.html#qiskit.transpiler.preset_passmanagers.generate_preset_pass_manager)에서 `optimization_level` 키워드를 2 또는 3으로 설정하는 것을 지원합니다.\n",
    "\n",
    "- [`IfElseOP.condition`, `WhileLoopOp.condition`, `SwitchCaseOp.target`](https://qiskit.org/documentation/apidoc/circuit.html#control-flow-operations) 필드가 새로운 classical-expression 타입인 [`expr.Expr`](https://qiskit.org/documentation/apidoc/circuit_classical.html#qiskit.circuit.classical.expr.Expr) 객체를 받을 수 있습니다. 이는 classical condition을 적용하는데 기존의 튜플 방식(i.e., `(ClassicalRegister | Clbit, int)`)보다 훨신 나은 방식입니다. 예를 들어, 서로 다른 두개의 `ClassicalRegister`의 동치 조건이나 classical bit끼리의 논리 OR를 표현할 수 있습니다. 예제는 하단 및 [`qiskit.circuit.classical`](https://qiskit.org/documentation/apidoc/circuit_classical.html#module-qiskit.circuit.classical)을 참조하세요.\n",
    "\n",
    "  이 초기 릴리즈에서 아래 연산이 추가되었습니다 (아직 IBM 백엔드에서 지원하지 않는 연산도 있음):\n",
    "  - `bit_not()`\n",
    "  - `logic_not()`\n",
    "  - `bit_and()`\n",
    "  - `bit_or()`\n",
    "  - `bit_xor()`\n",
    "  - `logic_and()`\n",
    "  - `logic_or()`\n",
    "  - `equal()`\n",
    "  - `not_equal()`\n",
    "  - `less()`\n",
    "  - `less_equal()`\n",
    "  - `greater()`\n",
    "  - `greater_equal()`\n",
    "  \n",
    "  Python `int`와 `bool` 리터럴과 Qiskit `ClassicalRegister`, `Clbit` 객체를 받습니다. ([doc](https://qiskit.org/documentation/apidoc/circuit_classical.html#construction))\n",
    "\n",
    "  모든 Classical expression은 Qiskit transpiler 스텍과 QPY 병렬화([`qiskit.qpy`](https://qiskit.org/documentation/apidoc/qpy.html#module-qiskit.qpy)), 그리고 OpenQASM3([`qiskit.qasm3`](https://qiskit.org/documentation/apidoc/qasm3.html#module-qiskit.qasm3)) 추출을 지원합니다.\n",
    "\n",
    "- 이제 `QuantumCircuit.draw`가 `mpl`로 그릴 때 Control flow를 더 잘 표현합니다.\n",
    "\n",
    "- [논문](https://arxiv.org/abs/2210.16195)을 기반으로 하는 새로운 linear nearest neighbor connectivity (LNN) synthesis algorithm이 추가되었습니다. 이 알고리즘은 LNN 연결성을 가정한 CX-CZ 양자회로를 위한 것으로, `.synth_clifford_depth_lnn()`의 기본 합성 방식으로 채택되었습니다. 이로서 Clifford 분해의 깊이가 $9n+4$에서 $7n+2$로 감소하였습니다. \n",
    "  \n",
    "- 양자회로 변수대입과 `ConsolidateBlocks`의 성능이 비약적으로 향상되었습니다. \n",
    "  \n",
    "  `QuantumCircuit.assign_parameters`와 `QuantumCircuit.bind_parameters`가 application development 등의 특정 작업에서 훨신 빨라졌습니다. 또한, `QuantumCircuit.assign_parameters`에 `Dict` 형식의 매개변수를 사용하는 경우 `flat_input`과 `strict` 키워드를 사용하여 성능을 향상시킬 수 있습니다. <https://qiskit.org/documentation/stubs/qiskit.circuit.QuantumCircuit.html#qiskit.circuit.QuantumCircuit.assign_parameters>\n",
    "\n",
    "  아래 이미지는 `EffectiveSU2` 매개변수 양자회로 클래스를 통해 `transpile()`의 성능을 기존과 비교한 결과입니다.\n",
    "  ![nn](1*5T7rRRtO7GzXgYiNqUI3pw.webp)\n",
    "\n",
    "  `ConsolidateBlocks` transpiler pass가 내부적으로 재조정됨에 따라 transpile 시간이 단축되었습니다. 사용자의 코드를 변경시키지 않아도 `.transpile(optimization_level=3)`의 성능 향상을 체감할 수 있습니다.\n",
    "\n",
    "- [`qiskit.algorithm`](https://qiskit.org/documentation/apidoc/algorithms.html#module-qiskit.algorithms) 모듈이 다음 릴리즈에 제거됩니다. 독립적인 라이브러리인 [`qiskit-algorithm`](https://github.com/qiskit-community/qiskit-algorithms)로 대체하세요. (<https://qisk.it/algo_migration> 참조)\n",
    "\n",
    "- (~Qiskit Terra 0.23) 2023년 6월 27일에 종료되는 Python 3.7을 지원하지 않습니다. 더 높은 버전의 Python을 사용하세요."
   ]
  },
  {
   "cell_type": "markdown",
   "metadata": {},
   "source": [
    "## 예제 코드\n",
    "\n",
    "### `qiskit-ibmq-provider` migration guide\n",
    "\n",
    "기존 방식의 코드는 다음과 같습니다.\n",
    "\n",
    "```python\n",
    "from qiskit import IBMQ\n",
    "\n",
    "# 저장 없이 IBM Quantum 계정 활성화.\n",
    "IBMQ.enable_account(token=MY_API_TOKEN)\n",
    "\n",
    "# 계정 토큰(증명서) 저장.\n",
    "IBMQ.save_account(token=MY_API_TOKEN)\n",
    "\n",
    "# 계정 불러오기.\n",
    "provider = IBMQ.load_account()\n",
    "\n",
    "# hub/group/project 선택하여 불러오기.\n",
    "provider = IBMQ.get_provider(hub=\"ibm-q-yonsei\", group=\"externalq-meetup\", project=\"tutorials\")\n",
    "```\n",
    "\n",
    "새로운 방식의 코드는 다음과 같습니다."
   ]
  },
  {
   "cell_type": "code",
   "execution_count": 2,
   "metadata": {},
   "outputs": [],
   "source": [
    "from qiskit_ibm_provider import IBMProvider\n",
    "\n",
    "# 저장 없이 IBM Quantum 계정 활성화.\n",
    "# IBMProvider.enable_account(token=MY_API_TOKEN)\n",
    "\n",
    "# 계정 토큰(증명서) 저장.\n",
    "# IBMProvider.save_account(token=MY_API_TOKEN)\n",
    "\n",
    "# 계정 불러오기.\n",
    "# provider = IBMProvider()\n",
    "\n",
    "# hub/group/project 선택하여 불러오기.\n",
    "# provider = IBMProvider(instance=\"ibm-q-yonsei/externalq-meetup/tutorials\")\n",
    "# provider = IBMProvider(instance=\"ibm-q-internal/deployed/default\")\n",
    "provider = IBMProvider(instance=\"ibm-q/open/main\")"
   ]
  },
  {
   "cell_type": "code",
   "execution_count": 3,
   "metadata": {},
   "outputs": [
    {
     "data": {
      "text/plain": [
       "[<IBMBackend('ibmq_lima')>,\n",
       " <IBMBackend('ibmq_manila')>,\n",
       " <IBMBackend('ibm_nairobi')>,\n",
       " <IBMBackend('ibm_perth')>,\n",
       " <IBMBackend('ibmq_jakarta')>,\n",
       " <IBMBackend('ibmq_quito')>,\n",
       " <IBMBackend('ibmq_belem')>,\n",
       " <IBMBackend('ibm_lagos')>]"
      ]
     },
     "execution_count": 3,
     "metadata": {},
     "output_type": "execute_result"
    }
   ],
   "source": [
    "#밋업 참가자들에게 제공되는 양자 백엔드 목록\n",
    "provider.backends(filters=lambda x: 'simulator' not in x.name)"
   ]
  },
  {
   "cell_type": "markdown",
   "metadata": {},
   "source": [
    "### Initial Support for Classical Expressions: `expr.Expr`\n",
    "\n",
    "새로운 classical expression은 `ParameterExpression` 과 다르게 지원되는 backend에서 *runtime*으로 실행됩니다. 간단한 예제 코드는 다음과 같습니다."
   ]
  },
  {
   "cell_type": "code",
   "execution_count": 4,
   "metadata": {},
   "outputs": [],
   "source": [
    "from qiskit.circuit import QuantumCircuit, ClassicalRegister, QuantumRegister\n",
    "from qiskit.circuit.classical import expr\n",
    "\n",
    "qr = QuantumRegister(4)\n",
    "cr1 = ClassicalRegister(2)\n",
    "cr2 = ClassicalRegister(2)\n",
    "qc = QuantumCircuit(qr, cr1, cr2)\n",
    "qc.h(0)\n",
    "qc.cx(0, 1)\n",
    "qc.h(2)\n",
    "qc.cx(2, 3)\n",
    "qc.measure([0, 1, 2, 3], [0, 1, 2, 3])\n",
    "\n",
    "# 기존 방식\n",
    "with qc.if_test((cr1, 3)) as else_:\n",
    "  qc.x(0)\n",
    "with else_:\n",
    "  qc.y(1)\n",
    "\n",
    "# 문제점: 아래 Control flow를 표현하기는 어려움.\n",
    "\n",
    "# 새로운 방식\n",
    "# 두 레지스터가 같은지 확인\n",
    "with qc.if_test(expr.equal(cr1, cr2)) as else_:\n",
    "  qc.h(0)\n",
    "with else_:\n",
    "  qc.s(1)\n",
    "\n",
    "# 두 비트중 하나라도 1이면 반복\n",
    "with qc.while_loop(expr.logic_or(cr1[0], cr1[1])):\n",
    "  qc.reset(0)\n",
    "  qc.reset(1)\n",
    "  qc.measure([0, 1], cr1)"
   ]
  },
  {
   "cell_type": "markdown",
   "metadata": {},
   "source": [
    "### Additional support for Dynamic Circuits in the Transpiler & OpenQASM3\n",
    "\n",
    "Qiskit 0.39에서부터 optimization level 0, 1에 대한 control flow를 지원했습니다. 새로운 릴리즈에서 이것이 optimization level 2, 3으로 확대되었습니다."
   ]
  },
  {
   "cell_type": "code",
   "execution_count": 5,
   "metadata": {},
   "outputs": [
    {
     "name": "stderr",
     "output_type": "stream",
     "text": [
      "/Users/shaun/anaconda3/envs/qiskit/lib/python3.10/site-packages/numpy/linalg/linalg.py:2180: RuntimeWarning: divide by zero encountered in det\n",
      "  r = _umath_linalg.det(a, signature=signature)\n",
      "/Users/shaun/anaconda3/envs/qiskit/lib/python3.10/site-packages/numpy/linalg/linalg.py:2180: RuntimeWarning: invalid value encountered in det\n",
      "  r = _umath_linalg.det(a, signature=signature)\n"
     ]
    }
   ],
   "source": [
    "from qiskit import transpile\n",
    "from qiskit.circuit import IfElseOp, WhileLoopOp, SwitchCaseOp\n",
    "\n",
    "backend = provider.get_backend('ibm_perth')\n",
    "# backend.target.add_instruction(SwitchCaseOp, name=\"switch_case\")\n",
    "# backend.target.add_instruction(IfElseOp, name=\"if_else\")\n",
    "backend.target.add_instruction(WhileLoopOp, name=\"while_loop\")\n",
    "compiled_qc = transpile(qc, backend, optimization_level=3)"
   ]
  },
  {
   "cell_type": "markdown",
   "metadata": {},
   "source": [
    "또한 Dynamic circuit을 OpenQASM3 형식으로 추출할 수 있습니다."
   ]
  },
  {
   "cell_type": "code",
   "execution_count": 9,
   "metadata": {},
   "outputs": [
    {
     "name": "stdout",
     "output_type": "stream",
     "text": [
      "OPENQASM 3;\n",
      "include \"stdgates.inc\";\n",
      "bit[2] c0;\n",
      "bit[2] c1;\n",
      "rz(pi/2) $3;\n",
      "sx $3;\n",
      "rz(pi/2) $3;\n",
      "cx $3, $1;\n",
      "rz(pi/2) $6;\n",
      "sx $6;\n",
      "rz(pi/2) $6;\n",
      "cx $6, $5;\n",
      "c0[0] = measure $6;\n",
      "c0[1] = measure $5;\n",
      "if (c0 == 3) {\n",
      "  x $6;\n",
      "} else {\n",
      "  rz(pi) $5;\n",
      "  x $5;\n",
      "}\n",
      "c1[0] = measure $3;\n",
      "c1[1] = measure $1;\n",
      "if (c0 == c1) {\n",
      "  rz(pi/2) $6;\n",
      "  sx $6;\n",
      "  rz(pi/2) $6;\n",
      "} else {\n",
      "  rz(pi/2) $5;\n",
      "}\n",
      "while (c0[0] || c0[1]) {\n",
      "  reset $6;\n",
      "  reset $5;\n",
      "  c0[0] = measure $6;\n",
      "  c0[1] = measure $5;\n",
      "}\n",
      "\n"
     ]
    }
   ],
   "source": [
    "from qiskit.qasm3 import dumps\n",
    "\n",
    "print(dumps(compiled_qc))"
   ]
  },
  {
   "cell_type": "markdown",
   "metadata": {},
   "source": [
    "### Control Flow Representation for the mpl Circuit Drawer\n",
    "\n",
    "기존 Control flow를 표현하는 방식은 아래 코드에 나온 것처럼 직관적이지 않았습니다."
   ]
  },
  {
   "cell_type": "code",
   "execution_count": 6,
   "metadata": {},
   "outputs": [
    {
     "data": {
      "text/html": [
       "<pre style=\"word-wrap: normal;white-space: pre;background: #fff0;line-height: 1.1;font-family: &quot;Courier New&quot;,Courier,monospace\">      ┌───┐     ┌─┐         ┌──────────┐┌──────────┐┌─────────────┐\n",
       "q0_0: ┤ H ├──■──┤M├─────────┤0         ├┤0         ├┤0            ├\n",
       "      └───┘┌─┴─┐└╥┘┌─┐      │          ││          ││             │\n",
       "q0_1: ─────┤ X ├─╫─┤M├──────┤1         ├┤1         ├┤1            ├\n",
       "      ┌───┐└───┘ ║ └╥┘┌─┐   │          ││          ││             │\n",
       "q0_2: ┤ H ├──■───╫──╫─┤M├───┤          ├┤          ├┤             ├\n",
       "      └───┘┌─┴─┐ ║  ║ └╥┘┌─┐│  If_else ││          ││  While_loop │\n",
       "q0_3: ─────┤ X ├─╫──╫──╫─┤M├┤          ├┤          ├┤             ├\n",
       "           └───┘ ║  ║  ║ └╥┘│          ││  If_else ││             │\n",
       "c0_0: ═══════════╩══╬══╬══╬═╡0         ╞╡1         ╞╡0            ╞\n",
       "                    ║  ║  ║ │          ││          ││             │\n",
       "c0_1: ══════════════╩══╬══╬═╡1         ╞╡0         ╞╡1            ╞\n",
       "                       ║  ║ └──────────┘│          │└─────────────┘\n",
       "c1_0: ═════════════════╩══╬═════════════╡2         ╞═══════════════\n",
       "                          ║             │          │               \n",
       "c1_1: ════════════════════╩═════════════╡3         ╞═══════════════\n",
       "                                        └──────────┘               </pre>"
      ],
      "text/plain": [
       "      ┌───┐     ┌─┐         ┌──────────┐┌──────────┐┌─────────────┐\n",
       "q0_0: ┤ H ├──■──┤M├─────────┤0         ├┤0         ├┤0            ├\n",
       "      └───┘┌─┴─┐└╥┘┌─┐      │          ││          ││             │\n",
       "q0_1: ─────┤ X ├─╫─┤M├──────┤1         ├┤1         ├┤1            ├\n",
       "      ┌───┐└───┘ ║ └╥┘┌─┐   │          ││          ││             │\n",
       "q0_2: ┤ H ├──■───╫──╫─┤M├───┤          ├┤          ├┤             ├\n",
       "      └───┘┌─┴─┐ ║  ║ └╥┘┌─┐│  If_else ││          ││  While_loop │\n",
       "q0_3: ─────┤ X ├─╫──╫──╫─┤M├┤          ├┤          ├┤             ├\n",
       "           └───┘ ║  ║  ║ └╥┘│          ││  If_else ││             │\n",
       "c0_0: ═══════════╩══╬══╬══╬═╡0         ╞╡1         ╞╡0            ╞\n",
       "                    ║  ║  ║ │          ││          ││             │\n",
       "c0_1: ══════════════╩══╬══╬═╡1         ╞╡0         ╞╡1            ╞\n",
       "                       ║  ║ └──────────┘│          │└─────────────┘\n",
       "c1_0: ═════════════════╩══╬═════════════╡2         ╞═══════════════\n",
       "                          ║             │          │               \n",
       "c1_1: ════════════════════╩═════════════╡3         ╞═══════════════\n",
       "                                        └──────────┘               "
      ]
     },
     "execution_count": 6,
     "metadata": {},
     "output_type": "execute_result"
    }
   ],
   "source": [
    "qc.draw()"
   ]
  },
  {
   "cell_type": "markdown",
   "metadata": {},
   "source": [
    "하지만 `mpl`(Matplotlib)에 대한 새로운 표현 방식을 지원하여 더 직관적으로 Control flow를 표현할 수 있습니다."
   ]
  },
  {
   "cell_type": "code",
   "execution_count": 7,
   "metadata": {},
   "outputs": [
    {
     "data": {
      "image/png": "[encoded data removed]",
      "text/plain": [
       "<Figure size 1643.3x702.333 with 1 Axes>"
      ]
     },
     "execution_count": 7,
     "metadata": {},
     "output_type": "execute_result"
    }
   ],
   "source": [
    "qc.draw('mpl')"
   ]
  },
  {
   "cell_type": "markdown",
   "metadata": {},
   "source": [
    "### New Synthesis Algorithm\n",
    "\n",
    "CX-회로를 나타내는 binary invertible 행렬 `mat_x`와 CZ-회로를 나타내는 binary symmetric 행렬 `mat_z`를 사용하여 앞서 설명한 합성 알고리즘을 초기화할 수 있습니다."
   ]
  },
  {
   "cell_type": "code",
   "execution_count": 8,
   "metadata": {},
   "outputs": [],
   "source": [
    "import numpy as np\n",
    "from qiskit.synthesis.linear_phase import synth_cx_cz_depth_line_my\n",
    "\n",
    "mat_x = np.array([[0, 1], [1, 1]])\n",
    "mat_z = np.array([[0, 1], [1, 0]])\n",
    "qc = synth_cx_cz_depth_line_my(mat_x, mat_z)"
   ]
  },
  {
   "cell_type": "markdown",
   "metadata": {},
   "source": [
    "# Qiskit Global 커뮤니티는 2주에 한번씩, 개발자 밋업을 개최하고 있습니다.\n",
    "\n",
    "- Repo: <https://github.com/Qiskit/feedback/wiki/Qiskit-DemoDays>\n",
    "- Tutorial Notebook: <https://github.com/Qiskit/feedback/tree/main/demo-day-notebooks>\n",
    "- Release Note: <https://qiskit.org/documentation/release_notes.html>\n",
    "\n",
    "감사합니다!"
   ]
  },
  {
   "cell_type": "code",
   "execution_count": null,
   "metadata": {},
   "outputs": [],
   "source": []
  }
 ],
 "metadata": {
  "kernelspec": {
   "display_name": "Python 3",
   "language": "python",
   "name": "python3"
  },
  "language_info": {
   "codemirror_mode": {
    "name": "ipython",
    "version": 3
   },
   "file_extension": ".py",
   "mimetype": "text/x-python",
   "name": "python",
   "nbconvert_exporter": "python",
   "pygments_lexer": "ipython3",
   "version": "3.10.0"
  },
  "orig_nbformat": 4
 },
 "nbformat": 4,
 "nbformat_minor": 2
}
