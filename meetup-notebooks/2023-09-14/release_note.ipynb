{
 "cells": [
  {
   "cell_type": "markdown",
   "metadata": {},
   "source": [
    "# Qiskit 설치 및 업데이트\n",
    "\n",
    "최신 버젼의 Qiskit을 설치하는 것! 헷갈리신다면 다음의 순서를 따라해보세요 \n",
    "\n",
    "1. [아나콘다 설치](https://www.anaconda.com/)\n",
    "\n",
    "    1-1. 만약 오래된 아나콘다가 설치되어 있다면 터미널을 열어 다음의 명령어를 실행해 보세요\n",
    "\n",
    "    `conda update -n base conda`\n",
    "    \n",
    "2. 환경 만들기\n",
    "\n",
    "    `conda create -n qiskit python=3.10`\n",
    "\n",
    "3. 쥬피터 노트북 혹은 쥬피터 랩 설치\n",
    "\n",
    "    `conda install jupyter notebook` 혹은 `conda install jupyterlab`\n",
    "\n",
    "4.  Qiskit 설치 및 업데이트\n",
    "\n",
    "    `pip install qiskit` 및 `pip install -U qiskit`\n",
    "\n",
    "5. qiskit_ibm_provider 설치\n",
    "\n",
    "    `pip install qiskit qiskit_ibm_provider`\n",
    "\n",
    "6. qiskit-ibm-runtime 설치\n",
    "\n",
    "    `pip install qiskit-ibm-runtime`\n",
    "\n",
    "7. qiskit-aer 설치\n",
    "\n",
    "    `pip install qiskit-aer`\n",
    "\n",
    "8.  (Option) Qiskit visualization tool 설치\n",
    "\n",
    "- `bash`: `pip install qiskit[visualization]`\n",
    "\n",
    "- `zsh`: `pip install 'qiskit[visualization]'`\n",
    "\n",
    "설치가 잘 되었는지 다음의 명령어를 실행해서 확인해 봅시다."
   ]
  },
  {
   "cell_type": "code",
   "execution_count": 1,
   "metadata": {},
   "outputs": [
    {
     "data": {
      "text/html": [
       "<h3>Version Information</h3><table><tr><th>Software</th><th>Version</th></tr><tr><td><code>qiskit</code></td><td>0.44.1</td></tr><tr><td><code>qiskit-terra</code></td><td>0.25.1</td></tr><tr><th colspan='2'>System information</th></tr><tr><td>Python version</td><td>3.10.0</td></tr><tr><td>Python compiler</td><td>Clang 12.0.0 </td></tr><tr><td>Python build</td><td>default, Mar  3 2022 03:54:28</td></tr><tr><td>OS</td><td>Darwin</td></tr><tr><td>CPUs</td><td>8</td></tr><tr><td>Memory (Gb)</td><td>16.0</td></tr><tr><td colspan='2'>Sat Sep 09 19:25:48 2023 KST</td></tr></table>"
      ],
      "text/plain": [
       "<IPython.core.display.HTML object>"
      ]
     },
     "metadata": {},
     "output_type": "display_data"
    }
   ],
   "source": [
    "import qiskit.tools.jupyter\n",
    "%qiskit_version_table"
   ]
  },
  {
   "cell_type": "markdown",
   "metadata": {},
   "source": [
    "# Qiskit Update Highlighs (9월 14일자 업데이트)\n",
    "\n",
    "## Qiskit 0.44 주요 업데이트 사항\n",
    "\n",
    "- `qiskit-ibmq-provider` 패키지(`qiskit.providers.ibmq`)의 공식적인 지원이 종료되었습니다. `qiskit-ibm-provider`, `qiskit-ibm-experiment`, 그리고 `qiskit-ibm-runtime`로 대체하세요. 대체 코드 예제는 하단 참조. <https://github.com/Qiskit/qiskit-ibmq-provider#migration-guides>\n",
    "  \n",
    "- `qiskit-aer`가 Qiskit metapackage에서 분리되었습니다. 따라서 qiskit 설치 시 `qiskit-aer`를 추가로 설치해야하고 `qiskit_aer`를 import 해야 합니다.\n",
    "  \n",
    "- 현재 버전이 Qiskit metapackage의 마지막 릴리즈이기 때문에, 다음 버전(0.45.0)에서 선택적 의존성(dependency) 설치를 위한 다음의 setuptools extra가 작동하지 않습니다:\n",
    "  - `nature`\n",
    "  - `machine-learning`\n",
    "  - `finance`\n",
    "  - `optimization`\n",
    "  - `experiments` \n",
    "\n",
    "  예시로, `pip install qiskit[experiments]` 대신 `pip install qiskit qiskit-experiments`를 사용하여 `qiskit`과 `qiskit-experiments` 패키지를 설치하세요. \n",
    "  \n",
    "  마찬가지로 `all` extra (i.e. `pip install \"qiskit[all]\"`) 또한 위 패키지들을 설치하지 않습니다.\n",
    "  \n",
    "  이로 인해 Qiskit metapackage에는 `qiskit-terra`만 남게 됩니다. 따라서 다음 버전(0.45.0)부터는 이 둘을 구분하지 않습니다.\n",
    "\n",
    "\n",
    "### Qiskit Terra 0.25\n",
    "\n",
    "- (~Qiskit Terra 0.23) 2023년 6월 27일에 종료되는 Python 3.7을 지원하지 않습니다. 더 높은 버전의 Python을 사용하세요.\n",
    "\n",
    "- Transpiler를 통한 [Control-flow](https://qiskit.org/documentation/apidoc/circuit.html#control-flow-operations) 조작이 모든 optimization level에서 지원됩니다. 예를 들어, [`transpile()`](https://qiskit.org/documentation/apidoc/compiler.html#qiskit.compiler.transpile)과 [`generate_preset_pass_manager()`](https://qiskit.org/documentation/apidoc/transpiler_preset.html#qiskit.transpiler.preset_passmanagers.generate_preset_pass_manager)에서 `optimization_level` 키워드를 2 또는 3으로 설정하는 것을 지원합니다.\n",
    "\n",
    "- [`IfElseOP.condition`, `WhileLoopOp.condition`, `SwitchCaseOp.target`](https://qiskit.org/documentation/apidoc/circuit.html#control-flow-operations) 필드가 새로운 classical-expression 타입인 [`expr.Expr`](https://qiskit.org/documentation/apidoc/circuit_classical.html#qiskit.circuit.classical.expr.Expr) 객체를 받을 수 있습니다. 이는 classical condition을 적용하는데 기존의 튜플 방식(i.e., `(ClassicalRegister | Clbit, int)`)보다 훨신 나은 방식입니다. 예를 들어, 서로 다른 두개의 `ClassicalRegister`의 동치 조건이나 classical bit끼리의 논리 OR를 표현할 수 있습니다. 예제는 하단 및 [`qiskit.circuit.classical`](https://qiskit.org/documentation/apidoc/circuit_classical.html#module-qiskit.circuit.classical)을 참조하세요.\n",
    "\n",
    "  이 초기 릴리즈에서 아래 연산이 추가되었습니다:\n",
    "  - `bit_not()`\n",
    "  - `logic_not()`\n",
    "  - `bit_and()`\n",
    "  - `bit_or()`\n",
    "  - `bit_xor()`\n",
    "  - `logic_and()`\n",
    "  - `logic_or()`\n",
    "  - `equal()`\n",
    "  - `not_equal()`\n",
    "  - `less()`\n",
    "  - `less_equal()`\n",
    "  - `greater()`\n",
    "  - `greater_equal()`\n",
    "  \n",
    "  Python `int`와 `bool` 리터럴과 Qiskit `ClassicalRegister`, `Clbit` 객체를 받습니다. ([doc](https://qiskit.org/documentation/apidoc/circuit_classical.html#construction))\n",
    "\n",
    "  모든 Classical expression은 Qiskit transpiler 스텍과 QPY 병렬화([`qiskit.qpy`](https://qiskit.org/documentation/apidoc/qpy.html#module-qiskit.qpy)), 그리고 OpenQASM3([`qiskit.qasm3`](https://qiskit.org/documentation/apidoc/qasm3.html#module-qiskit.qasm3)) 추출을 지원합니다.\n",
    "\n",
    "- [`qiskit.algorithm`](https://qiskit.org/documentation/apidoc/algorithms.html#module-qiskit.algorithms) 모듈이 다음 릴리즈에 제거됩니다. 독립적인 라이브러리인 [`qiskit-algorithm`](https://github.com/qiskit-community/qiskit-algorithms)로 대체하세요. (<https://qisk.it/algo_migration> 참조)\n"
   ]
  },
  {
   "cell_type": "markdown",
   "metadata": {},
   "source": [
    "## 예제 코드\n",
    "\n",
    "### `qiskit-ibmq-provider` migration guide\n",
    "\n",
    "기존 방식의 코드는 다음과 같습니다.\n",
    "\n",
    "```python\n",
    "from qiskit import IBMQ\n",
    "\n",
    "# 저장 없이 IBM Quantum 계정 활성화.\n",
    "IBMQ.enable_account(token=MY_API_TOKEN)\n",
    "\n",
    "# 계정 토큰(증명서) 저장.\n",
    "IBMQ.save_account(token=MY_API_TOKEN)\n",
    "\n",
    "# 계정 불러오기.\n",
    "provider = IBMQ.load_account()\n",
    "\n",
    "# hub/group/project 선택하여 불러오기.\n",
    "provider = IBMQ.get_provider(hub=\"ibm-q-yonsei\", group=\"externalq-meetup\", project=\"tutorials\")\n",
    "```\n",
    "\n",
    "새로운 방식의 코드는 다음과 같습니다."
   ]
  },
  {
   "cell_type": "code",
   "execution_count": 2,
   "metadata": {},
   "outputs": [],
   "source": [
    "from qiskit_ibm_provider import IBMProvider\n",
    "\n",
    "# 저장 없이 IBM Quantum 계정 활성화.\n",
    "# IBMProvider.enable_account(token=MY_API_TOKEN)\n",
    "\n",
    "# 계정 토큰(증명서) 저장.\n",
    "# IBMProvider.save_account(token=MY_API_TOKEN)\n",
    "\n",
    "# 계정 불러오기.\n",
    "provider = IBMProvider()\n",
    "\n",
    "# hub/group/project 선택하여 불러오기.\n",
    "# provider = IBMProvider(instance=\"ibm-q-yonsei/externalq-meetup/tutorials\")\n",
    "provider = IBMProvider(instance=\"ibm-q-internal/deployed/default\")"
   ]
  },
  {
   "cell_type": "code",
   "execution_count": 3,
   "metadata": {},
   "outputs": [
    {
     "data": {
      "text/plain": [
       "[<IBMBackend('ibmq_mumbai')>,\n",
       " <IBMBackend('ibm_perth')>,\n",
       " <IBMBackend('ibm_nairobi')>,\n",
       " <IBMBackend('ibm_nazca')>,\n",
       " <IBMBackend('ibm_cusco')>,\n",
       " <IBMBackend('ibmq_belem')>,\n",
       " <IBMBackend('ibmq_guadalupe')>,\n",
       " <IBMBackend('ibm_lagos')>,\n",
       " <IBMBackend('ibm_cairo')>,\n",
       " <IBMBackend('ibm_seattle')>,\n",
       " <IBMBackend('ibm_algiers')>,\n",
       " <IBMBackend('ibmq_jakarta')>,\n",
       " <IBMBackend('ibm_auckland')>,\n",
       " <IBMBackend('ibmq_quito')>,\n",
       " <IBMBackend('ibmq_lima')>,\n",
       " <IBMBackend('ibmq_manila')>,\n",
       " <IBMBackend('ibm_hanoi')>,\n",
       " <IBMBackend('ibmq_kolkata')>,\n",
       " <IBMBackend('ibm_sherbrooke')>,\n",
       " <IBMBackend('ibm_brisbane')>]"
      ]
     },
     "execution_count": 3,
     "metadata": {},
     "output_type": "execute_result"
    }
   ],
   "source": [
    "#밋업 참가자들에게 제공되는 양자 백엔드 목록\n",
    "provider.backends(filters=lambda x: 'simulator' not in x.name)"
   ]
  },
  {
   "cell_type": "markdown",
   "metadata": {},
   "source": [
    "### New Runtime Classical Expression: `expr.Expr`\n",
    "\n",
    "새로운 classical expression은 `ParameterExpression` 과 다르게 지원되는 backend에서 *runtime*으로 실행됩니다. 간단한 예제 코드는 다음과 같습니다."
   ]
  },
  {
   "cell_type": "code",
   "execution_count": 47,
   "metadata": {},
   "outputs": [],
   "source": [
    "from qiskit.circuit import QuantumCircuit, ClassicalRegister, QuantumRegister\n",
    "from qiskit.circuit.classical import expr\n",
    "\n",
    "qr = QuantumRegister(4)\n",
    "cr1 = ClassicalRegister(2)\n",
    "cr2 = ClassicalRegister(2)\n",
    "qc = QuantumCircuit(qr, cr1, cr2)\n",
    "qc.h(0)\n",
    "qc.cx(0, 1)\n",
    "qc.h(2)\n",
    "qc.cx(2, 3)\n",
    "qc.measure([0, 1, 2, 3], [0, 1, 2, 3])\n",
    "\n",
    "# 두 레지스터가 같은지 확인\n",
    "with qc.if_test(expr.equal(cr1, cr2)):\n",
    "  qc.x(0)\n",
    "\n",
    "# 두 비트중 하나라도 1이면 반복\n",
    "with qc.while_loop(expr.logic_or(cr1[0], cr1[1])):\n",
    "  qc.reset(0)\n",
    "  qc.reset(1)\n",
    "  qc.measure([0, 1], cr1)"
   ]
  },
  {
   "cell_type": "markdown",
   "metadata": {},
   "source": [
    "이를 이용해 Measurement-Based Quantum Computing (MBQC)에서 single-qubit rotation gate을 만들어봅시다.\n",
    "\n",
    "우선 5-qubit cluster state를 만들어봅시다."
   ]
  },
  {
   "cell_type": "code",
   "execution_count": 15,
   "metadata": {},
   "outputs": [
    {
     "data": {
      "text/html": [
       "<pre style=\"word-wrap: normal;white-space: pre;background: #fff0;line-height: 1.1;font-family: &quot;Courier New&quot;,Courier,monospace\">     ┌───┐            \n",
       "q_0: ┤ H ├─■──────────\n",
       "     ├───┤ │          \n",
       "q_1: ┤ H ├─■──■───────\n",
       "     ├───┤    │       \n",
       "q_2: ┤ H ├────■──■────\n",
       "     ├───┤       │    \n",
       "q_3: ┤ H ├───────■──■─\n",
       "     ├───┤          │ \n",
       "q_4: ┤ H ├──────────■─\n",
       "     └───┘            </pre>"
      ],
      "text/plain": [
       "     ┌───┐            \n",
       "q_0: ┤ H ├─■──────────\n",
       "     ├───┤ │          \n",
       "q_1: ┤ H ├─■──■───────\n",
       "     ├───┤    │       \n",
       "q_2: ┤ H ├────■──■────\n",
       "     ├───┤       │    \n",
       "q_3: ┤ H ├───────■──■─\n",
       "     ├───┤          │ \n",
       "q_4: ┤ H ├──────────■─\n",
       "     └───┘            "
      ]
     },
     "execution_count": 15,
     "metadata": {},
     "output_type": "execute_result"
    }
   ],
   "source": [
    "cluster = QuantumCircuit(5)\n",
    "for qubit in range(5):\n",
    "    cluster.h(qubit)\n",
    "for qubit in range(4):\n",
    "    cluster.cz(qubit, qubit+1)\n",
    "cluster.draw()"
   ]
  },
  {
   "cell_type": "markdown",
   "metadata": {},
   "source": [
    "만들려고 하는 Unitary는 다음과 같습니다.\n",
    "\n",
    "$$ U(\\alpha, \\beta, \\gamma) = R_x(\\gamma) R_z(\\beta) R_x(\\alpha) $$"
   ]
  },
  {
   "cell_type": "code",
   "execution_count": 19,
   "metadata": {},
   "outputs": [
    {
     "data": {
      "text/html": [
       "<pre style=\"word-wrap: normal;white-space: pre;background: #fff0;line-height: 1.1;font-family: &quot;Courier New&quot;,Courier,monospace\">   ┌────────────┐┌─────────────┐┌─────────────┐\n",
       "q: ┤ Rx(3.1217) ├┤ Rz(0.84507) ├┤ Rx(0.97665) ├\n",
       "   └────────────┘└─────────────┘└─────────────┘</pre>"
      ],
      "text/plain": [
       "   ┌────────────┐┌─────────────┐┌─────────────┐\n",
       "q: ┤ Rx(3.1217) ├┤ Rz(0.84507) ├┤ Rx(0.97665) ├\n",
       "   └────────────┘└─────────────┘└─────────────┘"
      ]
     },
     "execution_count": 19,
     "metadata": {},
     "output_type": "execute_result"
    }
   ],
   "source": [
    "import numpy as np\n",
    "\n",
    "alpha, beta, gamma = np.pi*np.random.random(3)\n",
    "\n",
    "arbitrary_unitary = QuantumCircuit(1, name=\"unitary\")\n",
    "arbitrary_unitary.rx(alpha, 0)\n",
    "arbitrary_unitary.rz(beta, 0)\n",
    "arbitrary_unitary.rx(gamma, 0)\n",
    "arbitrary_unitary.draw()"
   ]
  },
  {
   "cell_type": "markdown",
   "metadata": {},
   "source": [
    "$j$번째 qubit에 대한 measurement basis는 다음과 같습니다.\n",
    "\n",
    "$$ B_j(\\theta_j)=\\left\\{\\frac{|0\\rangle+e^{i\\theta_j}|1\\rangle}{\\sqrt{2}}, \\frac{|0\\rangle-e^{i\\theta_j}|1\\rangle}{\\sqrt{2}}\\right\\} $$"
   ]
  },
  {
   "cell_type": "code",
   "execution_count": 20,
   "metadata": {},
   "outputs": [],
   "source": [
    "def apply_meas_basis_rotation(qc:QuantumCircuit, qubit:int, theta:float):\n",
    "    qc.rz(-theta, qubit)\n",
    "    qc.h(qubit)\n",
    "    qc.measure(qubit, qubit)"
   ]
  },
  {
   "cell_type": "markdown",
   "metadata": {},
   "source": [
    "이때 $\\theta_j$는 다음과 같습니다.\n",
    "\n",
    "$$ \\theta_0 = 0, $$ \n",
    "$$ \\theta_1 = (-1)^{m_0+1}\\alpha, $$\n",
    "$$ \\theta_2 = (-1)^{m_1}\\beta, $$\n",
    "$$\\theta_3 = (-1)^{m_0+m_2}\\gamma, $$"
   ]
  },
  {
   "cell_type": "code",
   "execution_count": null,
   "metadata": {},
   "outputs": [],
   "source": [
    "initial_state = QuantumCircuit(1, name=\"init\")\n",
    "initial_state.u(*np.pi*np.random.random(3), 0)"
   ]
  },
  {
   "cell_type": "code",
   "execution_count": 54,
   "metadata": {},
   "outputs": [
    {
     "data": {
      "text/html": [
       "<pre style=\"word-wrap: normal;white-space: pre;background: #fff0;line-height: 1.1;font-family: &quot;Courier New&quot;,Courier,monospace\">        ┌─────────────┐┌─────────────┐┌──────────┐   ┌───────┐┌───┐   ┌─┐»\n",
       "q150_0: ┤ Rx(0.28067) ├┤ Rz(0.14714) ├┤ Rx(2.15) ├─■─┤ Rz(0) ├┤ H ├───┤M├»\n",
       "        └────┬───┬────┘└─────────────┘└──────────┘ │ └───────┘└───┘   └╥┘»\n",
       "q150_1: ─────┤ H ├─────────────────────────────────■─────■─────────────╫─»\n",
       "             ├───┤                                       │             ║ »\n",
       "q150_2: ─────┤ H ├───────────────────────────────────────■──────■──────╫─»\n",
       "             ├───┤                                              │      ║ »\n",
       "q150_3: ─────┤ H ├──────────────────────────────────────────────■───■──╫─»\n",
       "             ├───┤                                                  │  ║ »\n",
       "q150_4: ─────┤ H ├──────────────────────────────────────────────────■──╫─»\n",
       "             └───┘                                                     ║ »\n",
       " c26_0: ═══════════════════════════════════════════════════════════════╩═»\n",
       "                                                                         »\n",
       " c26_1: ═════════════════════════════════════════════════════════════════»\n",
       "                                                                         »\n",
       " c26_2: ═════════════════════════════════════════════════════════════════»\n",
       "                                                                         »\n",
       " c26_3: ═════════════════════════════════════════════════════════════════»\n",
       "                                                                         »\n",
       " c26_4: ═════════════════════════════════════════════════════════════════»\n",
       "                                                                         »\n",
       "«                                                                    »\n",
       "«q150_0: ────────────────────────────────────────────────────────────»\n",
       "«        ┌──────────┐                                                »\n",
       "«q150_1: ┤0         ├────────────────────────────────────────────────»\n",
       "«        │          │┌──────────┐                                    »\n",
       "«q150_2: ┤          ├┤0         ├────────────────────────────────────»\n",
       "«        │          ││          │┌──────────┐                        »\n",
       "«q150_3: ┤          ├┤          ├┤0         ├────────────────────────»\n",
       "«        │  If_else ││          ││          │┌──────────┐┌──────────┐»\n",
       "«q150_4: ┤          ├┤          ├┤          ├┤0         ├┤0         ├»\n",
       "«        │          ││  If_else ││          ││          ││  If_else │»\n",
       "« c26_0: ╡0         ╞╡          ╞╡0         ╞╡  If_else ╞╡0         ╞»\n",
       "«        │          ││          ││  If_else ││          ││          │»\n",
       "« c26_1: ╡1         ╞╡0         ╞╡          ╞╡0         ╞╡          ╞»\n",
       "«        └──────────┘│          ││          ││          ││          │»\n",
       "« c26_2: ════════════╡1         ╞╡1         ╞╡          ╞╡1         ╞»\n",
       "«                    └──────────┘│          ││          │└──────────┘»\n",
       "« c26_3: ════════════════════════╡2         ╞╡1         ╞════════════»\n",
       "«                                └──────────┘└──────────┘            »\n",
       "« c26_4: ════════════════════════════════════════════════════════════»\n",
       "«                                                                    »\n",
       "«                                                                    »\n",
       "«q150_0: ────────────────────────────────────────────────────────────»\n",
       "«                                                                    »\n",
       "«q150_1: ────────────────────────────────────────────────────────────»\n",
       "«                                                                    »\n",
       "«q150_2: ────────────────────────────────────────────────────────────»\n",
       "«                                                                    »\n",
       "«q150_3: ────────────────────────────────────────────────────────────»\n",
       "«        ┌──────────────┐┌──────────────┐┌─────────────┐┌───────────┐»\n",
       "«q150_4: ┤ Rx(-0.97665) ├┤ Rz(-0.84507) ├┤ Rx(-3.1217) ├┤ Rx(-2.15) ├»\n",
       "«        └──────────────┘└──────────────┘└─────────────┘└───────────┘»\n",
       "« c26_0: ════════════════════════════════════════════════════════════»\n",
       "«                                                                    »\n",
       "« c26_1: ════════════════════════════════════════════════════════════»\n",
       "«                                                                    »\n",
       "« c26_2: ════════════════════════════════════════════════════════════»\n",
       "«                                                                    »\n",
       "« c26_3: ════════════════════════════════════════════════════════════»\n",
       "«                                                                    »\n",
       "« c26_4: ════════════════════════════════════════════════════════════»\n",
       "«                                                                    »\n",
       "«                                           \n",
       "«q150_0: ───────────────────────────────────\n",
       "«                                           \n",
       "«q150_1: ───────────────────────────────────\n",
       "«                                           \n",
       "«q150_2: ───────────────────────────────────\n",
       "«                                           \n",
       "«q150_3: ───────────────────────────────────\n",
       "«        ┌──────────────┐┌──────────────┐┌─┐\n",
       "«q150_4: ┤ Rz(-0.14714) ├┤ Rx(-0.28067) ├┤M├\n",
       "«        └──────────────┘└──────────────┘└╥┘\n",
       "« c26_0: ═════════════════════════════════╬═\n",
       "«                                         ║ \n",
       "« c26_1: ═════════════════════════════════╬═\n",
       "«                                         ║ \n",
       "« c26_2: ═════════════════════════════════╬═\n",
       "«                                         ║ \n",
       "« c26_3: ═════════════════════════════════╬═\n",
       "«                                         ║ \n",
       "« c26_4: ═════════════════════════════════╩═\n",
       "«                                           </pre>"
      ],
      "text/plain": [
       "        ┌─────────────┐┌─────────────┐┌──────────┐   ┌───────┐┌───┐   ┌─┐»\n",
       "q150_0: ┤ Rx(0.28067) ├┤ Rz(0.14714) ├┤ Rx(2.15) ├─■─┤ Rz(0) ├┤ H ├───┤M├»\n",
       "        └────┬───┬────┘└─────────────┘└──────────┘ │ └───────┘└───┘   └╥┘»\n",
       "q150_1: ─────┤ H ├─────────────────────────────────■─────■─────────────╫─»\n",
       "             ├───┤                                       │             ║ »\n",
       "q150_2: ─────┤ H ├───────────────────────────────────────■──────■──────╫─»\n",
       "             ├───┤                                              │      ║ »\n",
       "q150_3: ─────┤ H ├──────────────────────────────────────────────■───■──╫─»\n",
       "             ├───┤                                                  │  ║ »\n",
       "q150_4: ─────┤ H ├──────────────────────────────────────────────────■──╫─»\n",
       "             └───┘                                                     ║ »\n",
       " c26_0: ═══════════════════════════════════════════════════════════════╩═»\n",
       "                                                                         »\n",
       " c26_1: ═════════════════════════════════════════════════════════════════»\n",
       "                                                                         »\n",
       " c26_2: ═════════════════════════════════════════════════════════════════»\n",
       "                                                                         »\n",
       " c26_3: ═════════════════════════════════════════════════════════════════»\n",
       "                                                                         »\n",
       " c26_4: ═════════════════════════════════════════════════════════════════»\n",
       "                                                                         »\n",
       "«                                                                    »\n",
       "«q150_0: ────────────────────────────────────────────────────────────»\n",
       "«        ┌──────────┐                                                »\n",
       "«q150_1: ┤0         ├────────────────────────────────────────────────»\n",
       "«        │          │┌──────────┐                                    »\n",
       "«q150_2: ┤          ├┤0         ├────────────────────────────────────»\n",
       "«        │          ││          │┌──────────┐                        »\n",
       "«q150_3: ┤          ├┤          ├┤0         ├────────────────────────»\n",
       "«        │  If_else ││          ││          │┌──────────┐┌──────────┐»\n",
       "«q150_4: ┤          ├┤          ├┤          ├┤0         ├┤0         ├»\n",
       "«        │          ││  If_else ││          ││          ││  If_else │»\n",
       "« c26_0: ╡0         ╞╡          ╞╡0         ╞╡  If_else ╞╡0         ╞»\n",
       "«        │          ││          ││  If_else ││          ││          │»\n",
       "« c26_1: ╡1         ╞╡0         ╞╡          ╞╡0         ╞╡          ╞»\n",
       "«        └──────────┘│          ││          ││          ││          │»\n",
       "« c26_2: ════════════╡1         ╞╡1         ╞╡          ╞╡1         ╞»\n",
       "«                    └──────────┘│          ││          │└──────────┘»\n",
       "« c26_3: ════════════════════════╡2         ╞╡1         ╞════════════»\n",
       "«                                └──────────┘└──────────┘            »\n",
       "« c26_4: ════════════════════════════════════════════════════════════»\n",
       "«                                                                    »\n",
       "«                                                                    »\n",
       "«q150_0: ────────────────────────────────────────────────────────────»\n",
       "«                                                                    »\n",
       "«q150_1: ────────────────────────────────────────────────────────────»\n",
       "«                                                                    »\n",
       "«q150_2: ────────────────────────────────────────────────────────────»\n",
       "«                                                                    »\n",
       "«q150_3: ────────────────────────────────────────────────────────────»\n",
       "«        ┌──────────────┐┌──────────────┐┌─────────────┐┌───────────┐»\n",
       "«q150_4: ┤ Rx(-0.97665) ├┤ Rz(-0.84507) ├┤ Rx(-3.1217) ├┤ Rx(-2.15) ├»\n",
       "«        └──────────────┘└──────────────┘└─────────────┘└───────────┘»\n",
       "« c26_0: ════════════════════════════════════════════════════════════»\n",
       "«                                                                    »\n",
       "« c26_1: ════════════════════════════════════════════════════════════»\n",
       "«                                                                    »\n",
       "« c26_2: ════════════════════════════════════════════════════════════»\n",
       "«                                                                    »\n",
       "« c26_3: ════════════════════════════════════════════════════════════»\n",
       "«                                                                    »\n",
       "« c26_4: ════════════════════════════════════════════════════════════»\n",
       "«                                                                    »\n",
       "«                                           \n",
       "«q150_0: ───────────────────────────────────\n",
       "«                                           \n",
       "«q150_1: ───────────────────────────────────\n",
       "«                                           \n",
       "«q150_2: ───────────────────────────────────\n",
       "«                                           \n",
       "«q150_3: ───────────────────────────────────\n",
       "«        ┌──────────────┐┌──────────────┐┌─┐\n",
       "«q150_4: ┤ Rz(-0.14714) ├┤ Rx(-0.28067) ├┤M├\n",
       "«        └──────────────┘└──────────────┘└╥┘\n",
       "« c26_0: ═════════════════════════════════╬═\n",
       "«                                         ║ \n",
       "« c26_1: ═════════════════════════════════╬═\n",
       "«                                         ║ \n",
       "« c26_2: ═════════════════════════════════╬═\n",
       "«                                         ║ \n",
       "« c26_3: ═════════════════════════════════╬═\n",
       "«                                         ║ \n",
       "« c26_4: ═════════════════════════════════╩═\n",
       "«                                           "
      ]
     },
     "execution_count": 54,
     "metadata": {},
     "output_type": "execute_result"
    }
   ],
   "source": [
    "qr = QuantumRegister(5)\n",
    "cr = ClassicalRegister(5)\n",
    "qc = QuantumCircuit(qr, cr, name=\"MBQC\")\n",
    "\n",
    "# random initial state\n",
    "qc.compose(initial_state, [0], inplace=True)\n",
    "\n",
    "# cluster state\n",
    "for qubit in range(1, 5):\n",
    "    qc.h(qubit)\n",
    "for qubit in range(4):\n",
    "    qc.cz(qubit, qubit+1)\n",
    "\n",
    "# first measurement\n",
    "apply_meas_basis_rotation(qc, 0, 0)\n",
    "\n",
    "# second measurement\n",
    "with qc.if_test((cr[0], 1)) as _else:\n",
    "    apply_meas_basis_rotation(qc, 1, alpha)\n",
    "with _else:\n",
    "    apply_meas_basis_rotation(qc, 1, -alpha)\n",
    "\n",
    "# third measurement\n",
    "with qc.if_test((cr[1], 0)) as _else:\n",
    "    apply_meas_basis_rotation(qc, 2, beta)\n",
    "with _else:\n",
    "    apply_meas_basis_rotation(qc, 2, -beta)\n",
    "\n",
    "# fourth measurement\n",
    "with qc.if_test(expr.bit_xor(cr[0], cr[2])) as _else:\n",
    "    apply_meas_basis_rotation(qc, 3, gamma)\n",
    "with _else:\n",
    "    apply_meas_basis_rotation(qc, 3, -gamma)\n",
    "\n",
    "# local rotation\n",
    "with qc.if_test(expr.bit_not(expr.bit_xor(cr[1], cr[3]))):\n",
    "    qc.x(4)\n",
    "with qc.if_test(expr.bit_not(expr.bit_xor(cr[0], cr[2]))):\n",
    "    qc.z(4)\n",
    "\n",
    "\n",
    "# inverse unitary & initial state\n",
    "qc.compose(arbitrary_unitary.inverse(), [4], inplace=True)\n",
    "qc.compose(initial_state.inverse(), [4], inplace=True)\n",
    "\n",
    "qc.measure([4], [4])\n",
    "qc.draw()"
   ]
  },
  {
   "cell_type": "code",
   "execution_count": 53,
   "metadata": {},
   "outputs": [
    {
     "ename": "TypeError",
     "evalue": "'Binary' object is not subscriptable",
     "output_type": "error",
     "traceback": [
      "\u001b[0;31m---------------------------------------------------------------------------\u001b[0m",
      "\u001b[0;31mTypeError\u001b[0m                                 Traceback (most recent call last)",
      "Cell \u001b[0;32mIn[53], line 7\u001b[0m\n\u001b[1;32m      5\u001b[0m backend \u001b[39m=\u001b[39m AerSimulator()\n\u001b[1;32m      6\u001b[0m job \u001b[39m=\u001b[39m backend\u001b[39m.\u001b[39mrun(transpile(qc, backend), shots\u001b[39m=\u001b[39m\u001b[39m2\u001b[39m\u001b[39m*\u001b[39m\u001b[39m*\u001b[39m\u001b[39m10\u001b[39m)\n\u001b[0;32m----> 7\u001b[0m result \u001b[39m=\u001b[39m job\u001b[39m.\u001b[39;49mresult()\n\u001b[1;32m      9\u001b[0m plot_histogram(result\u001b[39m.\u001b[39mget_counts())\n",
      "File \u001b[0;32m~/anaconda3/envs/qiskit/lib/python3.10/site-packages/qiskit_aer/jobs/utils.py:42\u001b[0m, in \u001b[0;36mrequires_submit.<locals>._wrapper\u001b[0;34m(self, *args, **kwargs)\u001b[0m\n\u001b[1;32m     40\u001b[0m \u001b[39mif\u001b[39;00m \u001b[39mself\u001b[39m\u001b[39m.\u001b[39m_future \u001b[39mis\u001b[39;00m \u001b[39mNone\u001b[39;00m:\n\u001b[1;32m     41\u001b[0m     \u001b[39mraise\u001b[39;00m JobError(\u001b[39m\"\u001b[39m\u001b[39mJob not submitted yet!. You have to .submit() first!\u001b[39m\u001b[39m\"\u001b[39m)\n\u001b[0;32m---> 42\u001b[0m \u001b[39mreturn\u001b[39;00m func(\u001b[39mself\u001b[39;49m, \u001b[39m*\u001b[39;49margs, \u001b[39m*\u001b[39;49m\u001b[39m*\u001b[39;49mkwargs)\n",
      "File \u001b[0;32m~/anaconda3/envs/qiskit/lib/python3.10/site-packages/qiskit_aer/jobs/aerjob.py:114\u001b[0m, in \u001b[0;36mAerJob.result\u001b[0;34m(self, timeout)\u001b[0m\n\u001b[1;32m     96\u001b[0m \u001b[39m@requires_submit\u001b[39m\n\u001b[1;32m     97\u001b[0m \u001b[39mdef\u001b[39;00m \u001b[39mresult\u001b[39m(\u001b[39mself\u001b[39m, timeout\u001b[39m=\u001b[39m\u001b[39mNone\u001b[39;00m):\n\u001b[1;32m     98\u001b[0m     \u001b[39m# pylint: disable=arguments-differ\u001b[39;00m\n\u001b[1;32m     99\u001b[0m \u001b[39m    \u001b[39m\u001b[39m\"\"\"Get job result. The behavior is the same as the underlying\u001b[39;00m\n\u001b[1;32m    100\u001b[0m \u001b[39m    concurrent Future objects,\u001b[39;00m\n\u001b[1;32m    101\u001b[0m \n\u001b[0;32m   (...)\u001b[0m\n\u001b[1;32m    112\u001b[0m \u001b[39m        concurrent.futures.CancelledError: if job cancelled before completed.\u001b[39;00m\n\u001b[1;32m    113\u001b[0m \u001b[39m    \"\"\"\u001b[39;00m\n\u001b[0;32m--> 114\u001b[0m     \u001b[39mreturn\u001b[39;00m \u001b[39mself\u001b[39;49m\u001b[39m.\u001b[39;49m_future\u001b[39m.\u001b[39;49mresult(timeout\u001b[39m=\u001b[39;49mtimeout)\n",
      "File \u001b[0;32m~/anaconda3/envs/qiskit/lib/python3.10/concurrent/futures/_base.py:445\u001b[0m, in \u001b[0;36mFuture.result\u001b[0;34m(self, timeout)\u001b[0m\n\u001b[1;32m    443\u001b[0m     \u001b[39mraise\u001b[39;00m CancelledError()\n\u001b[1;32m    444\u001b[0m \u001b[39melif\u001b[39;00m \u001b[39mself\u001b[39m\u001b[39m.\u001b[39m_state \u001b[39m==\u001b[39m FINISHED:\n\u001b[0;32m--> 445\u001b[0m     \u001b[39mreturn\u001b[39;00m \u001b[39mself\u001b[39;49m\u001b[39m.\u001b[39;49m__get_result()\n\u001b[1;32m    446\u001b[0m \u001b[39melse\u001b[39;00m:\n\u001b[1;32m    447\u001b[0m     \u001b[39mraise\u001b[39;00m \u001b[39mTimeoutError\u001b[39;00m()\n",
      "File \u001b[0;32m~/anaconda3/envs/qiskit/lib/python3.10/concurrent/futures/_base.py:390\u001b[0m, in \u001b[0;36mFuture.__get_result\u001b[0;34m(self)\u001b[0m\n\u001b[1;32m    388\u001b[0m \u001b[39mif\u001b[39;00m \u001b[39mself\u001b[39m\u001b[39m.\u001b[39m_exception:\n\u001b[1;32m    389\u001b[0m     \u001b[39mtry\u001b[39;00m:\n\u001b[0;32m--> 390\u001b[0m         \u001b[39mraise\u001b[39;00m \u001b[39mself\u001b[39m\u001b[39m.\u001b[39m_exception\n\u001b[1;32m    391\u001b[0m     \u001b[39mfinally\u001b[39;00m:\n\u001b[1;32m    392\u001b[0m         \u001b[39m# Break a reference cycle with the exception in self._exception\u001b[39;00m\n\u001b[1;32m    393\u001b[0m         \u001b[39mself\u001b[39m \u001b[39m=\u001b[39m \u001b[39mNone\u001b[39;00m\n",
      "File \u001b[0;32m~/anaconda3/envs/qiskit/lib/python3.10/concurrent/futures/thread.py:52\u001b[0m, in \u001b[0;36m_WorkItem.run\u001b[0;34m(self)\u001b[0m\n\u001b[1;32m     49\u001b[0m     \u001b[39mreturn\u001b[39;00m\n\u001b[1;32m     51\u001b[0m \u001b[39mtry\u001b[39;00m:\n\u001b[0;32m---> 52\u001b[0m     result \u001b[39m=\u001b[39m \u001b[39mself\u001b[39;49m\u001b[39m.\u001b[39;49mfn(\u001b[39m*\u001b[39;49m\u001b[39mself\u001b[39;49m\u001b[39m.\u001b[39;49margs, \u001b[39m*\u001b[39;49m\u001b[39m*\u001b[39;49m\u001b[39mself\u001b[39;49m\u001b[39m.\u001b[39;49mkwargs)\n\u001b[1;32m     53\u001b[0m \u001b[39mexcept\u001b[39;00m \u001b[39mBaseException\u001b[39;00m \u001b[39mas\u001b[39;00m exc:\n\u001b[1;32m     54\u001b[0m     \u001b[39mself\u001b[39m\u001b[39m.\u001b[39mfuture\u001b[39m.\u001b[39mset_exception(exc)\n",
      "File \u001b[0;32m~/anaconda3/envs/qiskit/lib/python3.10/site-packages/qiskit_aer/backends/aerbackend.py:433\u001b[0m, in \u001b[0;36mAerBackend._execute_circuits_job\u001b[0;34m(self, circuits, parameter_binds, run_options, job_id, format_result)\u001b[0m\n\u001b[1;32m    430\u001b[0m start \u001b[39m=\u001b[39m time\u001b[39m.\u001b[39mtime()\n\u001b[1;32m    432\u001b[0m \u001b[39m# Compile circuits\u001b[39;00m\n\u001b[0;32m--> 433\u001b[0m circuits, noise_model \u001b[39m=\u001b[39m \u001b[39mself\u001b[39;49m\u001b[39m.\u001b[39;49m_compile(circuits, \u001b[39m*\u001b[39;49m\u001b[39m*\u001b[39;49mrun_options)\n\u001b[1;32m    435\u001b[0m aer_circuits, idx_maps \u001b[39m=\u001b[39m assemble_circuits(circuits)\n\u001b[1;32m    436\u001b[0m \u001b[39mif\u001b[39;00m parameter_binds:\n",
      "File \u001b[0;32m~/anaconda3/envs/qiskit/lib/python3.10/site-packages/qiskit_aer/backends/aerbackend.py:507\u001b[0m, in \u001b[0;36mAerBackend._compile\u001b[0;34m(self, circuits, **run_options)\u001b[0m\n\u001b[1;32m    504\u001b[0m optypes \u001b[39m=\u001b[39m [circuit_optypes(circ) \u001b[39mfor\u001b[39;00m circ \u001b[39min\u001b[39;00m circuits]\n\u001b[1;32m    506\u001b[0m \u001b[39m# Compile Qasm3 instructions\u001b[39;00m\n\u001b[0;32m--> 507\u001b[0m circuits, optypes \u001b[39m=\u001b[39m compile_circuit(\n\u001b[1;32m    508\u001b[0m     circuits, basis_gates\u001b[39m=\u001b[39;49m\u001b[39mself\u001b[39;49m\u001b[39m.\u001b[39;49mconfiguration()\u001b[39m.\u001b[39;49mbasis_gates, optypes\u001b[39m=\u001b[39;49moptypes\n\u001b[1;32m    509\u001b[0m )\n\u001b[1;32m    511\u001b[0m \u001b[39m# run option noise model\u001b[39;00m\n\u001b[1;32m    512\u001b[0m circuits, noise_model, run_options \u001b[39m=\u001b[39m \u001b[39mself\u001b[39m\u001b[39m.\u001b[39m_assemble_noise_model(\n\u001b[1;32m    513\u001b[0m     circuits, optypes, \u001b[39m*\u001b[39m\u001b[39m*\u001b[39mrun_options\n\u001b[1;32m    514\u001b[0m )\n",
      "File \u001b[0;32m~/anaconda3/envs/qiskit/lib/python3.10/site-packages/qiskit_aer/backends/aer_compiler.py:344\u001b[0m, in \u001b[0;36mcompile_circuit\u001b[0;34m(circuits, basis_gates, optypes)\u001b[0m\n\u001b[1;32m    340\u001b[0m \u001b[39mdef\u001b[39;00m \u001b[39mcompile_circuit\u001b[39m(circuits, basis_gates\u001b[39m=\u001b[39m\u001b[39mNone\u001b[39;00m, optypes\u001b[39m=\u001b[39m\u001b[39mNone\u001b[39;00m):\n\u001b[1;32m    341\u001b[0m \u001b[39m    \u001b[39m\u001b[39m\"\"\"\u001b[39;00m\n\u001b[1;32m    342\u001b[0m \u001b[39m    compile a circuit that have control-flow instructions\u001b[39;00m\n\u001b[1;32m    343\u001b[0m \u001b[39m    \"\"\"\u001b[39;00m\n\u001b[0;32m--> 344\u001b[0m     \u001b[39mreturn\u001b[39;00m AerCompiler()\u001b[39m.\u001b[39;49mcompile(circuits, basis_gates, optypes)\n",
      "File \u001b[0;32m~/anaconda3/envs/qiskit/lib/python3.10/site-packages/qiskit_aer/backends/aer_compiler.py:77\u001b[0m, in \u001b[0;36mAerCompiler.compile\u001b[0;34m(self, circuits, basis_gates, optypes)\u001b[0m\n\u001b[1;32m     74\u001b[0m circuit \u001b[39m=\u001b[39m \u001b[39mself\u001b[39m\u001b[39m.\u001b[39m_inline_initialize(circuit, compiled_optypes[idx])\n\u001b[1;32m     75\u001b[0m \u001b[39mif\u001b[39;00m \u001b[39mself\u001b[39m\u001b[39m.\u001b[39m_is_dynamic(circuit, compiled_optypes[idx]):\n\u001b[1;32m     76\u001b[0m     compiled_circ \u001b[39m=\u001b[39m transpile(\n\u001b[0;32m---> 77\u001b[0m         \u001b[39mself\u001b[39;49m\u001b[39m.\u001b[39;49m_inline_circuit(circuit, \u001b[39mNone\u001b[39;49;00m, \u001b[39mNone\u001b[39;49;00m), basis_gates\u001b[39m=\u001b[39mbasis_gates\n\u001b[1;32m     78\u001b[0m     )\n\u001b[1;32m     79\u001b[0m     compiled_circuits\u001b[39m.\u001b[39mappend(compiled_circ)\n\u001b[1;32m     80\u001b[0m     \u001b[39m# Recompute optype for compiled circuit\u001b[39;00m\n",
      "File \u001b[0;32m~/anaconda3/envs/qiskit/lib/python3.10/site-packages/qiskit_aer/backends/aer_compiler.py:167\u001b[0m, in \u001b[0;36mAerCompiler._inline_circuit\u001b[0;34m(self, circ, continue_label, break_label, bit_map)\u001b[0m\n\u001b[1;32m    165\u001b[0m \u001b[39melif\u001b[39;00m \u001b[39misinstance\u001b[39m(instruction\u001b[39m.\u001b[39moperation, IfElseOp):\n\u001b[1;32m    166\u001b[0m     ret\u001b[39m.\u001b[39mbarrier()\n\u001b[0;32m--> 167\u001b[0m     \u001b[39mself\u001b[39;49m\u001b[39m.\u001b[39;49m_inline_if_else_op(instruction, continue_label, break_label, ret, bit_map)\n\u001b[1;32m    168\u001b[0m     ret\u001b[39m.\u001b[39mbarrier()\n\u001b[1;32m    169\u001b[0m \u001b[39melif\u001b[39;00m \u001b[39misinstance\u001b[39m(instruction\u001b[39m.\u001b[39moperation, BreakLoopOp):\n",
      "File \u001b[0;32m~/anaconda3/envs/qiskit/lib/python3.10/site-packages/qiskit_aer/backends/aer_compiler.py:287\u001b[0m, in \u001b[0;36mAerCompiler._inline_if_else_op\u001b[0;34m(self, instruction, continue_label, break_label, parent, bit_map)\u001b[0m\n\u001b[1;32m    284\u001b[0m \u001b[39melse\u001b[39;00m:\n\u001b[1;32m    285\u001b[0m     if_else_label \u001b[39m=\u001b[39m if_end_label\n\u001b[0;32m--> 287\u001b[0m c_if_args \u001b[39m=\u001b[39m \u001b[39mself\u001b[39;49m\u001b[39m.\u001b[39;49m_convert_c_if_args(condition_tuple, bit_map)\n\u001b[1;32m    289\u001b[0m qargs \u001b[39m=\u001b[39m [bit_map[q] \u001b[39mfor\u001b[39;00m q \u001b[39min\u001b[39;00m instruction\u001b[39m.\u001b[39mqubits]\n\u001b[1;32m    290\u001b[0m cargs \u001b[39m=\u001b[39m [bit_map[c] \u001b[39mfor\u001b[39;00m c \u001b[39min\u001b[39;00m instruction\u001b[39m.\u001b[39mclbits]\n",
      "File \u001b[0;32m~/anaconda3/envs/qiskit/lib/python3.10/site-packages/qiskit_aer/backends/aer_compiler.py:184\u001b[0m, in \u001b[0;36mAerCompiler._convert_c_if_args\u001b[0;34m(self, cond_tuple, bit_map)\u001b[0m\n\u001b[1;32m    182\u001b[0m \u001b[39mdef\u001b[39;00m \u001b[39m_convert_c_if_args\u001b[39m(\u001b[39mself\u001b[39m, cond_tuple, bit_map):\n\u001b[1;32m    183\u001b[0m \u001b[39m    \u001b[39m\u001b[39m\"\"\"Convert a condition tuple according to the wire map.\"\"\"\u001b[39;00m\n\u001b[0;32m--> 184\u001b[0m     \u001b[39mif\u001b[39;00m \u001b[39misinstance\u001b[39m(cond_tuple[\u001b[39m0\u001b[39;49m], Clbit):\n\u001b[1;32m    185\u001b[0m         \u001b[39mreturn\u001b[39;00m (bit_map[cond_tuple[\u001b[39m0\u001b[39m]], cond_tuple[\u001b[39m1\u001b[39m])\n\u001b[1;32m    186\u001b[0m     \u001b[39m# ClassicalRegister conditions should already be in the outer circuit.\u001b[39;00m\n",
      "\u001b[0;31mTypeError\u001b[0m: 'Binary' object is not subscriptable"
     ]
    }
   ],
   "source": [
    "from qiskit import transpile\n",
    "from qiskit_aer import AerSimulator\n",
    "from qiskit.visualization import plot_histogram\n",
    "\n",
    "backend = AerSimulator()\n",
    "job = backend.run(transpile(qc, backend), shots=2**10)\n",
    "result = job.result()\n",
    "\n",
    "plot_histogram(result.get_counts())\n",
    "# backend = provider.get_backend(\"ibmq_mumbai\")\n"
   ]
  },
  {
   "cell_type": "code",
   "execution_count": 49,
   "metadata": {},
   "outputs": [
    {
     "data": {
      "text/html": [
       "<pre style=\"word-wrap: normal;white-space: pre;background: #fff0;line-height: 1.1;font-family: &quot;Courier New&quot;,Courier,monospace\">        ┌───┐     ┌─┐         ┌──────────┐┌─────────────┐\n",
       "q119_0: ┤ H ├──■──┤M├─────────┤0         ├┤1            ├\n",
       "        └───┘┌─┴─┐└╥┘┌─┐      │          ││             │\n",
       "q119_1: ─────┤ X ├─╫─┤M├──────┤          ├┤0            ├\n",
       "        ┌───┐└───┘ ║ └╥┘┌─┐   │          ││             │\n",
       "q119_2: ┤ H ├──■───╫──╫─┤M├───┤          ├┤             ├\n",
       "        └───┘┌─┴─┐ ║  ║ └╥┘┌─┐│          ││  While_loop │\n",
       "q119_3: ─────┤ X ├─╫──╫──╫─┤M├┤          ├┤             ├\n",
       "             └───┘ ║  ║  ║ └╥┘│  If_else ││             │\n",
       " c22_0: ═══════════╩══╬══╬══╬═╡1         ╞╡0            ╞\n",
       "                      ║  ║  ║ │          ││             │\n",
       " c22_1: ══════════════╩══╬══╬═╡2         ╞╡1            ╞\n",
       "                         ║  ║ │          │└─────────────┘\n",
       " c23_0: ═════════════════╩══╬═╡3         ╞═══════════════\n",
       "                            ║ │          │               \n",
       " c23_1: ════════════════════╩═╡0         ╞═══════════════\n",
       "                              └──────────┘               </pre>"
      ],
      "text/plain": [
       "        ┌───┐     ┌─┐         ┌──────────┐┌─────────────┐\n",
       "q119_0: ┤ H ├──■──┤M├─────────┤0         ├┤1            ├\n",
       "        └───┘┌─┴─┐└╥┘┌─┐      │          ││             │\n",
       "q119_1: ─────┤ X ├─╫─┤M├──────┤          ├┤0            ├\n",
       "        ┌───┐└───┘ ║ └╥┘┌─┐   │          ││             │\n",
       "q119_2: ┤ H ├──■───╫──╫─┤M├───┤          ├┤             ├\n",
       "        └───┘┌─┴─┐ ║  ║ └╥┘┌─┐│          ││  While_loop │\n",
       "q119_3: ─────┤ X ├─╫──╫──╫─┤M├┤          ├┤             ├\n",
       "             └───┘ ║  ║  ║ └╥┘│  If_else ││             │\n",
       " c22_0: ═══════════╩══╬══╬══╬═╡1         ╞╡0            ╞\n",
       "                      ║  ║  ║ │          ││             │\n",
       " c22_1: ══════════════╩══╬══╬═╡2         ╞╡1            ╞\n",
       "                         ║  ║ │          │└─────────────┘\n",
       " c23_0: ═════════════════╩══╬═╡3         ╞═══════════════\n",
       "                            ║ │          │               \n",
       " c23_1: ════════════════════╩═╡0         ╞═══════════════\n",
       "                              └──────────┘               "
      ]
     },
     "execution_count": 49,
     "metadata": {},
     "output_type": "execute_result"
    }
   ],
   "source": [
    "qc.draw()"
   ]
  },
  {
   "cell_type": "code",
   "execution_count": null,
   "metadata": {},
   "outputs": [],
   "source": []
  }
 ],
 "metadata": {
  "kernelspec": {
   "display_name": "Python 3",
   "language": "python",
   "name": "python3"
  },
  "language_info": {
   "codemirror_mode": {
    "name": "ipython",
    "version": 3
   },
   "file_extension": ".py",
   "mimetype": "text/x-python",
   "name": "python",
   "nbconvert_exporter": "python",
   "pygments_lexer": "ipython3",
   "version": "3.10.0"
  },
  "orig_nbformat": 4
 },
 "nbformat": 4,
 "nbformat_minor": 2
}
