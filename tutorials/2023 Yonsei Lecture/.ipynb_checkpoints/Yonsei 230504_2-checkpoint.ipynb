{
 "cells": [
  {
   "cell_type": "markdown",
   "id": "8d52ea33",
   "metadata": {},
   "source": [
    "### Qiskit Coding Lecture 2nd, 2023 1학기 연세대학교 PHY5051-01 \n",
    "- \n",
    "Date and time: 230504, 10am to 1pm KST\n",
    "- \n",
    "[Lecture Syllabus](https://learn.qiskit.org/syllabus/IJN-K0N)\n",
    "\n",
    "## 수업 중간중간 사용할 퀴즈 플랫폼 로그인\n",
    "\n",
    "오늘도 마찬가지로 퀴즈쇼를 진행해 봅시다! 오늘은 총 15개의 문제가 준비되어 있습니다.\n",
    "\n",
    "<h3>모두 로그인해주세요!</h3>\n",
    "\n",
    "수업을 모두 마친후 최상위 5인에게는 종강전에 특별 상품을 보내드립니다! 기대하세요! (지난번 상품은 무엇이엇을까요?)\n",
    "\n",
    "https://ahaslides.com/FXWV2\n",
    "\n",
    "<img src=\"img/quiz.png\" alt=\"Alternative text\" width=800/>"
   ]
  },
  {
   "cell_type": "markdown",
   "id": "1ab24370",
   "metadata": {},
   "source": [
    "## Grover’s Algorithm\n",
    "\n",
    "[Qiskit Textbook Link](https://learn.qiskit.org/course/v2_ch-algorithms/grovers-algorithm)\n",
    "\n",
    "Qiskit과 함께 하는 코딩 수업 두번째에 오신 여러분을 환영합니다! 이번 시간에는 총 세가지 양자 알고리듬(Deutsch-Jozsa algorithm, Shor's algorithm, Grover's algorithm) 에 대한 실습과 함께, 코딩 실습과 퀴즈 쇼를 함께 진행해 보겠습니다. \n",
    "\n",
    "두번째로, Grover's algorithm 알고리듬을 알아보도록 합시다.\n",
    "\n",
    "여러분은 한번 쯤 양자 컴퓨터가 고전적인 컴퓨터에 비해 가지고 있는 많은 장점 중 하나가 데이터베이스를 검색하는 속도가 빠르다는 것이라고 들어보았을 것입니다. Grover 알고리듬이 바로 이 문제에 대한 양자적 이득을 얻는 방법을 소개해 줍니다. 기본적인 원리는 앞서 실습한 Deutsch-Jozsa 알고리듬과 같이 양자병렬성과 Phase Kickback이지만, 이 문제에서는 한가지 더, Amplitude amplification을 사용합니다."
   ]
  },
  {
   "cell_type": "markdown",
   "id": "9ffd4122",
   "metadata": {},
   "source": [
    "### IBM Quantum Challenge\n",
    "\n",
    "여러분 IBM Quantum Challenge에 대해서 들어보셨나요? IBM Quantum은 1년에 두 번 - 봄(5월)과 가을(11월) - 에 각각 두번의 글로벌 양자컴퓨팅 챌린지를 개최합니다. 그중 가을 챌린지는 저희! Qiskit APAC팀이 주관합니다. \n",
    "\n",
    "다음 이미지는 지난해 가을 퀀텀 챌린지 - 블랙홀 탈출 - 의 [결과 블로그](https://research.ibm.com/blog/quantum-challenge-fall-2022-results)에서 가져온 마지막 문제 - 행성 쓰레기를 수집하기 위한 최적 경로에서 가져온 이미지입니다. \n",
    "<img src=\"https://dwzke5c1hcizv.cloudfront.net/image?url=https%3A%2F%2Fresearch-website-prod-cms-uploads.s3.us.cloud-object-storage.appdomain.cloud%2FQuantum_Challenge_2022_Results_leadspace_2520x1418_6d733f18b5.png&w=2048&q=85\" alt=\"Alternative text\" width=800/>\n",
    "\n",
    "퀀텀 챌린지는 참가자들에게\n",
    "1. 초급부터 고급까지 양자컴퓨팅의 배움의 기회 제공 및 성과에 따라 Badge 제공\n",
    "2. Qiskit 사용법 제공 및 도전 과제를 통한 실습의 기회 제공\n",
    "3. 챌린지 기간 동안 Real 백엔드 억세스를 제공\n",
    "4. 한국어,일본어,스페인어 버젼 챌린지 노트북 제공\n",
    "\n",
    "하고 있습니다. 올해 봄 챌린지는 5월 14일부터 27일까지 진행되며 `양자회로 중간에서 큐비트를 초기화 하거나 측정할 수 있는 Dynamic Circuit`을 배우고, 연습하고, 응용하고, 도전하는 기회가 될 것입니다. 공식 공지는 이곳에서 확인할 수 있습니다.\n",
    "\n",
    "Grover 알고리듬에 대한 설명과 실습은 2020년 가을의 IBM Quantum 챌린지의 컨텐츠를 사용하도록 하겠습니다."
   ]
  },
  {
   "cell_type": "markdown",
   "id": "666c4626",
   "metadata": {},
   "source": [
    "###  그로버의 알고리즘\n",
    "\n",
    "고전 컴퓨터를 능가하는 양자 컴퓨터의 수 많은 가능성 중 하나로 빠른 속도로 데이터베이스를 검색하는 능력이 포함 된 다는것을 들어 본 적이 있나요?<br/>\n",
    "그로버 알고리즘은 이 능력을 구현하는 알고리즘 입니다.  이 알고리즘은 검색을 2차 오더로 고속화(고전 알고리즘은 $N$ 번을 계산해야 하는 문제가 양자 컴퓨터로는 $\\sqrt{N}$ 번만으로 구현 됨)할 수 있습니다, 하지만 단순히 검색에만 이용되는 것은 아닙니다; 2차 오더의 성능 개선이 필요한 다양한 알고리즘에 서브루틴이나 일반적인 용도로 사용될 수도 있습니다. 그로버 알고리즘은 일반적으로 진폭 증폭 기술로 불립니다. \n",
    "\n",
    "이 페이지에서는 검색 문제와 해당 알고리즘을 자세히 설명하고, 검색 문제용 오라클(Oracle)을 회로로 작성한 후 그로버의 알고리즘을 Qiskit을 이용하여 구현합니다. \n",
    "\n",
    "<img src='https://learn.qiskit.org/content/v2/ch-algorithms/images/grover_steps.png' alt=\"Alternative text\" width=800/>\n",
    "\n",
    "\n",
    "#### 비정형 데이터 검색\n",
    "\n",
    "$N$개의 데이터 목록이 제공된다고 가정합니다. 이 데이터들 중에서 우리가 찾고자 하는 독특한 특성을 가진 데이터가 하나 있습니다. 우리는 이것을 우승자 ${w}$ 라고 합시다. 목록에 있는 각 데이터를 박스안에 담겨있는 것으로 상상해 봅시다. 목록의 데이터는 우승자를 제외하고는 모두 회색 계열로 설정합시다. \n",
    "\n",
    "<img src='img/unstructured_search.png' alt=\"Alternative text\" width=800/>\n",
    "\n",
    "우승자 -- 마크가 표시된 아이템 -- 를 찾기 위해서는 고전 계산에서는 평균 $N/2$개의 상자를 열어봐야 합니다.\n",
    "최악의 경우, $N$ 개를 열어봐야합니다. 하지만 양자컴퓨터에서는 Grover의 진폭증폭 테크닉을 사용해서\n",
    "대략 $\\sqrt N$ 스텝에서 표시된 아이템을 찾을 수 있습니다.\n",
    "2차 고속화는 큰 목록 내의 표시된 아이템을 찾기 위해서는 실제로는 많은 시간을 절약하게 해줍니다.\n",
    "이 알고리즘은 목록 자체의 내부구조를 이용하지 않아 일반화될 수 있고 많은 고전의 문제에서도 2차 속도향상을 가져올 수 있습니다.\n",
    "\n",
    "#### Step 0: \n",
    "상태의 준비는 입력에 대한 균일한 중첩 상태 $|s\\rangle$부터 시작합니다.균일한 중첩 상태는 $|s\\rangle= H^{\\otimes n}|0\\rangle^{n}$로 쉽게 생성할 수 있습니다.$t=0$일 때 초기 상태는 $|\\psi_{0}\\rangle=|s\\rangle$입니다. 여기에서 새로운 상태 $|s^{'}\\rangle$를 소개합니다. $|s^{'}\\rangle$는 $|w\\rangle$와 수직이며, $|s\\rangle$에서 $|w\\rangle$를 제거하고 amplitude를 normalize해서 만듭니다. \n",
    "\n",
    "<img src='https://learn.qiskit.org/content/v2/ch-algorithms/images/grover_step1.jpg' alt=\"Alternative text\" width=800/>\n",
    "\n",
    "$|s\\rangle$는 이 두 상태의 조합으로 만들수 있으며, \n",
    "$$|s\\rangle = sin(\\theta)|w\\rangle + cos(\\theta)|s^{'}\\rangle$$\n",
    "을 만족하며 이때 $\\theta = arcsin\\langle s|w\\rangle = arcsin(\\frac{1}{\\sqrt{N}})$을 만족합니다. 오른쪽의 그래프는 $|s\\rangle$의 Amplitude를 보여줍니다.\n",
    "\n",
    "이 과정은 다음과 같이 이해할 수 있습니다. Deutsch-Jozsa 문제와 마찬가지로 보조 교재를 참고하였습니다. [Thomas Wong - Introduction to classical and quantum computing](https://www.thomaswong.net/introduction-to-classical-and-quantum-computing-1e3p.pdf)\n",
    "\n",
    "\n",
    "$$ |s\\rangle = \\frac{1}{\\sqrt{N}}(|w\\rangle + \\sum_{i \\neq w}|i\\rangle) \\text{ number of  } |i\\rangle = N-1 $$\n",
    "$$ |s\\rangle = \\frac{1}{\\sqrt{N}}|w\\rangle + \\frac{\\sqrt{N-1}}{\\sqrt{N}}\\frac{1}{\\sqrt{N - 1}}(\\sum_{i \\neq w}|i\\rangle), \\text{이때, } \\frac{1}{\\sqrt{N - 1}}(\\sum_{i \\neq w}|i\\rangle) = |r\\rangle \\text{라 하면}$$\n",
    "$$|s\\rangle = \\frac{1}{\\sqrt{N}}|w\\rangle + \\frac{\\sqrt{N-1}}{\\sqrt{N}}|r\\rangle = sin(\\theta)|w\\rangle + cos(\\theta)|r\\rangle$$"
   ]
  },
  {
   "cell_type": "markdown",
   "id": "d935b848",
   "metadata": {},
   "source": [
    "### Step 2: Oracle\n",
    "\n",
    "우승 상태의 위상을 반전시키는 오라클 $U_{f}$를 $|s\\rangle$에 적용합니다 $U_{f}|s\\rangle= (-1)sin(\\theta)|w\\rangle + cos(\\theta)|r\\rangle $\n",
    "\n",
    "<img src='img/step1.png' alt=\"Alternative text\" width=800/>\n",
    "\n",
    "보통 이 오라클을 Reflection 오라클이라\\ 부르며, $|s\\rangle$를 $|r\\rangle$을 기준으로 대칭이동 한것과 같습니다. 이 오라클은 다른 형태로\n",
    "$$U_f = I - 2|w\\rangle\\langle w |$$\n",
    "라 쓸수 있으며, \n",
    "$$ U_f|w\\rangle = |w\\rangle - 2|w\\rangle\\langle w|w\\rangle = -|w\\rangle$$\n",
    "가 되어 $U_f|s\\rangle = |s\\rangle - \\frac{2}{\\sqrt{N}}|w\\rangle = -\\frac{1}{\\sqrt{N}}|w\\rangle + \\frac{\\sqrt{N-1}}{\\sqrt{N}}|r\\rangle$로 쓸 수 있습니다. "
   ]
  },
  {
   "cell_type": "markdown",
   "id": "1e400bcb",
   "metadata": {},
   "source": [
    "### Step 3: Diffusion\n",
    "\n",
    "이제, Diffusion 연산 $U_s$를 $U_f|s\\rangle$에 적용합니다. $U_s$는 대상을 $|s\\rangle$에 대하여 대칭이동 하는 것과 같으며, $2|s\\rangle\\langle s|- I$와 같습니다.\n",
    "\n",
    "<img src='img/step2.png' alt=\"Alternative text\" width=800/>\n",
    "\n",
    "이 과정을 자세히 살펴봅시다.\n",
    "\n",
    "$$U_s(U_f|s\\rangle) = (2|s\\rangle\\langle s|- I)(|s\\rangle - \\frac{2}{\\sqrt{N}}|w\\rangle)$$\n",
    "$$= 2|s\\rangle\\langle s | s\\rangle - |s\\rangle - \\frac{4}{\\sqrt{N}}|s\\rangle\\langle s |w\\rangle + \\frac{2}{\\sqrt{N}}|w\\rangle, \\text{이 때, } \\langle s |w\\rangle = \\frac{1}{\\sqrt{N}} \\text{ 이므로}$$\n",
    "$$ = \\frac{N-4}{N}|s\\rangle + \\frac{2}{\\sqrt{N}}|w\\rangle$$\n"
   ]
  },
  {
   "cell_type": "markdown",
   "id": "b7694952",
   "metadata": {},
   "source": [
    "### Reflection - Diffusion 반복\n",
    "\n",
    "정답을 얻을 확률을 끌어올리기 위해서, 일반적으로 $U_sU_f$를 t번 반복하게 됩니다. 위의 식에서 볼 수 있듯이 1번의 과정마다, $2\\theta$만큼씩 $|w\\rangle$ 상태에 가까워지므로, \n",
    "$$\\frac{\\pi}{2} = \\theta + (2\\theta)t$$\n",
    "$$\\therefore t = \\frac{\\pi}{4\\theta} - \\frac{1}{2}$$\n",
    "\n",
    "$N$이 크다면, $\\theta \\approx sin^{-1}(\\frac{1}{\\sqrt{N}}) \\approx \\frac{1}{\\sqrt{N}}$ 이므로\n",
    "$$t \\approx \\frac{\\pi}{4}\\sqrt{N} - \\frac{1}{2} \\approx \\frac{\\pi}{4}\\sqrt{N}$$\n",
    "\n",
    "만약 Winner 상태가 1개가 아니라 M개라면, $\\theta \\approx sin^{-1}\\sqrt{\\frac{M}{N}} \\approx \\sqrt{\\frac{M}{N}}$이 되어,\n",
    "$$t \\approx \\frac{\\pi}{4}\\sqrt{\\frac{N}{M}} - \\frac{1}{2} \\approx \\frac{\\pi}{4}\\sqrt{\\frac{N}{M}}$$\n",
    "\n",
    "회의 Reflection-Diffusion의 반복을 필요로 하게 됩니다."
   ]
  },
  {
   "cell_type": "markdown",
   "id": "926b5138",
   "metadata": {},
   "source": [
    "<div class=\"alert alert-block alert-info\"> <b>Quiz Time</b> 그루버 알고리즘에 대한 다음의 질문에 답하시오. 총 두 문제 (제한시간 각 30초, 60초) </div>"
   ]
  },
  {
   "cell_type": "markdown",
   "id": "d911b54b",
   "metadata": {},
   "source": [
    "## Grover Step by Step - use phase kick-back version\n",
    "\n",
    "### State preparation\n",
    "\n",
    "Phase Kick-back을 사용하는 Grover Algorithm의 경우 Deutsch-Jozsa와 마찬가지로, $|-\\rangle$상태로 준비되는 추가적인 큐비트가 필요합니다.\n",
    "\n",
    "아래에서 Winning state가 `10`인 2큐비트 Grover algorithm을 작성해 봅시다."
   ]
  },
  {
   "cell_type": "code",
   "execution_count": null,
   "id": "84dd4fb7",
   "metadata": {},
   "outputs": [],
   "source": [
    "import numpy as np\n",
    "\n",
    "from math import sqrt, pi\n",
    "\n",
    "from qiskit import *\n",
    "from qiskit.visualization import plot_histogram, plot_distribution, plot_error_map, plot_bloch_multivector, plot_state_qsphere\n",
    "from qiskit.visualization.array import array_to_latex\n",
    "from qiskit.quantum_info import hellinger_fidelity, random_statevector, Statevector, Operator,QuantumState\n",
    "\n",
    "\n",
    "from qiskit_ibm_provider import IBMProvider\n",
    "\n",
    "from qiskit_aer import AerSimulator, QasmSimulator, StatevectorSimulator\n",
    "\n",
    "\n",
    "# Plotting tools\n",
    "import matplotlib.pyplot as plt\n",
    "from IPython.display import IFrame"
   ]
  },
  {
   "cell_type": "code",
   "execution_count": null,
   "id": "1fc9164d",
   "metadata": {},
   "outputs": [],
   "source": [
    "## your code here ##\n",
    "\n",
    "\n",
    "# Youtube\n",
    "from IPython.display import IFrame\n",
    "IFrame(width=\"560\", height=\"315\", src=\"https://www.youtube.com/embed/PIljiNRTHqY\", title=\"YouTube video player\", frameborder=\"0\" )\n",
    "\n",
    "## your code here##"
   ]
  },
  {
   "cell_type": "code",
   "execution_count": null,
   "id": "5caa2cd8",
   "metadata": {},
   "outputs": [],
   "source": [
    "\n",
    "#solution\n",
    "\n"
   ]
  },
  {
   "cell_type": "markdown",
   "id": "8922d73e",
   "metadata": {},
   "source": [
    "### Oracle \n",
    "\n",
    "이제 Q0, Q1에 Winning State에 -를 부여하는 Oracle회로를 작성합니다.\n",
    "\n",
    "$$U_f = I - 2|w\\rangle\\langle w |$$\n",
    "\n",
    "이므로, 이를 회로로 구현하기 위해서 먼저, $A|0\\rangle = |w\\rangle$인 $A$ 유니터리를 생각해 보자. $|w\\rangle = A|0\\rangle$로 바꾸면,\n",
    "$$AA^{\\dagger} - 2A|0\\rangle \\langle 0 | A^{\\dagger}$$\n",
    "\n",
    "로 쓸수 있으므로 이 회로는 \n",
    "\n",
    "$$A(I - |0\\rangle\\langle 0|)A^{\\dagger}$$\n",
    "\n",
    "의 형태로 작성될 수 있습니다. 이때 가운데 부분, $2|00\\rangle\\langle 00| - I$을 조금 자세히 살펴 보면,\n",
    "\n",
    "$$\\begin{bmatrix} 1 & 0 & 0 & 0 \\\\ 0 & 1 & 0 & 0  \\\\ 0 & 0 & 1 & 0  \\\\ 0 & 0 & 0 & 1 \\end{bmatrix} + \\begin{bmatrix}-2 & 0 & 0 & 0 \\\\ 0 & 1 & 0 & 0  \\\\ 0 & 0 & 1 & 0  \\\\ 0 & 0 & 0 & 1 \\end{bmatrix} = \n",
    "\\begin{bmatrix} -1 & 0 & 0 & 0 \\\\ 0 & 1 & 0 & 0  \\\\ 0 & 0 & 1 & 0  \\\\ 0 & 0 & 0 & 1 \\end{bmatrix}$$\n",
    "\n",
    "00에 - 값을 입히는 회로와 동등하므로 다음과 같이 회로를 구성할 수 있습니다."
   ]
  },
  {
   "cell_type": "code",
   "execution_count": null,
   "id": "a2ac1132",
   "metadata": {},
   "outputs": [],
   "source": [
    "## your code here ##\n",
    "\n",
    "\n",
    "# Youtube\n",
    "IFrame(width=\"560\", height=\"315\", src=\"https://www.youtube.com/embed/PIljiNRTHqY\", title=\"YouTube video player\", frameborder=\"0\" )\n",
    "\n",
    "## your code here##"
   ]
  },
  {
   "cell_type": "code",
   "execution_count": null,
   "id": "973d4a67",
   "metadata": {},
   "outputs": [],
   "source": [
    "# solution\n",
    "\n"
   ]
  },
  {
   "cell_type": "markdown",
   "id": "74c20b3e",
   "metadata": {},
   "source": [
    "### Diffuser\n",
    "\n",
    "Diffuser회로는 일반적으로 다음과 같이 구성됩니다.\n",
    "\n",
    "\n",
    "<img src='https://learn.qiskit.org/content/v2/ch-algorithms/images/grover_diff.png' alt=\"Alternative text\" width=800/>\n",
    "\n",
    "\n",
    "우선 Diffuser회로가 $|s\\rangle$상태에 대한 reflection, 즉,$|s_{\\perp}\\rangle$상태에 -위상을 주는 것임을 기억합시다. 또한 $|s\\rangle$ 상태가 모든 상태의 중첩, 즉 $H^{\\otimes n}|0\\rangle$을 기억합시다. \n",
    "\n",
    "$|s\\rangle$상태를 $|0\\rangle$로 변환시키면, Diffuser의 설계가 쉬워집니다. 즉,  $H^{\\otimes n}|s\\rangle = |0\\rangle$인 성질을 이용하여 Dissuser 회로의 입력을 모두 Computational Basis로 변환 시켜 사용할 수 있습니다.\n",
    "\n",
    "즉 Diffuser 회로는 \n",
    "$$H\\otimes H (2|00\\rangle\\langle 00|)H\\otimes H - H\\otimes H \\cdot H\\otimes H)$$\n",
    "$$ = H\\otimes H (2|00\\rangle\\langle 00| - I )H\\otimes H)$$\n",
    "\n",
    "의 형태로 작성될 수 있습니다. 이때 가운데 부분, $2|00\\rangle\\langle 00| - I$을 조금 자세히 살펴 보면,\n",
    "\n",
    "$$2\\begin{bmatrix} 1 & 0 & 0 & 0 \\\\ 0 & 0 & 0 & 0  \\\\ 0 & 0 & 0 & 0  \\\\ 0 & 0 & 0 & 0 \\end{bmatrix} - \\begin{bmatrix} 1 & 0 & 0 & 0 \\\\ 0 & 1 & 0 & 0  \\\\ 0 & 0 & 1 & 0  \\\\ 0 & 0 & 0 & 1\\end{bmatrix} = - \\begin{bmatrix} -1 & 0 & 0 & 0 \\\\ 0 & 1 & 0 & 0  \\\\ 0 & 0 & 1 & 0  \\\\ 0 & 0 & 0 & 1\\end{bmatrix}$$ "
   ]
  },
  {
   "cell_type": "markdown",
   "id": "5389d5e2",
   "metadata": {},
   "source": [
    "이제, 0이 아닌, 즉 이 문제에서 처럼 2비트 문제인 경우 $|00\\rangle$이 아닌 모든 상태에 `-`값을 인코딩 하는 회로를 작성합니다."
   ]
  },
  {
   "cell_type": "code",
   "execution_count": null,
   "id": "0c93d3fc",
   "metadata": {},
   "outputs": [],
   "source": [
    "## your code here ##\n",
    "\n",
    "\n",
    "# Youtube\n",
    "IFrame(width=\"560\", height=\"315\", src=\"https://www.youtube.com/embed/PIljiNRTHqY\", title=\"YouTube video player\", frameborder=\"0\" )\n",
    "\n",
    "## your code here##"
   ]
  },
  {
   "cell_type": "code",
   "execution_count": null,
   "id": "cb1642c7",
   "metadata": {},
   "outputs": [],
   "source": [
    "#solution\n",
    "\n"
   ]
  },
  {
   "cell_type": "markdown",
   "id": "df36f087",
   "metadata": {},
   "source": [
    "이제 이 회로를 측정해 봅시다. qubit0과 qubit1만 측정합니다."
   ]
  },
  {
   "cell_type": "code",
   "execution_count": null,
   "id": "fa5e7ea5",
   "metadata": {},
   "outputs": [],
   "source": [
    "qc.measure(0,0)\n",
    "qc.measure(1,1)\n",
    "qc.draw('mpl')"
   ]
  },
  {
   "cell_type": "markdown",
   "id": "636cf719",
   "metadata": {},
   "source": [
    "AerSimulator를 사용해서 100000번 측정한 후 count를 plot_histogram을 사용해 그려봅시다."
   ]
  },
  {
   "cell_type": "code",
   "execution_count": 4,
   "id": "f53fd2c6",
   "metadata": {},
   "outputs": [
    {
     "data": {
      "text/html": [
       "\n",
       "        <iframe\n",
       "            width=\"560\"\n",
       "            height=\"315\"\n",
       "            src=\"https://www.youtube.com/embed/PIljiNRTHqY?title=YouTube+video+player&frameborder=0\"\n",
       "            frameborder=\"0\"\n",
       "            allowfullscreen\n",
       "            \n",
       "        ></iframe>\n",
       "        "
      ],
      "text/plain": [
       "<IPython.lib.display.IFrame at 0x7f8690d45760>"
      ]
     },
     "execution_count": 4,
     "metadata": {},
     "output_type": "execute_result"
    }
   ],
   "source": [
    "## your code here ##\n",
    "\n",
    "\n",
    "# Youtube\n",
    "IFrame(width=\"560\", height=\"315\", src=\"https://www.youtube.com/embed/PIljiNRTHqY\", title=\"YouTube video player\", frameborder=\"0\" )\n",
    "\n",
    "## your code here##"
   ]
  },
  {
   "cell_type": "code",
   "execution_count": null,
   "id": "eaa5e708",
   "metadata": {},
   "outputs": [],
   "source": [
    "#solution\n",
    "\n"
   ]
  },
  {
   "cell_type": "markdown",
   "id": "12a6faee",
   "metadata": {},
   "source": [
    "## Grover Step by Step - use Phase Gate - Z\n",
    "\n",
    "### State preparation\n",
    "\n",
    "11의 상태만을 -로 바꾸는 Controlled-Z게이트를 사용해서도 Grover 알고리즘을 구현할 수 있습니다. 이 경우, 추가 비트는 필요하지 않습니다.\n"
   ]
  },
  {
   "cell_type": "code",
   "execution_count": 6,
   "id": "78e613ed",
   "metadata": {},
   "outputs": [
    {
     "data": {
      "text/html": [
       "\n",
       "        <iframe\n",
       "            width=\"560\"\n",
       "            height=\"315\"\n",
       "            src=\"https://www.youtube.com/embed/PIljiNRTHqY?title=YouTube+video+player&frameborder=0\"\n",
       "            frameborder=\"0\"\n",
       "            allowfullscreen\n",
       "            \n",
       "        ></iframe>\n",
       "        "
      ],
      "text/plain": [
       "<IPython.lib.display.IFrame at 0x7f8690d45a00>"
      ]
     },
     "execution_count": 6,
     "metadata": {},
     "output_type": "execute_result"
    }
   ],
   "source": [
    "## your code here ##\n",
    "\n",
    "\n",
    "# Youtube\n",
    "IFrame(width=\"560\", height=\"315\", src=\"https://www.youtube.com/embed/PIljiNRTHqY\", title=\"YouTube video player\", frameborder=\"0\" )\n",
    "\n",
    "## your code here##"
   ]
  },
  {
   "cell_type": "code",
   "execution_count": 5,
   "id": "9dd4e185",
   "metadata": {},
   "outputs": [],
   "source": [
    "# solution\n"
   ]
  },
  {
   "cell_type": "markdown",
   "id": "83a9e260",
   "metadata": {},
   "source": [
    "### Oracle \n",
    "\n",
    "이제 Q0, Q1에 Winning State에 -를 부여하는 Oracle회로를 작성합니다. 마찬가지로, \n",
    "\n",
    "$$U_f = I - 2|w\\rangle\\langle w |$$\n",
    "\n",
    "이므로, 이를 회로로 구현하기 위해서 먼저, $A|0\\rangle = |w\\rangle$인 $A$ 유니터리를 생각해 보자. $|w\\rangle = A|0\\rangle$로 바꾸면,\n",
    "$$AA^{\\dagger} - 2A|0\\rangle \\langle 0 | A^{\\dagger}$$\n",
    "\n",
    "로 쓸수 있으므로 이 회로는 \n",
    "\n",
    "$$A(I - |0\\rangle\\langle 0|)A^{\\dagger}$$\n",
    "\n",
    "의 형태로 작성될 수 있습니다. 이때 가운데 부분, $2|00\\rangle\\langle 00| - I$을 조금 자세히 살펴 보면,\n",
    "\n",
    "$$\\begin{bmatrix} 1 & 0 & 0 & 0 \\\\ 0 & 1 & 0 & 0  \\\\ 0 & 0 & 1 & 0  \\\\ 0 & 0 & 0 & 1 \\end{bmatrix} + \\begin{bmatrix}-2 & 0 & 0 & 0 \\\\ 0 & 1 & 0 & 0  \\\\ 0 & 0 & 1 & 0  \\\\ 0 & 0 & 0 & 1 \\end{bmatrix} = \n",
    "\\begin{bmatrix} -1 & 0 & 0 & 0 \\\\ 0 & 1 & 0 & 0  \\\\ 0 & 0 & 1 & 0  \\\\ 0 & 0 & 0 & 1 \\end{bmatrix}$$\n",
    "\n",
    "00에 - 값을 입히는 회로와 동등하므로 다음과 같이 회로를 구성할 수 있습니다."
   ]
  },
  {
   "cell_type": "code",
   "execution_count": 7,
   "id": "5a68a890",
   "metadata": {},
   "outputs": [
    {
     "data": {
      "text/html": [
       "\n",
       "        <iframe\n",
       "            width=\"560\"\n",
       "            height=\"315\"\n",
       "            src=\"https://www.youtube.com/embed/PIljiNRTHqY?title=YouTube+video+player&frameborder=0\"\n",
       "            frameborder=\"0\"\n",
       "            allowfullscreen\n",
       "            \n",
       "        ></iframe>\n",
       "        "
      ],
      "text/plain": [
       "<IPython.lib.display.IFrame at 0x7f8670420730>"
      ]
     },
     "execution_count": 7,
     "metadata": {},
     "output_type": "execute_result"
    }
   ],
   "source": [
    "## your code here ##\n",
    "\n",
    "\n",
    "# Youtube\n",
    "IFrame(width=\"560\", height=\"315\", src=\"https://www.youtube.com/embed/PIljiNRTHqY\", title=\"YouTube video player\", frameborder=\"0\" )\n",
    "\n",
    "## your code here##"
   ]
  },
  {
   "cell_type": "code",
   "execution_count": null,
   "id": "5ca636b0",
   "metadata": {},
   "outputs": [],
   "source": [
    "# solution\n",
    "\n",
    "\n"
   ]
  },
  {
   "cell_type": "markdown",
   "id": "1d72391a",
   "metadata": {},
   "source": [
    "### Diffuser\n",
    "\n",
    "Diffuser 회로는 위와 같이, 대신, Controlled Z 게이트를 사용해 구현합니다."
   ]
  },
  {
   "cell_type": "code",
   "execution_count": 9,
   "id": "ad1887be",
   "metadata": {},
   "outputs": [
    {
     "data": {
      "text/html": [
       "\n",
       "        <iframe\n",
       "            width=\"560\"\n",
       "            height=\"315\"\n",
       "            src=\"https://www.youtube.com/embed/PIljiNRTHqY?title=YouTube+video+player&frameborder=0\"\n",
       "            frameborder=\"0\"\n",
       "            allowfullscreen\n",
       "            \n",
       "        ></iframe>\n",
       "        "
      ],
      "text/plain": [
       "<IPython.lib.display.IFrame at 0x7f8670420c70>"
      ]
     },
     "execution_count": 9,
     "metadata": {},
     "output_type": "execute_result"
    }
   ],
   "source": [
    "## your code here ##\n",
    "\n",
    "\n",
    "# Youtube\n",
    "IFrame(width=\"560\", height=\"315\", src=\"https://www.youtube.com/embed/PIljiNRTHqY\", title=\"YouTube video player\", frameborder=\"0\" )\n",
    "\n",
    "## your code here##"
   ]
  },
  {
   "cell_type": "code",
   "execution_count": 8,
   "id": "33dd0c54",
   "metadata": {},
   "outputs": [],
   "source": [
    "#solution\n",
    "\n"
   ]
  },
  {
   "cell_type": "markdown",
   "id": "e9af0cb1",
   "metadata": {},
   "source": [
    "이체 회로를 측정하여 결과를 확인합니다."
   ]
  },
  {
   "cell_type": "code",
   "execution_count": null,
   "id": "0b08ebb8",
   "metadata": {},
   "outputs": [],
   "source": [
    "qc_p.measure_all()\n",
    "backend = AerSimulator()\n",
    "counts = backend.run(qc_p, shots=100000).result().get_counts()\n",
    "plot_histogram(counts)"
   ]
  },
  {
   "cell_type": "markdown",
   "id": "4c72170a",
   "metadata": {},
   "source": [
    "### RealBackend 실행 결과 비교.\n",
    "\n",
    "두가지 회로 qc (Phase Kickback을 이용한 회로) 와 qc_p(phase gate)를 사용한, 두 가지 경우에 대해 리얼 백엔드 실행 결과를 비교해 봅시다. 우선 사용가능한 백엔드 목록을 불러와 봅시다. "
   ]
  },
  {
   "cell_type": "code",
   "execution_count": null,
   "id": "1cdc0afb",
   "metadata": {},
   "outputs": [],
   "source": [
    "from qiskit_ibm_runtime import QiskitRuntimeService, Session, Options, Sampler, Estimator\n",
    "from qiskit_aer.primitives import Sampler as AerSampler\n",
    "from qiskit_ibm_provider import least_busy\n",
    "\n",
    "\n",
    "service = QiskitRuntimeService(instance='ibm-q-yonsei/internal/qc-and-simulatio')"
   ]
  },
  {
   "cell_type": "code",
   "execution_count": null,
   "id": "27ea0102",
   "metadata": {},
   "outputs": [],
   "source": [
    "backend = least_busy(service.backends(filters=lambda x: x.configuration().n_qubits == 27 and\n",
    "                                   not x.configuration().simulator and x.status().operational==True))\n",
    "print(backend)"
   ]
  },
  {
   "cell_type": "code",
   "execution_count": null,
   "id": "9bbe7a0d",
   "metadata": {},
   "outputs": [],
   "source": [
    "plot_error_map(backend)"
   ]
  },
  {
   "cell_type": "markdown",
   "id": "842bbfff",
   "metadata": {},
   "source": [
    "real Backend에 실행하기 전, AerSampler에 백엔드의 특성을 입혀서 먼저 시뮬레이션 결과를 확인해 봅시다."
   ]
  },
  {
   "cell_type": "code",
   "execution_count": null,
   "id": "07ae2c27",
   "metadata": {},
   "outputs": [],
   "source": [
    "from qiskit_aer.noise import NoiseModel\n",
    "\n",
    "coupling_map = backend.configuration().coupling_map\n",
    "noise_model = NoiseModel.from_backend(backend)\n",
    "\n",
    "print(noise_model)"
   ]
  },
  {
   "cell_type": "code",
   "execution_count": null,
   "id": "fd4cf78d",
   "metadata": {},
   "outputs": [],
   "source": [
    "noisy_sampler = AerSampler(\n",
    "    backend_options={\n",
    "        \"method\": \"density_matrix\",\n",
    "        \"coupling_map\": coupling_map,\n",
    "        \"noise_model\": noise_model,\n",
    "    }\n",
    ")"
   ]
  },
  {
   "cell_type": "code",
   "execution_count": null,
   "id": "379d3d26",
   "metadata": {},
   "outputs": [],
   "source": [
    "sim_sampler_job = noisy_sampler.run(qc_p,shots=int(10e5),resilience_level=1)\n",
    "sim_result = sim_sampler_job.result()"
   ]
  },
  {
   "cell_type": "code",
   "execution_count": null,
   "id": "c0f5a9c5",
   "metadata": {},
   "outputs": [],
   "source": [
    "plot_distribution(sim_result.quasi_dists[0].binary_probabilities(),target_string='10', sort='hamming')"
   ]
  },
  {
   "cell_type": "code",
   "execution_count": null,
   "id": "be5e7482",
   "metadata": {},
   "outputs": [],
   "source": [
    "session = Session(backend=backend)\n",
    "sampler = Sampler(session=session)\n",
    "tr_qc = transpile(qc, backend)\n",
    "tr_qc.draw('mpl', idle_wires=False)"
   ]
  },
  {
   "cell_type": "code",
   "execution_count": null,
   "id": "7fc4eb96",
   "metadata": {},
   "outputs": [],
   "source": [
    "session = Session(backend=backend)\n",
    "sampler = Sampler(session=session)\n",
    "tr_qc_p = transpile(qc_p, backend)\n",
    "tr_qc_p.draw('mpl', idle_wires=False)"
   ]
  },
  {
   "cell_type": "code",
   "execution_count": null,
   "id": "7d637c6b",
   "metadata": {},
   "outputs": [],
   "source": [
    "sampler_job1 = sampler.run(tr_qc,shots=int(10e5),resilience_level=1)"
   ]
  },
  {
   "cell_type": "code",
   "execution_count": null,
   "id": "85068343",
   "metadata": {},
   "outputs": [],
   "source": [
    "sampler_job2 = sampler.run(tr_qc_p,shots=int(10e5),resilience_level=1)"
   ]
  },
  {
   "cell_type": "code",
   "execution_count": null,
   "id": "30ddd241",
   "metadata": {},
   "outputs": [],
   "source": [
    "display(sampler_job1.job_id())\n",
    "display(sampler_job2.job_id())"
   ]
  },
  {
   "cell_type": "code",
   "execution_count": null,
   "id": "6ab6a6ef",
   "metadata": {},
   "outputs": [],
   "source": [
    "sampler_job1 = service.runtime.job('ch7l2a85ngm0qh8velpg')\n",
    "sampler_job2 = service.runtime.job('ch7l2cp6klhd7q9k5v4g')\n",
    "display(sampler_job1.status())\n",
    "display(sampler_job2.status())"
   ]
  },
  {
   "cell_type": "code",
   "execution_count": null,
   "id": "d1506d10",
   "metadata": {},
   "outputs": [],
   "source": [
    "result1 = sampler_job1.result()\n",
    "result2 = sampler_job2.result()"
   ]
  },
  {
   "cell_type": "code",
   "execution_count": null,
   "id": "0ed93a3d",
   "metadata": {},
   "outputs": [],
   "source": [
    "plot_distribution(result1.quasi_dists[0].binary_probabilities(),target_string='10', sort='hamming')"
   ]
  },
  {
   "cell_type": "code",
   "execution_count": null,
   "id": "b327c0de",
   "metadata": {},
   "outputs": [],
   "source": [
    "plot_distribution(result2.quasi_dists[0].binary_probabilities(),target_string='10', sort='hamming')"
   ]
  },
  {
   "cell_type": "markdown",
   "id": "bd945e7f",
   "metadata": {},
   "source": [
    "## 실습\n",
    "\n",
    "2x2 \"Lights Out\" Puzzle을 풀어봅시다! \n",
    "\n",
    "\n",
    "라이츠 아웃은 유명한 퍼즐 게임입니다. 플레이어에게는 격자 모양의 불이 켜지는 공간이 주어집니다.이 중 몇 개는 불이 켜져 있고, 몇 개는 점등 되어 있습니다.이 문제의 목적은 랜덤하게 켜져있는 격자안에 불을 모두 끄는 것입니다. 각각의 라이트에는 스위치가 장착되어 있어 이를 누르면 점등/소등시킬 수 있습니다. 하지만 이 라이트는 조금 특별해서 라이트의 스위치를 누르면 양옆과 위아래의 라이트도 같이 반전됩니다 (켜져있다면 꺼지고, 꺼져있다면 켜집니다)\n",
    "\n",
    "### 퍼즐 예제\n",
    "\n",
    "아래 그림은 3x3 라이츠 아웃 퍼즐의 예시입니다.각 라이트에는 0부터 8까지의 라벨이 붙어 있습니다.이진 목록을 사용하여 등불의 상태를 나타낼 수 있습니다.'1'은 켜져있는 라이트를 나타내고, '0'은 꺼져있는 라이트를 나타냅니다.아래 리스트('lights')는 이 예제의 등불의 초기 상태를 나타내고 있습니다.(라이트3,5,6,7이 켜져있고 나머지는 오프입니다)\n",
    "\n",
    "<img src='img/lights_out_rule.png' alt=\"Alternative text\" width=800/>\n",
    "\n",
    "\n",
    "```python\n",
    "lights = [0, 0, 0, 1, 0, 1, 1, 1, 0]\n",
    "```\n",
    "\n",
    "예제는, 그림에 나타난 것처럼, 0, 3, 4의 스위치를 조작하는 것으로 해결할 수 있습니다.조금 플레이를 하다 보면 곧 이 퍼즐 게임의 **두 가지 중요한 특성**을 알게 될 것입니다.\n",
    "\n",
    "\n",
    "1. 같은 스위치를 두번이상 누를 필요는 없습니다.\n",
    "2. 스위치를 누르는 순서는 중요하지 않습니다.\n",
    "\n",
    "따라서 초기 상태와 마찬가지로 이진 목록으로 퍼즐의 해를 표현할 수 있습니다. 다만, 여기에서는 `0`과 `1`의 의미가 조금 달라서 `1`은 스위치를 조작하는 것을 나타내고 `0`은 스위치를 그대로 두는 것을 나타냅니다.\n",
    "\n",
    "\n",
    "```python\n",
    "solution = [1, 0, 0, 1, 1, 0, 0, 0, 0]\n",
    "```\n",
    "\n",
    "### 문제!\n",
    "\n",
    "다음의 퍼즐을 풀어보세요!\n",
    "\n",
    "<img src='img/problem.png' alt=\"Alternative text\" width=200/>\n",
    "\n",
    "lights = [0, 0, 1, 0]"
   ]
  },
  {
   "cell_type": "markdown",
   "id": "5b1ea874",
   "metadata": {},
   "source": [
    "Step1: 보드를 준비합시다\n"
   ]
  },
  {
   "cell_type": "code",
   "execution_count": null,
   "id": "7b9eee6a",
   "metadata": {},
   "outputs": [],
   "source": [
    "lights = [0, 0, 1, 0]"
   ]
  },
  {
   "cell_type": "markdown",
   "id": "0d84be42",
   "metadata": {},
   "source": [
    "그 다음, 보드를 양자 회로에 작성하는 코드를 만들어 봅시다."
   ]
  },
  {
   "cell_type": "code",
   "execution_count": null,
   "id": "0d4790ef",
   "metadata": {},
   "outputs": [],
   "source": [
    "def map_board(lights, qc, qr):\n",
    "    j = 0\n",
    "    for i in lights:\n",
    "        if i==1:\n",
    "            qc.x(qr[j])\n",
    "            j+=1\n",
    "        else:\n",
    "            j+=1"
   ]
  },
  {
   "cell_type": "markdown",
   "id": "c03a1193",
   "metadata": {},
   "source": [
    "<img src='img/2x2.jpeg' alt=\"Alternative text\" width=800/>\n",
    "\n",
    "이 문제를 해결하기 위한 회로는 위와 같이 구성됩니다."
   ]
  },
  {
   "cell_type": "code",
   "execution_count": null,
   "id": "76ee69ac",
   "metadata": {},
   "outputs": [],
   "source": [
    "from qiskit import QuantumCircuit, ClassicalRegister, QuantumRegister\n",
    "tile = QuantumRegister(4)\n",
    "flip = QuantumRegister(4)\n",
    "oracle = QuantumRegister(1)\n",
    "result = ClassicalRegister(4)\n",
    "#9 qubit + 4bit\n",
    "qc = QuantumCircuit(oracle, tile, flip, result)"
   ]
  },
  {
   "cell_type": "markdown",
   "id": "ed53d7d0",
   "metadata": {},
   "source": [
    "정답을 찾기 위한 조건을 오라클에 넣기 전, 몇가지 초기화 단계가 필요합니다.\n",
    "\n",
    "1. 문제의 보드 정보를 tile에 기록합니다.\n",
    "2. flip 레지스터를 중첩 상태로 준비합니다. flip 양자레지스터의 중첩상태가 바로 탐색대상이 됩니다.\n",
    "3. 오라클 레지스터를 |-> 상태로 만듭니다. "
   ]
  },
  {
   "cell_type": "code",
   "execution_count": 10,
   "id": "e2a26865",
   "metadata": {},
   "outputs": [
    {
     "data": {
      "text/html": [
       "\n",
       "        <iframe\n",
       "            width=\"560\"\n",
       "            height=\"315\"\n",
       "            src=\"https://www.youtube.com/embed/PIljiNRTHqY?title=YouTube+video+player&frameborder=0\"\n",
       "            frameborder=\"0\"\n",
       "            allowfullscreen\n",
       "            \n",
       "        ></iframe>\n",
       "        "
      ],
      "text/plain": [
       "<IPython.lib.display.IFrame at 0x7f8670420a00>"
      ]
     },
     "execution_count": 10,
     "metadata": {},
     "output_type": "execute_result"
    }
   ],
   "source": [
    "## your code here\n",
    "\n",
    "IFrame(width=\"560\", height=\"315\", src=\"https://www.youtube.com/embed/PIljiNRTHqY\", title=\"YouTube video player\", frameborder=\"0\" )\n"
   ]
  },
  {
   "cell_type": "code",
   "execution_count": 11,
   "id": "e92fcef3",
   "metadata": {},
   "outputs": [],
   "source": [
    "# solution"
   ]
  },
  {
   "cell_type": "markdown",
   "id": "8aa26aa1",
   "metadata": {},
   "source": [
    "이제 버튼을 누르는 기능을 구현해 봅시다. 동작은 다음과 같습니다.\n",
    "\n",
    "<img src='img/flip_tile.png' alt=\"Alternative text\" width=600/>\n",
    "이 동작을 양자회로로 구현하면 다음과 같습니다.\n",
    "\n",
    "<img src='img/flip_tile_circuit.png' alt=\"Alternative text\" width=600/>\n",
    "\n",
    "이 회로를 구현하는 함수를 만들어 봅시다."
   ]
  },
  {
   "cell_type": "code",
   "execution_count": 15,
   "id": "79f5c888",
   "metadata": {},
   "outputs": [
    {
     "data": {
      "text/html": [
       "\n",
       "        <iframe\n",
       "            width=\"560\"\n",
       "            height=\"315\"\n",
       "            src=\"https://www.youtube.com/embed/PIljiNRTHqY?title=YouTube+video+player&frameborder=0\"\n",
       "            frameborder=\"0\"\n",
       "            allowfullscreen\n",
       "            \n",
       "        ></iframe>\n",
       "        "
      ],
      "text/plain": [
       "<IPython.lib.display.IFrame at 0x7f8670420f10>"
      ]
     },
     "execution_count": 15,
     "metadata": {},
     "output_type": "execute_result"
    }
   ],
   "source": [
    "IFrame(width=\"560\", height=\"315\", src=\"https://www.youtube.com/embed/PIljiNRTHqY\", title=\"YouTube video player\", frameborder=\"0\" )\n"
   ]
  },
  {
   "cell_type": "code",
   "execution_count": null,
   "id": "9babb110",
   "metadata": {},
   "outputs": [],
   "source": [
    "# Subroutine for oracle\n",
    "# Calculate what the light state will be after pressing each solution candidate. \n",
    "def flip_tile(qc,flip,tile):\n",
    "    ## your code here\n",
    "    \n",
    "    "
   ]
  },
  {
   "cell_type": "markdown",
   "id": "c89f39a6",
   "metadata": {},
   "source": [
    "모든 블럭의 불이 꺼졌는지 체크하는 함수를 만들어 봅시다. mct 함수를 사용해서 모든 tile이 0인 경우에 phase kickback을 이용합니다."
   ]
  },
  {
   "cell_type": "code",
   "execution_count": 16,
   "id": "be8849f5",
   "metadata": {},
   "outputs": [
    {
     "data": {
      "text/html": [
       "\n",
       "        <iframe\n",
       "            width=\"560\"\n",
       "            height=\"315\"\n",
       "            src=\"https://www.youtube.com/embed/PIljiNRTHqY?title=YouTube+video+player&frameborder=0\"\n",
       "            frameborder=\"0\"\n",
       "            allowfullscreen\n",
       "            \n",
       "        ></iframe>\n",
       "        "
      ],
      "text/plain": [
       "<IPython.lib.display.IFrame at 0x7f8670420c10>"
      ]
     },
     "execution_count": 16,
     "metadata": {},
     "output_type": "execute_result"
    }
   ],
   "source": [
    "IFrame(width=\"560\", height=\"315\", src=\"https://www.youtube.com/embed/PIljiNRTHqY\", title=\"YouTube video player\", frameborder=\"0\" )\n"
   ]
  },
  {
   "cell_type": "code",
   "execution_count": null,
   "id": "68b2b85e",
   "metadata": {
    "scrolled": true
   },
   "outputs": [],
   "source": [
    "def all_zero(qc, tile):\n",
    "    # your code \n",
    "    \n",
    "\n"
   ]
  },
  {
   "cell_type": "code",
   "execution_count": null,
   "id": "92fcce74",
   "metadata": {},
   "outputs": [],
   "source": [
    "# solution\n",
    "\n",
    "\n"
   ]
  },
  {
   "cell_type": "markdown",
   "id": "bfdb8891",
   "metadata": {},
   "source": [
    "이제 전체 회로를 작성해 봅시다. 전체 가능한 해답의 수가 $2^4$이므로, Oracle고 Diffusion은 $\\frac{\\pi}{4} \\sqrt{2^4} - \\frac{1}{2} \\risingdotseq 2.641$, 약 3회 반복합시다. "
   ]
  },
  {
   "cell_type": "code",
   "execution_count": null,
   "id": "f033cf4f",
   "metadata": {},
   "outputs": [],
   "source": [
    "# create the circuit\n",
    "initialize()\n",
    "qc.barrier()\n",
    "# the number of iteration is 3\n",
    "for i in range(3):\n",
    "    # oracle\n",
    "    flip_tile(qc,flip,tile)\n",
    "    \n",
    "    qc.barrier()\n",
    "    \n",
    "    all_zero(qc, tile)\n",
    "    \n",
    "    qc.barrier()\n",
    "    \n",
    "    # U^dagger of flip_tile function is flip_tile itself.\n",
    "    flip_tile(qc,flip,tile)\n",
    "    \n",
    "    # diffusion\n",
    "    qc.h(flip)\n",
    "    qc.x(flip)\n",
    "    qc.h(flip[3])\n",
    "    qc.mct(flip[0:3], flip[3])\n",
    "    qc.h(flip[3])\n",
    "    qc.x(flip)\n",
    "    qc.h(flip)\n",
    "    qc.barrier()\n",
    "\n",
    "# Uncompute\n",
    "qc.h(oracle[0])\n",
    "qc.x(oracle[0])\n",
    "qc.barrier()\n",
    "\n",
    "# Measurement\n",
    "qc.measure(flip,result)\n",
    "qc.barrier()\n",
    "# Make the Out put order the same as the input.\n",
    "qc = qc.reverse_bits() "
   ]
  },
  {
   "cell_type": "code",
   "execution_count": null,
   "id": "e88b2093",
   "metadata": {},
   "outputs": [],
   "source": [
    "qc.draw(output='mpl')\n"
   ]
  },
  {
   "cell_type": "markdown",
   "id": "9fcb98a3",
   "metadata": {},
   "source": [
    "결과를 시뮬레이션 하여 확인해 봅시다."
   ]
  },
  {
   "cell_type": "code",
   "execution_count": null,
   "id": "75222a15",
   "metadata": {},
   "outputs": [],
   "source": [
    "backend = AerSimulator()\n",
    "counts = backend.run(qc, shots=100000).result().get_counts()\n",
    "plot_histogram(counts)"
   ]
  },
  {
   "cell_type": "code",
   "execution_count": null,
   "id": "1670e1f8",
   "metadata": {},
   "outputs": [],
   "source": []
  }
 ],
 "metadata": {
  "kernelspec": {
   "display_name": "Python 3 (ipykernel)",
   "language": "python",
   "name": "python3"
  },
  "language_info": {
   "codemirror_mode": {
    "name": "ipython",
    "version": 3
   },
   "file_extension": ".py",
   "mimetype": "text/x-python",
   "name": "python",
   "nbconvert_exporter": "python",
   "pygments_lexer": "ipython3",
   "version": "3.9.0"
  }
 },
 "nbformat": 4,
 "nbformat_minor": 5
}
