{
 "cells": [
  {
   "cell_type": "code",
   "execution_count": null,
   "id": "b8b31a7d",
   "metadata": {},
   "outputs": [],
   "source": [
    "import numpy as np\n",
    "from numpy import linalg as LA\n",
    "\n",
    "import pandas as pd\n",
    "from math import sqrt, pi\n",
    "\n",
    "from qiskit import *\n",
    "from qiskit.visualization import plot_histogram, plot_distribution, plot_error_map, plot_bloch_multivector, plot_state_qsphere\n",
    "from qiskit.visualization.array import array_to_latex\n",
    "from qiskit.quantum_info import hellinger_fidelity, random_statevector, Statevector, Operator,QuantumState\n",
    "\n",
    "\n",
    "from qiskit_ibm_provider import IBMProvider\n",
    "\n",
    "from qiskit_aer import AerSimulator, QasmSimulator, StatevectorSimulator\n",
    "\n",
    "\n",
    "# Plotting tools\n",
    "import matplotlib.pyplot as plt"
   ]
  },
  {
   "cell_type": "code",
   "execution_count": null,
   "id": "ee5e5290",
   "metadata": {},
   "outputs": [],
   "source": [
    "#IBMProvider.save_account(\"Your_Token\", overwrite=True)\n",
    "#provider = IBMProvider()\n",
    "\n",
    "#수업을 위해 추가된 허브와 그룹, 프로젝트를 프로바이더에 설정\n",
    "provider = IBMProvider(instance=\"ibm-q-yonsei/internal/qc-and-simulatio\")"
   ]
  },
  {
   "cell_type": "code",
   "execution_count": null,
   "id": "b2386f86",
   "metadata": {},
   "outputs": [],
   "source": [
    "from qiskit_ibm_provider import least_busy\n",
    "\n",
    "real_backend = least_busy(provider.backends())\n",
    "real_backend"
   ]
  },
  {
   "cell_type": "markdown",
   "id": "ec167a16",
   "metadata": {},
   "source": [
    "### 제 4 가설 - 다중 양자 상태(multiple quantum state)\n",
    "\n",
    "지금까지는 하나의 양자상태만을 갖는 양자 시스템에 대해서 살펴보았습니다. 양자컴퓨터에 비교하자면 큐비트 하나로 이루어진 시스템이었습니다. 하지만 양자 시스템이 여러개의 양자시스템의 합성으로 이루어지는 경우, 2개 이상의 큐비트를 지닌 양자컴퓨터와 같은 경우, 어떻게 다루어야 할까요. 이와 같은 합성 시스템을 수학적으로 표현하는 방법을 알아보기 전, 합성 시스템의 차원에 대해 살펴봅시다.\n",
    "\n",
    "두개의 큐비트로 이루어진 양자 시스템을 가정해 봅시다. 각각의 큐비트는 2차원의 양자 공간에 존재합니다. 두 개의 큐비트로 이루어진 양자 공간은 4차원의 단일 양자 시스템으로 볼 수있으며 그 근거는 다음과 같습니다. 각각의 큐비트는 배타적인 두 개의 상태($|0\\rangle, |1\\rangle$)를 지니고 있고 각 큐비트는 서로 구분이 가능하기 때문에 전체 시스템은 총 4개(첫번째 큐비트의 상태를 왼쪽에, 두번째 큐비트의 상태를 오른쪽에 남긴다고 할 때, 각각 $|00\\rangle$, $|01\\rangle$, $|10\\rangle$, $|11\\rangle$)의 배타적인 상태를 지닌 단일 시스템으로 해석할 수 있습니다.\n",
    "\n",
    "#### 텐서곱(Tensor product)\n",
    "다음과 같은 임의의 상태를 지니는 두개의 큐비트가 있다고 가정해 봅시다. 두개의 큐비트로 이루어진 시스템의 상태는 다음과 같이 텐서곱으로 계산할 수 있습니다.\n",
    "$$\n",
    "|a\\rangle = a_0|0\\rangle + a_1|1\\rangle =\n",
    "\\begin{pmatrix}\n",
    "a_0\\\\\n",
    "a_1\n",
    "\\end{pmatrix}, |b\\rangle = b_0|0\\rangle + b_1|1\\rangle =\n",
    "\\begin{pmatrix}\n",
    "b_0\\\\\n",
    "b_1\n",
    "\\end{pmatrix}\n",
    "$$\n",
    "$$\n",
    "|ab\\rangle = |a\\rangle \\otimes |b\\rangle =\n",
    "\\begin{pmatrix}\n",
    "a_0 \\times\n",
    "\\begin{pmatrix}\n",
    "b_0\\\\\n",
    "b_1\n",
    "\\end{pmatrix}\\\\\n",
    "a_1 \\times\n",
    "\\begin{pmatrix}\n",
    "b_0\\\\\n",
    "b_1\n",
    "\\end{pmatrix}\n",
    "\\end{pmatrix} =\n",
    "\\begin{pmatrix}\n",
    "a_0b_0\\\\\n",
    "a_0b_1\\\\\n",
    "a_1b_0\\\\\n",
    "a_1b_1\n",
    "\\end{pmatrix}\n",
    "$$\n",
    "이 텐서곱을 새로 만들어질 시스템의 기저를 계산하기 위해 사용해 봅시다.\n",
    "$$\n",
    "|00\\rangle = |0\\rangle_{qubit_1}\\otimes|0\\rangle_{qubit_2}=\n",
    "\\begin{pmatrix}\n",
    "1 \\times \n",
    "\\begin{pmatrix}\n",
    "1\\\\\n",
    "0\n",
    "\\end{pmatrix}\n",
    "\\\\\n",
    "0 \\times \n",
    "\\begin{pmatrix}\n",
    "1\\\\\n",
    "0\n",
    "\\end{pmatrix}\n",
    "\\end{pmatrix} =\n",
    "\\begin{pmatrix}\n",
    "1\\\\\n",
    "0\\\\ \n",
    "0\\\\ \n",
    "0\n",
    "\\end{pmatrix}$$\n",
    "\n",
    "$$\n",
    "|01\\rangle = |0\\rangle_{qubit_1}\\otimes|1\\rangle_{qubit_2}=\n",
    "\\begin{pmatrix}\n",
    "1 \\times \n",
    "\\begin{pmatrix}\n",
    "0\\\\\n",
    "1\n",
    "\\end{pmatrix}\n",
    "\\\\\n",
    "0 \\times \n",
    "\\begin{pmatrix}\n",
    "0\\\\\n",
    "1\n",
    "\\end{pmatrix}\n",
    "\\end{pmatrix} =\n",
    "\\begin{pmatrix}\n",
    "0\\\\\n",
    "1\\\\ \n",
    "0\\\\ \n",
    "0\n",
    "\\end{pmatrix}$$\n",
    "\n",
    "$$\n",
    "|10\\rangle = |1\\rangle_{qubit_1}\\otimes|0\\rangle_{qubit_2}=\n",
    "\\begin{pmatrix}\n",
    "0 \\times \n",
    "\\begin{pmatrix}\n",
    "1\\\\\n",
    "0\n",
    "\\end{pmatrix}\n",
    "\\\\\n",
    "1 \\times \n",
    "\\begin{pmatrix}\n",
    "1\\\\\n",
    "0\n",
    "\\end{pmatrix}\n",
    "\\end{pmatrix} =\n",
    "\\begin{pmatrix}\n",
    "0\\\\\n",
    "0\\\\ \n",
    "1\\\\ \n",
    "0\n",
    "\\end{pmatrix}$$\n",
    "\n",
    "$$\n",
    "|11\\rangle = |1\\rangle_{qubit_1}\\otimes|1\\rangle_{qubit_2}=\n",
    "\\begin{pmatrix}\n",
    "0 \\times \n",
    "\\begin{pmatrix}\n",
    "0\\\\\n",
    "1\n",
    "\\end{pmatrix}\n",
    "\\\\\n",
    "1 \\times \n",
    "\\begin{pmatrix}\n",
    "0\\\\\n",
    "1\n",
    "\\end{pmatrix}\n",
    "\\end{pmatrix} =\n",
    "\\begin{pmatrix}\n",
    "0\\\\\n",
    "0\\\\ \n",
    "0\\\\ \n",
    "1\n",
    "\\end{pmatrix}$$\n",
    "\n",
    "#### 측정 확률\n",
    "여러 개의 양자 시스템이 결합된 시스템의 측정 확률은 어떻게 결정될까요? 각각의 양자 시스템의 상태들이 배타적이기 때문에 아주 간단하게도 합성 시스템의 상태 $|\\Psi\\rangle = |\\phi_1\\rangle|\\phi_2\\rangle = |\\phi_1\\rangle \\otimes |\\phi_2\\rangle$의 측정 확률은 다음과 같이 결정됩니다.\n",
    "$$P(\\Psi) = P(\\phi_1)P(\\phi_2) = |\\langle \\phi_1 | \\psi_1 \\rangle|^2|\\langle \\phi_2 | \\psi_2 \\rangle|^2$$\n"
   ]
  },
  {
   "cell_type": "markdown",
   "id": "dd6c854e",
   "metadata": {},
   "source": [
    "다음의 셀에서 $|+\\rangle$ 상태인 단일 큐비트 3개로 구성된 다중 큐비트 회로를 작성하고, 그 회로의 상태벡터를 확인해 봅시다. 또한 상태벡터를 bloch 구면으로 확인해 봅시다."
   ]
  },
  {
   "cell_type": "code",
   "execution_count": null,
   "id": "b781d4ec",
   "metadata": {},
   "outputs": [],
   "source": [
    "qc = QuantumCircuit(3)\n",
    "\n",
    "#your code here\n",
    "\n",
    "state = Statevector(qc)\n",
    "array_to_latex(state)"
   ]
  },
  {
   "cell_type": "code",
   "execution_count": null,
   "id": "9c6ad318",
   "metadata": {},
   "outputs": [],
   "source": [
    "#measure result\n",
    "state.sample_counts(shots=10000)"
   ]
  },
  {
   "cell_type": "code",
   "execution_count": null,
   "id": "6a9fe473",
   "metadata": {},
   "outputs": [],
   "source": [
    "#probability\n",
    "state.probabilities_dict()"
   ]
  },
  {
   "cell_type": "code",
   "execution_count": null,
   "id": "6fccedd9",
   "metadata": {},
   "outputs": [],
   "source": [
    "state.draw('bloch')"
   ]
  },
  {
   "cell_type": "markdown",
   "id": "887cffb7",
   "metadata": {},
   "source": [
    "## 연습문제\n",
    "1. Write down the kronecker product of the qubits:\n",
    "- a)$|0\\rangle |1\\rangle$\n",
    "- b)$|0\\rangle |+\\rangle$ \n",
    "- c)$|+\\rangle |1\\rangle$ \n",
    "- d)$|-\\rangle |+\\rangle$ \n",
    "\n",
    "\n",
    "2. Write the state: $|\\psi\\rangle = \\frac{1}{\\sqrt{2}}|00\\rangle + \\frac{i}{\\sqrt{2}}|01\\rangle$ as two separate qubits."
   ]
  },
  {
   "cell_type": "code",
   "execution_count": null,
   "id": "e83aabda",
   "metadata": {},
   "outputs": [],
   "source": [
    "# prepare ingredient\n",
    "ket0 = Statevector([]).from_label('0')\n",
    "display(array_to_latex(ket0))\n",
    "ket1 = Statevector([]).from_label('1')\n",
    "display(array_to_latex(ket1))\n",
    "ketp = Statevector([]).from_label(\"+\")\n",
    "display(array_to_latex(ketp))\n",
    "ketm = Statevector([]).from_label('-')\n",
    "display(array_to_latex(ketm))"
   ]
  },
  {
   "cell_type": "markdown",
   "id": "238fd06a",
   "metadata": {},
   "source": [
    "Qiskit에서 statevector들의 tensor곱은\n",
    "- ^ (ex: a^b)\n",
    "를 사용해 쉽게 구할수있습니다"
   ]
  },
  {
   "cell_type": "code",
   "execution_count": null,
   "id": "e10a850c",
   "metadata": {},
   "outputs": [],
   "source": [
    "#1-a\n",
    "\n"
   ]
  },
  {
   "cell_type": "code",
   "execution_count": null,
   "id": "663cdc7a",
   "metadata": {},
   "outputs": [],
   "source": [
    "#1-b\n"
   ]
  },
  {
   "cell_type": "code",
   "execution_count": null,
   "id": "9ab7d2cc",
   "metadata": {},
   "outputs": [],
   "source": [
    "#1-c\n"
   ]
  },
  {
   "cell_type": "code",
   "execution_count": null,
   "id": "12b8d74b",
   "metadata": {},
   "outputs": [],
   "source": [
    "#1-d\n"
   ]
  },
  {
   "cell_type": "code",
   "execution_count": null,
   "id": "6cf56b7e",
   "metadata": {},
   "outputs": [],
   "source": [
    "#2\n",
    "\n"
   ]
  },
  {
   "cell_type": "markdown",
   "id": "998c4012",
   "metadata": {},
   "source": [
    "## 2. Single Qubit Gates on Multi-Qubit Statevectors\n",
    "\n",
    "Qubit0는 Hadamard Gate가, Qubit1은 X Gate가 각각 적용된 2큐비트 양자회로를 그리고, 이 회로의 Operator를 확인해 봅시다."
   ]
  },
  {
   "cell_type": "code",
   "execution_count": null,
   "id": "4b521b41",
   "metadata": {},
   "outputs": [],
   "source": [
    "qc = QuantumCircuit(2)\n",
    "\n",
    "#your code here\n",
    "\n",
    "array_to_latex(Operator(qc).to_instruction())"
   ]
  },
  {
   "cell_type": "markdown",
   "id": "c750dcc2",
   "metadata": {},
   "source": [
    "## 연습문제\n",
    "1. Calculate the single qubit unitary (U) created by the sequence of gates: U=XZH. \n",
    "2. Use Qiskit's Aersimulator to check your results."
   ]
  },
  {
   "cell_type": "code",
   "execution_count": null,
   "id": "9fcb9d09",
   "metadata": {},
   "outputs": [],
   "source": [
    "#1\n",
    "\n",
    "qc = QuantumCircuit(2)\n",
    "\n",
    "#your code here\n",
    "\n",
    "array_to_latex(Operator(qc))"
   ]
  },
  {
   "cell_type": "code",
   "execution_count": null,
   "id": "68477b9e",
   "metadata": {},
   "outputs": [],
   "source": [
    "qc.save_unitary()"
   ]
  },
  {
   "cell_type": "code",
   "execution_count": null,
   "id": "2a2057e8",
   "metadata": {},
   "outputs": [],
   "source": [
    "backend = AerSimulator()\n",
    "result = backend.run(qc).result().get_unitary()\n",
    "array_to_latex(result)\n"
   ]
  },
  {
   "cell_type": "markdown",
   "id": "d720a451",
   "metadata": {},
   "source": [
    "## 3. Multi-Qubit Gates\n",
    "\n",
    "### CNOT-Gate\n",
    "\n",
    "고전 컴퓨터의 논리게이트 중 XOR 게이트의 논리표는 다음과 같습니다.\n",
    "\n",
    "|input1 (Control bit)|input2 (Target bit)|output = input2|\n",
    "|---|---|---|\n",
    "|0 | 0| 0 |\n",
    "|0 | 1 | 1 |\n",
    "| 1| 0 | 1|\n",
    "|1 | 1 | 0|\n",
    "\n",
    "<img src=\"https://learn.qiskit.org/content/v2/ch-states/images/cnot_xor.svg\" alt=\"Alternative text\" width=300/>\n",
    "\n",
    "아래에서 H 게이트와 CNOT 게이트로 작성된 간단한 양자 회로를 작성하고 단계마다 큐비트의 statevector와 양자게이트의 operator를 확인해 봅시다./\n"
   ]
  },
  {
   "cell_type": "code",
   "execution_count": null,
   "id": "d7ca777a",
   "metadata": {},
   "outputs": [],
   "source": [
    "A = QuantumRegister(1, \"A\")\n",
    "B = QuantumRegister(1, \"B\")\n",
    "circuit = QuantumCircuit(A, B)\n",
    "circuit.draw(\"mpl\")"
   ]
  },
  {
   "cell_type": "code",
   "execution_count": null,
   "id": "62a8932c",
   "metadata": {},
   "outputs": [],
   "source": [
    "circuit.h(A)\n",
    "circuit.draw('mpl')"
   ]
  },
  {
   "cell_type": "code",
   "execution_count": null,
   "id": "105008fa",
   "metadata": {},
   "outputs": [],
   "source": [
    "array_to_latex(Operator(circuit))"
   ]
  },
  {
   "cell_type": "code",
   "execution_count": null,
   "id": "accece10",
   "metadata": {},
   "outputs": [],
   "source": [
    "array_to_latex(Statevector(circuit))"
   ]
  },
  {
   "cell_type": "code",
   "execution_count": null,
   "id": "2057c6f3",
   "metadata": {},
   "outputs": [],
   "source": [
    "circuit.cx(A, B)\n",
    "circuit.draw(\"mpl\")"
   ]
  },
  {
   "cell_type": "code",
   "execution_count": null,
   "id": "69ed02a4",
   "metadata": {},
   "outputs": [],
   "source": [
    "array_to_latex(Operator(circuit))"
   ]
  },
  {
   "cell_type": "code",
   "execution_count": null,
   "id": "7aef13e6",
   "metadata": {},
   "outputs": [],
   "source": [
    "array_to_latex(Statevector(circuit))"
   ]
  },
  {
   "cell_type": "markdown",
   "id": "f550f485",
   "metadata": {},
   "source": [
    "## 3.2 Entangled States\n",
    "\n",
    "바로 위에서 만든 양자 회로의 Statevector를 살펴봅시다. 이 상태는\n",
    "$$\\frac{\\sqrt{2}}{2}(|00\\rangle + |11\\rangle)$$\n",
    " \n",
    "와 같이 쓸수 있으며, $|00\\rangle$과 $|11\\rangle$을 측정할 확률이 각각 50%이며, $|01\\rangle$과 $|10\\rangle$을 측정할 확률은 0이 됩니다. \n",
    "\n",
    "Statevector를 사용하여 결과를 실제로 구현해 봅시다."
   ]
  },
  {
   "cell_type": "code",
   "execution_count": null,
   "id": "6669262f",
   "metadata": {},
   "outputs": [],
   "source": [
    "backend = AerSimulator()\n",
    "circuit.measure_all()\n",
    "job = backend.run(circuit, shots=10000) #shot\n",
    "results = job.result()\n",
    "counts = results.get_counts()\n",
    "\n",
    "plot_distribution(counts)"
   ]
  },
  {
   "cell_type": "markdown",
   "id": "8b4375fc",
   "metadata": {},
   "source": [
    "이 상태의 신기함을 다음의 회로로 다시 확인해 봅시다. 이 회로는 0번 큐비트 만을 측정하여 상태가 결정되게 됩니다. 측정이 있기 전과 후의 큐비트의 statevector를 확인하여 두 큐비트가 얽혀있음을 확인해 봅시다."
   ]
  },
  {
   "cell_type": "code",
   "execution_count": null,
   "id": "7254672d",
   "metadata": {},
   "outputs": [],
   "source": [
    "qc=QuantumCircuit(2,1)\n",
    "qc.h(0)\n",
    "qc.cx(0,1)\n",
    "qc.draw('mpl')"
   ]
  },
  {
   "cell_type": "code",
   "execution_count": null,
   "id": "33a99238",
   "metadata": {},
   "outputs": [],
   "source": [
    "array_to_latex(Statevector(qc))"
   ]
  },
  {
   "cell_type": "code",
   "execution_count": null,
   "id": "c31f3e30",
   "metadata": {},
   "outputs": [],
   "source": [
    "qc=QuantumCircuit(2,1)\n",
    "qc.h(0)\n",
    "qc.cx(0,1)\n",
    "qc.measure(0,0)\n",
    "qc.draw('mpl')"
   ]
  },
  {
   "cell_type": "code",
   "execution_count": null,
   "id": "31aea184",
   "metadata": {},
   "outputs": [],
   "source": [
    "backend = StatevectorSimulator()\n",
    "result= backend.run(qc, shots=1).result()\n",
    "result.get_counts()"
   ]
  },
  {
   "cell_type": "code",
   "execution_count": null,
   "id": "db16d449",
   "metadata": {},
   "outputs": [],
   "source": [
    "array_to_latex(result.get_statevector())"
   ]
  },
  {
   "cell_type": "markdown",
   "id": "ecf9a0b8",
   "metadata": {},
   "source": [
    "## 3.3 Visualizing Entangled States\n",
    "\n",
    "얽힌 상태를 효과적으로 표시하는 것은 어려운 일입니다. Qiskit의 두가지 모듈이 다중 큐비트 상태의 표현을 지원합니다. 여러분이 이미 친숙하신 함수들입니다.\n",
    "\n",
    "다음과 같은 얽힘 상태를 갖는 회로를 만들고 plot_bloch_multivector와 qspher를 사용해 그려보세요.\n",
    "\n",
    "|$\\Psi^+$> = [0.      +0.j, 0.707107+0.j, 0.707107+0.j ,0.      +0.j]"
   ]
  },
  {
   "cell_type": "code",
   "execution_count": null,
   "id": "e209ad0a",
   "metadata": {},
   "outputs": [],
   "source": [
    "qc_psi_plus = QuantumCircuit(2)\n",
    "\n",
    "#your code here\n",
    "\n",
    "qc_psi_plus.draw(output='mpl')"
   ]
  },
  {
   "cell_type": "code",
   "execution_count": null,
   "id": "d1073f89",
   "metadata": {},
   "outputs": [],
   "source": [
    "plot_bloch_multivector(Statevector(qc_psi_plus))"
   ]
  },
  {
   "cell_type": "code",
   "execution_count": null,
   "id": "760cdd95",
   "metadata": {},
   "outputs": [],
   "source": [
    " plot_state_qsphere(Statevector(qc_psi_plus))"
   ]
  },
  {
   "cell_type": "markdown",
   "id": "56481281",
   "metadata": {},
   "source": [
    "# Phase Kickback\n",
    "\n",
    "## How we use the global phase\n",
    "\n",
    "전역 위상은 일반적으로 측정에 아무 영향을 미치지 않기 때문에 중요하지 않게 여겨지곤 합니다.\n",
    "\n",
    "$|\\psi\\rangle \\rightarrow e^{i\\alpha}|\\psi\\rangle $에 대하여, $|\\langle\\phi|\\psi\\rangle|^2 \\rightarrow |e^{i\\alpha}\\langle\\phi|\\psi\\rangle|^2 = |e^{i\\alpha}|^2|\\langle\\phi|\\psi\\rangle|^2 = |\\langle\\phi|\\psi\\rangle|^2$\n",
    "\n",
    "하지만, 다음과 같은 다중 큐비트 연산을 정의할 때 어떤 일이 발생하는 지 한번 살펴봅시다:\n",
    "$V_\\alpha = e^{i\\alpha}I$ 는 아주 간단히 대상에 전역 위상을 부여하는 동작을 합니다. 이 연산을 사용한 제어 연산을 정의하게 되면, 그 결과는 다음과 같이 다소 흥미롭습니다:\n",
    "$$|0\\rangle\\langle0|\\otimes I + |1\\rangle\\langle1|\\otimes e^{i\\alpha}I = \n",
    "\\begin{pmatrix}\n",
    "1 & 0\\\\\n",
    "0 & e^{i\\alpha}\n",
    "\\end{pmatrix} \\otimes I\n",
    "$$\n",
    "위에서 볼 수 있듯이, 전역 위상이 제어 비트에 적용됩니다. 이것이 위상 반동의 아주 기본적인 개념입니다. 만약 우리가 제어된 U 연산을 U의 **eigenstate**를 지닌 큐비트 $|\\psi_k\\rangle$에 적용하면, $|\\psi_k\\rangle$의 상태는 변하지 않으면서 $|0\\rangle\\langle0|\\otimes I + |1\\rangle\\langle1|\\otimes e^{i\\alpha}I$ 가 발생해서 제어 큐비트에 위상이 입혀지게 됩니다.\n",
    "\n",
    "## Exploring the CNOT-Gate\n",
    "\n",
    "텍스트북과 같은 순서로 CNOT 게이트를 탐색해 보고, Phase Kickback에 대해서 배워 보도록 합시다."
   ]
  },
  {
   "cell_type": "code",
   "execution_count": null,
   "id": "0d9e243b",
   "metadata": {},
   "outputs": [],
   "source": [
    "qc = QuantumCircuit(2)\n",
    "\n",
    "# your code here\n",
    "\n",
    "qc.draw('mpl')"
   ]
  },
  {
   "cell_type": "code",
   "execution_count": null,
   "id": "0e78feb4",
   "metadata": {},
   "outputs": [],
   "source": [
    "array_to_latex(Statevector(qc))"
   ]
  },
  {
   "cell_type": "code",
   "execution_count": null,
   "id": "c930e110",
   "metadata": {},
   "outputs": [],
   "source": [
    "# your code here\n",
    "\n",
    "array_to_latex(Statevector(qc))"
   ]
  },
  {
   "cell_type": "code",
   "execution_count": null,
   "id": "735840be",
   "metadata": {},
   "outputs": [],
   "source": [
    "Statevector(qc).draw('bloch')"
   ]
  },
  {
   "cell_type": "markdown",
   "id": "95f98160",
   "metadata": {},
   "source": [
    "이번엔 대상 큐비트의 상태를 $|-\\rangle$ 상태로 만든 후 CNOT 게이트를 적용해 봅시다."
   ]
  },
  {
   "cell_type": "code",
   "execution_count": null,
   "id": "f47aa23a",
   "metadata": {},
   "outputs": [],
   "source": [
    "qc = QuantumCircuit(2)\n",
    "\n",
    "# your code here\n",
    "\n",
    "array_to_latex(Statevector(qc))"
   ]
  },
  {
   "cell_type": "code",
   "execution_count": null,
   "id": "365199be",
   "metadata": {},
   "outputs": [],
   "source": [
    "Statevector(qc).draw('bloch')"
   ]
  },
  {
   "cell_type": "code",
   "execution_count": null,
   "id": "3dd53675",
   "metadata": {},
   "outputs": [],
   "source": [
    "# your code here\n",
    "\n",
    "array_to_latex(Statevector(qc))"
   ]
  },
  {
   "cell_type": "code",
   "execution_count": null,
   "id": "f5e252bd",
   "metadata": {},
   "outputs": [],
   "source": [
    "Statevector(qc).draw('bloch')"
   ]
  },
  {
   "cell_type": "markdown",
   "id": "edd36e8e",
   "metadata": {},
   "source": [
    "###  Circuit identity\n",
    "\n",
    "Phase Kick-back을 이해하는 또다른 방법은 회로 자체의 특성을 이해하는 것입니다. 다음과 같이 Phase Kickback 회로중 일부분을 그려봅시다."
   ]
  },
  {
   "cell_type": "code",
   "execution_count": null,
   "id": "6e482607",
   "metadata": {},
   "outputs": [],
   "source": [
    "qc = QuantumCircuit(2)\n",
    "qc.h(0)\n",
    "qc.h(1)\n",
    "qc.cx(0,1)\n",
    "qc.h(0)\n",
    "qc.h(1)\n",
    "qc.draw('mpl')"
   ]
  },
  {
   "cell_type": "code",
   "execution_count": null,
   "id": "fcec3ac7",
   "metadata": {},
   "outputs": [],
   "source": [
    "array_to_latex(Operator(qc))"
   ]
  },
  {
   "cell_type": "code",
   "execution_count": null,
   "id": "b8282d5c",
   "metadata": {},
   "outputs": [],
   "source": [
    "qc = QuantumCircuit(2)\n",
    "qc.cx(1,0)\n",
    "array_to_latex(Operator(qc))"
   ]
  },
  {
   "cell_type": "markdown",
   "id": "46f9a3dd",
   "metadata": {},
   "source": [
    "###   Kickback with the Phase Gate\n",
    "\n",
    "Phase Kick-back은 기본적으로 제어된 유니터리 연산을 eigenstate인 큐비트에 적용할때 발생합니다. 우리는 앞서 각 pauli 연산의 eigenvector를 확인한 바 있으며, 가장 기본적이었던 Z 게이트의 eigenstate는 계산기저와 같은 $|0\\rangle$ 또는 $|1\\rangle$ 임을 앞서 확인했습니다. \n",
    "\n",
    "그렇다면! Z Gate와 같은 류의, Phase Gate를 Phase Kickback에 사용할 방법이 떠오르네요!"
   ]
  },
  {
   "cell_type": "code",
   "execution_count": null,
   "id": "2d3bc4ac",
   "metadata": {},
   "outputs": [],
   "source": [
    "#circuit with h and x\n",
    "qc = QuantumCircuit(2)\n",
    "\n",
    "# your code here\n",
    "\n",
    "Statevector(qc).draw('bloch')\n"
   ]
  },
  {
   "cell_type": "code",
   "execution_count": null,
   "id": "ee5a8de0",
   "metadata": {},
   "outputs": [],
   "source": [
    "#your code here : controlled-p with pi/4\n",
    "\n",
    "Statevector(qc).draw('bloch')"
   ]
  },
  {
   "cell_type": "code",
   "execution_count": null,
   "id": "07666ce6",
   "metadata": {},
   "outputs": [],
   "source": [
    "#circuit with h and x\n",
    "\n",
    "qc = QuantumCircuit(2)\n",
    "\n",
    "# your code here\n",
    "\n",
    "Statevector(qc).draw('bloch')\n"
   ]
  },
  {
   "cell_type": "code",
   "execution_count": null,
   "id": "da183d21",
   "metadata": {},
   "outputs": [],
   "source": [
    "#your code here : controlled-p with pi/2\n",
    "\n",
    "Statevector(qc).draw('bloch')"
   ]
  },
  {
   "cell_type": "code",
   "execution_count": null,
   "id": "2578d653",
   "metadata": {},
   "outputs": [],
   "source": [
    "#circuit with x and x\n",
    "\n",
    "qc = QuantumCircuit(2)\n",
    "\n",
    "#your code here\n",
    "\n",
    "Statevector(qc).draw('bloch')"
   ]
  },
  {
   "cell_type": "code",
   "execution_count": null,
   "id": "2e9213ed",
   "metadata": {},
   "outputs": [],
   "source": [
    "#your code here : controlled-p with pi/4\n",
    "\n",
    "Statevector(qc).draw('bloch')"
   ]
  },
  {
   "cell_type": "code",
   "execution_count": null,
   "id": "084f17a9",
   "metadata": {},
   "outputs": [],
   "source": [
    "#circuit with h and h\n",
    "\n",
    "qc = QuantumCircuit(2)\n",
    "\n",
    "#your code here\n",
    "\n",
    "Statevector(qc).draw('bloch')"
   ]
  },
  {
   "cell_type": "code",
   "execution_count": null,
   "id": "aa00f696",
   "metadata": {},
   "outputs": [],
   "source": [
    "#your code here : controlled-p with pi/4\n",
    "\n",
    "Statevector(qc).draw('bloch')"
   ]
  },
  {
   "cell_type": "code",
   "execution_count": null,
   "id": "1d0c8cd1",
   "metadata": {},
   "outputs": [],
   "source": []
  },
  {
   "cell_type": "code",
   "execution_count": null,
   "id": "b60dec69",
   "metadata": {},
   "outputs": [],
   "source": []
  }
 ],
 "metadata": {
  "kernelspec": {
   "display_name": "Python 3 (ipykernel)",
   "language": "python",
   "name": "python3"
  },
  "language_info": {
   "codemirror_mode": {
    "name": "ipython",
    "version": 3
   },
   "file_extension": ".py",
   "mimetype": "text/x-python",
   "name": "python",
   "nbconvert_exporter": "python",
   "pygments_lexer": "ipython3",
   "version": "3.9.0"
  }
 },
 "nbformat": 4,
 "nbformat_minor": 5
}
