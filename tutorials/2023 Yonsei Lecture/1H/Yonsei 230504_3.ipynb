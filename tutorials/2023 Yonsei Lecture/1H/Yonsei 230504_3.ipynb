{
 "cells": [
  {
   "cell_type": "markdown",
   "id": "6d7bdbb5",
   "metadata": {},
   "source": [
    "### Qiskit Coding Lecture 2nd, 2023 1학기 연세대학교 PHY5051-01 \n",
    "- \n",
    "Date and time: 230504, 10am to 1pm KST\n",
    "- \n",
    "[Lecture Syllabus](https://learn.qiskit.org/syllabus/IJN-K0N)\n",
    "\n",
    "## 수업 중간중간 사용할 퀴즈 플랫폼 로그인\n",
    "\n",
    "오늘도 마찬가지로 퀴즈쇼를 진행해 봅시다! 오늘은 총 15개의 문제가 준비되어 있습니다.\n",
    "\n",
    "<h3>모두 로그인해주세요!</h3>\n",
    "\n",
    "수업을 모두 마친후 최상위 5인에게는 종강전에 특별 상품을 보내드립니다! 기대하세요! (지난번 상품은 무엇이엇을까요?)\n",
    "\n",
    "https://ahaslides.com/FXWV2\n",
    "\n",
    "<img src=\"img/quiz.png\" alt=\"Alternative text\" width=800/>"
   ]
  },
  {
   "cell_type": "markdown",
   "id": "70923a8c",
   "metadata": {},
   "source": [
    "## Quantum Fourier Transform - Quick Overview\n",
    "\n",
    "[Qiskit Textbook Link](https://learn.qiskit.org/course/ch-algorithms/quantum-fourier-transform)\n",
    "\n",
    "양자 푸리에 변환의 일반적인 공식을 \n",
    "\n",
    "N 큐비트 양자상태 $|X\\rangle = \\sum_{j=0}^{N-1}x_j |j\\rangle$을 $|Y\\rangle = \\sum_{k=0}^{N-1}y_k |k\\rangle$로 다음과 같이 변환하는 양자 푸리에 변환이 다음과 같이 정의될 때,\n",
    "\n",
    "$$y_k = \\frac{1}{\\sqrt{N}}\\sum_{j = 0}^{N-1}x_j e^{\\frac{2 \\pi i j k}{N}}$$\n",
    "\n",
    "1큐비트와 3큐비트에 이 수식을 조금 살펴보고 다음 단계로 넘어가도록 합시다. \n",
    "\n",
    "### 1 큐비트\n",
    "\n",
    "양자 푸리에 변환을 아주 간단하게 살펴보도록 합시다. 변환 대상이 되는 Computational basis를 $|0\\rangle$과 $|1\\rangle$로 제한하고, 대상이 되는 푸리에 Basis를 $|+\\rangle$과 $|-\\rangle$로 제한하는, 1 큐비트 경우를 살펴 봅시다.\n",
    "\n",
    "$$N = 2^{1} = 2$$\n",
    "$$QFT|x\\rangle = \\frac{1}{\\sqrt{2}}\\sum_{y = 0}^{2-1 = 1}e^{\\frac{{2\\pi ix y}}{2}} |y\\rangle$$\n",
    "$$= \\frac{1}{\\sqrt{2}}(e^{\\frac{{2\\pi ix \\cdot 0}}{2}} |0\\rangle + e^{\\frac{{2\\pi ix \\cdot 1}}{2}}|1\\rangle)$$\n",
    "$$= \\frac{1}{\\sqrt{2}}(|0\\rangle + e^{i \\pi x}|1\\rangle)$$\n",
    "\n",
    "이 때, $QFT|0\\rangle = |+\\rangle, QFT|1\\rangle = |-\\rangle$는 다음과 같이 증명됩니다.\n",
    "$$QFT|0\\rangle = \\frac{1}{\\sqrt{2}}(|0\\rangle + e^{0}|1\\rangle) = \\frac{1}{\\sqrt{2}}(|0\\rangle + |1\\rangle) = |+\\rangle$$\n",
    "$$QFT|1\\rangle = \\frac{1}{\\sqrt{2}}(|0\\rangle + e^{\\pi i}|1\\rangle) = \\frac{1}{\\sqrt{2}}(|0\\rangle - |1\\rangle) = |-\\rangle$$\n",
    "\n",
    "이 결과를 염두에 두고 다음의 임의의 1 큐비트 상태를 생각해 봅시다.\n",
    "$$|\\psi \\rangle = \\alpha |0\\rangle + \\beta |1\\rangle$$\n",
    "\n",
    "이 상태를 양자 푸리에 변환을 했을때 푸리에 베이시스 ( $\\alpha^\\sim |+\\rangle + \\beta^\\sim |-\\rangle$) 의 amplitude  $\\alpha^\\sim$와 $\\beta^\\sim$를 계산해 봅시다.\n",
    "\n",
    "$$\\alpha^\\sim = \\frac{1}{\\sqrt{2}}(\\alpha + \\beta)$$\n",
    "$$\\beta^\\sim = \\frac{1}{\\sqrt{2}}(\\alpha - \\beta)$$\n",
    "\n",
    "을 만족하며 이 결과는 Hadamard Gate\n",
    "$$H = \\begin{bmatrix} 1 & 1 \\\\ 1 & -1 \\end{bmatrix}$$\n",
    "\n",
    "을 양자상태에 적용한 것과 같은 결과입니다. 이것이 우리가 하다마드 게이트가 $|0\\rangle$과 $|1\\rangle$을 $|+\\rangle$와 $|-\\rangle$로 변환한다고 표현하거나 단일 큐비트에 대해 양자 푸리에 변환을 실행한다고 말하는 이유입니다.\n",
    "\n"
   ]
  },
  {
   "cell_type": "markdown",
   "id": "bda88f57",
   "metadata": {},
   "source": [
    "### 3큐비트\n",
    "\n",
    "$$N = 2^{3} = 8$$\n",
    "$$QFT|x\\rangle = \\frac{1}{\\sqrt{2^3}}\\sum_{y = 0}^{8-1 = 7}e^{\\frac{{2\\pi ix y}}{2^3}} |y\\rangle$$\n",
    "\n",
    "이 식의 Sum을 분리하기 전, 다음의 과정을 상기해 봅시다. $y$는 현재 2진수의 바이너리 형태 $[00000000] = [y_0y_1...y_{n-1}]$로 설정되어 있으며 이것을 감안하여 Tensor product형태로 정리하면 이 식은 Qiskit Textbook의 다음의 식과 같이 정리될 수 있습니다. \n",
    "\n",
    "$$QFT_3|X\\rangle = \\frac{1}{\\sqrt{8}}\\otimes_{k=1}^{3}(|0\\rangle + e^{\\frac{1}{2^{k-1}}\\pi i \\cdot x)}|1\\rangle$$\n",
    "$$\\frac{1}{\\sqrt{8}}[(|0\\rangle + e^{\\pi i x}|1\\rangle)\\otimes(|0\\rangle + e^{\\frac{1}{2}\\pi i x}|1\\rangle)\\otimes(|0\\rangle + e^{\\frac{1}{4}\\pi i x}|1\\rangle)$$\n",
    "\n",
    "다음은 Nielson and Chuang에 소개된 QFT 회로 입니다.\n",
    "\n",
    "<img src='img/7QYUu.png' alt=\"Alternative text\" width=800/>\n",
    "\n",
    "위의 그림과 같이 QFT 회로를 구현함에 있어서 주의해야 하는 점은 입력 큐비트의 order와 출력 상태가 반전된다는 것입니다. 이것은 회로적으로 swap을 사용해서 구현할수도 있지만, 측정결과를 software적으로 invert시켜서 사용하거나, measurement를 적용할때 classical register와 qubit을 mapping하는 순서를 거꾸로 하여 구현할수도 있음을 의미합니다.\n"
   ]
  },
  {
   "cell_type": "markdown",
   "id": "e404090e",
   "metadata": {},
   "source": [
    "<div class=\"alert alert-block alert-info\"> <b>Quiz Time</b> 양자 푸리에 연산에 대한 다음 퀴즈에 답하시오 (제한시간 30초)</div>\n",
    "\n",
    "퀴즈를 마친 후 돌아와 3큐비트 양자 푸리에 변환을 Qiskit으로 구현해 봅시다.\n",
    "\n",
    "### 3큐비트 QFT 구현\n",
    "\n",
    "$|y_3y_2y_1\\rangle = QFT|x_3x_2x_1\\rangle$을 회로로 구현해 봅시다.\n"
   ]
  },
  {
   "cell_type": "code",
   "execution_count": null,
   "id": "aede9720",
   "metadata": {},
   "outputs": [],
   "source": [
    "import numpy as np\n",
    "\n",
    "from math import sqrt, pi\n",
    "\n",
    "from qiskit import *\n",
    "from qiskit.visualization import plot_histogram, plot_distribution, plot_error_map, plot_bloch_multivector, plot_state_qsphere\n",
    "from qiskit.visualization.array import array_to_latex\n",
    "from qiskit.quantum_info import hellinger_fidelity, random_statevector, Statevector, Operator,QuantumState\n",
    "\n",
    "\n",
    "from qiskit_ibm_provider import IBMProvider\n",
    "\n",
    "from qiskit_aer import AerSimulator, QasmSimulator, StatevectorSimulator\n",
    "\n",
    "\n",
    "# Plotting tools\n",
    "import matplotlib.pyplot as plt\n",
    "from IPython.display import IFrame"
   ]
  },
  {
   "cell_type": "code",
   "execution_count": null,
   "id": "c2d676c4",
   "metadata": {},
   "outputs": [],
   "source": [
    "#qft = QuantumCircuit(3)"
   ]
  },
  {
   "cell_type": "code",
   "execution_count": null,
   "id": "50ed3eff",
   "metadata": {},
   "outputs": [],
   "source": [
    "#qft.h(2)\n",
    "#qft.draw('mpl')"
   ]
  },
  {
   "cell_type": "code",
   "execution_count": null,
   "id": "c2abc3f4",
   "metadata": {},
   "outputs": [],
   "source": [
    "#qft.cp(pi/2, 1, 2) # CROT from qubit 1 to qubit 0\n",
    "#qft.draw('mpl')"
   ]
  },
  {
   "cell_type": "code",
   "execution_count": null,
   "id": "cb98a334",
   "metadata": {},
   "outputs": [],
   "source": [
    "#qft.cp(pi/4, 2, 0) # CROT from qubit 1 to qubit 0\n",
    "#qft.barrier()\n",
    "#qft.draw('mpl')"
   ]
  },
  {
   "cell_type": "code",
   "execution_count": null,
   "id": "c7e82f2e",
   "metadata": {},
   "outputs": [],
   "source": [
    "#qft.h(1)\n",
    "#qft.cp(pi/2, 0, 1) # CROT from qubit 2 to qubit 1\n",
    "#qft.barrier()\n",
    "#qft.draw('mpl')"
   ]
  },
  {
   "cell_type": "code",
   "execution_count": null,
   "id": "58573b61",
   "metadata": {},
   "outputs": [],
   "source": [
    "#qft.h(0)\n",
    "#qft.barrier()\n",
    "#qft.draw('mpl')"
   ]
  },
  {
   "cell_type": "code",
   "execution_count": null,
   "id": "6c523d79",
   "metadata": {},
   "outputs": [],
   "source": [
    "#qft.swap(0,2)"
   ]
  },
  {
   "cell_type": "markdown",
   "id": "6460a932",
   "metadata": {},
   "source": [
    "이제 임의의 값 `101`을 넣어 회로가 잘 동작하는지 확인해 봅시다."
   ]
  },
  {
   "cell_type": "code",
   "execution_count": null,
   "id": "09c11814",
   "metadata": {},
   "outputs": [],
   "source": [
    "qc = QuantumCircuit(3,3)\n",
    "\n",
    "# Encode the state 5\n",
    "\n",
    "#your code here\n",
    "\n",
    "qc.draw('mpl')"
   ]
  },
  {
   "cell_type": "code",
   "execution_count": null,
   "id": "fa446b14",
   "metadata": {},
   "outputs": [],
   "source": [
    "array_to_latex(Statevector(qc))"
   ]
  },
  {
   "cell_type": "code",
   "execution_count": null,
   "id": "5faf7ae4",
   "metadata": {},
   "outputs": [],
   "source": [
    "Statevector(qc).draw('bloch')"
   ]
  },
  {
   "cell_type": "code",
   "execution_count": null,
   "id": "4bfc6420",
   "metadata": {},
   "outputs": [],
   "source": [
    "qc.append(qft, [0,1,2])\n",
    "qc.draw('mpl')"
   ]
  },
  {
   "cell_type": "code",
   "execution_count": null,
   "id": "df040a20",
   "metadata": {},
   "outputs": [],
   "source": [
    "Statevector(qc).draw('bloch')"
   ]
  },
  {
   "cell_type": "code",
   "execution_count": null,
   "id": "447616ca",
   "metadata": {},
   "outputs": [],
   "source": [
    "array_to_latex(Statevector(qc))"
   ]
  },
  {
   "cell_type": "code",
   "execution_count": null,
   "id": "3f7a0491",
   "metadata": {},
   "outputs": [],
   "source": [
    "Statevector(qc)"
   ]
  },
  {
   "cell_type": "code",
   "execution_count": null,
   "id": "b0845bf5",
   "metadata": {},
   "outputs": [],
   "source": [
    "qc.measure_all()\n",
    "qc.draw('mpl')"
   ]
  },
  {
   "cell_type": "code",
   "execution_count": null,
   "id": "95174e93",
   "metadata": {},
   "outputs": [],
   "source": [
    "backend = AerSimulator()\n",
    "qc_tr = transpile(qc, backend)\n",
    "qc_tr.draw('mpl')"
   ]
  },
  {
   "cell_type": "code",
   "execution_count": null,
   "id": "b0264cbf",
   "metadata": {},
   "outputs": [],
   "source": [
    "counts = backend.run(qc_tr, shots=100000).result().get_counts()\n",
    "plot_histogram(counts)"
   ]
  },
  {
   "cell_type": "markdown",
   "id": "ef873532",
   "metadata": {},
   "source": [
    "이번엔, 만들어진 QFT 회로를 거꾸로 적용해서 결과를 확인해 봅시다."
   ]
  },
  {
   "cell_type": "code",
   "execution_count": null,
   "id": "767462b0",
   "metadata": {},
   "outputs": [],
   "source": [
    "nqubits = 3\n",
    "number = 5\n",
    "\n",
    "qc = QuantumCircuit(3)\n",
    "for qubit in range(nqubits):\n",
    "    qc.h(qubit)\n",
    "qc.p(number*pi/4,0)\n",
    "qc.p(number*pi/2,1)\n",
    "qc.p(number*pi,2)\n",
    "\n",
    "qc.draw('mpl')"
   ]
  },
  {
   "cell_type": "code",
   "execution_count": null,
   "id": "54e78767",
   "metadata": {},
   "outputs": [],
   "source": [
    "array_to_latex(Statevector(qc))"
   ]
  },
  {
   "cell_type": "code",
   "execution_count": null,
   "id": "2171a120",
   "metadata": {},
   "outputs": [],
   "source": [
    "Statevector(qc).draw('bloch')"
   ]
  },
  {
   "cell_type": "code",
   "execution_count": null,
   "id": "5cda783f",
   "metadata": {},
   "outputs": [],
   "source": [
    "inv_qft = qft.inverse()\n",
    "    # And add it to the first n qubits in our existing circuit\n",
    "qc.append(inv_qft, [0,1,2])\n",
    "qc.draw('mpl')"
   ]
  },
  {
   "cell_type": "code",
   "execution_count": null,
   "id": "3ce783d3",
   "metadata": {},
   "outputs": [],
   "source": [
    "Statevector(qc).draw('bloch')"
   ]
  },
  {
   "cell_type": "code",
   "execution_count": null,
   "id": "70bcf934",
   "metadata": {},
   "outputs": [],
   "source": [
    "qc.measure_all()\n",
    "qc.draw('mpl')"
   ]
  },
  {
   "cell_type": "code",
   "execution_count": null,
   "id": "cf3f378a",
   "metadata": {},
   "outputs": [],
   "source": [
    "qc_tr = transpile(qc, backend)\n",
    "qc_tr.draw('mpl')"
   ]
  },
  {
   "cell_type": "code",
   "execution_count": null,
   "id": "ed556607",
   "metadata": {},
   "outputs": [],
   "source": [
    "counts = backend.run(qc_tr, shots=100000).result().get_counts()\n",
    "plot_histogram(counts)"
   ]
  },
  {
   "cell_type": "markdown",
   "id": "761f0185",
   "metadata": {},
   "source": [
    "<div class=\"alert alert-block alert-info\"> <b>Quiz Time</b> 위의 QFT회로에 '110'을 인코딩 한 후 QFT를 적용했을 때, statevector를 고르시오(제한시간 60초)</div>"
   ]
  },
  {
   "cell_type": "markdown",
   "id": "fa804cbc",
   "metadata": {},
   "source": [
    "## Quantum Phase Estimation - Quick Overview\n",
    "\n",
    "(3월 Qiskit Meetup Recording: https://youtu.be/E2cZ5UKokC4) \n",
    "\n",
    "Quantum Phase Estimation은 임의의 양자 상태의 Phase를 얻어내는 유니터리 U를 만들어 내는 문제입니다. 동작은 다음과 같습니다.\n",
    "\n",
    "$$U|\\psi \\rangle = e^{2 \\pi i \\theta} |\\psi\\rangle$$\n",
    "\n",
    "양자 위상 추정 알고리즘은 위상 킥백을 사용하여 t 계수 레지스터 큐비트에 (푸리에 기저  기준으로)U의 위상을 기록합니다. 그런 다음 역 QFT를 사용하여 이를 푸리에 기저에서 계산 기저로 변환하여 측정할 수 있습니다.\n",
    "\n",
    "즉 phase kickback을 사용해 U-gate를 사용하는 제어 연산을 사용하면, 큐비트의 위상은 $e^{2 \\pi i \\theta}$만큼 변하게됩니다. 적절한 CU게이트 들을 반복 사용해서 푸리에 베이시스에 $\\theta$를 0부터 $2^t$사이의 값을 갖도록 인코드 한 후, 역 QFT를 적용해 계산 기저로 값을 얻어 냅니다.\n",
    "\n",
    "<img src=\"https://learn.qiskit.org/content/v2/ch-algorithms/images/qpe_tex_qz.png\" alt=\"Alternative text\" width=800/>\n",
    "\n"
   ]
  },
  {
   "cell_type": "markdown",
   "id": "e6727ee9",
   "metadata": {},
   "source": [
    "### Example: T-gate \n",
    "\n",
    "T gate의 위상을 QPE 회로를 사용해 계산해 봅시다. T 게이트는 $|1\\rangle$에 작용해 $e^{\\pi/4}i$의 phase를 발생시킵니다. QPE회로의 원리가 $2\\pi i \\theta$를 반환하는 것이기 때문에, QPE를 통해서는 $1/8$을 얻게 될 것입니다.\n",
    "\n",
    "3개의 큐비트를 사용하는 양자 회로를 auxilary 큐비트 1개를 추가해 생성합니다. 위상 측정에 사용할 큐비트는 1로 설정해 둡니다. "
   ]
  },
  {
   "cell_type": "code",
   "execution_count": null,
   "id": "0c26b51d",
   "metadata": {},
   "outputs": [],
   "source": [
    "qpe = QuantumCircuit(4, 3)\n",
    "qpe.x(3)\n",
    "qpe.draw('mpl')"
   ]
  },
  {
   "cell_type": "markdown",
   "id": "2e30d42b",
   "metadata": {},
   "source": [
    "다음으로 위상을 셀 3개의 큐비트에 모두 하다마드 게이트를 적용합니다."
   ]
  },
  {
   "cell_type": "code",
   "execution_count": null,
   "id": "78a153c9",
   "metadata": {},
   "outputs": [],
   "source": [
    "# your code here"
   ]
  },
  {
   "cell_type": "markdown",
   "id": "92530527",
   "metadata": {},
   "source": [
    "T 게이트를 각각 1회, 2회 4회 적용하는 방식으로 $\\pi/4$, $\\pi/2$, $\\pi$를 각각 counting qubit에 인코딩 합니다."
   ]
  },
  {
   "cell_type": "code",
   "execution_count": null,
   "id": "47f73545",
   "metadata": {},
   "outputs": [],
   "source": [
    "\n",
    "repetitions = 1\n",
    "for counting_qubit in range(3):\n",
    "    for i in range(repetitions):\n",
    "        qpe.cp(pi/4, counting_qubit, 3); # controlled-T\n",
    "    repetitions *= 2\n",
    "qpe.draw('mpl')"
   ]
  },
  {
   "cell_type": "code",
   "execution_count": null,
   "id": "d01da4f7",
   "metadata": {},
   "outputs": [],
   "source": [
    "from qiskit.circuit.library import QFT\n",
    "\n",
    "qpe.barrier()\n",
    "# Apply inverse QFT\n",
    "qpe = qpe.compose(QFT(3, inverse=True), [0,1,2])\n",
    "# Measure\n",
    "qpe.barrier()\n",
    "for n in range(3):\n",
    "    qpe.measure(n,n)\n",
    "\n",
    "qpe.draw('mpl')"
   ]
  },
  {
   "cell_type": "code",
   "execution_count": null,
   "id": "33d98378",
   "metadata": {},
   "outputs": [],
   "source": [
    "aer_sim = AerSimulator()\n",
    "t_qpe = transpile(qpe, aer_sim)\n",
    "results = aer_sim.run(t_qpe, shots=100000).result()\n",
    "answer = results.get_counts()\n",
    "\n",
    "plot_histogram(answer)"
   ]
  },
  {
   "cell_type": "markdown",
   "id": "e58a0bef",
   "metadata": {},
   "source": [
    "측정된 값은 1입니다. 이것은 사용한 큐비트의 숫자가 n일 때, $2^n\\theta$에 해당하는 값이므로\n",
    "\n",
    "$$\\theta = 1/8$$\n",
    "\n",
    "이 됩니다.\n",
    "\n",
    "<div class=\"alert alert-block alert-info\"> <b>Quiz Time</b> n = 5인 QPE 회로의 측정 값이 11010이라고 할 때, 측정된 phase값은 얼마 입니까?</div>"
   ]
  },
  {
   "cell_type": "markdown",
   "id": "8f405a3a",
   "metadata": {},
   "source": [
    "## Shor 알고리듬\n",
    "\n",
    "### Period Finding\n",
    "양의 정수이며 서로소인 $a$와 $N$으로 구성된\n",
    "$$f(x) = a^x mod N$$\n",
    "\n",
    "인 함수를 가정해 봅시다. 이 함수는 $a^x$를 N으로 나눈 나머지 값을 반환합니다. 어떤 숫자의 나머지의 값은 본인보다 작은 수를 갖게 되어 있으므로, 이 함수의 x에 여러가지 값을 넣어보면 이 함수는 주기를 갖는 다는 것을 알 수 있습니다."
   ]
  },
  {
   "cell_type": "code",
   "execution_count": null,
   "id": "6ff7e538",
   "metadata": {},
   "outputs": [],
   "source": [
    "N = 35\n",
    "a = 3\n",
    "\n",
    "# Calculate the plotting data\n",
    "xvals = np.arange(35)\n",
    "yvals = [np.mod(a**x, N) for x in xvals]\n",
    "\n",
    "# Use matplotlib to display it nicely\n",
    "fig, ax = plt.subplots()\n",
    "ax.plot(xvals, yvals, linewidth=1, linestyle='dotted', marker='x')\n",
    "ax.set(xlabel='$x$', ylabel=f'${a}^x$ mod ${N}$',\n",
    "       title=\"Example of Periodic Function in Shor's Algorithm\")\n",
    "try: # plot r on the graph\n",
    "    r = yvals[1:].index(1) + 1\n",
    "    plt.annotate('', xy=(0,1), xytext=(r,1),\n",
    "                 arrowprops=dict(arrowstyle='<->'))\n",
    "    plt.annotate(f'$r={r}$', xy=(r/3,1.5))\n",
    "except ValueError:\n",
    "    print('Could not find period, check a < N and have no common factors.')"
   ]
  },
  {
   "cell_type": "markdown",
   "id": "a3c6b5c9",
   "metadata": {},
   "source": [
    "이때, $a^r mod N = 1$을 만족하는 가장 작은 숫자 r을 기억해 둡시다.\n",
    "\n",
    "### The Solution\n",
    "\n",
    "쇼어의 알고리듬은 유니터리 연산에 대한 양자 Phase Estimation이며 다음과 같이 정의됩니다.\n",
    "\n",
    "$$U|y\\rangle \\equiv |ay \\text{ } mod \\text{ } N\\rangle$$\n",
    "\n",
    "이 유니터리를 1에 적용한다고 가정하고, a = 3, N=35라고 하면 결과는 다음과 같습니다\n",
    "$$U|1\\rangle = |3\\rangle$$\n",
    "$$U^2|1\\rangle = |9\\rangle$$\n",
    "$$U^3|1\\rangle = |27\\rangle$$\n",
    "$$...$$\n",
    "$$U^{r-1}|1\\rangle = |12\\rangle$$\n",
    "$$U^r|1\\rangle = |1\\rangle$$\n",
    "\n",
    "그리고 이 모든 주기내의 상태들의 균일한 중첩상태는 U의 eigenstate가 됩니다. 그 증명은 다음과 같습니다.\n",
    "\n",
    "$$|u_0\\rangle = \\frac{1}{\\sqrt{12}}(|3\\rangle + |9\\rangle + .. + |1\\rangle)$$\n",
    "$$U|u_0\\rangle = \\frac{1}{\\sqrt{12}}(U|3\\rangle + U|9\\rangle + .. + U|1\\rangle)$$\n",
    "$$= \\frac{1}{\\sqrt{12}}(U|9\\rangle + U|27\\rangle + .. + U|3\\rangle)$$"
   ]
  },
  {
   "cell_type": "markdown",
   "id": "d13c2ab8",
   "metadata": {},
   "source": [
    "더 흥미로운 또다른 eigenstate는 다음과 같이 정의됩니다.\n",
    "\n",
    "$$|u_1\\rangle = \\frac{1}{\\sqrt{r}}\\sum_{k=0}^{r-1}e^{-\\frac{2 \\pi i k}{r}}|a^k \\text{ } mod \\text{ } N \\rangle$$\n",
    "\n",
    "위와 같은 예제 (a=3, N=35)를 사용해서 확인해 봅시다\n",
    "\n",
    "$$|u_1\\rangle = \\frac{1}{\\sqrt{r}}(|1\\rangle + e^{-\\frac{2 \\pi i}{12}}|3\\rangle e^{-\\frac{4 \\pi i}{12}}|9\\rangle + ... + e^{-\\frac{22 \\pi i}{12}}|12\\rangle)$$\n",
    "$$U|u_1\\rangle = \\frac{1}{\\sqrt{r}}(|3\\rangle + e^{-\\frac{2 \\pi i}{12}}|9\\rangle e^{-\\frac{4 \\pi i}{12}}|27\\rangle + ... + e^{-\\frac{22 \\pi i}{12}}|1\\rangle)$$\n",
    "$$\\therefore U|u_1\\rangle =  e^{-\\frac{2 \\pi i}{12}}|u_1\\rangle$$\n",
    "\n",
    "같은 방식으로 일반화 시켜서, 다음과 같이 이 유니터리의 eigenstate를 정의할 수 있습니다.\n",
    "\n",
    "$$|u_s\\rangle = \\frac{1}{\\sqrt{r}}\\sum_{k=0}^{r-1}e^{-\\frac{2 \\pi i s k}{r}}|a^k \\text{ } mod \\text{ } N \\rangle$$\n",
    "$$U|u_s\\rangle =  e^{-\\frac{2 \\pi i s}{12}}|u_s\\rangle$$\n",
    "\n",
    "이 eigenstate들은 굉장히 재미있는 특징을 지니고있어서 모두 더하면 $|1\\rangle$이 됩니다.\n",
    "\n",
    "$$\\frac{1}{\\sqrt{r}}\\sum_{s=0}^{r-1}|u_s\\rangle = |1\\rangle$$\n",
    "\n",
    "즉 계산 기저 $|1\\rangle$이 이 eigenstate들의 중첩이기 때문에, 우리가 $|1\\rangle$을 사용해 이 연산자에 QPE를 적용하면, 0부터 r-1 사이의 임의의 s값을 갖는 다음과 같은 phase가 측정됨을 의미합니다.\n",
    "\n",
    "$$\\phi = \\frac{s}{r}$$\n",
    "\n",
    "<img src=\"https://learn.qiskit.org/content/v2/ch-algorithms/images/shor_circuit_1.svg\" alt=\"Alternative text\" width=800/>\n"
   ]
  },
  {
   "cell_type": "markdown",
   "id": "ae55b323",
   "metadata": {},
   "source": [
    "### 실습 a=7, N=15\n",
    "\n",
    "$$U|y\\rangle = |ay \\text{ } mod \\text{ } N\\rangle$$\n",
    "\n",
    "을 만족하는 유니터리를 다음과 같이 제공받습니다"
   ]
  },
  {
   "cell_type": "code",
   "execution_count": null,
   "id": "d2b63221",
   "metadata": {},
   "outputs": [],
   "source": [
    "def c_amod15(a, power):\n",
    "    \"\"\"Controlled multiplication by a mod 15\"\"\"\n",
    "    if a not in [2,4,7,8,11,13]:\n",
    "        raise ValueError(\"'a' must be 2,4,7,8,11 or 13\")\n",
    "    U = QuantumCircuit(4)\n",
    "    for _iteration in range(power):\n",
    "        if a in [2,13]:\n",
    "            U.swap(2,3)\n",
    "            U.swap(1,2)\n",
    "            U.swap(0,1)\n",
    "        if a in [7,8]:\n",
    "            U.swap(0,1)\n",
    "            U.swap(1,2)\n",
    "            U.swap(2,3)\n",
    "        if a in [4, 11]:\n",
    "            U.swap(1,3)\n",
    "            U.swap(0,2)\n",
    "        if a in [7,11,13]:\n",
    "            for q in range(4):\n",
    "                U.x(q)\n",
    "    U = U.to_gate()\n",
    "    U.name = f\"{a}^{power} mod 15\"\n",
    "    c_U = U.control()\n",
    "    return c_U"
   ]
  },
  {
   "cell_type": "markdown",
   "id": "bd73aebb",
   "metadata": {},
   "source": [
    "8개의 counting qubit을 사용하는 것으로 하여, 상수들을 설정합니다."
   ]
  },
  {
   "cell_type": "code",
   "execution_count": null,
   "id": "962a85e6",
   "metadata": {},
   "outputs": [],
   "source": [
    "# Specify variables\n",
    "N_COUNT = 8  # number of counting qubits\n",
    "a = 13"
   ]
  },
  {
   "cell_type": "markdown",
   "id": "b5907a5a",
   "metadata": {},
   "source": [
    "QFT 부분에서 배운 내용을 적용해서 inverse QFT 함수를 반환하는 회로를 만듭니다.\n"
   ]
  },
  {
   "cell_type": "code",
   "execution_count": null,
   "id": "69daf157",
   "metadata": {},
   "outputs": [],
   "source": [
    "def qft_dagger(n):\n",
    "    \"\"\"n-qubit QFTdagger the first n qubits in circ\"\"\"\n",
    "    qc = QuantumCircuit(n)\n",
    "    # Don't forget the Swaps!\n",
    "    for qubit in range(n//2):\n",
    "        qc.swap(qubit, n-qubit-1)\n",
    "    for j in range(n):\n",
    "        for m in range(j):\n",
    "            qc.cp(-np.pi/float(2**(j-m)), m, j)\n",
    "        qc.h(j)\n",
    "    qc.name = \"QFT†\"\n",
    "    return qc"
   ]
  },
  {
   "cell_type": "markdown",
   "id": "44229b8e",
   "metadata": {},
   "source": [
    "이 회로들을 가지고, 4비트의 입력에 작동하는 shor 회로를 만들어 봅시다."
   ]
  },
  {
   "cell_type": "code",
   "execution_count": null,
   "id": "734a897c",
   "metadata": {},
   "outputs": [],
   "source": [
    "# Create QuantumCircuit with N_COUNT counting qubits\n",
    "# plus 4 qubits for U to act on\n",
    "qc = QuantumCircuit(N_COUNT + 4, N_COUNT)\n",
    "\n",
    "# Initialize counting qubits\n",
    "# in state |+>\n",
    "for q in range(N_COUNT):\n",
    "    qc.h(q)\n",
    "\n",
    "# And auxiliary register in state |1>\n",
    "qc.x(N_COUNT)\n",
    "\n",
    "# Do controlled-U operations\n",
    "for q in range(N_COUNT):\n",
    "    qc.append(c_amod15(a, 2**q),\n",
    "             [q] + [i+N_COUNT for i in range(4)])\n",
    "\n",
    "# Do inverse-QFT\n",
    "qc.append(qft_dagger(N_COUNT), range(N_COUNT))\n",
    "\n",
    "# Measure circuit\n",
    "qc.measure(range(N_COUNT), range(N_COUNT))\n",
    "qc.draw('mpl', fold=-1)  # -1 means 'do not fold'"
   ]
  },
  {
   "cell_type": "code",
   "execution_count": null,
   "id": "328e0468",
   "metadata": {},
   "outputs": [],
   "source": [
    "qc_tr = transpile(qc, backend)\n",
    "counts = backend.run(qc_tr).result().get_counts()\n",
    "plot_histogram(counts)"
   ]
  },
  {
   "cell_type": "code",
   "execution_count": null,
   "id": "47d9c453",
   "metadata": {},
   "outputs": [],
   "source": [
    "import pandas as pd\n",
    "\n",
    "rows, measured_phases = [], []\n",
    "for output in counts:\n",
    "    decimal = int(output, 2)  # Convert (base 2) string to decimal\n",
    "    phase = decimal/(2**N_COUNT)  # Find corresponding eigenvalue\n",
    "    measured_phases.append(phase)\n",
    "    # Add these values to the rows in our table:\n",
    "    rows.append([f\"{output}(bin) = {decimal:>3}(dec)\",\n",
    "                 f\"{decimal}/{2**N_COUNT} = {phase:.2f}\"])\n",
    "# Print the rows in a table\n",
    "headers=[\"Register Output\", \"Phase\"]\n",
    "df = pd.DataFrame(rows, columns=headers)\n",
    "print(df)"
   ]
  },
  {
   "cell_type": "markdown",
   "id": "be9d7b6a",
   "metadata": {},
   "source": [
    "각 위상의 s와 r을 알아내기 위해 python의 Fraction함수를 사용합니다. 나머지값은 15보다 작으므로 다음과 같은 옵션을 사용해서 위에서 계산된 phase에 각각 해당하는 s와 r값을 찾아봅시다."
   ]
  },
  {
   "cell_type": "code",
   "execution_count": null,
   "id": "3d2b21b8",
   "metadata": {},
   "outputs": [],
   "source": [
    "from fractions import Fraction\n",
    "\n",
    "rows = []\n",
    "for phase in measured_phases:\n",
    "    frac = Fraction(phase).limit_denominator(15)\n",
    "    rows.append([phase,\n",
    "                 f\"{frac.numerator}/{frac.denominator}\",\n",
    "                 frac.denominator])\n",
    "# Print as a table\n",
    "headers=[\"Phase\", \"Fraction\", \"Guess for r\"]\n",
    "df = pd.DataFrame(rows, columns=headers)\n",
    "print(df)"
   ]
  },
  {
   "cell_type": "markdown",
   "id": "e15241f6",
   "metadata": {},
   "source": [
    "이 결과는 2, 3의 경우 올바른 r값을 반환하지 않습니다. 더욱 정밀한 결과를 위해서는 회로를 여러번 반복하거나, 적절한 초기 값을 설정하는 것이 중요합니다.\n",
    "\n",
    "<div class=\"alert alert-block alert-info\"> <b>Quiz Time</b> 위의 회로에서 a=2, 8, 12, 13으로 각각 바꾸어 봅시다. 그중 회로에서 에러가 나는 값은 무엇일까요?</div>"
   ]
  },
  {
   "cell_type": "markdown",
   "id": "d568add7",
   "metadata": {},
   "source": [
    "### Modular Exponentiation\n",
    "\n",
    "이 회로에서 U를 반복하면, 다음과 같은 특징을 갖는 새로운 유니터리가 만들어 집니다.\n",
    "\n",
    "$$U^{2^j} = a^{2^j} y \\text{ } mod \\text{ }  N $$\n",
    "\n",
    "이 유니터리를 사용하면, j값에따라 크기가 기하급수적으로 증가하기 때문에 더 빠르게 큰 숫자 영역을 탐색할 수 있습니다. \n",
    "\n",
    "### Factoring from Period Finding\n",
    "\n",
    "이제 주기를 찾는 것을 활용해서 소인수 분해를 시작해 봅시다. 대상은 15로 설정해 봅시다.\n",
    "\n",
    "### 1단계: 랜덤 넘버 발생\n",
    "\n",
    "가장 먼저 1부터 N-1사이의 랜덤 정수를 발생시킵니다. "
   ]
  },
  {
   "cell_type": "code",
   "execution_count": null,
   "id": "c3a6ca70",
   "metadata": {},
   "outputs": [],
   "source": [
    "from numpy.random import randint\n",
    "\n",
    "N = 15\n",
    "np.random.seed(1) # This is to make sure we get reproduceable results\n",
    "a = randint(2, N)\n",
    "print(a)"
   ]
  },
  {
   "cell_type": "markdown",
   "id": "4a04ec53",
   "metadata": {},
   "source": [
    "이 숫자가 15의 인수인지 두 숫자의 최대공약수를 먼저 확인해 봅시다."
   ]
  },
  {
   "cell_type": "code",
   "execution_count": null,
   "id": "cb46c6e1",
   "metadata": {},
   "outputs": [],
   "source": [
    "from math import gcd # greatest common divisor\n",
    "gcd(a, N)"
   ]
  },
  {
   "cell_type": "markdown",
   "id": "f3a5db8c",
   "metadata": {},
   "source": [
    "다음으로, 쇼어의 알고리듬을 위해 a=7과 N=15에 대해 s/r을 계산해 봅시다. 이때 \n",
    "\n",
    "$$a^r \\text{ } mod \\text{ } N = 1$$\n",
    "\n",
    "이고 s는 1부터 r-1 사이의 임의의 값임을 기억합시다."
   ]
  },
  {
   "cell_type": "code",
   "execution_count": null,
   "id": "bacaf941",
   "metadata": {},
   "outputs": [],
   "source": [
    "def qpe_amod15(a):\n",
    "    \"\"\"Performs quantum phase estimation on the operation a*r mod 15.\n",
    "    Args:\n",
    "        a (int): This is 'a' in a*r mod 15\n",
    "    Returns:\n",
    "        float: Estimate of the phase\n",
    "    \"\"\"\n",
    "    N_COUNT = 8\n",
    "    qc = QuantumCircuit(4+N_COUNT, N_COUNT)\n",
    "    for q in range(N_COUNT):\n",
    "        qc.h(q)     # Initialize counting qubits in state |+>\n",
    "    qc.x(3+N_COUNT) # And auxiliary register in state |1>\n",
    "    for q in range(N_COUNT): # Do controlled-U operations\n",
    "        qc.append(c_amod15(a, 2**q),\n",
    "                 [q] + [i+N_COUNT for i in range(4)])\n",
    "    qc.append(qft_dagger(N_COUNT), range(N_COUNT)) # Do inverse-QFT\n",
    "    qc.measure(range(N_COUNT), range(N_COUNT))\n",
    "    display(qc.draw('mpl'))\n",
    "    # Simulate Results\n",
    "    aer_sim = AerSimulator()\n",
    "    # `memory=True` tells the backend to save each measurement in a list\n",
    "    job = aer_sim.run(transpile(qc, aer_sim), shots=10000, memory=True)\n",
    "    readings = job.result().get_memory()\n",
    "    print(\"Register Reading: \" + readings[0])\n",
    "    phase = int(readings[0],2)/(2**N_COUNT)\n",
    "    print(f\"Corresponding Phase: {phase}\")\n",
    "    return phase"
   ]
  },
  {
   "cell_type": "markdown",
   "id": "981677b0",
   "metadata": {},
   "source": [
    "계산된 phase에서 r을 다음과 같이 계산합니다."
   ]
  },
  {
   "cell_type": "code",
   "execution_count": null,
   "id": "45b84849",
   "metadata": {},
   "outputs": [],
   "source": [
    "phase = qpe_amod15(a) # Phase = s/r\n",
    "Fraction(phase).limit_denominator(15)"
   ]
  },
  {
   "cell_type": "code",
   "execution_count": null,
   "id": "fa9c1b5a",
   "metadata": {},
   "outputs": [],
   "source": [
    "frac = Fraction(phase).limit_denominator(15)\n",
    "s, r = frac.numerator, frac.denominator\n",
    "print(r)"
   ]
  },
  {
   "cell_type": "markdown",
   "id": "0e4f7cf1",
   "metadata": {},
   "source": [
    "계산된 r값을 가지고 다음의 관계를 생각하여 소인수를 찾아 봅시다.\n",
    "\n",
    "$$a^r \\text{ } mod \\text{ } N = 1$$\n",
    "\n",
    "이기 때문에\n",
    "\n",
    "$$a^r -1 \\text{ } mod \\text{ } N = 0$$\n",
    "\n",
    "을 만족하게 될 것입니다. 즉 이때,\n",
    "\n",
    "$$(a^{1/2} + 1)(a^{1/2} - 1) = N$$\n",
    "\n",
    "로 소인수 분해 됨을 알 수 있습니다."
   ]
  },
  {
   "cell_type": "code",
   "execution_count": null,
   "id": "f624bebc",
   "metadata": {},
   "outputs": [],
   "source": [
    "a = 7\n",
    "FACTOR_FOUND = False\n",
    "ATTEMPT = 0\n",
    "while not FACTOR_FOUND:\n",
    "    ATTEMPT += 1\n",
    "    print(f\"\\nATTEMPT {ATTEMPT}:\")\n",
    "    phase = qpe_amod15(a) # Phase = s/r\n",
    "    frac = Fraction(phase).limit_denominator(N)\n",
    "    r = frac.denominator\n",
    "    print(f\"Result: r = {r}\")\n",
    "    if phase != 0:\n",
    "        # Guesses for factors are gcd(x^{r/2} ±1 , 15)\n",
    "        guesses = [gcd(a**(r//2)-1, N), gcd(a**(r//2)+1, N)]\n",
    "        print(f\"Guessed Factors: {guesses[0]} and {guesses[1]}\")\n",
    "        for guess in guesses:\n",
    "            if guess not in [1,N] and (N % guess) == 0:\n",
    "                # Guess is a factor!\n",
    "                print(\"*** Non-trivial factor found: {guess} ***\")\n",
    "                FACTOR_FOUND = True"
   ]
  },
  {
   "cell_type": "markdown",
   "id": "583db72d",
   "metadata": {},
   "source": [
    "<div class=\"alert alert-block alert-info\"> <b>Quiz Time</b> 퀴즈 플랫폼으로 가서 마지막 퀴즈에 도전합시다!</div>"
   ]
  },
  {
   "cell_type": "code",
   "execution_count": null,
   "id": "ef645207",
   "metadata": {},
   "outputs": [],
   "source": []
  }
 ],
 "metadata": {
  "kernelspec": {
   "display_name": "Python 3 (ipykernel)",
   "language": "python",
   "name": "python3"
  },
  "language_info": {
   "codemirror_mode": {
    "name": "ipython",
    "version": 3
   },
   "file_extension": ".py",
   "mimetype": "text/x-python",
   "name": "python",
   "nbconvert_exporter": "python",
   "pygments_lexer": "ipython3",
   "version": "3.9.0"
  }
 },
 "nbformat": 4,
 "nbformat_minor": 5
}
