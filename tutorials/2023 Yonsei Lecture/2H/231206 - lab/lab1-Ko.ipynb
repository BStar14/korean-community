{
 "cells": [
  {
   "cell_type": "markdown",
   "metadata": {},
   "source": [
    "<h1>2023년도 2학기 연세대학교 \"양자컴퓨팅과 시뮬레이션2\" 수업 실습</h1>\n",
    "<h2>최적화 문제를 풀어봅시다! - From 2021 IBM Quantum Africa Challenge</h3>"
   ]
  },
  {
   "cell_type": "markdown",
   "metadata": {},
   "source": [
    "양자 컴퓨팅은 고전 컴퓨터에서 해결할 수 없는 문제를 해결할 수 있을 것으로 기대되기 때문에 컴퓨팅에 혁명을 일으킬 잠재력을 지니고 있습니다. 양자컴퓨터가 고전 자원을 능하가는 결과를 낼 수 있게 되는 것을 양자 이득이라고 부르며, 이 목표를 달성하기 위해, 세계는 열정적이고 유능한 사용자들, 즉 그 기술을 각각의 분야에 적용할 줄 아는 사람들을 필요로 하고 있습니다.\n",
    "\n",
    "이 도전에서 여러분은 Qiskit을 사용해 양자 컴퓨팅을 사용해 실생활의 문제와 유사한 문제를 해결하는 것을 경험하게 될 것입니다. 현재 또는 미래의 양자 컴퓨터 사용자로서, 여러분은 양자 계산에 적합한 문제가 무엇인지, 여러분이 선택한 알고리즘과 호환되도록 여러분의 문제/입력을 구조화하는 방법, 그리고 문제를 해결하기 위해 주어진 알고리즘과 양자 솔루션을 실행하는 방법을 배우게 될 것입니다."
   ]
  },
  {
   "cell_type": "markdown",
   "metadata": {},
   "source": [
    "## 1.1 초기 설정"
   ]
  },
  {
   "cell_type": "markdown",
   "metadata": {},
   "source": [
    "실습을 위해서는 qiskit, qiskit-ibm-runtime, qiskit-algorithms, qiskit-optimization 패키지가 설치 되어 있어야 합니다.\n",
    "\n",
    "다음의 셀을 실행시킨 후 커널을 restart 해주세요!"
   ]
  },
  {
   "cell_type": "code",
   "execution_count": null,
   "metadata": {
    "tags": []
   },
   "outputs": [],
   "source": [
    "%pip install -U qiskit[all] qiskit-ibm-runtime qiskit-algorithms qiskit-optimization"
   ]
  },
  {
   "cell_type": "markdown",
   "metadata": {},
   "source": [
    "설치가 잘 되었는지 확인해 봅시다."
   ]
  },
  {
   "cell_type": "code",
   "execution_count": null,
   "metadata": {
    "tags": []
   },
   "outputs": [],
   "source": [
    "import qiskit.tools.jupyter\n",
    "import qiskit_ibm_runtime\n",
    "import qiskit_algorithms\n",
    "import qiskit_optimization\n",
    "\n",
    "%qiskit_version_table"
   ]
  },
  {
   "cell_type": "markdown",
   "metadata": {},
   "source": [
    "## 목차"
   ]
  },
  {
   "cell_type": "markdown",
   "metadata": {},
   "source": [
    "이 노트북의 목차는 다음과 같습니다.\n",
    "\n",
    "1.  \b초기 설정\n",
    "1.  목차\n",
    "1.  Qiskit Ecosystem 소개\n",
    "1.  이차 문제 (Quadratic Problems)\n",
    "1.  이차 문제로서의 농장 문제 (Crop-Yield Problem as a Quadratic Problem)\n",
    "1.  양자컴퓨터로 문제를 풀어봅시다 - 시뮬레이터\n",
    "1.  양자컴퓨터로 문제를 풀어봅시다 - 실제 백엔드"
   ]
  },
  {
   "cell_type": "markdown",
   "metadata": {},
   "source": [
    "## Qiskit Ecosystem 이란?"
   ]
  },
  {
   "cell_type": "markdown",
   "metadata": {},
   "source": [
    "Qiskit Ecosystem은 Qiskit을 기반으로 하거나 확장하는 소프트웨어 및 튜토리얼의 모음입니다. Ecosystem의 목표는 Qiskit을 사용하는 양자 기술의 개발을 기념하고, 지원 및 가속화하는 것입니다. 전체 프로젝트의 목록은 [이곳](https://github.com/Qiskit/ecosystem)에서 확인할 수 있습니다.\n",
    "\n",
    "이번 실습에서는 Ecosystem 프로젝트 중 하나인 금융을 포함한 최적화 문제를 풀기 위한 생태계 프로젝트인 [Qiskit-optimization](https://github.com/qiskit-community/qiskit-optimization)을 사용할 것입니다.\n",
    "\n",
    "Qiskit Optimization은 거의 모든 최적화 문제에 사용되는 다양한 수학적 표현을 높은 수준에서 구현하고 변환해주는 것을 포함해, 문제를 기존 시뮬레이터 및 Qiskit을 통한 실제 양자 백엔드에서 실행할 수 있도록 해주는 오픈소스 패키지입니다.\n",
    "\n",
    "Optimization 모듈은 IBM의 또다른 최적화 문제 해결을 위한 오픈소스 프로젝트인 [docplex](https://www.ibm.com/docs/en/icos/22.1.1?topic=docplex-python-modeling-api)를 사용하여 쉽고 효율적인 최적화 문제 모델링을 가능하게 합니다. 서로 다른 문제 표현 간의 자동 변환뿐만 아니라 균일한 인터페이스를 통해 QAOA(양자 근사 최적화 알고리즘)와 같은 변형 양자 알고리듬부터 Qiskit Algorms(Qiskit Algorms)에서 제공하는 기본 알고리듬들을 활용하여 Grover Optimizer(그로버 옵티마이저)를 사용한 Grover Adaptive Search(그로버 적응 검색)에 이르기까지 다양한 알고리듬을 사용해 문제를 해결할 수 있습니다. 또한 테스트, 검증 및 벤치마킹을 위한 호환되는 고전적인 \b도구들도 제공됩니다\n",
    "\n"
   ]
  },
  {
   "cell_type": "markdown",
   "metadata": {},
   "source": [
    "## (이차 문제) Quadratic Problems"
   ]
  },
  {
   "cell_type": "markdown",
   "metadata": {},
   "source": [
    "몇몇 계산 과학의 문제는, [이차 방정식](https://en.wikipedia.org/wiki/Quadratic_equation)의 최저점을 찾기 등의 최적화 문제로 표현되기도 합니다. 이런 유형의 문제들은 주로 금융, 농업, 제조 관리와 경영등에서 자주 맞닥드릴 수 있습니다.\n",
    "\n",
    "[이차 프로그래밍](https://en.wikipedia.org/wiki/Quadratic_programming)은 금융의 문제에서 리스크를 최소화 하거나 공장에서 제조 레이아웃을 최적화 함에 있어서 물류의 이동 거리를 최조화 하는 등등의 문제에 사용됩니다. 이 노트북은 인류가 맞닥드린 큰 문제중, 식량 공급의 문제에 있어서 중요한 농장에 심을 작물을 선택을 최적화 하는 문제를 다루어 보고자 합니다. 참고로 이 노트북은 2021년 아프리카 퀀텀 챌린지에 사용되어 많은 아프리카의 계산 과학자들이 식량의 문제에 양자컴퓨터를 활용하는 것에 관심을 갖도록 도운 문제이기도 합니다. \n",
    "\n",
    "이러한 이차 문제는 주요한 두가지의 특징을 지니고 있습니다. 첫번째는 수식이 다변수 이차 방정식으로 모델링 된다는 것이며 두번째는 수식이 다양한 범위와 형태의 제한 조건들(Constraints)을 갖는 다는 것입니다. \n",
    "\n",
    "---\n",
    "\n",
    "이차 문제들은 대부분 다음과 같은 구조를 갖습니다. 주어진 벡터는 $n$개의 변수 $x\\in\\mathbb{R}^n$를 가지며 최소화 해야 하는 이차식은 다음과 같습니다.\n",
    "\n",
    "$$\n",
    "\\begin{align}\n",
    "\\text{minimize}\\quad & f\\left(x\\right)=\\frac{1}{2}x^\\top{}\\mathbf{Q}x + c^\\top{}x &\\\\\n",
    "\\text{subject to}\\quad & \\mathbf{A}x\\leq{}b&\\\\\n",
    "& x^\\top{}\\mathbf{Q}_ix + c_{i}^\\top{}x\\leq{}r_i,\\quad&\\forall{}i\\in[1,k_q]\\\\\n",
    "& l_i\\leq{}x_i\\leq{}u_i,\\quad&\\forall{}i\\in[1,k_l]\\\\\n",
    "\\end{align}\n",
    "$$\n",
    "\n",
    "$\\mathbf{Q}$, $\\mathbf{Q}_i$, 와 $\\mathbf{A}$ 는 $n\\times{}n$ 크기의 대칭 행렬입니다. $c$ 와 $c_i$ 는 $n\\times{}1$ 크기의 행벡터 입니다. $\\mathbf{Q}_i$, $\\mathbf{A}$, $c_i$, $l_i$, 와 $u_i$는 각각 변수 $x$의 제한 조건을 정의합니다. 이차 문제의 중심에 있는 이차 방정식은, 최소화 함수에 행렬들을 곱하여 찾아내게 됩니다. '$\\leq{}$'이 위에 사용되었는데, 이 뿐만 아니라 다양한 관계를 나타내는 부등식들(\"$<$\", \"$=$\", \"$>$\", \"$\\geq$\", 혹은 \"$\\leq$\")도 사용 가능합니다. \n",
    "\n",
    "2차에 대한 유효한 해는 문제에 대한 모든 조건을 만족시켜야 합니다. 몇 가지 제약 조건의 예가 아래에 제시되어 있습니다. 처음 두 개는 선형 제약식이고 세 번째 예는 이차 제약식입니다.\n",
    "\n",
    "$$ x_1 + x_4 \\leq{} 10$$\n",
    "\n",
    "$$ x_2 - 3x_6 = 10$$\n",
    "\n",
    "$$x_1x_2 - 4x_3x_4 + x_5 \\leq{} 15 $$\n"
   ]
  },
  {
   "cell_type": "markdown",
   "metadata": {},
   "source": [
    "Qiskit Optimization 패키지는 `QuadraticProgram` 인스턴스를 사용해 이러한 문제를 파이썬에 입력할 수 있도록 해줍니다. 위에서 보여드린 예시에서는 행렬이 문제를 정의하기 위해 사용되었지만, `QuadraticProgram`은 여러분이 문제를 더 직접적으로, 직관적으로 설계할 수 있도록 해줍니다. `QuadraticProgram`가 어떻게 동작하는지 확인하기 위해서 다음의 세개의 변수를 지니는 이차 식을 예제로 삼아 코딩 실습을 해보도록 합시다. \n",
    "\n",
    "\n",
    "$$\\begin{align}\n",
    "\\text{minimize}\\quad{} & f(x)=(x_1)^2 + (x_2)^2 - x_1x_2 - 6x_3 \\\\\n",
    "\\text{subject to}\\quad{} & x_1 + x_2 = 2             \\\\\n",
    "                         & -2 \\leq{} x_2 \\leq{} 2    \\\\\n",
    "                         & -2 \\leq{} x_3 \\leq{} 4    \\\\\n",
    "\\end{align}$$"
   ]
  },
  {
   "cell_type": "markdown",
   "metadata": {},
   "source": [
    "이어지는 코드에서, 위에 주어진 이차 문제를 `QuadraticProgram` 인스턴스를 사용해 작성해 보도록 하겠습니다. 다음의 [튜토리얼](https://github.com/qiskit-community/qiskit-optimization/blob/main/docs/tutorials/01_quadratic_program.ipynb)을 미리 들여다 보시면 도움이 될것입니다. \n",
    "\n",
    "최소화 해야 하는 이차항은, 대상이라 불리고, 파이썬의 사전 변수를 사용해 저장됩니다. 이것은 여러분, 즉 개발자들이, 특정한 변수와 항목들에 대한 변수를 각각 지정할 수 있게 해줍니다. 이 사전 변수의 키는 $f(x)$에 정의되는 변수의 이름입니다. 예를 들어 `(\"x_1\",\"x_2\")`는 $x_1x_2$를 의미합니다. 이 키들의 각각의 값은 항목이라 불리는 계수가 됩니다. $f(x)$에 뺄셈으로 정의된 변수들의 항목 값은 반드시 음수여야 합니다. "
   ]
  },
  {
   "cell_type": "code",
   "execution_count": null,
   "metadata": {
    "tags": []
   },
   "outputs": [],
   "source": [
    "from qiskit_optimization import QuadraticProgram\n",
    "\n",
    "quadprog = QuadraticProgram(name=\"example 1\")\n",
    "quadprog.integer_var(name=\"x_1\", lowerbound=0, upperbound=4)\n",
    "quadprog.integer_var(name=\"x_2\", lowerbound=-2, upperbound=2)\n",
    "quadprog.integer_var(name=\"x_3\", lowerbound=-2, upperbound=4)\n",
    "quadprog.minimize(\n",
    "    linear={\"x_3\": -6},\n",
    "    quadratic={(\"x_1\", \"x_1\"): 1, (\"x_2\", \"x_2\"): 1, (\"x_1\", \"x_2\"): -1},\n",
    ")\n",
    "quadprog.linear_constraint(linear={\"x_1\": 1, \"x_2\": 1}, sense=\"=\", rhs=2)"
   ]
  },
  {
   "cell_type": "markdown",
   "metadata": {},
   "source": [
    "`QuadraticProgram` 은 총 세가지 형태의 변수: 바이너리, 정수 그리고 연속변수를 가질 수 있습니다. 위에서 작성한 `QuadraticProgram`은 LP(**L**inear **P**rogramming) string이라는 가벼운 텍스트 기반의 형식으로 출력해서 확인 할 수 있습니다."
   ]
  },
  {
   "cell_type": "code",
   "execution_count": null,
   "metadata": {
    "tags": []
   },
   "outputs": [],
   "source": [
    "print(quadprog.export_as_lp_string())"
   ]
  },
  {
   "cell_type": "markdown",
   "metadata": {},
   "source": [
    "문제의 최대 지수가 2인 단일 2차 방정식으로 표현될 수 있는 최적화 문제는 위의 예제와 같이 모두 입력으로 사용할 수 있습니다. 이 문제나 실습에서 사용할 농장의 문제 또한 실제 문제의 방정식이나 계수와는 다소 거리가 있을 수 있지만, 여러분이 적용하고자 하는 문제가 있다면 위의 코드를 가볍게 수정하여 사용할 수 있을 것입니다. "
   ]
  },
  {
   "cell_type": "markdown",
   "metadata": {},
   "source": [
    "## 이차 문제로서의 농장 문제 (Crop-Yield Problem as a Quadratic Problem)"
   ]
  },
  {
   "cell_type": "markdown",
   "metadata": {},
   "source": [
    "양자 컴퓨터를 사용하여 이차 프로그램을 해결하는 방법을 배우기 위해, 이 노트북에서는 두 가지 알고리즘을 사용하여 작물 수확량 문제를 해결할 것입니다. 농장의 수익을 높이면서 위험을 줄이기 위해 농장의 작물과 경영을 최적화하는 것에 도전해 봅시다. 아프리카와 전 세계가 직면한 큰 도전 중 하나는 모든 사람이 먹을 충분한 식량을 생산하는 방법입니다. 여기서 문제는 수익이 아니라 수확한 작물의 총량(톤수)에 초점이 맞추어져 있습니다. 농사에 적합한 3헥타르의 땅을 가진 농장이 있다고 상상해 봅시다. 여러분은 4가지 중에서 어떤 작물을 심을지 선택해야 합니다. 또한 당신은 각각의 몇 헥타르를 심어야 하는지도 결정해야 합니다. 당신이 심을 수 있는 4가지 작물은 밀, 대두, 옥수수 그리고 밀어내기 작물입니다. 네 번째 작물인 밀어내기 작물은 수확한 후에 팔 수 없지만 다른 작물의 수확량을 늘리는 데 도움을 주는 역할을 합니다.\n",
    "\n",
    "\n",
    "\n",
    "<table>\n",
    "    <tr>\n",
    "        <th>\n",
    "            <img src=\"farm_template.svg\" width=\"384px\"/>\n",
    "        </th>\n",
    "    </tr>\n",
    "    <tr>\n",
    "        <th>\n",
    "            여러분의 아름다운 3 헥타르 농장\n",
    "        </th>\n",
    "    </tr>\n",
    "</table>\n",
    "\n",
    "<table>\n",
    "    <tr>\n",
    "        <th>\n",
    "        <img src=\"crop_wheat.svg\" width=\"256px\"/>\n",
    "        </th>\n",
    "        <th>\n",
    "            <img src=\"crop_soybeans.svg\" width=\"256px\"/>\n",
    "        </th>\n",
    "        <th>\n",
    "            <img src=\"crop_maize.svg\" width=\"256px\"/>\n",
    "        </th>\n",
    "        <th>\n",
    "            <img src=\"crop_pushpull.svg\" width=\"256px\"/>\n",
    "        </th>\n",
    "    </tr>\n",
    "    <tr>\n",
    "        <th>\n",
    "            밀\n",
    "        </th>\n",
    "        <th>\n",
    "            콩\n",
    "        </th>\n",
    "        <th>\n",
    "            옥수수\n",
    "        </th>\n",
    "        <th>\n",
    "            밀어내기 작물\n",
    "        </th>\n",
    "<!--         <th>\n",
    "            <p align=\"right\" style=\"height:32px;padding-top:10px;\">Wheat<img src=\"wheat.svg\" width=\"32px\" style=\"float:left;margin-top:-10px;margin-right:8px;\"/></p>\n",
    "        </th>\n",
    "        <th>\n",
    "            <p style=\"height:32px;padding-top:10px;\">Soybeans<img src=\"soybeans.svg\" width=\"32px\" style=\"float:left;margin-top:-10px;margin-right:8px;\"/></p>\n",
    "        </th>\n",
    "        <th>\n",
    "            <p style=\"height:32px;padding-top:10px;\">Maize<img src=\"maize.svg\" width=\"32px\" style=\"float:left;margin-top:-10px;margin-right:8px;\"/></p>\n",
    "        </th>\n",
    "        <th>\n",
    "            <p style=\"height:32px;padding-top:10px;\">Push-Pull<img src=\"pushpull.svg\" width=\"32px\" style=\"float:left;margin-top:-10px;margin-right:8px;\"/></p>\n",
    "        </th> -->\n",
    "    </tr>\n",
    "</table>\n",
    "\n",
    "여러분이 선택할 수 있는 농사 방법은 단작법, 혼작법, Push-Pull 농작법의 세 가지입니다. 아래의 그림을 함께 살펴보세요. 단작법은 한 작물만 농사를 짓는 곳입니다. 이 방법은 농장을 질병과 해충에 취약하게 만들 수 있기 때문에 전체 수확량에 영향을 미치게 됩니다. 어떤 경우에는 서로 다른 두 식물을 재배하면 둘 다 수확량이 증가하지만 때로는 수확량이 감소할 수 있습니다. 간작법은 다른 식물을 선택하여 수확량을 증가시키는 과정입니다. 밀어내기 작물은 해충을 퇴치하고 해충을 유인하는 역할을 합니다. 이 밀어내기 작물들을 큰 농장에 사용하게 되면 작물의 수확량은 증가하지만 밀어내기 작물의 수확량은 농장의 수익으로 사용 되지 못합니다. 밀어내기 작물은 농업이나 공업에 사용할 수 없거나 먹을 수 없을 수 있기 때문입니다.\n",
    "\n",
    "\n",
    "<table>\n",
    "    <tr>\n",
    "        <th>\n",
    "        <img src=\"farm_mono.svg\" width=\"256px\"/>\n",
    "        </th>\n",
    "        <th>\n",
    "            <img src=\"farm_intercrop.svg\" width=\"256px\"/>\n",
    "        </th>\n",
    "        <th>\n",
    "            <img src=\"farm_intercrop_pushpull.svg\" width=\"256px\"/>\n",
    "        </th>\n",
    "    </tr>\n",
    "    <tr>\n",
    "        <th>\n",
    "           단작법(Monocropping)\n",
    "        </th>\n",
    "        <th>\n",
    "            혼작법 (Intercropping)\n",
    "        </th>\n",
    "        <th>\n",
    "            Push-Pull 농작법(Push-Pull farming)\n",
    "        </th>\n",
    "    </tr>\n",
    "</table>"
   ]
  },
  {
   "cell_type": "markdown",
   "metadata": {},
   "source": [
    "---\n",
    "오직 특정한 경우에만 고전적인 방법을 사용하여 2차 프로그래밍 문제를 쉽게 풀 수 있습니다. 일반적인 의미에서 이 문제들은 고전적인 계산 방법으로는 풀기 어려운 문제의 한 종류인 NP-Hard 유형에 속합니다. 사실, 이러한 문제를 해결하는 가장 좋은 고전적인 방법은 휴리스틱을 포함하는데, 이는 근사적인 해결책을 찾는 기술입니다. 양자 컴퓨터는 일부 휴리스틱 문제에 대해 상당한 속도 향상과 더 나은 확장을 제공하는 것으로 알려져 있습니다. 작물 수확량 문제는 해결책이 입력 매개변수의 특정 조합이라는 점에서 조합 문제입니다. 여기에 표시된 문제는 고전적으로 해결할 수 있을 만큼 작지만, 더 큰 문제는 최적화해야 할 조합의 수 때문에 고전적인 컴퓨터에서는 다루기가 어렵습니다.\n",
    "\n",
    "\n",
    "제시된 문제를 양자 컴퓨터로 해결하는 것은 다음의 세가지 단계를 포함합니다:\n",
    "\n",
    "1. 문제의 정의\n",
    "2. 알고리듬의 정의\n",
    "3. 알고리듬을 백엔드에 실행\n",
    "\n",
    "이제 Qiskit을 사용해 문제의 정의를 시작해 봅시다."
   ]
  },
  {
   "cell_type": "markdown",
   "metadata": {},
   "source": [
    "### 농장 문제의 정의 (Define the Crop-Yield problem)"
   ]
  },
  {
   "cell_type": "markdown",
   "metadata": {},
   "source": [
    "이어지는 내용에서는 여러분이 해결해야 할 문제를 조금더 정확하게 정의해 보도록 하겠지만 아직 `QuadraticProgram` 인스턴스로의 작업은 진행되지 않습니다. 이 부분의 마지막에 `QuadraticProgram` 인스턴스를 활용해 구현해 볼 것입니다.\n",
    "\n",
    "여러분의 농장은 $3~ha$ 크기이며, 각각의 작물은 $0~ha$ 이나 $1~ha$만큼 심을 수 있습니다. 농장의 수확량은 각 작물이 서로에게 미치는 영향을 2차 계수로 나타내는 2차 함수로 정의합니다. 이 2차 함수의 변수는 심을 작물의 헥타르 수이고 최대화하기 위한 목적 함수는 사용 가능한 작물의 수확량(톤)입니다. 이 문제에 대한 수학적 시나리오에서 모든 작물은 다른 작물의 수확량을 증가시킵니다. 그러나 해결해야 할 문제는 어떤 작물을 사용하여 최대 수확량을 달성하느냐입니다.\n"
   ]
  },
  {
   "cell_type": "markdown",
   "metadata": {},
   "source": [
    "<img src=\"qubo_problem_graphical_variables.svg\" width=\"534px\"/>\n",
    "\n",
    "농장 수확량(톤)은 2차 방정식으로 모델링되며, 각 작물이 사용하는 헥타르와 사용 가능한 총 헥타르에 대한 제약이 있습니다. 각 작물은 위에 표시된 것과 같이 다른 기호로 표시되며, 해당 식물을 심을 헥타르 수를 나타냅니다. 우리는 각 작물의 최대 1 헥타르까지만 심을 수 있으며 농장은 3 헥타르로 제한되어 있습니다.\n",
    "\n",
    "<img src=\"qubo_problem_graphical.svg\" width=\"400px\"/>"
   ]
  },
  {
   "cell_type": "markdown",
   "metadata": {},
   "source": [
    "----\n",
    "#### Non-graphical notation\n",
    "아래에 그림이 아닌 형태로 모델을 기술해 보도록 합시다.\n",
    "\n",
    "$$\n",
    "\\begin{align}\n",
    "    \\text{maximize} \\quad & 2(\\operatorname{Wheat}) + \\operatorname{Soybeans} + 4(\\operatorname{Maize}) \\\\\n",
    "    & + 2.4(\\operatorname{Wheat}\\times\\operatorname{Soybeans}) \\\\ & + 4(\\operatorname{Wheat}\\times\\operatorname{Maize})\\\\\n",
    "    &+ 4(\\operatorname{Wheat}\\times\\operatorname{PushPull}) \\\\ & + 2(\\operatorname{Soybeans}\\times\\operatorname{Maize}) \\\\\n",
    "                          & + (\\operatorname{Soybeans}\\times\\operatorname{PushPull}) \\\\ & + 5(\\operatorname{Maize}\\times\\operatorname{PushPull})\n",
    "\\end{align}\n",
    "$$\n",
    "\n",
    "$$\n",
    "\\begin{align}\n",
    "\\text{subject to} \\quad & \\operatorname{Wheat} + \\operatorname{Soybeans} + \\operatorname{Maize} + \\operatorname{PushPull} \\leq{} 3\\\\\n",
    "& 0\\leq{}\\operatorname{Wheat}\\leq{}1\\\\\n",
    "& 0\\leq{}\\operatorname{Soybeans}\\leq{}1\\\\\n",
    "& 0\\leq{}\\operatorname{Maize}\\leq{}1\\\\\n",
    "& 0\\leq{}\\operatorname{PushPull}\\leq{}1\n",
    "\\end{align}\n",
    "$$"
   ]
  },
  {
   "cell_type": "markdown",
   "metadata": {},
   "source": [
    "### 연습 1: 농장 문제의 변수들을 QuadraticProgram로 작성해 봅시다."
   ]
  },
  {
   "cell_type": "markdown",
   "metadata": {},
   "source": [
    "여러분의 첫번째 연습은 위의 모델을 `QuadraticProgram` 인스턴스를 사용해 표현해 보는 것입니다. 아래의 `cropyield_quadratic_program`에 해당 부분을 코딩해 봅시다. 위에서 사용했던 예제와 [Quadratic program tutorial](https://github.com/qiskit-community/qiskit-optimization/blob/main/docs/tutorials/01_quadratic_program.ipynb)을 참고해 보세요.\n",
    "\n"
   ]
  },
  {
   "cell_type": "code",
   "execution_count": null,
   "metadata": {
    "tags": []
   },
   "outputs": [],
   "source": [
    "def cropyield_quadratic_program():\n",
    "    cropyield = QuadraticProgram(name=\"Crop Yield\")\n",
    "    ##############################\n",
    "    # Put your implementation here\n",
    "\n",
    "\n",
    "    \n",
    "    ##############################\n",
    "\n",
    "    return cropyield"
   ]
  },
  {
   "cell_type": "code",
   "execution_count": null,
   "metadata": {
    "tags": []
   },
   "outputs": [],
   "source": [
    "qp = cropyield_quadratic_program()\n",
    "print(qp.prettyprint())"
   ]
  },
  {
   "cell_type": "markdown",
   "metadata": {},
   "source": [
    "### 이차 문제 변환 (Converting QuadraticPrograms) - QUBO & Ising"
   ]
  },
  {
   "cell_type": "markdown",
   "metadata": {},
   "source": [
    "이렇게 작성한 문제는 다양한 형태로 변환이 가능합니다. 변환이 없이도 양자컴퓨터로 바로 정답을 얻을 수 있지만, 여러가지 변환을 시도해 봄으로서 문제의 일부 특성 - 해결하는데 몇개의 큐비트가 소요되는가, 등 - 을 알수 있습니다.\n",
    "\n",
    "먼저 문제를  QUBO로, 그 다음 이진 모델로 변환하여 총 몇개의 큐비트가 문제를 해결하는데 필요한지 확인해 봅시다.\n",
    "\n",
    "---- \n",
    "\n",
    "Qiskit에서 2차 프로그램이 널리 사용되지만 우리가 사용할 알고리즘은 이진 변수를 필요로 합니다. Qiskit는 문제의 정수 변수를 이진 변수로 변환하는 자동화된 방법을 제공합니다. 이진 전용 형태는 _4차 비제약 이진 최적화_ 문제 또는 'QUBO'라고 불립니다. 변환은 Qiskit 최적화 모듈의 'QuadraticProgramToQUBO'를 사용하여 수행됩니다. 모든 정수 변수와 관련된 제약 조건은 이진 변수로 변환됩니다.\n",
    "\n",
    "아래의 셀을 실행해서 작물 문제를 QUBO 문제로 변환해 봅시다.\n"
   ]
  },
  {
   "cell_type": "code",
   "execution_count": null,
   "metadata": {
    "tags": []
   },
   "outputs": [],
   "source": [
    "from qiskit_optimization.converters import QuadraticProgramToQubo\n",
    "\n",
    "conv = QuadraticProgramToQubo()\n",
    "qb = conv.convert(qp)\n",
    "\n",
    "print(qb.prettyprint())"
   ]
  },
  {
   "cell_type": "markdown",
   "metadata": {},
   "source": [
    "여러분의 문제는 이제 제한 조건이 모두 이진 조건으로 환산되어 있는 문제로 변환되었습니다. 이제 이 문제를 Ising 모델로 변환하여, 몇개의 큐비트가 계산에 사용될 것인지 확인해 봅시다. Qiskit-optimization을 사용하여 이차 문제를 바로 Ising 모델로 변환하는 기능에는 현재 버젼에서 몇가지 제한이 있습니다. 이 문제를 피하기 위해 여기에서는 이차 문제를 먼저 QUBO로 변환한 후 Ising 모델로 변환하는 과정을 거치고 있음을 참고해 주세요.\n",
    "\n",
    "QUBO 모델을 Ising 모델로 변환하기 위해서는 `to_ising()` 함수가 사용됩니다. 이 함수를 사용해 문제를 변환하고 사용될 큐비트의 숫자와 해밀토니안을 확인해 봅시다."
   ]
  },
  {
   "cell_type": "code",
   "execution_count": null,
   "metadata": {
    "tags": []
   },
   "outputs": [],
   "source": [
    "# Estimate the number of qubits required\n",
    "\n",
    "qubitop, offset = qb.to_ising()\n",
    "\n",
    "print(f\"Number of qubits required is {qubitop.num_qubits}\")\n",
    "print(qubitop)\n",
    "print(f\"Offset: {offset}\")"
   ]
  },
  {
   "cell_type": "markdown",
   "metadata": {},
   "source": [
    "## 양자컴퓨터로 문제를 풀어봅시다 - 시뮬레이터\n",
    "\n",
    "Qiskit을 사용해서 양자 알고리듬을 실행할 수 있는 크게 두 가지 방법이 있습니다:\n",
    "1. 여러분의 랩탑/클라우드의 시뮬레이터를 사용하는 방법\n",
    "2. 클라우드를 통해 서비스 되고 있는 실제 양자백엔드를 사용하는 방법.\n",
    "\n",
    "시뮬레이터와 실제 양자 백엔드 모두 `backend`라 부릅니다. 이번 챕터에서는 먼저 시뮬레이터를 사용해 계산하는 것을 확인해 보고자 합니다. 이를 위해서 우리는 `qiskit.primitives`의 `Estimator`를 사용할 것입니다. \n",
    "\n",
    "양자 컴퓨터로 문제를 풀기 전, 먼저 고전 시뮬레이터를 사용해서 정답을 확인해 봅시다.\n",
    "\n",
    "### 고전적 해답\n",
    "\n",
    "이 문제의 고전적 해답은 Qiskit과 Numpy의 주요 기능을 사용해 간단히 구할 수 있습니다. QUBO 문제의 해답은 행렬식의 최소 eigenvalue를 찾은 것으로 얻어지는데, 다행이도, 그 안의 모든 과정을 알지 않아도 문제를  `MinimumEigensolver` 와 `MinimumEigenOptimizer`에 전달하는 것으로 결과를 얻을 수 있습니다. \n",
    "\n",
    "Optimizer는 주어진 문제를 Solver에 매개변수화 된 표현식으로 전달합니다. 이 매개변수들을 최적화 함으로서, Solver는 최소의 eigenvalue를 갖는 변수의 쌍을 얻어낼 수 있고 이것이 본 문제의 해답이 됩니다. 아래의 코드를 실행하여 우리의 문제의 정답을 확인해 봅시다. 아래의 코드에는 이차 표현식으로 만들었던 `qp`를 사용하도록 하겠습니다."
   ]
  },
  {
   "cell_type": "code",
   "execution_count": null,
   "metadata": {
    "tags": []
   },
   "outputs": [],
   "source": [
    "from qiskit_algorithms import NumPyMinimumEigensolver\n",
    "from qiskit_optimization.algorithms import MinimumEigenOptimizer\n",
    "\n",
    "mes = NumPyMinimumEigensolver()\n",
    "meo = MinimumEigenOptimizer(min_eigen_solver=mes)\n",
    "result = meo.solve(qp)\n",
    "print(result)"
   ]
  },
  {
   "cell_type": "markdown",
   "metadata": {},
   "source": [
    "이차 문제를 QUBO로 변환하여 얻었던 `qb`도 함께 확인해 봅시다."
   ]
  },
  {
   "cell_type": "code",
   "execution_count": null,
   "metadata": {
    "tags": []
   },
   "outputs": [],
   "source": [
    "result = meo.solve(qb)\n",
    "print(result.prettyprint())"
   ]
  },
  {
   "cell_type": "markdown",
   "metadata": {},
   "source": [
    "양자컴퓨터로 이 문제와 같은 변수 최적화 문제를 해결할 수 있는 몇가지 방법이 있지만, 이곳에서는 [_Quantum Approximate Optimization Algorithm_](https://learning.quantum.ibm.com/tutorial/quantum-approximate-optimization-algorithm)과 Qiskit Estimator를 사용해보도록 하겠습니다. \n",
    "\n",
    "QAOA의 자세한 설명은 [이 논문](https://arxiv.org/abs/1411.4028)을 후에 읽어보세요!"
   ]
  },
  {
   "cell_type": "markdown",
   "metadata": {},
   "source": [
    "### QAOA Solution"
   ]
  },
  {
   "cell_type": "markdown",
   "metadata": {},
   "source": [
    "Qiskit Estimator를 사용해 문제를 해결하기 위해\n",
    "\n",
    "1. 문제의 Hamiltonian을 사용해 QAOA Ansatz를 구성합니다.\n",
    "2. 최소화 과정에서 사용할 Cost Function을 Estimator를 사용해 정의합니다.\n",
    "3. Post Processing을 통해 답을 구합니다.\n",
    "\n",
    "아래의 코드를 실행하여 이 과정을 따라가 봅시다."
   ]
  },
  {
   "cell_type": "code",
   "execution_count": null,
   "metadata": {
    "tags": []
   },
   "outputs": [],
   "source": [
    "from qiskit.circuit.library import QAOAAnsatz\n",
    "\n",
    "# QAOA ansatz circuit\n",
    "ansatz = QAOAAnsatz(qubitop, reps=2)\n",
    "\n",
    "ansatz.decompose(reps=3).draw(output=\"mpl\", style=\"iqp\")"
   ]
  },
  {
   "cell_type": "markdown",
   "metadata": {},
   "source": [
    "두번째 연습 문제는 최적화 과정에 사용할 cost function을 정의하는 것입니다. 아래의 `cost_func` 함수에 해당 부분을 코딩해봅시다. 앞에서 공부했던 learning platform의 [Optimization: Max-Cut](https://learning.quantum.ibm.com/course/variational-algorithm-design/examples-and-applications#optimization-max-cut) 챕터를 참고해보세요."
   ]
  },
  {
   "cell_type": "code",
   "execution_count": null,
   "metadata": {
    "tags": []
   },
   "outputs": [],
   "source": [
    "def cost_func(params, ansatz, hamiltonian, estimator):\n",
    "    \"\"\"Return estimate of energy from estimator\n",
    "\n",
    "    Parameters:\n",
    "        params (ndarray): Array of ansatz parameters\n",
    "        ansatz (QuantumCircuit): Parameterized ansatz circuit\n",
    "        hamiltonian (SparsePauliOp): Operator representation of Hamiltonian\n",
    "        estimator (Estimator): Estimator primitive instance\n",
    "\n",
    "    Returns:\n",
    "        cost (float): Energy estimate\n",
    "    \"\"\"\n",
    "    global cost\n",
    "\n",
    "    ##############################\n",
    "    # Put your implementation here\n",
    "    \n",
    "    cost = estimator.run(ansatz, hamiltonian, parameter_values=params).result().values[0]\n",
    "    ##############################\n",
    "\n",
    "    return cost"
   ]
  },
  {
   "cell_type": "code",
   "execution_count": null,
   "metadata": {},
   "outputs": [],
   "source": [
    "def build_callback(callback_dict):\n",
    "    \"\"\"Return callback function that uses Estimator instance,\n",
    "    and stores intermediate values into a dictionary.\n",
    "\n",
    "    Parameters:\n",
    "        ansatz (QuantumCircuit): Parameterized ansatz circuit\n",
    "        hamiltonian (SparsePauliOp): Operator representation of Hamiltonian\n",
    "        estimator (Estimator): Estimator primitive instance\n",
    "        callback_dict (dict): Mutable dict for storing values\n",
    "\n",
    "    Returns:\n",
    "        Callable: Callback function object\n",
    "    \"\"\"\n",
    "    def callback(current_vector):\n",
    "\n",
    "        \"\"\"Callback function storing previous solution vector,\n",
    "        computing the intermediate cost value, and displaying number\n",
    "        of completed iterations and average time per iteration.\n",
    "\n",
    "        Values are stored in pre-defined 'callback_dict' dictionary.\n",
    "\n",
    "        Parameters:\n",
    "            current_vector (ndarray): Current vector of parameters\n",
    "                                      returned by optimizer\n",
    "        \"\"\"\n",
    "        # Keep track of the number of iterations\n",
    "        callback_dict[\"iters\"] += 1\n",
    "        # Set the prev_vector to the latest one\n",
    "        callback_dict[\"prev_vector\"] = current_vector\n",
    "        # Compute the value of the cost function at the current vector\n",
    "        # This adds an additional function evaluation\n",
    "        \n",
    "        current_cost = cost\n",
    "\n",
    "        callback_dict[\"cost_history\"].append(current_cost)\n",
    "        # Print to screen on single line\n",
    "        print(\n",
    "            \"Iters. done: {} [Current cost: {}]\".format(callback_dict[\"iters\"], current_cost),\n",
    "            end=\"\\r\",\n",
    "            flush=True,\n",
    "        )\n",
    "\n",
    "    return callback"
   ]
  },
  {
   "cell_type": "markdown",
   "metadata": {},
   "source": [
    "함수를 작성했으면 아래의 코드를 실행하여 QAOA 알고리즘을 실행해봅시다."
   ]
  },
  {
   "cell_type": "code",
   "execution_count": null,
   "metadata": {
    "tags": []
   },
   "outputs": [],
   "source": [
    "import numpy as np\n",
    "from qiskit.primitives import Estimator as QiskitEstimator\n",
    "from scipy.optimize import minimize\n",
    "\n",
    "x0 = 2 * np.pi * np.zeros(ansatz.num_parameters)\n",
    "callback_dict = {\n",
    "    \"prev_vector\": None,\n",
    "    \"iters\": 0,\n",
    "    \"cost_history\": [],\n",
    "}\n",
    "callback = build_callback(callback_dict)\n",
    "\n",
    "qiskit_estimator = QiskitEstimator()\n",
    "res = minimize(cost_func, x0, args=(ansatz, qubitop, qiskit_estimator), method=\"cobyla\",callback=callback)\n",
    "print(res)"
   ]
  },
  {
   "cell_type": "code",
   "execution_count": null,
   "metadata": {
    "tags": []
   },
   "outputs": [],
   "source": [
    "print(f\"Estimated function value (QAOA): {res.fun + offset}\")\n",
    "print(f\"Objective function value (numpy solver): {result.fval + offset}\")"
   ]
  },
  {
   "cell_type": "code",
   "execution_count": null,
   "metadata": {},
   "outputs": [],
   "source": [
    "import matplotlib.pyplot as plt\n",
    "\n",
    "\n",
    "fig, ax = plt.subplots()\n",
    "ax.plot(range(callback_dict[\"iters\"]), callback_dict[\"cost_history\"])\n",
    "ax.set_xlabel(\"Iterations\")\n",
    "ax.set_ylabel(\"Cost\")\n",
    "plt.draw()"
   ]
  },
  {
   "cell_type": "markdown",
   "metadata": {},
   "source": [
    "QAOA 알고리즘의 결과는 여러 솔루션들의 중첩으로 나타납니다. 우리는 QAOA 알고리즘의 결과에서 우리가 원하는 정답이 가장 높은 확률로 나타날 것으로 예상합니다. 아래의 코드를 실행하여 가장 높은 확률의 결과를 확인해봅시다."
   ]
  },
  {
   "cell_type": "code",
   "execution_count": 1,
   "metadata": {
    "tags": []
   },
   "outputs": [],
   "source": [
    "from qiskit.primitives import Sampler as QiskitSampler\n",
    "\n",
    "def get_most_probable_solution(ansatz, res):\n",
    "\n",
    "    # Assign solution parameters to ansatz\n",
    "    qc = ansatz.assign_parameters(res.x)\n",
    "\n",
    "    # Add measurements to our circuit\n",
    "    qc.measure_all()\n",
    "\n",
    "    # Sample ansatz at optimal parameters\n",
    "    qiskit_sampler = QiskitSampler()\n",
    "    samp_dist = qiskit_sampler.run(qc).result().quasi_dists[0]\n",
    "    probabilities = samp_dist.binary_probabilities()\n",
    "\n",
    "    return probabilities\n",
    "\n",
    "def print_solution(probabilities, conv, qp):\n",
    "\n",
    "    # Get the most probable result\n",
    "    binary_string = max(probabilities.items(), key=lambda kv: kv[1])[0]\n",
    "    print(f\"Most probable result: {binary_string}\")\n",
    "\n",
    "    # Convert the result to a solution and evaluate the function value\n",
    "    sol = conv.interpret((np.asarray([int(y) for y in list(binary_string)]))) #<- no reverse\n",
    "    fval = qp.objective.evaluate(sol)\n",
    "    print(f\"Interpreted solution: {sol}\")\n",
    "    print(f\"Function value: {fval}\")"
   ]
  },
  {
   "cell_type": "code",
   "execution_count": null,
   "metadata": {
    "tags": []
   },
   "outputs": [],
   "source": [
    "probabilities = get_most_probable_solution(ansatz, res)\n",
    "print_solution(probabilities, conv, qp)"
   ]
  },
  {
   "cell_type": "code",
   "execution_count": null,
   "metadata": {
    "tags": []
   },
   "outputs": [],
   "source": [
    "from qiskit.visualization import plot_distribution\n",
    "\n",
    "plot_distribution(probabilities)"
   ]
  },
  {
   "cell_type": "markdown",
   "metadata": {},
   "source": [
    "## 양자컴퓨터로 문제를 풀어봅시다 - 실제 백엔드probabilities"
   ]
  },
  {
   "cell_type": "markdown",
   "metadata": {},
   "source": [
    "IBM Quantum의 양자 백엔드를 사용하기 위해서는 가장 먼저 IBMid를 생성해야 합니다. 여러분은 이미 수업의 실습을 위한 프로젝트에 추가되어 할당된 백엔드를 사용할수 있습니다. 혹시 제출하지 않았다면 채팅창에 여러분의 IBMid를 남겨주세요.\n",
    "\n",
    "여러분이 만약 이 노트북을 IBM Quantum Cloud에서 실행중이라면 계정 정보를 저장할 필요가 없지만 만약 로컬 환경에서 실행중이라면 다음과 같은 과정을 거쳐 계정 정보를 저장하도록 합니다.\n",
    "\n",
    "### 실습을 위한 계정 설정 및 백엔드 설정\n",
    "\n",
    "실습을 위한 계정 설정을 해봅시다. 토큰은 https://quantum-computing.ibm.com/ 에서 복사해 옵니다.\n",
    "수업을 위해 예약된 백엔드를 불러옵니다.\n"
   ]
  },
  {
   "cell_type": "code",
   "execution_count": null,
   "metadata": {
    "tags": []
   },
   "outputs": [],
   "source": [
    "from qiskit_ibm_runtime import QiskitRuntimeService, Estimator, Options\n",
    "\n",
    "# QiskitRuntimeService.save_account(channel=\"ibm_quantum\", token=\"your token\", overwrite=True)\n",
    "service = QiskitRuntimeService(instance=\"ibm-q-yonsei/internal/reservations\")"
   ]
  },
  {
   "cell_type": "markdown",
   "metadata": {},
   "source": [
    "여러분이 사용할 수 있는 백엔드들을 확인해 봅시다."
   ]
  },
  {
   "cell_type": "code",
   "execution_count": null,
   "metadata": {
    "tags": []
   },
   "outputs": [],
   "source": [
    "service.backends(simulator=False, operational=True)"
   ]
  },
  {
   "cell_type": "markdown",
   "metadata": {},
   "source": [
    "표시되는 `ibmq_kolkata`를 백엔드로 설정합니다. "
   ]
  },
  {
   "cell_type": "code",
   "execution_count": null,
   "metadata": {
    "tags": []
   },
   "outputs": [],
   "source": [
    "backend = service.get_backend('ibmq_kolkata')"
   ]
  },
  {
   "cell_type": "markdown",
   "metadata": {},
   "source": [
    "Qiskit은 여러분이 선택한 백엔드의 기본 정보들을 쥬피터 노트북에서 바로 확인할 수 있도록 `plot_error_map`과 `plot_gate_map`의 기능을 지원합니다. 이 기능을 사용하기 위해서는 맥의 경우 터미널에서 `brew install graphviz` 명령어를 실행해 필수 라이브러리를 설치해 주어야 합니다. \n",
    "\n",
    "설치가 되어 있다고 가정하고 다음의 코드들을 실행해 봅시다."
   ]
  },
  {
   "cell_type": "code",
   "execution_count": null,
   "metadata": {
    "tags": []
   },
   "outputs": [],
   "source": [
    "from qiskit.visualization import plot_gate_map\n",
    "\n",
    "plot_gate_map(backend)"
   ]
  },
  {
   "cell_type": "code",
   "execution_count": null,
   "metadata": {
    "tags": []
   },
   "outputs": [],
   "source": [
    "from qiskit.visualization import plot_error_map\n",
    "\n",
    "plot_error_map(backend)"
   ]
  },
  {
   "cell_type": "markdown",
   "metadata": {},
   "source": [
    "### Exercise 2: Submitting a job to a real quantum computer"
   ]
  },
  {
   "cell_type": "markdown",
   "metadata": {},
   "source": [
    "위에서 만들어 둔 문제를 실제 양자 컴퓨터에 실행하는 것은 여러분이 생각하는 것보다 정말 쉽습니다. 주의해야 할 사항은 늘어난 사용자로 인한 대기시간과 QAOA나 VQE와 같은 고전-양자 리소스간 하이브리드 계산의 경우 백엔드로 여러개의 잡이 보내지며 이 과정에서 발생하는 대기 시간으로 인한 불편함입니다. \n",
    "\n",
    "반복 계산의 대기시간을 줄이기 위해 Qiskit Runtime은 `Session`을 사용하여, 사용자의 계산이 종료될때까지 백엔드로의 억세스를 __붙잡아두는__ 기능을 제공합니다. 프리미엄 계정의 경우 이 Session이 백엔드를 잡아두는 최대 시간은 최대 약 2시간입니다. \n",
    "\n",
    "아래의 코드를 실행하면 노트북이 결과를 얻을때 까지 상당한 시간이 소요됩니다. 마음의 여유를 가지고 한번 도전해 보세요!"
   ]
  },
  {
   "cell_type": "code",
   "execution_count": null,
   "metadata": {
    "tags": []
   },
   "outputs": [],
   "source": [
    "options = Options()\n",
    "options.execution.shots = 10000\n",
    "options.optimization_level = 2\n",
    "options.resilience_level = 1"
   ]
  },
  {
   "cell_type": "code",
   "execution_count": null,
   "metadata": {},
   "outputs": [],
   "source": [
    "from qiskit_ibm_runtime import Session, Options, Estimator, Sampler\n",
    "from scipy.optimize import minimize\n",
    "\n",
    "session = Session(backend=backend)\n",
    "estimator = Estimator(session=session, options=options)\n",
    "\n",
    "\n",
    "x0 = 2 * np.pi * np.zeros(ansatz.num_parameters)\n",
    "callback_dict = {\n",
    "    \"prev_vector\": None,\n",
    "    \"iters\": 0,\n",
    "    \"cost_history\": [],\n",
    "}\n",
    "callback = build_callback(callback_dict)\n",
    "\n",
    "res = minimize(cost_func, x0, args=(ansatz, qubitop, estimator), method=\"cobyla\", callback=callback)\n",
    "\n",
    "print(res)\n",
    "\n",
    "session.close()\n"
   ]
  },
  {
   "cell_type": "code",
   "execution_count": null,
   "metadata": {
    "tags": []
   },
   "outputs": [],
   "source": [
    "probabilities = get_most_probable_solution(ansatz, res)\n",
    "print_solution(probabilities, conv, qp)"
   ]
  },
  {
   "cell_type": "code",
   "execution_count": null,
   "metadata": {
    "tags": []
   },
   "outputs": [],
   "source": [
    "from qiskit.visualization import plot_distribution\n",
    "\n",
    "plot_distribution(probabilities)"
   ]
  },
  {
   "cell_type": "markdown",
   "metadata": {},
   "source": [
    "저의 경우는 위 코드를 실행하는데 총 51번의 백엔드에 계산이 보내졌고 총 4x51 = 204s, 약 4분의 QPU 시간이 소요되었습니다. "
   ]
  },
  {
   "cell_type": "markdown",
   "metadata": {},
   "source": [
    "## References"
   ]
  },
  {
   "cell_type": "markdown",
   "metadata": {},
   "source": [
    "[1] A. A. Nel, ‘Crop rotation in the summer rainfall area of South Africa’, South African Journal of Plant and Soil, vol. 22, no. 4, pp. 274–278, Jan. 2005, doi: 10.1080/02571862.2005.10634721.\n",
    "\n",
    "[2] H. Ritchie and M. Roser, ‘Crop yields’, Our World in Data, 2013, [Online]. Available: https://ourworldindata.org/crop-yields.\n",
    "\n",
    "[3] G. Brion, ‘Controlling Pests with Plants: The power of intercropping’, UVM Food Feed, Jan. 09, 2014. https://learn.uvm.edu/foodsystemsblog/2014/01/09/controlling-pests-with-plants-the-power-of-intercropping/ (accessed Feb. 15, 2021).\n",
    "\n",
    "[4] N. O. Ogot, J. O. Pittchar, C. A. O. Midega, and Z. R. Khan, ‘Attributes of push-pull technology in enhancing food and nutrition security’, African Journal of Agriculture and Food Security, vol. 6, pp. 229–242, Mar. 2018."
   ]
  },
  {
   "cell_type": "code",
   "execution_count": null,
   "metadata": {
    "tags": []
   },
   "outputs": [],
   "source": [
    "import qiskit.tools.jupyter\n",
    "\n",
    "%qiskit_version_table\n",
    "%qiskit_copyright"
   ]
  },
  {
   "cell_type": "code",
   "execution_count": null,
   "metadata": {},
   "outputs": [],
   "source": []
  }
 ],
 "metadata": {
  "kernelspec": {
   "display_name": "Python 3 (ipykernel)",
   "language": "python",
   "name": "python3"
  },
  "language_info": {
   "codemirror_mode": {
    "name": "ipython",
    "version": 3
   },
   "file_extension": ".py",
   "mimetype": "text/x-python",
   "name": "python",
   "nbconvert_exporter": "python",
   "pygments_lexer": "ipython3",
   "version": "3.11.5"
  },
  "toc": {
   "base_numbering": 1,
   "nav_menu": {},
   "number_sections": true,
   "sideBar": true,
   "skip_h1_title": false,
   "title_cell": "Table of Contents",
   "title_sidebar": "Contents",
   "toc_cell": false,
   "toc_position": {
    "height": "calc(100% - 180px)",
    "left": "10px",
    "top": "150px",
    "width": "195px"
   },
   "toc_section_display": true,
   "toc_window_display": true
  },
  "varInspector": {
   "cols": {
    "lenName": 16,
    "lenType": 16,
    "lenVar": 40
   },
   "kernels_config": {
    "python": {
     "delete_cmd_postfix": "",
     "delete_cmd_prefix": "del ",
     "library": "var_list.py",
     "varRefreshCmd": "print(var_dic_list())"
    },
    "r": {
     "delete_cmd_postfix": ") ",
     "delete_cmd_prefix": "rm(",
     "library": "var_list.r",
     "varRefreshCmd": "cat(var_dic_list()) "
    }
   },
   "oldHeight": 676.85,
   "position": {
    "height": "698.85px",
    "left": "2014px",
    "right": "20px",
    "top": "158px",
    "width": "477px"
   },
   "types_to_exclude": [
    "module",
    "function",
    "builtin_function_or_method",
    "instance",
    "_Feature"
   ],
   "varInspector_section_display": "block",
   "window_display": false
  },
  "widgets": {
   "application/vnd.jupyter.widget-state+json": {
    "state": {
     "06e31a48549f4f378cf73c7b4ce938bd": {
      "model_module": "@jupyter-widgets/controls",
      "model_module_version": "2.0.0",
      "model_name": "GridBoxModel",
      "state": {
       "children": [
        "IPY_MODEL_d12c50c7c5cf4274a71f92a842faf864"
       ],
       "layout": "IPY_MODEL_605b23d126064364b599d7fd37020b90"
      }
     },
     "218760f46fb6481cb957853faabff9a0": {
      "model_module": "@jupyter-widgets/controls",
      "model_module_version": "2.0.0",
      "model_name": "HTMLModel",
      "state": {
       "layout": "IPY_MODEL_475c24239d08441581138600d998e54d",
       "style": "IPY_MODEL_f079eb0fe08c46e6849cafe7d0d7b752",
       "value": "<h5>Message</h5>"
      }
     },
     "28832b26b82a40d8a9c25d1c799b763b": {
      "model_module": "@jupyter-widgets/base",
      "model_module_version": "2.0.0",
      "model_name": "LayoutModel",
      "state": {
       "margin": "0px 0px 0px 37px",
       "width": "600px"
      }
     },
     "2fe2b4c8d1be41f9b83be572c35ecbfd": {
      "model_module": "@jupyter-widgets/controls",
      "model_module_version": "2.0.0",
      "model_name": "HTMLStyleModel",
      "state": {
       "description_width": "",
       "font_size": null,
       "text_color": null
      }
     },
     "44843e62a0134510be75e58d67f6e460": {
      "model_module": "@jupyter-widgets/base",
      "model_module_version": "2.0.0",
      "model_name": "LayoutModel",
      "state": {
       "width": "145px"
      }
     },
     "475c24239d08441581138600d998e54d": {
      "model_module": "@jupyter-widgets/base",
      "model_module_version": "2.0.0",
      "model_name": "LayoutModel",
      "state": {}
     },
     "5535ffda11724d498aa296b12a485cbd": {
      "model_module": "@jupyter-widgets/controls",
      "model_module_version": "2.0.0",
      "model_name": "HTMLStyleModel",
      "state": {
       "description_width": "",
       "font_size": null,
       "text_color": null
      }
     },
     "605b23d126064364b599d7fd37020b90": {
      "model_module": "@jupyter-widgets/base",
      "model_module_version": "2.0.0",
      "model_name": "LayoutModel",
      "state": {
       "grid_template_areas": "\n                                       \". . . . right \"\n                                        ",
       "grid_template_columns": "20% 20% 20% 20% 20%",
       "width": "100%"
      }
     },
     "6fe2ec6162374c34a00f18ce8394e1b0": {
      "model_module": "@jupyter-widgets/controls",
      "model_module_version": "2.0.0",
      "model_name": "HTMLStyleModel",
      "state": {
       "description_width": "",
       "font_size": null,
       "text_color": null
      }
     },
     "763a8ab39d154609b0d9fc46623e468a": {
      "model_module": "@jupyter-widgets/base",
      "model_module_version": "2.0.0",
      "model_name": "LayoutModel",
      "state": {
       "grid_area": "right",
       "padding": "0px 0px 0px 0px",
       "width": "70px"
      }
     },
     "87c98df567c646bbb0cf80188ec8a21f": {
      "model_module": "@jupyter-widgets/controls",
      "model_module_version": "2.0.0",
      "model_name": "HTMLModel",
      "state": {
       "layout": "IPY_MODEL_44843e62a0134510be75e58d67f6e460",
       "style": "IPY_MODEL_6fe2ec6162374c34a00f18ce8394e1b0",
       "value": "<h5>Backend</h5>"
      }
     },
     "8c1a5d8c7b0c4d538ec578f3b83a37a5": {
      "model_module": "@jupyter-widgets/controls",
      "model_module_version": "2.0.0",
      "model_name": "HTMLStyleModel",
      "state": {
       "description_width": "",
       "font_size": null,
       "text_color": null
      }
     },
     "9991b20c3f91436b9941a1374a993644": {
      "model_module": "@jupyter-widgets/controls",
      "model_module_version": "2.0.0",
      "model_name": "HTMLModel",
      "state": {
       "layout": "IPY_MODEL_df7e1e77aef842b898a74cc409de01df",
       "style": "IPY_MODEL_d649f32d11ab4f77811f7ce56dcd2c82",
       "value": "<h5>Status</h5>"
      }
     },
     "9bfbfb3f5e9a4e92bd92063a20bf8065": {
      "model_module": "@jupyter-widgets/controls",
      "model_module_version": "2.0.0",
      "model_name": "HTMLModel",
      "state": {
       "layout": "IPY_MODEL_def8384edd1e4ed7ae5c93103841deb1",
       "style": "IPY_MODEL_5535ffda11724d498aa296b12a485cbd",
       "value": "<h5>Queue</h5>"
      }
     },
     "c4e7983fa8a74adfa67c625ad5cccc47": {
      "model_module": "@jupyter-widgets/controls",
      "model_module_version": "2.0.0",
      "model_name": "HTMLModel",
      "state": {
       "layout": "IPY_MODEL_da895766aafd4aadbc668ad59c29a9f2",
       "style": "IPY_MODEL_2fe2b4c8d1be41f9b83be572c35ecbfd",
       "value": "<p style='font-family: IBM Plex Sans, Arial, Helvetica, sans-serif; font-size: 20px; font-weight: medium;'>Circuit Properties</p>"
      }
     },
     "d12c50c7c5cf4274a71f92a842faf864": {
      "model_module": "@jupyter-widgets/controls",
      "model_module_version": "2.0.0",
      "model_name": "ButtonModel",
      "state": {
       "button_style": "primary",
       "description": "Clear",
       "layout": "IPY_MODEL_763a8ab39d154609b0d9fc46623e468a",
       "style": "IPY_MODEL_f6f6d5516a8a40c3bae500ea7287d75a",
       "tooltip": null
      }
     },
     "d649f32d11ab4f77811f7ce56dcd2c82": {
      "model_module": "@jupyter-widgets/controls",
      "model_module_version": "2.0.0",
      "model_name": "HTMLStyleModel",
      "state": {
       "description_width": "",
       "font_size": null,
       "text_color": null
      }
     },
     "d8c738fa49104c08b42f38337faf804a": {
      "model_module": "@jupyter-widgets/controls",
      "model_module_version": "2.0.0",
      "model_name": "HTMLModel",
      "state": {
       "layout": "IPY_MODEL_dfe81b275a6e4606b9e92ae1e0b88b0e",
       "style": "IPY_MODEL_8c1a5d8c7b0c4d538ec578f3b83a37a5",
       "value": "<h5>Job ID</h5>"
      }
     },
     "da895766aafd4aadbc668ad59c29a9f2": {
      "model_module": "@jupyter-widgets/base",
      "model_module_version": "2.0.0",
      "model_name": "LayoutModel",
      "state": {
       "margin": "0px 0px 10px 0px"
      }
     },
     "def8384edd1e4ed7ae5c93103841deb1": {
      "model_module": "@jupyter-widgets/base",
      "model_module_version": "2.0.0",
      "model_name": "LayoutModel",
      "state": {
       "width": "70px"
      }
     },
     "df7e1e77aef842b898a74cc409de01df": {
      "model_module": "@jupyter-widgets/base",
      "model_module_version": "2.0.0",
      "model_name": "LayoutModel",
      "state": {
       "width": "95px"
      }
     },
     "dfe81b275a6e4606b9e92ae1e0b88b0e": {
      "model_module": "@jupyter-widgets/base",
      "model_module_version": "2.0.0",
      "model_name": "LayoutModel",
      "state": {
       "width": "190px"
      }
     },
     "f079eb0fe08c46e6849cafe7d0d7b752": {
      "model_module": "@jupyter-widgets/controls",
      "model_module_version": "2.0.0",
      "model_name": "HTMLStyleModel",
      "state": {
       "description_width": "",
       "font_size": null,
       "text_color": null
      }
     },
     "f6f6d5516a8a40c3bae500ea7287d75a": {
      "model_module": "@jupyter-widgets/controls",
      "model_module_version": "2.0.0",
      "model_name": "ButtonStyleModel",
      "state": {
       "font_family": null,
       "font_size": null,
       "font_style": null,
       "font_variant": null,
       "font_weight": null,
       "text_color": null,
       "text_decoration": null
      }
     },
     "ffd3d8c88e6e4f5d80089c335bec19f3": {
      "model_module": "@jupyter-widgets/controls",
      "model_module_version": "2.0.0",
      "model_name": "HBoxModel",
      "state": {
       "children": [
        "IPY_MODEL_d8c738fa49104c08b42f38337faf804a",
        "IPY_MODEL_87c98df567c646bbb0cf80188ec8a21f",
        "IPY_MODEL_9991b20c3f91436b9941a1374a993644",
        "IPY_MODEL_9bfbfb3f5e9a4e92bd92063a20bf8065",
        "IPY_MODEL_218760f46fb6481cb957853faabff9a0"
       ],
       "layout": "IPY_MODEL_28832b26b82a40d8a9c25d1c799b763b"
      }
     }
    },
    "version_major": 2,
    "version_minor": 0
   }
  }
 },
 "nbformat": 4,
 "nbformat_minor": 4
}
