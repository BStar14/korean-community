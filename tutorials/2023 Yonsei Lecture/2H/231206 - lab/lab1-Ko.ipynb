{
 "cells": [
  {
   "cell_type": "markdown",
   "metadata": {},
   "source": [
    "<h1>2023년도 2학기 연세대학교 \"양자컴퓨팅과 시뮬레이션2\" 수업 실습</h1>\n",
    "<h2>최적화 문제를 풀어봅시다! - From 2021 IBM Quantum Africa Challenge</h3>"
   ]
  },
  {
   "cell_type": "markdown",
   "metadata": {},
   "source": [
    "양자 컴퓨팅은 고전 컴퓨터에서 해결할 수 없는 문제를 해결할 수 있을 것으로 기대되기 때문에 컴퓨팅에 혁명을 일으킬 잠재력을 지니고 있습니다. 양자컴퓨터가 고전 자원을 능하가는 결과를 낼 수 있게 되는 것을 양자 이득이라고 부르며, 이 목표를 달성하기 위해, 세계는 열정적이고 유능한 사용자들, 즉 그 기술을 각각의 분야에 적용할 줄 아는 사람들을 필요로 하고 있습니다.\n",
    "\n",
    "이 도전에서 여러분은 Qiskit을 사용해 양자 컴퓨팅을 사용해 실생활의 문제와 유사한 문제를 해결하는 것을 경험하게 될 것입니다. 현재 또는 미래의 양자 컴퓨터 사용자로서, 여러분은 양자 계산에 적합한 문제가 무엇인지, 여러분이 선택한 알고리즘과 호환되도록 여러분의 문제/입력을 구조화하는 방법, 그리고 문제를 해결하기 위해 주어진 알고리즘과 양자 솔루션을 실행하는 방법을 배우게 될 것입니다."
   ]
  },
  {
   "cell_type": "markdown",
   "metadata": {},
   "source": [
    "## 1.1 초기 설정"
   ]
  },
  {
   "cell_type": "markdown",
   "metadata": {},
   "source": [
    "실습을 위해서는 1) qiskit, 2) qiskit-ibm-runtime 그리고 3) qiskit-optimization 패키지가 설치 되어 있어야 합니다.\n",
    "\n",
    "만약 여러분이 [IBM Quantum Cloud](http://quantum-computing.ibm.com)을 실습에 사용중이시라면, qiskit optimization 패키지만 설치하시면 됩니다.\n",
    "다음의 셀을 실행시킨 후 커널을 restart 해주세요!"
   ]
  },
  {
   "cell_type": "code",
   "execution_count": 1,
   "metadata": {
    "tags": []
   },
   "outputs": [
    {
     "name": "stdout",
     "output_type": "stream",
     "text": [
      "Requirement already satisfied: qiskit-optimization in /opt/conda/lib/python3.10/site-packages (0.5.0)\n",
      "Requirement already satisfied: numpy>=1.17 in /opt/conda/lib/python3.10/site-packages (from qiskit-optimization) (1.23.5)\n",
      "Requirement already satisfied: docplex!=2.24.231,>=2.21.207 in /opt/conda/lib/python3.10/site-packages (from qiskit-optimization) (2.25.236)\n",
      "Requirement already satisfied: setuptools>=40.1.0 in /opt/conda/lib/python3.10/site-packages (from qiskit-optimization) (67.7.2)\n",
      "Requirement already satisfied: scipy>=1.4 in /opt/conda/lib/python3.10/site-packages (from qiskit-optimization) (1.9.3)\n",
      "Requirement already satisfied: networkx>=2.6.3 in /opt/conda/lib/python3.10/site-packages (from qiskit-optimization) (3.1)\n",
      "Requirement already satisfied: qiskit-terra>=0.22.4 in /opt/conda/lib/python3.10/site-packages (from qiskit-optimization) (0.25.3)\n",
      "Requirement already satisfied: six in /opt/conda/lib/python3.10/site-packages (from docplex!=2.24.231,>=2.21.207->qiskit-optimization) (1.16.0)\n",
      "Requirement already satisfied: rustworkx>=0.13.0 in /opt/conda/lib/python3.10/site-packages (from qiskit-terra>=0.22.4->qiskit-optimization) (0.13.0)\n",
      "Requirement already satisfied: psutil>=5 in /opt/conda/lib/python3.10/site-packages (from qiskit-terra>=0.22.4->qiskit-optimization) (5.9.4)\n",
      "Requirement already satisfied: stevedore>=3.0.0 in /opt/conda/lib/python3.10/site-packages (from qiskit-terra>=0.22.4->qiskit-optimization) (4.1.1)\n",
      "Requirement already satisfied: python-dateutil>=2.8.0 in /opt/conda/lib/python3.10/site-packages (from qiskit-terra>=0.22.4->qiskit-optimization) (2.8.2)\n",
      "Requirement already satisfied: dill>=0.3 in /opt/conda/lib/python3.10/site-packages (from qiskit-terra>=0.22.4->qiskit-optimization) (0.3.7)\n",
      "Requirement already satisfied: symengine<0.10,>=0.9 in /opt/conda/lib/python3.10/site-packages (from qiskit-terra>=0.22.4->qiskit-optimization) (0.9.2)\n",
      "Requirement already satisfied: ply>=3.10 in /opt/conda/lib/python3.10/site-packages (from qiskit-terra>=0.22.4->qiskit-optimization) (3.11)\n",
      "Requirement already satisfied: typing-extensions in /opt/conda/lib/python3.10/site-packages (from qiskit-terra>=0.22.4->qiskit-optimization) (4.5.0)\n",
      "Requirement already satisfied: sympy>=1.3 in /opt/conda/lib/python3.10/site-packages (from qiskit-terra>=0.22.4->qiskit-optimization) (1.11.1)\n",
      "Requirement already satisfied: pbr!=2.1.0,>=2.0.0 in /opt/conda/lib/python3.10/site-packages (from stevedore>=3.0.0->qiskit-terra>=0.22.4->qiskit-optimization) (5.11.1)\n",
      "Requirement already satisfied: mpmath>=0.19 in /opt/conda/lib/python3.10/site-packages (from sympy>=1.3->qiskit-terra>=0.22.4->qiskit-optimization) (1.3.0)\n",
      "\n",
      "\u001b[1m[\u001b[0m\u001b[34;49mnotice\u001b[0m\u001b[1;39;49m]\u001b[0m\u001b[39;49m A new release of pip available: \u001b[0m\u001b[31;49m23.1.1\u001b[0m\u001b[39;49m -> \u001b[0m\u001b[32;49m23.3.1\u001b[0m\n",
      "\u001b[1m[\u001b[0m\u001b[34;49mnotice\u001b[0m\u001b[1;39;49m]\u001b[0m\u001b[39;49m To update, run: \u001b[0m\u001b[32;49mpip install --upgrade pip\u001b[0m\n"
     ]
    }
   ],
   "source": [
    "!pip install qiskit[all] qiskit-ibm-runtime qiskit-optimization"
   ]
  },
  {
   "cell_type": "markdown",
   "metadata": {},
   "source": [
    "설치가 잘 되었는지 확인해 봅시다."
   ]
  },
  {
   "cell_type": "code",
   "execution_count": 1,
   "metadata": {
    "tags": []
   },
   "outputs": [
    {
     "data": {
      "text/html": [
       "<h3>Version Information</h3><table><tr><th>Software</th><th>Version</th></tr><tr><td><code>qiskit</code></td><td>0.44.3</td></tr><tr><td><code>qiskit-terra</code></td><td>0.25.3</td></tr><tr><td><code>qiskit_optimization</code></td><td>0.5.0</td></tr><tr><td><code>qiskit_ibm_provider</code></td><td>0.6.3</td></tr><tr><td><code>qiskit_aer</code></td><td>0.12.2</td></tr><tr><td><code>qiskit_ibm_runtime</code></td><td>0.11.3</td></tr><tr><th colspan='2'>System information</th></tr><tr><td>Python version</td><td>3.10.8</td></tr><tr><td>Python compiler</td><td>GCC 10.4.0</td></tr><tr><td>Python build</td><td>main, Nov 22 2022 08:26:04</td></tr><tr><td>OS</td><td>Linux</td></tr><tr><td>CPUs</td><td>8</td></tr><tr><td>Memory (Gb)</td><td>31.142810821533203</td></tr><tr><td colspan='2'>Sat Dec 02 11:27:58 2023 UTC</td></tr></table>"
      ],
      "text/plain": [
       "<IPython.core.display.HTML object>"
      ]
     },
     "metadata": {},
     "output_type": "display_data"
    }
   ],
   "source": [
    "import qiskit.tools.jupyter\n",
    "import qiskit_optimization\n",
    "import qiskit_ibm_runtime\n",
    "\n",
    "%qiskit_version_table"
   ]
  },
  {
   "cell_type": "markdown",
   "metadata": {},
   "source": [
    "## 목차"
   ]
  },
  {
   "cell_type": "markdown",
   "metadata": {},
   "source": [
    "이 노트북의 목차는 다음과 같습니다.\n",
    "\n",
    "1.  \b초기 설정\n",
    "1.  목차\n",
    "1.  Qiskit Ecosystem 소개\n",
    "1.  이차 문제 (Quadratic Problems)\n",
    "1.  이차 문제로서의 농장 문제 (Crop-Yield Problem as a Quadratic Problem)\n",
    "1.  양자컴퓨터로 문제를 풀어봅시다 - 시뮬레이터\n",
    "1.  양자컴퓨터로 문제를 풀어봅시다 - 실제 백엔드"
   ]
  },
  {
   "cell_type": "markdown",
   "metadata": {},
   "source": [
    "## Qiskit Ecosystem 이란?"
   ]
  },
  {
   "cell_type": "markdown",
   "metadata": {},
   "source": [
    "Qiskit Ecosystem은 Qiskit을 기반으로 하거나 확장하는 소프트웨어 및 튜토리얼의 모음입니다. Ecosystem의 목표는 Qiskit을 사용하는 양자 기술의 개발을 기념하고, 지원 및 가속화하는 것입니다. 전체 프로젝트의 목록은 [이곳](https://github.com/Qiskit/ecosystem)에서 확인할 수 있습니다.\n",
    "\n",
    "이번 실습에서는 Ecosystem 프로젝트 중 하나인 금융을 포함한 최적화 문제를 풀기 위한 생태계 프로젝트인 [Qiskit-optimization](https://github.com/qiskit-community/qiskit-optimization)을 사용할 것입니다.\n",
    "\n",
    "Qiskit Optimization은 거의 모든 최적화 문제에 사용되는 다양한 수학적 표현을 높은 수준에서 구현하고 변환해주는 것을 포함해, 문제를 기존 시뮬레이터 및 Qiskit을 통한 실제 양자 백엔드에서 실행할 수 있도록 해주는 오픈소스 패키지입니다.\n",
    "\n",
    "Optimization 모듈은 IBM의 또다른 최적화 문제 해결을 위한 오픈소스 프로젝트인 [docplex](https://www.ibm.com/docs/en/icos/22.1.1?topic=docplex-python-modeling-api)를 사용하여 쉽고 효율적인 최적화 문제 모델링을 가능하게 합니다. 서로 다른 문제 표현 간의 자동 변환뿐만 아니라 균일한 인터페이스를 통해 QAOA(양자 근사 최적화 알고리즘)와 같은 변형 양자 알고리듬부터 Qiskit Algorms(Qiskit Algorms)에서 제공하는 기본 알고리듬들을 활용하여 Grover Optimizer(그로버 옵티마이저)를 사용한 Grover Adaptive Search(그로버 적응 검색)에 이르기까지 다양한 알고리듬을 사용해 문제를 해결할 수 있습니다. 또한 테스트, 검증 및 벤치마킹을 위한 호환되는 고전적인 \b도구들도 제공됩니다\n",
    "\n"
   ]
  },
  {
   "cell_type": "markdown",
   "metadata": {},
   "source": [
    "## (이차 문제) Quadratic Problems"
   ]
  },
  {
   "cell_type": "markdown",
   "metadata": {},
   "source": [
    "몇몇 계산 과학의 문제는, [이차 방정식](https://en.wikipedia.org/wiki/Quadratic_equation)의 최저점을 찾기 등의 최적화 문제로 표현되기도 합니다. 이런 유형의 문제들은 주로 금융, 농업, 제조 관리와 경영등에서 자주 맞닥드릴 수 있습니다.\n",
    "\n",
    "[이차 프로그래밍](https://en.wikipedia.org/wiki/Quadratic_programming)은 금융의 문제에서 리스크를 최소화 하거나 공장에서 제조 레이아웃을 최적화 함에 있어서 물류의 이동 거리를 최조화 하는 등등의 문제에 사용됩니다. 이 노트북은 인류가 맞닥드린 큰 문제중, 식량 공급의 문제에 있어서 중요한 농장에 심을 작물을 선택을 최적화 하는 문제를 다루어 보고자 합니다. 참고로 이 노트북은 2021년 아프리카 퀀텀 챌린지에 사용되어 많은 아프리카의 계산 과학자들이 식량의 문제에 양자컴퓨터를 활용하는 것에 관심을 갖도록 도운 문제이기도 합니다. \n",
    "\n",
    "이러한 이차 문제는 주요한 두가지의 특징을 지니고 있습니다. 첫번째는 수식이 다변수 이차 방정식으로 모델링 된다는 것이며 두번째는 수식이 다양한 범위와 형태의 제한 조건들(Constraints)을 갖는 다는 것입니다. \n",
    "\n",
    "---\n",
    "\n",
    "이차 문제들은 대부분 다음과 같은 구조를 갖습니다. 주어진 벡터는 $n$개의 변수 $x\\in\\mathbb{R}^n$를 가지며 최소화 해야 하는 이차식은 다음과 같습니다.\n",
    "\n",
    "$$\n",
    "\\begin{align}\n",
    "\\text{minimize}\\quad & f\\left(x\\right)=\\frac{1}{2}x^\\top{}\\mathbf{Q}x + c^\\top{}x &\\\\\n",
    "\\text{subject to}\\quad & \\mathbf{A}x\\leq{}b&\\\\\n",
    "& x^\\top{}\\mathbf{Q}_ix + c_{i}^\\top{}x\\leq{}r_i,\\quad&\\forall{}i\\in[1,k_q]\\\\\n",
    "& l_i\\leq{}x_i\\leq{}u_i,\\quad&\\forall{}i\\in[1,k_l]\\\\\n",
    "\\end{align}\n",
    "$$\n",
    "\n",
    "$\\mathbf{Q}$, $\\mathbf{Q}_i$, 와 $\\mathbf{A}$ 는 $n\\times{}n$ 크기의 대칭 행렬입니다. $c$ 와 $c_i$ 는 $n\\times{}1$ 크기의 행벡터 입니다. $\\mathbf{Q}_i$, $\\mathbf{A}$, $c_i$, $l_i$, 와 $u_i$는 각각 변수 $x$의 제한 조건을 정의합니다. 이차 문제의 중심에 있는 이차 방정식은, 최소화 함수에 행렬들을 곱하여 찾아내게 됩니다. '$\\leq{}$'이 위에 사용되었는데, 이 뿐만 아니라 다양한 관계를 나타내는 부등식들(\"$<$\", \"$=$\", \"$>$\", \"$\\geq$\", 혹은 \"$\\leq$\")도 사용 가능합니다. \n",
    "\n",
    "2차에 대한 유효한 해는 문제에 대한 모든 조건을 만족시켜야 합니다. 몇 가지 제약 조건의 예가 아래에 제시되어 있습니다. 처음 두 개는 선형 제약식이고 세 번째 예는 이차 제약식입니다.\n",
    "\n",
    "$$ x_1 + x_4 \\leq{} 10$$\n",
    "\n",
    "$$ x_2 - 3x_6 = 10$$\n",
    "\n",
    "$$x_1x_2 - 4x_3x_4 + x_5 \\leq{} 15 $$\n"
   ]
  },
  {
   "cell_type": "markdown",
   "metadata": {},
   "source": [
    "Qiskit Optimization 패키지는 `QuadraticProgram` 인스턴스를 사용해 이러한 문제를 파이썬에 입력할 수 있도록 해줍니다. 위에서 보여드린 예시에서는 행렬이 문제를 정의하기 위해 사용되었지만, `QuadraticProgram`은 여러분이 문제를 더 직접적으로, 직관적으로 설계할 수 있도록 해줍니다. `QuadraticProgram`가 어떻게 동작하는지 확인하기 위해서 다음의 세개의 변수를 지니는 이차 식을 예제로 삼아 코딩 실습을 해보도록 합시다. \n",
    "\n",
    "\n",
    "$$\\begin{align}\n",
    "\\text{minimize}\\quad{} & f(x)=(x_1)^2 + (x_2)^2 - x_1x_2 - 6x_3 \\\\\n",
    "\\text{subject to}\\quad{} & x_1 + x_2 = 2             \\\\\n",
    "                         & x_2x_3 \\geq{} 1           \\\\\n",
    "                         & -2 \\leq{} x_2 \\leq{} 2    \\\\\n",
    "                         & -2 \\leq{} x_3 \\leq{} 4    \\\\\n",
    "\\end{align}$$"
   ]
  },
  {
   "cell_type": "markdown",
   "metadata": {},
   "source": [
    "이어지는 코드에서, 위에 주어진 이차 문제를 `QuadraticProgram` 인스턴스를 사용해 작성해 보도록 하겠습니다. 다음의 [튜토리얼](https://github.com/qiskit-community/qiskit-optimization/blob/main/docs/tutorials/01_quadratic_program.ipynb)을 미리 들여다 보시면 도움이 될것입니다. \n",
    "\n",
    "최소화 해야 하는 이차항은, 대상이라 불리고, 파이썬의 사전 변수를 사용해 저장됩니다. 이것은 여러분, 즉 개발자들이, 특정한 변수와 항목들에 대한 변수를 각각 지정할 수 있게 해줍니다. 이 사전 변수의 키는 $f(x)$에 정의되는 변수의 이름입니다. 예를 들어 `(\"x_1\",\"x_2\")`는 $x_1x_2$를 의미합니다. 이 키들의 각각의 값은 항목이라 불리는 계수가 됩니다. $f(x)$에 뺄셈으로 정의된 변수들의 항목 값은 반드시 음수여야 합니다. "
   ]
  },
  {
   "cell_type": "code",
   "execution_count": 2,
   "metadata": {},
   "outputs": [
    {
     "data": {
      "text/plain": [
       "<QuadraticConstraint: x_2*x_3 >= 1 'q0'>"
      ]
     },
     "execution_count": 2,
     "metadata": {},
     "output_type": "execute_result"
    }
   ],
   "source": [
    "from qiskit_optimization import QuadraticProgram\n",
    "\n",
    "\n",
    "quadprog = QuadraticProgram(name=\"example 1\")\n",
    "quadprog.integer_var(name=\"x_1\", lowerbound=0, upperbound=4)\n",
    "quadprog.integer_var(name=\"x_2\", lowerbound=-2, upperbound=2)\n",
    "quadprog.integer_var(name=\"x_3\", lowerbound=-2, upperbound=4)\n",
    "quadprog.minimize(\n",
    "    linear={\"x_3\": -6},\n",
    "    quadratic={(\"x_1\", \"x_1\"): 1, (\"x_2\", \"x_2\"): 1, (\"x_1\", \"x_2\"): -1},\n",
    ")\n",
    "quadprog.linear_constraint(linear={\"x_1\": 1, \"x_2\": 1}, sense=\"=\", rhs=2)\n",
    "quadprog.quadratic_constraint(quadratic={(\"x_2\", \"x_3\"): 1}, sense=\">=\", rhs=1)\n"
   ]
  },
  {
   "cell_type": "markdown",
   "metadata": {},
   "source": [
    "`QuadraticProgram` 은 총 세가지 형태의 변수: 바이너리, 정수 그리고 연속변수를 가질 수 있습니다. 위에서 작성한 `QuadraticProgram`은 LP(**L**inear **P**rogramming) string이라는 가벼운 텍스트 기반의 형식으로 출력해서 확인 할 수 있습니다."
   ]
  },
  {
   "cell_type": "code",
   "execution_count": 3,
   "metadata": {},
   "outputs": [
    {
     "name": "stdout",
     "output_type": "stream",
     "text": [
      "\\ This file has been generated by DOcplex\n",
      "\\ ENCODING=ISO-8859-1\n",
      "\\Problem name: example 1\n",
      "\n",
      "Minimize\n",
      " obj: - 6 x_3 + [ 2 x_1^2 - 2 x_1*x_2 + 2 x_2^2 ]/2\n",
      "Subject To\n",
      " c0: x_1 + x_2 = 2\n",
      " q0: [ x_2*x_3 ] >= 1\n",
      "\n",
      "Bounds\n",
      "       x_1 <= 4\n",
      " -2 <= x_2 <= 2\n",
      " -2 <= x_3 <= 4\n",
      "\n",
      "Generals\n",
      " x_1 x_2 x_3\n",
      "End\n",
      "\n"
     ]
    }
   ],
   "source": [
    "print(quadprog.export_as_lp_string())"
   ]
  },
  {
   "cell_type": "markdown",
   "metadata": {},
   "source": [
    "문제의 최대 지수가 2인 단일 2차 방정식으로 표현될 수 있는 최적화 문제는 위의 예제와 같이 모두 입력으로 사용할 수 있습니다. 이 문제나 실습에서 사용할 농장의 문제 또한 실제 문제의 방정식이나 계수와는 다소 거리가 있을 수 있지만, 여러분이 적용하고자 하는 문제가 있다면 위의 코드를 가볍게 수정하여 사용할 수 있을 것입니다. "
   ]
  },
  {
   "cell_type": "markdown",
   "metadata": {},
   "source": [
    "## 이차 문제로서의 농장 문제 (Crop-Yield Problem as a Quadratic Problem)"
   ]
  },
  {
   "cell_type": "markdown",
   "metadata": {},
   "source": [
    "양자 컴퓨터를 사용하여 이차 프로그램을 해결하는 방법을 배우기 위해, 이 노트북에서는 두 가지 알고리즘을 사용하여 작물 수확량 문제를 해결할 것입니다. 농장의 수익을 높이면서 위험을 줄이기 위해 농장의 작물과 경영을 최적화하는 것에 도전해 봅시다. 아프리카와 전 세계가 직면한 큰 도전 중 하나는 모든 사람이 먹을 충분한 식량을 생산하는 방법입니다. 여기서 문제는 수익이 아니라 수확한 작물의 총량(톤수)에 초점이 맞추어져 있습니다. 농사에 적합한 3헥타르의 땅을 가진 농장이 있다고 상상해 봅시다. 여러분은 4가지 중에서 어떤 작물을 심을지 선택해야 합니다. 또한 당신은 각각의 몇 헥타르를 심어야 하는지도 결정해야 합니다. 당신이 심을 수 있는 4가지 작물은 밀, 대두, 옥수수 그리고 밀어내기 작물입니다. 네 번째 작물인 밀어내기 작물은 수확한 후에 팔 수 없지만 다른 작물의 수확량을 늘리는 데 도움을 주는 역할을 합니다.\n",
    "\n",
    "\n",
    "\n",
    "<table>\n",
    "    <tr>\n",
    "        <th>\n",
    "            <img src=\"farm_template.svg\" width=\"384px\"/>\n",
    "        </th>\n",
    "    </tr>\n",
    "    <tr>\n",
    "        <th>\n",
    "            여러분의 아름다운 3 헥타르 농장\n",
    "        </th>\n",
    "    </tr>\n",
    "</table>\n",
    "\n",
    "<table>\n",
    "    <tr>\n",
    "        <th>\n",
    "        <img src=\"crop_wheat.svg\" width=\"256px\"/>\n",
    "        </th>\n",
    "        <th>\n",
    "            <img src=\"crop_soybeans.svg\" width=\"256px\"/>\n",
    "        </th>\n",
    "        <th>\n",
    "            <img src=\"crop_maize.svg\" width=\"256px\"/>\n",
    "        </th>\n",
    "        <th>\n",
    "            <img src=\"crop_pushpull.svg\" width=\"256px\"/>\n",
    "        </th>\n",
    "    </tr>\n",
    "    <tr>\n",
    "        <th>\n",
    "            밀\n",
    "        </th>\n",
    "        <th>\n",
    "            콩\n",
    "        </th>\n",
    "        <th>\n",
    "            옥수수\n",
    "        </th>\n",
    "        <th>\n",
    "            밀어내기 작물\n",
    "        </th>\n",
    "<!--         <th>\n",
    "            <p align=\"right\" style=\"height:32px;padding-top:10px;\">Wheat<img src=\"wheat.svg\" width=\"32px\" style=\"float:left;margin-top:-10px;margin-right:8px;\"/></p>\n",
    "        </th>\n",
    "        <th>\n",
    "            <p style=\"height:32px;padding-top:10px;\">Soybeans<img src=\"soybeans.svg\" width=\"32px\" style=\"float:left;margin-top:-10px;margin-right:8px;\"/></p>\n",
    "        </th>\n",
    "        <th>\n",
    "            <p style=\"height:32px;padding-top:10px;\">Maize<img src=\"maize.svg\" width=\"32px\" style=\"float:left;margin-top:-10px;margin-right:8px;\"/></p>\n",
    "        </th>\n",
    "        <th>\n",
    "            <p style=\"height:32px;padding-top:10px;\">Push-Pull<img src=\"pushpull.svg\" width=\"32px\" style=\"float:left;margin-top:-10px;margin-right:8px;\"/></p>\n",
    "        </th> -->\n",
    "    </tr>\n",
    "</table>\n",
    "\n",
    "여러분이 선택할 수 있는 농사 방법은 단작법, 혼작법, Push-Pull 농작법의 세 가지입니다. 아래의 그림을 함께 살펴보세요. 단작법은 한 작물만 농사를 짓는 곳입니다. 이 방법은 농장을 질병과 해충에 취약하게 만들 수 있기 때문에 전체 수확량에 영향을 미치게 됩니다. 어떤 경우에는 서로 다른 두 식물을 재배하면 둘 다 수확량이 증가하지만 때로는 수확량이 감소할 수 있습니다. 간작법은 다른 식물을 선택하여 수확량을 증가시키는 과정입니다. 밀어내기 작물은 해충을 퇴치하고 해충을 유인하는 역할을 합니다. 이 밀어내기 작물들을 큰 농장에 사용하게 되면 작물의 수확량은 증가하지만 밀어내기 작물의 수확량은 농장의 수익으로 사용 되지 못합니다. 밀어내기 작물은 농업이나 공업에 사용할 수 없거나 먹을 수 없을 수 있기 때문입니다.\n",
    "\n",
    "\n",
    "<table>\n",
    "    <tr>\n",
    "        <th>\n",
    "        <img src=\"farm_mono.svg\" width=\"256px\"/>\n",
    "        </th>\n",
    "        <th>\n",
    "            <img src=\"farm_intercrop.svg\" width=\"256px\"/>\n",
    "        </th>\n",
    "        <th>\n",
    "            <img src=\"farm_intercrop_pushpull.svg\" width=\"256px\"/>\n",
    "        </th>\n",
    "    </tr>\n",
    "    <tr>\n",
    "        <th>\n",
    "           단작법(Monocropping)\n",
    "        </th>\n",
    "        <th>\n",
    "            혼작법 (Intercropping)\n",
    "        </th>\n",
    "        <th>\n",
    "            Push-Pull 농작법(Push-Pull farming)\n",
    "        </th>\n",
    "    </tr>\n",
    "</table>"
   ]
  },
  {
   "cell_type": "markdown",
   "metadata": {},
   "source": [
    "---\n",
    "오직 특정한 경우에만 고전적인 방법을 사용하여 2차 프로그래밍 문제를 쉽게 풀 수 있습니다. 일반적인 의미에서 이 문제들은 고전적인 계산 방법으로는 풀기 어려운 문제의 한 종류인 NP-Hard 유형에 속합니다. 사실, 이러한 문제를 해결하는 가장 좋은 고전적인 방법은 휴리스틱을 포함하는데, 이는 근사적인 해결책을 찾는 기술입니다. 양자 컴퓨터는 일부 휴리스틱 문제에 대해 상당한 속도 향상과 더 나은 확장을 제공하는 것으로 알려져 있습니다. 작물 수확량 문제는 해결책이 입력 매개변수의 특정 조합이라는 점에서 조합 문제입니다. 여기에 표시된 문제는 고전적으로 해결할 수 있을 만큼 작지만, 더 큰 문제는 최적화해야 할 조합의 수 때문에 고전적인 컴퓨터에서는 다루기가 어렵습니다.\n",
    "\n",
    "\n",
    "제시된 문제를 양자 컴퓨터로 해결하는 것은 다음의 세가지 단계를 포함합니다:\n",
    "\n",
    "1. 문제의 정의\n",
    "2. 알고리듬의 정의\n",
    "3. 알고리듬을 백엔드에 실행\n",
    "\n",
    "이제 Qiskit을 사용해 문제의 정의를 시작해 봅시다."
   ]
  },
  {
   "cell_type": "markdown",
   "metadata": {},
   "source": [
    "### 농장 문제의 정의 (Define the Crop-Yield problem)"
   ]
  },
  {
   "cell_type": "markdown",
   "metadata": {},
   "source": [
    "이어지는 내용에서는 여러분이 해결해야 할 문제를 조금더 정확하게 정의해 보도록 하겠지만 아직 `QuadraticProgram` 인스턴스로의 작업은 진행되지 않습니다. 이 부분의 마지막에 `QuadraticProgram` 인스턴스를 활용해 구현해 볼 것입니다.\n",
    "\n",
    "여러분의 농장은 $3~ha$ 크기이며, 각각의 작물은 $0~ha$ 이나 $1~ha$만큼 심을 수 있습니다. 농장의 수확량은 각 작물이 서로에게 미치는 영향을 2차 계수로 나타내는 2차 함수로 정의합니다. 이 2차 함수의 변수는 심을 작물의 헥타르 수이고 최대화하기 위한 목적 함수는 사용 가능한 작물의 수확량(톤)입니다. 이 문제에 대한 수학적 시나리오에서 모든 작물은 다른 작물의 수확량을 증가시킵니다. 그러나 해결해야 할 문제는 어떤 작물을 사용하여 최대 수확량을 달성하느냐입니다.\n"
   ]
  },
  {
   "cell_type": "markdown",
   "metadata": {},
   "source": [
    "<img src=\"qubo_problem_graphical_variables.svg\" width=\"534px\"/>\n",
    "\n",
    "농장 수확량(톤)은 2차 방정식으로 모델링되며, 각 작물이 사용하는 헥타르와 사용 가능한 총 헥타르에 대한 제약이 있습니다. 각 작물은 위에 표시된 것과 같이 다른 기호로 표시되며, 해당 식물을 심을 헥타르 수를 나타냅니다. 우리는 각 작물의 최대 1 헥타르까지만 심을 수 있으며 농장은 3 헥타르로 제한되어 있습니다.\n",
    "\n",
    "<img src=\"qubo_problem_graphical.svg\" width=\"400px\"/>"
   ]
  },
  {
   "cell_type": "markdown",
   "metadata": {},
   "source": [
    "----\n",
    "#### Non-graphical notation\n",
    "아래에 그림이 아닌 형태로 모델을 기술해 보도록 합시다.\n",
    "\n",
    "$$\n",
    "\\begin{align}\n",
    "    \\text{maximize} \\quad & 2(\\operatorname{Wheat}) + \\operatorname{Soybeans} + 4(\\operatorname{Maize}) \\\\\n",
    "    & + 2.4(\\operatorname{Wheat}\\times\\operatorname{Soybeans}) \\\\ & + 4(\\operatorname{Wheat}\\times\\operatorname{Maize})\\\\\n",
    "    &+ 4(\\operatorname{Wheat}\\times\\operatorname{PushPull}) \\\\ & + 2(\\operatorname{Soybeans}\\times\\operatorname{Maize}) \\\\\n",
    "                          & + (\\operatorname{Soybeans}\\times\\operatorname{PushPull}) \\\\ & + 5(\\operatorname{Maize}\\times\\operatorname{PushPull})\n",
    "\\end{align}\n",
    "$$\n",
    "\n",
    "$$\n",
    "\\begin{align}\n",
    "\\text{subject to} \\quad & \\operatorname{Wheat} + \\operatorname{Soybeans} + \\operatorname{Maize} + \\operatorname{PushPull} \\leq{} 3\\\\\n",
    "& 0\\leq{}\\operatorname{Wheat}\\leq{}1\\\\\n",
    "& 0\\leq{}\\operatorname{Soybeans}\\leq{}1\\\\\n",
    "& 0\\leq{}\\operatorname{Maize}\\leq{}1\\\\\n",
    "& 0\\leq{}\\operatorname{PushPull}\\leq{}1\n",
    "\\end{align}\n",
    "$$"
   ]
  },
  {
   "cell_type": "markdown",
   "metadata": {},
   "source": [
    "### 연습 1: 농장 문제의 변수들을 QuadraticProgram로 작성해 봅시다."
   ]
  },
  {
   "cell_type": "markdown",
   "metadata": {},
   "source": [
    "여러분의 첫번째 연습은 위의 모델을 `QuadraticProgram` 인스턴스를 사용해 표현해 보는 것입니다. 아래의 `cropyield_quadratic_program`에 해당 부분을 코딩해 봅시다. 위에서 사용했던 예제와 [Quadratic program tutorial](https://github.com/qiskit-community/qiskit-optimization/blob/main/docs/tutorials/01_quadratic_program.ipynb)을 참고해 보세요.\n",
    "\n",
    "\n",
    "**Note:** Ensure your variables are named `Wheat`, `Soybeans`, `Maize,` and `PushPull`. This is necessary for the grader to work."
   ]
  },
  {
   "cell_type": "code",
   "execution_count": 4,
   "metadata": {},
   "outputs": [],
   "source": [
    "def cropyield_quadratic_program():\n",
    "    cropyield = QuadraticProgram(name=\"Crop Yield\")\n",
    "    ##############################\n",
    "    # Put your implementation here\n",
    "    cropyield.integer_var(name=\"Wheat\", lowerbound=0, upperbound=1)\n",
    "    cropyield.integer_var(name=\"Soybeans\", lowerbound=0, upperbound=1)\n",
    "    cropyield.integer_var(name=\"Maize\", lowerbound=0, upperbound=1)\n",
    "    cropyield.integer_var(name=\"PushPull\", lowerbound=0, upperbound=1)\n",
    "    cropyield.maximize(\n",
    "        linear={\"Wheat\": \"2\", \"Soybeans\": \"1\", \"Maize\": \"4\"},\n",
    "        quadratic={(\"Wheat\", \"Soybeans\"): 2.4, (\"Wheat\", \"Maize\"): 4, (\"Wheat\", \"PushPull\"): 4,\n",
    "                  (\"Soybeans\", \"Maize\"): 2, (\"Soybeans\", \"Maize\"): 2, (\"Soybeans\", \"PushPull\"): 1,\n",
    "                  (\"Maize\", \"PushPull\"): 5}   \n",
    "    )\n",
    "    cropyield.linear_constraint(linear={\"Wheat\": 1, \"Soybeans\": 1, \"Maize\": 1, \"PushPull\": 1},\n",
    "                               sense=\"<=\", rhs=3)\n",
    "\n",
    "    return cropyield"
   ]
  },
  {
   "cell_type": "code",
   "execution_count": 5,
   "metadata": {},
   "outputs": [
    {
     "name": "stdout",
     "output_type": "stream",
     "text": [
      "Problem name: Crop Yield\n",
      "\n",
      "Maximize\n",
      "  5*Maize*PushPull + 2*Soybeans*Maize + Soybeans*PushPull + 4*Wheat*Maize\n",
      "  + 4*Wheat*PushPull + 2.4*Wheat*Soybeans + 4*Maize + Soybeans + 2*Wheat\n",
      "\n",
      "Subject to\n",
      "  Linear constraints (1)\n",
      "    Maize + PushPull + Soybeans + Wheat <= 3  'c0'\n",
      "\n",
      "  Integer variables (4)\n",
      "    0 <= Wheat <= 1\n",
      "    0 <= Soybeans <= 1\n",
      "    0 <= Maize <= 1\n",
      "    0 <= PushPull <= 1\n",
      "\n"
     ]
    }
   ],
   "source": [
    "qp = cropyield_quadratic_program()\n",
    "print(qp.prettyprint())"
   ]
  },
  {
   "cell_type": "markdown",
   "metadata": {},
   "source": [
    "### 이차 문제 변환( Converting QuadraticPrograms) - QUBO & Ising"
   ]
  },
  {
   "cell_type": "markdown",
   "metadata": {},
   "source": [
    "이렇게 작성한 문제는 다양한 형태로 변환이 가능합니다. 변환이 없이도 양자컴퓨터로 바로 정답을 얻을 수 있지만, 여러가지 변환을 시도해 봄으로서 문제의 일부 특성 - 해결하는데 몇개의 큐비트가 소요되는가, 등 - 을 알수 있습니다.\n",
    "\n",
    "먼저 문제를  QUBO로, 그 다음 이진 모델로 변환하여 총 몇개의 큐비트가 문제를 해결하는데 필요한지 확인해 봅시다.\n",
    "\n",
    "---- \n",
    "\n",
    "Qiskit에서 2차 프로그램이 널리 사용되지만 우리가 사용할 알고리즘은 이진 변수를 필요로 합니다. Qiskit는 문제의 정수 변수를 이진 변수로 변환하는 자동화된 방법을 제공합니다. 이진 전용 형태는 _4차 비제약 이진 최적화_ 문제 또는 'QUBO'라고 불립니다. 변환은 Qiskit 최적화 모듈의 'Quadratic ProgramToQBO'를 사용하여 수행됩니다. 모든 정수 변수와 관련된 제약 조건은 이진 변수로 변환됩니다.\n",
    "\n",
    "아래의 셀을 실행해서 작물 문제를 QUBO 문제로 변환해 봅시다.\n"
   ]
  },
  {
   "cell_type": "code",
   "execution_count": 6,
   "metadata": {},
   "outputs": [
    {
     "name": "stdout",
     "output_type": "stream",
     "text": [
      "Problem name: Crop Yield\n",
      "\n",
      "Minimize\n",
      "  26.4*Maize@0^2 + 47.8*Maize@0*PushPull@0 + 52.8*Maize@0*c0@int_slack@0\n",
      "  + 105.6*Maize@0*c0@int_slack@1 + 26.4*PushPull@0^2\n",
      "  + 52.8*PushPull@0*c0@int_slack@0 + 105.6*PushPull@0*c0@int_slack@1\n",
      "  + 50.8*Soybeans@0*Maize@0 + 51.8*Soybeans@0*PushPull@0 + 26.4*Soybeans@0^2\n",
      "  + 52.8*Soybeans@0*c0@int_slack@0 + 105.6*Soybeans@0*c0@int_slack@1\n",
      "  + 48.8*Wheat@0*Maize@0 + 48.8*Wheat@0*PushPull@0 + 50.4*Wheat@0*Soybeans@0\n",
      "  + 26.4*Wheat@0^2 + 52.8*Wheat@0*c0@int_slack@0 + 105.6*Wheat@0*c0@int_slack@1\n",
      "  + 26.4*c0@int_slack@0^2 + 105.6*c0@int_slack@0*c0@int_slack@1\n",
      "  + 105.6*c0@int_slack@1^2 - 162.39999999999998*Maize@0\n",
      "  - 158.39999999999998*PushPull@0 - 159.39999999999998*Soybeans@0\n",
      "  - 160.39999999999998*Wheat@0 - 158.39999999999998*c0@int_slack@0\n",
      "  - 316.79999999999995*c0@int_slack@1 + 237.6\n",
      "\n",
      "Subject to\n",
      "  No constraints\n",
      "\n",
      "  Binary variables (6)\n",
      "    Wheat@0 Soybeans@0 Maize@0 PushPull@0 c0@int_slack@0 c0@int_slack@1\n",
      "\n"
     ]
    }
   ],
   "source": [
    "# Estimate the number of qubits required\n",
    "\n",
    "from qiskit_optimization.converters import QuadraticProgramToQubo\n",
    "\n",
    "conv = QuadraticProgramToQubo()\n",
    "qb = conv.convert(qp)\n",
    "\n",
    "print(qb.prettyprint() )"
   ]
  },
  {
   "cell_type": "markdown",
   "metadata": {},
   "source": [
    "여러분의 문제는 이제 제한 조건이 모두 이진 조건으로 환산되어 있는 문제로 변환되었습니다. 이제 이 문제를 Ising 모델로 변환하여, 몇개의 큐비트가 계산에 사용될 것인지 확인해 봅시다. Qiskit-optimization을 사용하여 이차 문제를 바로 Ising 모델로 변환하는 기능에는 현재 버젼에서 몇가지 제한이 있습니다. 이 문제를 피하기 위해 여기에서는 이차 문제를 먼저 QUBO로 변환한 후 Ising 모델로 변환하는 과정을 거치고 있음을 참고해 주세요.\n",
    "\n",
    "QUBO 모델을 Ising 모델로 변환하기 위해서는 `to_ising()` 함수가 사용됩니다. 이 함수를 사용해 문제를 변환하고 사용될 큐비트의 숫자와 해밀토니안을 확인해 봅시다."
   ]
  },
  {
   "cell_type": "code",
   "execution_count": 7,
   "metadata": {},
   "outputs": [
    {
     "name": "stdout",
     "output_type": "stream",
     "text": [
      "Number of qubits required is 6\n",
      "SparsePauliOp(['IIIIIZ', 'IIIIZI', 'IIIZII', 'IIZIII', 'IZIIII', 'ZIIIII', 'IIIIZZ', 'IIIZIZ', 'IIZIIZ', 'IZIIIZ', 'ZIIIIZ', 'IIIZZI', 'IIZIZI', 'IZIIZI', 'ZIIIZI', 'IIZZII', 'IZIZII', 'ZIIZII', 'IZZIII', 'ZIZIII', 'ZZIIII'],\n",
      "              coeffs=[ -9.6 +0.j, -11.35+0.j,  -8.45+0.j, -10.7 +0.j, -13.2 +0.j, -26.4 +0.j,\n",
      "  12.6 +0.j,  12.2 +0.j,  12.2 +0.j,  13.2 +0.j,  26.4 +0.j,  12.7 +0.j,\n",
      "  12.95+0.j,  13.2 +0.j,  26.4 +0.j,  11.95+0.j,  13.2 +0.j,  26.4 +0.j,\n",
      "  13.2 +0.j,  26.4 +0.j,  26.4 +0.j])\n"
     ]
    }
   ],
   "source": [
    "# Estimate the number of qubits required\n",
    "\n",
    "qubitop, vars = qb.to_ising()\n",
    "\n",
    "print(f\"Number of qubits required is {qubitop.num_qubits}\")\n",
    "print(qubitop)"
   ]
  },
  {
   "cell_type": "markdown",
   "metadata": {},
   "source": [
    "## 양자컴퓨터로 문제를 풀어봅시다 - 시뮬레이터\n",
    "\n",
    "Qiskit을 사용해서 양자 알고리듬을 실행할 수 있는 크게 두 가지 방법이 있습니다:\n",
    "1. 여러분의 랩탑/클라우드의 시뮬레이터를 사용하는 방법\n",
    "2. 클라우드를 통해 서비스 되고 있는 실제 양자백엔드를 사용하는 방법.\n",
    "\n",
    "시뮬레이터와 실제 양자 백엔드 모두 `backend`라 부릅니다. 이번 챕터에서는 먼저 시뮬레이터를 사용해 계산하는 것을 확인해 보고자 합니다. 이를 위해서 우리는 `qiskit.primitives`의 `Sampler`를 사용할 것입니다. \n",
    "\n",
    "양자 컴퓨터로 문제를 풀기 전, 먼저 고전 시뮬레이터를 사용해서 정답을 확인해 봅시다.\n",
    "\n",
    "### 고전적 해답\n",
    "\n",
    "이 문제의 고전적 해답은 Qiskit과 Numpy의 주요 기능을 사용해 간단히 구할 수 있습니다. QUBO 문제의 해답은 행렬식의 최소 eigenvalue를 찾은 것으로 얻어지는데, 다행이도, 그 안의 모든 과정을 알지 않아도 문제를  `MinimumEigensolver` 와 `MinimumEigenOptimizer`에 전달하는 것으로 결과를 얻을 수 있습니다. \n",
    "\n",
    "Optimizer는 주어진 문제를 Solver에 매개변수화 된 표현식으로 전달합니다. 이 매개변수들을 최적화 함으로서, Solver는 최소의 eigenvalue를 갖는 변수의 쌍을 얻어낼 수 있고 이것이 본 문제의 해답이 됩니다. 아래의 코드를 실행하여 우리의 문제의 정답을 확인해 봅시다. 아래의 코드에는 이차 표현식으로 만들었던 `qp`를 사용하도록 하겠습니다."
   ]
  },
  {
   "cell_type": "code",
   "execution_count": 8,
   "metadata": {},
   "outputs": [
    {
     "name": "stdout",
     "output_type": "stream",
     "text": [
      "fval=19.0, Wheat=1.0, Soybeans=0.0, Maize=1.0, PushPull=1.0, status=SUCCESS\n"
     ]
    }
   ],
   "source": [
    "from qiskit_algorithms import NumPyMinimumEigensolver\n",
    "from qiskit_optimization.algorithms import MinimumEigenOptimizer\n",
    "\n",
    "mes = NumPyMinimumEigensolver()\n",
    "meo = MinimumEigenOptimizer(min_eigen_solver=mes)\n",
    "result = meo.solve(qp)\n",
    "print(result)"
   ]
  },
  {
   "cell_type": "markdown",
   "metadata": {},
   "source": [
    "이차 문제를 QUBO로 변환하여 얻었던 `qb`도 함께 확인해 봅시다."
   ]
  },
  {
   "cell_type": "code",
   "execution_count": 9,
   "metadata": {},
   "outputs": [
    {
     "name": "stdout",
     "output_type": "stream",
     "text": [
      "objective function value: -18.999999999999943\n",
      "variable values: Wheat@0=1.0, Soybeans@0=0.0, Maize@0=1.0, PushPull@0=1.0, c0@int_slack@0=0.0, c0@int_slack@1=0.0\n",
      "status: SUCCESS\n"
     ]
    }
   ],
   "source": [
    "result = meo.solve(qb)\n",
    "print(result.prettyprint())"
   ]
  },
  {
   "cell_type": "markdown",
   "metadata": {},
   "source": [
    "양자컴퓨터로 이 문제와 같은 변수 최적화 문제를 해결할 수 있는 몇가지 방법이 있지만, 이곳에서는 [_Quantum Approximate Optimization Algorithm_](https://learning.quantum.ibm.com/tutorial/quantum-approximate-optimization-algorithm)과 Qiskit Sampler를 사용해 해결해 보도록 하겠습니다. QAOA 알고리듬의 자세한 운영 방법과 설명은 앞의 링크의 튜토리얼을 확인해 주세요. 이곳에서는 제공되는 함수인 `qiskit_algorithms`의 `QAOA`기능을 사용하도록 하겠습니다. "
   ]
  },
  {
   "cell_type": "markdown",
   "metadata": {},
   "source": [
    "### QAOA Solution"
   ]
  },
  {
   "cell_type": "markdown",
   "metadata": {},
   "source": [
    "Qiskit Sampler를 사용해 문제를 해결하기 위해\n",
    "\n",
    "1. QAOA함수에 사용할 최적화 방법과 계산을 실행할 runtime을 정의합니다.\n",
    "2. 최소 Eigenvalue를 계산하기 위한 Optimizer에 풀어야할 대상이 되는 QAOA 알고리듬을 전달합니다.\n",
    "3. Optimizer에 정의된 문제를 넣어 값을 얻습니다.\n",
    "\n",
    "아래의 코드를 실행하여 이 과정을 따라가 봅시다."
   ]
  },
  {
   "cell_type": "code",
   "execution_count": 10,
   "metadata": {},
   "outputs": [
    {
     "name": "stdout",
     "output_type": "stream",
     "text": [
      "objective function value: 19.0\n",
      "variable values: Wheat=1.0, Soybeans=0.0, Maize=1.0, PushPull=1.0\n",
      "status: SUCCESS\n"
     ]
    }
   ],
   "source": [
    "from qiskit_algorithms import QAOA\n",
    "from qiskit_algorithms.optimizers import COBYLA\n",
    "from qiskit.primitives import Sampler\n",
    "\n",
    "shots = 1000\n",
    "mes = QAOA(sampler=Sampler(), optimizer=COBYLA())\n",
    "meo = MinimumEigenOptimizer(min_eigen_solver=mes)\n",
    "result = meo.solve(qp)\n",
    "print(result.prettyprint())\n"
   ]
  },
  {
   "cell_type": "markdown",
   "metadata": {},
   "source": [
    "고전 솔루션과 마찬가지로 QUBO로 변환되었던 `qb`도 같은 방법으로 확인해 봅시다."
   ]
  },
  {
   "cell_type": "code",
   "execution_count": 11,
   "metadata": {},
   "outputs": [
    {
     "name": "stdout",
     "output_type": "stream",
     "text": [
      "objective function value: 19.0\n",
      "variable values: Wheat=1.0, Soybeans=0.0, Maize=1.0, PushPull=1.0\n",
      "status: SUCCESS\n"
     ]
    }
   ],
   "source": [
    "result = meo.solve(qp)\n",
    "print(result.prettyprint())"
   ]
  },
  {
   "cell_type": "markdown",
   "metadata": {},
   "source": [
    "### VQE Solution"
   ]
  },
  {
   "cell_type": "markdown",
   "metadata": {},
   "source": [
    "이 문제는 앞선 시간에 배웠던 VQE 알고리듬을 사용해서도 해결 할 수 있습니다. Qiskit Runtime과 `qiskit_algorithms`의 `SamplingVQE`를 사용하면 긴 코드없이도 문제를 계산해 볼 수 있습니다. `SamplingVQE`는 Sampler Primitive를 사용해 VQE 계산을 하기 위해 제공되는 편리한 라이브러리입니다.\n",
    "\n",
    "아래의 코드에서 `SamplingVQE` 함수에 `RealAmplitudes` Ansatz, COBYLA Optimizer를 사용해 이 문제를 해결해 봅시다."
   ]
  },
  {
   "cell_type": "code",
   "execution_count": 12,
   "metadata": {},
   "outputs": [
    {
     "name": "stdout",
     "output_type": "stream",
     "text": [
      "fval=19.0, Wheat=1.0, Soybeans=0.0, Maize=1.0, PushPull=1.0, status=SUCCESS\n"
     ]
    }
   ],
   "source": [
    "from qiskit_algorithms import SamplingVQE\n",
    "from qiskit.circuit.library import RealAmplitudes\n",
    "\n",
    "mes = SamplingVQE(sampler=Sampler(), ansatz=RealAmplitudes(), optimizer=COBYLA())\n",
    "meo = MinimumEigenOptimizer(min_eigen_solver=mes)\n",
    "result = meo.solve(qp)\n",
    "print(result)"
   ]
  },
  {
   "cell_type": "markdown",
   "metadata": {},
   "source": [
    "QUBO로 변환되었던 `qb`도 같은 방법으로 확인해 봅시다."
   ]
  },
  {
   "cell_type": "code",
   "execution_count": 13,
   "metadata": {},
   "outputs": [
    {
     "name": "stdout",
     "output_type": "stream",
     "text": [
      "objective function value: -9.999999999999943\n",
      "variable values: Wheat@0=1.0, Soybeans@0=0.0, Maize@0=1.0, PushPull@0=0.0, c0@int_slack@0=1.0, c0@int_slack@1=0.0\n",
      "status: SUCCESS\n"
     ]
    }
   ],
   "source": [
    "result = meo.solve(qb)\n",
    "print(result.prettyprint())"
   ]
  },
  {
   "cell_type": "markdown",
   "metadata": {},
   "source": [
    "## 양자컴퓨터로 문제를 풀어봅시다 - 실제 백엔드"
   ]
  },
  {
   "cell_type": "markdown",
   "metadata": {},
   "source": [
    "IBM Quantum의 양자 백엔드를 사용하기 위해서는 가장 먼저 IBMid를 생성해야 합니다. 여러분은 이미 수업의 실습을 위한 프로젝트에 추가되어 할당된 백엔드를 사용할수 있습니다. 혹시 제출하지 않았다면 채팅창에 여러분의 IBMid를 남겨주세요.\n",
    "\n",
    "여러분이 만약 이 노트북을 IBM Quantum Cloud에서 실행중이라면 계정 정보를 저장할 필요가 없지만 만약 로컬 환경에서 실행중이라면 다음과 같은 과정을 거쳐 계정 정보를 저장하도록 합니다.\n",
    "\n",
    "### 실습을 위한 계정 설정 및 백엔드 설정\n",
    "\n",
    "실습을 위한 계정 설정을 해봅시다. 토큰은 https://quantum-computing.ibm.com/ 에서 복사해 옵니다.\n",
    "\n",
    "<img src=\"img/token.png\" alt=\"Alternative text\" width=800/>\n",
    "\n",
    "#### ㄴimg error"
   ]
  },
  {
   "cell_type": "code",
   "execution_count": 24,
   "metadata": {},
   "outputs": [],
   "source": [
    "from qiskit_ibm_runtime import QiskitRuntimeService, Sampler, Options\n",
    "\n",
    "#QiskitRuntimeService.save_account(channel=\"ibm_quantum\", token=\"a38eea860277803a3f140b93a6fd06eec8996023483b57d6a2401f13a3f4e8df9f358dd5f549855e5b414b67cc0a92d1030d5cae82b3e0cdf194715a553dca78\", overwrite=True)\n",
    "service = QiskitRuntimeService(instance=\"ibm-q-yonsei/internal/qc-and-s-2h\")\n"
   ]
  },
  {
   "cell_type": "markdown",
   "metadata": {},
   "source": [
    "여러분이 사용할 수 있는 백엔드들을 확인해 봅시다."
   ]
  },
  {
   "cell_type": "code",
   "execution_count": 25,
   "metadata": {},
   "outputs": [
    {
     "data": {
      "text/plain": [
       "[<IBMBackend('ibm_hanoi')>,\n",
       " <IBMBackend('ibm_cairo')>,\n",
       " <IBMBackend('ibmq_mumbai')>,\n",
       " <IBMBackend('ibmq_kolkata')>,\n",
       " <IBMBackend('ibm_algiers')>]"
      ]
     },
     "execution_count": 25,
     "metadata": {},
     "output_type": "execute_result"
    }
   ],
   "source": [
    "service.backends()"
   ]
  },
  {
   "cell_type": "markdown",
   "metadata": {},
   "source": [
    "수업을 위해 제공되는 5개의 27 큐비트 백엔드들 중 가장 적은 Queue를 지닌 백엔드를 찾아 실습을 위한 백엔드로 설정합니다. "
   ]
  },
  {
   "cell_type": "code",
   "execution_count": 26,
   "metadata": {},
   "outputs": [
    {
     "name": "stdout",
     "output_type": "stream",
     "text": [
      "least busy backend:  <IBMBackend('ibm_algiers')>\n"
     ]
    }
   ],
   "source": [
    "backend = service.least_busy()\n",
    "print(\"least busy backend: \", backend)"
   ]
  },
  {
   "cell_type": "markdown",
   "metadata": {},
   "source": [
    "Qiskit은 여러분이 선택한 백엔드의 기본 정보들을 쥬피터 노트북에서 바로 확인할 수 있도록 `plot_error_map`과 `plot_gate_map`의 기능을 지원합니다. 이 기능을 사용하기 위해서는 맥의 경우 터미널에서 `brew install graphviz` 명령어를 실행해 필수 라이브러리를 설치해 주어야 합니다. \n",
    "\n",
    "설치가 되어 있다고 가정하고 다음의 코드들을 실행해 봅시다."
   ]
  },
  {
   "cell_type": "code",
   "execution_count": 27,
   "metadata": {},
   "outputs": [
    {
     "data": {
      "image/png": "[encoded data removed]",
      "text/plain": [
       "<Figure size 1154.6x492.2 with 1 Axes>"
      ]
     },
     "execution_count": 27,
     "metadata": {},
     "output_type": "execute_result"
    }
   ],
   "source": [
    "from qiskit.visualization import plot_gate_map\n",
    "\n",
    "plot_gate_map(backend)"
   ]
  },
  {
   "cell_type": "code",
   "execution_count": 28,
   "metadata": {},
   "outputs": [
    {
     "data": {
      "image/png": "[encoded data removed]",
      "text/plain": [
       "<Figure size 1500x1200 with 5 Axes>"
      ]
     },
     "execution_count": 28,
     "metadata": {},
     "output_type": "execute_result"
    }
   ],
   "source": [
    "from qiskit.visualization import plot_error_map\n",
    "\n",
    "plot_error_map(backend)"
   ]
  },
  {
   "cell_type": "markdown",
   "metadata": {},
   "source": [
    "### Exercise 2: Submitting a job to a real quantum computer"
   ]
  },
  {
   "cell_type": "markdown",
   "metadata": {},
   "source": [
    "위에서 만들어 둔 문제를 실제 양자 컴퓨터에 실행하는 것은 여러분이 생각하는 것보다 정말 쉽습니다. 주의해야 할 사항은 늘어난 사용자로 인한 대기시간과 QAOA나 VQE와 같은 고전-양자 리소스간 하이브리드 계산의 경우 백엔드로 여러개의 잡이 보내지며 이 과정에서 발생하는 대기 시간으로 인한 불편함입니다. \n",
    "\n",
    "반복 계산의 대기시간을 줄이기 위해 Qiskit Runtime은 `Session`을 사용하여, 사용자의 계산이 종료될때까지 백엔드로의 억세스를 __붙잡아두는__ 기능을 제공합니다. 프리미엄 계정의 경우 이 Session이 백엔드를 잡아두는 최대 시간은 최대 약 2시간입니다. \n",
    "\n",
    "아래의 코드를 실행하면 노트북이 결과를 얻을때 까지 상당한 시간이 소요됩니다. 마음의 여유를 가지고 한번 도전해 보세요!"
   ]
  },
  {
   "cell_type": "code",
   "execution_count": 30,
   "metadata": {},
   "outputs": [
    {
     "name": "stdout",
     "output_type": "stream",
     "text": [
      "fval=19.0, Wheat=1.0, Soybeans=0.0, Maize=1.0, PushPull=1.0, status=SUCCESS\n"
     ]
    }
   ],
   "source": [
    "from qiskit_ibm_runtime import Session\n",
    "\n",
    "with Session(service=service, backend=backend):\n",
    "    mes = QAOA(sampler=Sampler(), optimizer=COBYLA())\n",
    "    meo = MinimumEigenOptimizer(min_eigen_solver=mes)\n",
    "    result = meo.solve(qp)\n",
    "    print(result)\n"
   ]
  },
  {
   "cell_type": "code",
   "execution_count": 39,
   "metadata": {},
   "outputs": [
    {
     "data": {
      "text/plain": [
       "[SolutionSample(x=array([1, 0, 1, 1, 0, 0]), fval=-18.999999999999943, probability=0.018468354244878027, status=<OptimizationResultStatus.SUCCESS: 0>),\n",
       " SolutionSample(x=array([1, 1, 1, 0, 0, 0]), fval=-15.399999999999949, probability=0.02591325530105746, status=<OptimizationResultStatus.SUCCESS: 0>),\n",
       " SolutionSample(x=array([0, 1, 1, 1, 0, 0]), fval=-12.999999999999943, probability=0.026337434659326, status=<OptimizationResultStatus.SUCCESS: 0>),\n",
       " SolutionSample(x=array([1, 1, 0, 1, 0, 0]), fval=-10.399999999999949, probability=0.07008923971077992, status=<OptimizationResultStatus.SUCCESS: 0>),\n",
       " SolutionSample(x=array([1, 0, 1, 0, 1, 0]), fval=-9.999999999999943, probability=0.007046391229720152, status=<OptimizationResultStatus.SUCCESS: 0>),\n",
       " SolutionSample(x=array([0, 0, 1, 1, 1, 0]), fval=-8.999999999999943, probability=0.01773775531637192, status=<OptimizationResultStatus.SUCCESS: 0>),\n",
       " SolutionSample(x=array([0, 1, 1, 0, 1, 0]), fval=-6.999999999999943, probability=0.015226455211407494, status=<OptimizationResultStatus.SUCCESS: 0>),\n",
       " SolutionSample(x=array([1, 0, 0, 1, 1, 0]), fval=-5.999999999999943, probability=0.012254784406532455, status=<OptimizationResultStatus.SUCCESS: 0>),\n",
       " SolutionSample(x=array([1, 1, 0, 0, 1, 0]), fval=-5.399999999999949, probability=0.011133165149473186, status=<OptimizationResultStatus.SUCCESS: 0>),\n",
       " SolutionSample(x=array([0, 0, 1, 0, 0, 1]), fval=-3.999999999999943, probability=0.03563936202427408, status=<OptimizationResultStatus.SUCCESS: 0>),\n",
       " SolutionSample(x=array([0, 1, 0, 1, 1, 0]), fval=-1.9999999999999432, probability=0.011436056894624534, status=<OptimizationResultStatus.SUCCESS: 0>),\n",
       " SolutionSample(x=array([1, 0, 0, 0, 0, 1]), fval=-1.9999999999999432, probability=0.014173573750289934, status=<OptimizationResultStatus.SUCCESS: 0>),\n",
       " SolutionSample(x=array([0, 1, 0, 0, 0, 1]), fval=-0.9999999999999432, probability=0.01903033748991964, status=<OptimizationResultStatus.SUCCESS: 0>),\n",
       " SolutionSample(x=array([0, 0, 0, 1, 0, 1]), fval=5.684341886080802e-14, probability=0.024887875165185248, status=<OptimizationResultStatus.SUCCESS: 0>),\n",
       " SolutionSample(x=array([0, 0, 0, 0, 1, 1]), fval=5.684341886080802e-14, probability=0.024232441414865937, status=<OptimizationResultStatus.SUCCESS: 0>),\n",
       " SolutionSample(x=array([1, 1, 1, 1, 0, 0]), fval=1.0000000000001137, probability=0.015858954899761028, status=<OptimizationResultStatus.SUCCESS: 0>),\n",
       " SolutionSample(x=array([1, 0, 1, 1, 1, 0]), fval=7.400000000000091, probability=0.009249887100648033, status=<OptimizationResultStatus.SUCCESS: 0>),\n",
       " SolutionSample(x=array([1, 1, 1, 0, 1, 0]), fval=11.000000000000114, probability=0.021638059631209166, status=<OptimizationResultStatus.SUCCESS: 0>),\n",
       " SolutionSample(x=array([0, 1, 1, 1, 1, 0]), fval=13.400000000000091, probability=0.031279771554502935, status=<OptimizationResultStatus.SUCCESS: 0>),\n",
       " SolutionSample(x=array([1, 1, 0, 1, 1, 0]), fval=16.000000000000114, probability=0.035124589414032216, status=<OptimizationResultStatus.SUCCESS: 0>),\n",
       " SolutionSample(x=array([1, 0, 1, 0, 0, 0]), fval=16.400000000000034, probability=0.01704442197076809, status=<OptimizationResultStatus.SUCCESS: 0>),\n",
       " SolutionSample(x=array([1, 0, 1, 0, 0, 1]), fval=16.40000000000009, probability=0.0217685337140081, status=<OptimizationResultStatus.SUCCESS: 0>),\n",
       " SolutionSample(x=array([0, 0, 1, 1, 0, 0]), fval=17.400000000000034, probability=0.02451255244245566, status=<OptimizationResultStatus.SUCCESS: 0>),\n",
       " SolutionSample(x=array([0, 0, 1, 1, 0, 1]), fval=17.40000000000009, probability=0.012503383594414497, status=<OptimizationResultStatus.SUCCESS: 0>),\n",
       " SolutionSample(x=array([0, 1, 1, 0, 0, 0]), fval=19.400000000000034, probability=0.023907104740058537, status=<OptimizationResultStatus.SUCCESS: 0>),\n",
       " SolutionSample(x=array([0, 1, 1, 0, 0, 1]), fval=19.40000000000009, probability=0.015694908516294653, status=<OptimizationResultStatus.SUCCESS: 0>),\n",
       " SolutionSample(x=array([1, 0, 0, 1, 0, 0]), fval=20.400000000000034, probability=0.008313057709804167, status=<OptimizationResultStatus.SUCCESS: 0>),\n",
       " SolutionSample(x=array([1, 0, 0, 1, 0, 1]), fval=20.40000000000009, probability=0.022880399832559354, status=<OptimizationResultStatus.SUCCESS: 0>),\n",
       " SolutionSample(x=array([1, 1, 0, 0, 0, 0]), fval=21.00000000000003, probability=0.007835448449257997, status=<OptimizationResultStatus.SUCCESS: 0>),\n",
       " SolutionSample(x=array([1, 1, 0, 0, 0, 1]), fval=21.000000000000057, probability=0.01225710638455531, status=<OptimizationResultStatus.SUCCESS: 0>),\n",
       " SolutionSample(x=array([0, 0, 1, 0, 1, 0]), fval=22.400000000000034, probability=0.02651628266761678, status=<OptimizationResultStatus.SUCCESS: 0>),\n",
       " SolutionSample(x=array([0, 0, 1, 0, 1, 1]), fval=22.40000000000009, probability=0.022001246282710833, status=<OptimizationResultStatus.SUCCESS: 0>),\n",
       " SolutionSample(x=array([0, 1, 0, 1, 0, 0]), fval=24.400000000000034, probability=0.013655752508461067, status=<OptimizationResultStatus.SUCCESS: 0>),\n",
       " SolutionSample(x=array([1, 0, 0, 0, 1, 0]), fval=24.400000000000034, probability=0.01240071586287263, status=<OptimizationResultStatus.SUCCESS: 0>),\n",
       " SolutionSample(x=array([0, 1, 0, 1, 0, 1]), fval=24.40000000000009, probability=0.011190834058723396, status=<OptimizationResultStatus.SUCCESS: 0>),\n",
       " SolutionSample(x=array([1, 0, 0, 0, 1, 1]), fval=24.40000000000009, probability=0.004326510256298182, status=<OptimizationResultStatus.SUCCESS: 0>),\n",
       " SolutionSample(x=array([0, 1, 0, 0, 1, 0]), fval=25.400000000000034, probability=0.01832310227138687, status=<OptimizationResultStatus.SUCCESS: 0>),\n",
       " SolutionSample(x=array([0, 1, 0, 0, 1, 1]), fval=25.40000000000009, probability=0.006635520982746342, status=<OptimizationResultStatus.SUCCESS: 0>),\n",
       " SolutionSample(x=array([0, 0, 0, 1, 1, 0]), fval=26.400000000000034, probability=0.026973335445503815, status=<OptimizationResultStatus.SUCCESS: 0>),\n",
       " SolutionSample(x=array([0, 0, 0, 0, 0, 1]), fval=26.400000000000034, probability=0.02034198735736486, status=<OptimizationResultStatus.SUCCESS: 0>),\n",
       " SolutionSample(x=array([0, 0, 0, 1, 1, 1]), fval=26.40000000000009, probability=0.010433945032855383, status=<OptimizationResultStatus.SUCCESS: 0>),\n",
       " SolutionSample(x=array([1, 1, 1, 1, 1, 0]), fval=80.20000000000016, probability=0.004442226409091319, status=<OptimizationResultStatus.SUCCESS: 0>),\n",
       " SolutionSample(x=array([1, 0, 1, 1, 0, 1]), fval=86.60000000000014, probability=0.01288022579857887, status=<OptimizationResultStatus.SUCCESS: 0>),\n",
       " SolutionSample(x=array([1, 1, 1, 0, 0, 1]), fval=90.20000000000005, probability=0.013112712671870901, status=<OptimizationResultStatus.SUCCESS: 0>),\n",
       " SolutionSample(x=array([0, 1, 1, 1, 0, 1]), fval=92.60000000000014, probability=0.015576247094874216, status=<OptimizationResultStatus.SUCCESS: 0>),\n",
       " SolutionSample(x=array([1, 1, 0, 1, 0, 1]), fval=95.20000000000005, probability=0.029606069582197893, status=<OptimizationResultStatus.SUCCESS: 0>),\n",
       " SolutionSample(x=array([1, 0, 1, 0, 1, 1]), fval=95.60000000000014, probability=0.005413115933455546, status=<OptimizationResultStatus.SUCCESS: 0>),\n",
       " SolutionSample(x=array([0, 0, 1, 1, 1, 1]), fval=96.60000000000014, probability=0.006660839414095704, status=<OptimizationResultStatus.SUCCESS: 0>),\n",
       " SolutionSample(x=array([0, 1, 1, 0, 1, 1]), fval=98.60000000000014, probability=0.012847571758920782, status=<OptimizationResultStatus.SUCCESS: 0>),\n",
       " SolutionSample(x=array([1, 0, 0, 1, 1, 1]), fval=99.60000000000014, probability=0.0045284633965972125, status=<OptimizationResultStatus.SUCCESS: 0>),\n",
       " SolutionSample(x=array([1, 1, 0, 0, 1, 1]), fval=100.20000000000005, probability=0.008451022286147093, status=<OptimizationResultStatus.SUCCESS: 0>),\n",
       " SolutionSample(x=array([0, 0, 1, 0, 0, 0]), fval=101.60000000000002, probability=0.013144940250339455, status=<OptimizationResultStatus.SUCCESS: 0>),\n",
       " SolutionSample(x=array([1, 0, 0, 0, 0, 0]), fval=103.60000000000002, probability=0.007893268278548663, status=<OptimizationResultStatus.SUCCESS: 0>),\n",
       " SolutionSample(x=array([0, 1, 0, 1, 1, 1]), fval=103.60000000000014, probability=0.004948341665158741, status=<OptimizationResultStatus.SUCCESS: 0>),\n",
       " SolutionSample(x=array([0, 1, 0, 0, 0, 0]), fval=104.60000000000002, probability=0.011403033368706059, status=<OptimizationResultStatus.SUCCESS: 0>),\n",
       " SolutionSample(x=array([0, 0, 0, 1, 0, 0]), fval=105.60000000000002, probability=0.0249422796436767, status=<OptimizationResultStatus.SUCCESS: 0>),\n",
       " SolutionSample(x=array([0, 0, 0, 0, 1, 0]), fval=105.60000000000002, probability=0.013853470243641459, status=<OptimizationResultStatus.SUCCESS: 0>),\n",
       " SolutionSample(x=array([1, 1, 1, 1, 0, 1]), fval=212.20000000000016, probability=0.0038789796430871914, status=<OptimizationResultStatus.SUCCESS: 0>),\n",
       " SolutionSample(x=array([1, 0, 1, 1, 1, 1]), fval=218.60000000000014, probability=0.004884924381259313, status=<OptimizationResultStatus.SUCCESS: 0>),\n",
       " SolutionSample(x=array([1, 1, 1, 0, 1, 1]), fval=222.20000000000016, probability=0.005109865470245556, status=<OptimizationResultStatus.SUCCESS: 0>),\n",
       " SolutionSample(x=array([1, 1, 0, 1, 1, 1]), fval=227.20000000000016, probability=0.002277462396834202, status=<OptimizationResultStatus.SUCCESS: 0>),\n",
       " SolutionSample(x=array([0, 0, 0, 0, 0, 0]), fval=237.6, probability=0.0038731018464034485, status=<OptimizationResultStatus.SUCCESS: 0>),\n",
       " SolutionSample(x=array([1, 1, 1, 1, 1, 1]), fval=397.00000000000034, probability=0.00444409699259427, status=<OptimizationResultStatus.SUCCESS: 0>)]"
      ]
     },
     "execution_count": 39,
     "metadata": {},
     "output_type": "execute_result"
    }
   ],
   "source": [
    "result.raw_samples"
   ]
  },
  {
   "cell_type": "markdown",
   "metadata": {},
   "source": [
    "저의 경우는 위 코드를 실행하는데 총 34번의 백엔드에 계산이 보내졌고 총 16x34 = 544s, 약 10분의 QPU 시간이 소요되었습니다. 대기시간 10분 정도를 포함하면 약 20분안에 마무리 되었습니다."
   ]
  },
  {
   "cell_type": "markdown",
   "metadata": {},
   "source": [
    "## References"
   ]
  },
  {
   "cell_type": "markdown",
   "metadata": {},
   "source": [
    "[1] A. A. Nel, ‘Crop rotation in the summer rainfall area of South Africa’, South African Journal of Plant and Soil, vol. 22, no. 4, pp. 274–278, Jan. 2005, doi: 10.1080/02571862.2005.10634721.\n",
    "\n",
    "[2] H. Ritchie and M. Roser, ‘Crop yields’, Our World in Data, 2013, [Online]. Available: https://ourworldindata.org/crop-yields.\n",
    "\n",
    "[3] G. Brion, ‘Controlling Pests with Plants: The power of intercropping’, UVM Food Feed, Jan. 09, 2014. https://learn.uvm.edu/foodsystemsblog/2014/01/09/controlling-pests-with-plants-the-power-of-intercropping/ (accessed Feb. 15, 2021).\n",
    "\n",
    "[4] N. O. Ogot, J. O. Pittchar, C. A. O. Midega, and Z. R. Khan, ‘Attributes of push-pull technology in enhancing food and nutrition security’, African Journal of Agriculture and Food Security, vol. 6, pp. 229–242, Mar. 2018."
   ]
  },
  {
   "cell_type": "code",
   "execution_count": 31,
   "metadata": {},
   "outputs": [
    {
     "data": {
      "text/html": [
       "<h3>Version Information</h3><table><tr><th>Software</th><th>Version</th></tr><tr><td><code>qiskit</code></td><td>0.45.0</td></tr><tr><td><code>qiskit_ibm_provider</code></td><td>0.7.2</td></tr><tr><td><code>qiskit_ibm_runtime</code></td><td>0.15.1</td></tr><tr><td><code>qiskit_algorithms</code></td><td>0.2.1</td></tr><tr><td><code>qiskit_optimization</code></td><td>0.6.0</td></tr><tr><th colspan='2'>System information</th></tr><tr><td>Python version</td><td>3.11.5</td></tr><tr><td>Python compiler</td><td>Clang 14.0.6 </td></tr><tr><td>Python build</td><td>main, Sep 11 2023 08:19:27</td></tr><tr><td>OS</td><td>Darwin</td></tr><tr><td>CPUs</td><td>10</td></tr><tr><td>Memory (Gb)</td><td>64.0</td></tr><tr><td colspan='2'>Fri Nov 17 15:41:26 2023 PST</td></tr></table>"
      ],
      "text/plain": [
       "<IPython.core.display.HTML object>"
      ]
     },
     "metadata": {},
     "output_type": "display_data"
    },
    {
     "data": {
      "text/html": [
       "<div style='width: 100%; background-color:#d5d9e0;padding-left: 10px; padding-bottom: 10px; padding-right: 10px; padding-top: 5px'><h3>This code is a part of Qiskit</h3><p>&copy; Copyright IBM 2017, 2023.</p><p>This code is licensed under the Apache License, Version 2.0. You may<br>obtain a copy of this license in the LICENSE.txt file in the root directory<br> of this source tree or at http://www.apache.org/licenses/LICENSE-2.0.<p>Any modifications or derivative works of this code must retain this<br>copyright notice, and modified files need to carry a notice indicating<br>that they have been altered from the originals.</p></div>"
      ],
      "text/plain": [
       "<IPython.core.display.HTML object>"
      ]
     },
     "metadata": {},
     "output_type": "display_data"
    }
   ],
   "source": [
    "import qiskit.tools.jupyter\n",
    "\n",
    "%qiskit_version_table\n",
    "%qiskit_copyright"
   ]
  },
  {
   "cell_type": "code",
   "execution_count": null,
   "metadata": {},
   "outputs": [],
   "source": []
  }
 ],
 "metadata": {
  "kernelspec": {
   "display_name": "Python 3 (ipykernel)",
   "language": "python",
   "name": "python3"
  },
  "language_info": {
   "codemirror_mode": {
    "name": "ipython",
    "version": 3
   },
   "file_extension": ".py",
   "mimetype": "text/x-python",
   "name": "python",
   "nbconvert_exporter": "python",
   "pygments_lexer": "ipython3",
   "version": "3.10.8"
  },
  "toc": {
   "base_numbering": 1,
   "nav_menu": {},
   "number_sections": true,
   "sideBar": true,
   "skip_h1_title": false,
   "title_cell": "Table of Contents",
   "title_sidebar": "Contents",
   "toc_cell": false,
   "toc_position": {
    "height": "calc(100% - 180px)",
    "left": "10px",
    "top": "150px",
    "width": "195px"
   },
   "toc_section_display": true,
   "toc_window_display": true
  },
  "varInspector": {
   "cols": {
    "lenName": 16,
    "lenType": 16,
    "lenVar": 40
   },
   "kernels_config": {
    "python": {
     "delete_cmd_postfix": "",
     "delete_cmd_prefix": "del ",
     "library": "var_list.py",
     "varRefreshCmd": "print(var_dic_list())"
    },
    "r": {
     "delete_cmd_postfix": ") ",
     "delete_cmd_prefix": "rm(",
     "library": "var_list.r",
     "varRefreshCmd": "cat(var_dic_list()) "
    }
   },
   "oldHeight": 676.85,
   "position": {
    "height": "698.85px",
    "left": "2014px",
    "right": "20px",
    "top": "158px",
    "width": "477px"
   },
   "types_to_exclude": [
    "module",
    "function",
    "builtin_function_or_method",
    "instance",
    "_Feature"
   ],
   "varInspector_section_display": "block",
   "window_display": false
  },
  "widgets": {
   "application/vnd.jupyter.widget-state+json": {
    "state": {
     "00f914f1ab584340911c45a28f1f7e9d": {
      "model_module": "@jupyter-widgets/base",
      "model_module_version": "2.0.0",
      "model_name": "LayoutModel",
      "state": {
       "margin": "0px 0px 0px 37px",
       "width": "600px"
      }
     },
     "09a9cafa070b4dee9c51449d5848cad6": {
      "model_module": "@jupyter-widgets/controls",
      "model_module_version": "2.0.0",
      "model_name": "HTMLStyleModel",
      "state": {
       "description_width": "",
       "font_size": null,
       "text_color": null
      }
     },
     "0e606cd1bd804fe98378d62c70e1550c": {
      "model_module": "@jupyter-widgets/controls",
      "model_module_version": "2.0.0",
      "model_name": "HBoxModel",
      "state": {
       "children": [
        "IPY_MODEL_b56b2eeafdce45d582d70f6ce595fd1e",
        "IPY_MODEL_ad02d9ce12c041a0874559a34a605e82",
        "IPY_MODEL_1ff68b3ee2f0476e9b12e08572808c4a",
        "IPY_MODEL_9b8eb74b27d4410e84863308c31992a6",
        "IPY_MODEL_2d6c1797538242c0bdb7e1b78292fbb5"
       ],
       "layout": "IPY_MODEL_00f914f1ab584340911c45a28f1f7e9d"
      }
     },
     "128a2e2aad8c4f82a5a7a481a41fe1d9": {
      "model_module": "@jupyter-widgets/base",
      "model_module_version": "2.0.0",
      "model_name": "LayoutModel",
      "state": {
       "width": "145px"
      }
     },
     "14c8d684283f4225b0bbde3ffcd006f4": {
      "model_module": "@jupyter-widgets/base",
      "model_module_version": "2.0.0",
      "model_name": "LayoutModel",
      "state": {
       "grid_template_areas": "\n                                       \". . . . right \"\n                                        ",
       "grid_template_columns": "20% 20% 20% 20% 20%",
       "width": "100%"
      }
     },
     "1edb888aa5cc4100ab1c45eea83c77fa": {
      "model_module": "@jupyter-widgets/base",
      "model_module_version": "2.0.0",
      "model_name": "LayoutModel",
      "state": {}
     },
     "1ff68b3ee2f0476e9b12e08572808c4a": {
      "model_module": "@jupyter-widgets/controls",
      "model_module_version": "2.0.0",
      "model_name": "HTMLModel",
      "state": {
       "layout": "IPY_MODEL_c7a2cfac9cc4425ab3dcd173756ae19d",
       "style": "IPY_MODEL_e690f9778e984bbfa51f0637a84c71d4",
       "value": "<h5>Status</h5>"
      }
     },
     "2d6c1797538242c0bdb7e1b78292fbb5": {
      "model_module": "@jupyter-widgets/controls",
      "model_module_version": "2.0.0",
      "model_name": "HTMLModel",
      "state": {
       "layout": "IPY_MODEL_1edb888aa5cc4100ab1c45eea83c77fa",
       "style": "IPY_MODEL_9e0fa85c96db4984bfe513b7119cab7c",
       "value": "<h5>Message</h5>"
      }
     },
     "3ca8b3f21a78443aa7a5995259610422": {
      "model_module": "@jupyter-widgets/controls",
      "model_module_version": "2.0.0",
      "model_name": "ButtonModel",
      "state": {
       "button_style": "primary",
       "description": "Clear",
       "layout": "IPY_MODEL_a235e87dcead45d29cb7d562141f30c9",
       "style": "IPY_MODEL_ef46e7045b534d3899a2aa1df925b183",
       "tooltip": null
      }
     },
     "47c39e1624d845d49027b76eb3b20ba3": {
      "model_module": "@jupyter-widgets/controls",
      "model_module_version": "2.0.0",
      "model_name": "HTMLStyleModel",
      "state": {
       "description_width": "",
       "font_size": null,
       "text_color": null
      }
     },
     "7ad99de211314b9ba0496b7f0b572936": {
      "model_module": "@jupyter-widgets/controls",
      "model_module_version": "2.0.0",
      "model_name": "HTMLStyleModel",
      "state": {
       "description_width": "",
       "font_size": null,
       "text_color": null
      }
     },
     "9b8eb74b27d4410e84863308c31992a6": {
      "model_module": "@jupyter-widgets/controls",
      "model_module_version": "2.0.0",
      "model_name": "HTMLModel",
      "state": {
       "layout": "IPY_MODEL_a5d688a51c1c42a7a8136bb0803e2755",
       "style": "IPY_MODEL_f4e8e1a340c440d2b7cc06112c7aa3c1",
       "value": "<h5>Queue</h5>"
      }
     },
     "9e0fa85c96db4984bfe513b7119cab7c": {
      "model_module": "@jupyter-widgets/controls",
      "model_module_version": "2.0.0",
      "model_name": "HTMLStyleModel",
      "state": {
       "description_width": "",
       "font_size": null,
       "text_color": null
      }
     },
     "a235e87dcead45d29cb7d562141f30c9": {
      "model_module": "@jupyter-widgets/base",
      "model_module_version": "2.0.0",
      "model_name": "LayoutModel",
      "state": {
       "grid_area": "right",
       "padding": "0px 0px 0px 0px",
       "width": "70px"
      }
     },
     "a5d688a51c1c42a7a8136bb0803e2755": {
      "model_module": "@jupyter-widgets/base",
      "model_module_version": "2.0.0",
      "model_name": "LayoutModel",
      "state": {
       "width": "70px"
      }
     },
     "ad02d9ce12c041a0874559a34a605e82": {
      "model_module": "@jupyter-widgets/controls",
      "model_module_version": "2.0.0",
      "model_name": "HTMLModel",
      "state": {
       "layout": "IPY_MODEL_128a2e2aad8c4f82a5a7a481a41fe1d9",
       "style": "IPY_MODEL_09a9cafa070b4dee9c51449d5848cad6",
       "value": "<h5>Backend</h5>"
      }
     },
     "b56b2eeafdce45d582d70f6ce595fd1e": {
      "model_module": "@jupyter-widgets/controls",
      "model_module_version": "2.0.0",
      "model_name": "HTMLModel",
      "state": {
       "layout": "IPY_MODEL_e027790bc26a4a2da0b90328fdc74b4c",
       "style": "IPY_MODEL_47c39e1624d845d49027b76eb3b20ba3",
       "value": "<h5>Job ID</h5>"
      }
     },
     "bff39cb11507475fa4502b766e4e2444": {
      "model_module": "@jupyter-widgets/controls",
      "model_module_version": "2.0.0",
      "model_name": "HTMLModel",
      "state": {
       "layout": "IPY_MODEL_f583922020a74c3c813b92fd851ace4d",
       "style": "IPY_MODEL_7ad99de211314b9ba0496b7f0b572936",
       "value": "<p style='font-family: IBM Plex Sans, Arial, Helvetica, sans-serif; font-size: 20px; font-weight: medium;'>Circuit Properties</p>"
      }
     },
     "c0d84eeec0ff49fe90c46468f40f7960": {
      "model_module": "@jupyter-widgets/controls",
      "model_module_version": "2.0.0",
      "model_name": "GridBoxModel",
      "state": {
       "children": [
        "IPY_MODEL_3ca8b3f21a78443aa7a5995259610422"
       ],
       "layout": "IPY_MODEL_14c8d684283f4225b0bbde3ffcd006f4"
      }
     },
     "c7a2cfac9cc4425ab3dcd173756ae19d": {
      "model_module": "@jupyter-widgets/base",
      "model_module_version": "2.0.0",
      "model_name": "LayoutModel",
      "state": {
       "width": "95px"
      }
     },
     "e027790bc26a4a2da0b90328fdc74b4c": {
      "model_module": "@jupyter-widgets/base",
      "model_module_version": "2.0.0",
      "model_name": "LayoutModel",
      "state": {
       "width": "190px"
      }
     },
     "e690f9778e984bbfa51f0637a84c71d4": {
      "model_module": "@jupyter-widgets/controls",
      "model_module_version": "2.0.0",
      "model_name": "HTMLStyleModel",
      "state": {
       "description_width": "",
       "font_size": null,
       "text_color": null
      }
     },
     "ef46e7045b534d3899a2aa1df925b183": {
      "model_module": "@jupyter-widgets/controls",
      "model_module_version": "2.0.0",
      "model_name": "ButtonStyleModel",
      "state": {
       "font_family": null,
       "font_size": null,
       "font_style": null,
       "font_variant": null,
       "font_weight": null,
       "text_color": null,
       "text_decoration": null
      }
     },
     "f4e8e1a340c440d2b7cc06112c7aa3c1": {
      "model_module": "@jupyter-widgets/controls",
      "model_module_version": "2.0.0",
      "model_name": "HTMLStyleModel",
      "state": {
       "description_width": "",
       "font_size": null,
       "text_color": null
      }
     },
     "f583922020a74c3c813b92fd851ace4d": {
      "model_module": "@jupyter-widgets/base",
      "model_module_version": "2.0.0",
      "model_name": "LayoutModel",
      "state": {
       "margin": "0px 0px 10px 0px"
      }
     }
    },
    "version_major": 2,
    "version_minor": 0
   }
  }
 },
 "nbformat": 4,
 "nbformat_minor": 4
}
