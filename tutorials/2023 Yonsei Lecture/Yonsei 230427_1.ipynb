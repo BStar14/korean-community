{
 "cells": [
  {
   "cell_type": "markdown",
   "id": "599e63a4",
   "metadata": {},
   "source": [
    "# Qiskit 설치 및 수업 준비\n",
    "\n",
    "## 필수 패키지 설치\n",
    "\n",
    "최신 버젼의 Qiskit을 설치하는 것! 헷갈리신다면 다음의 순서를 따라해보세요 \n",
    "\n",
    "1. [아나콘다 설치](https://www.anaconda.com/)\n",
    "\n",
    "    1-1. 만약 오래된 아나콘다가 설치되어 있다면 터미널을 열어 다음의 명령어를 실행해 보세요\n",
    "\n",
    "    `conda update -n base conda`\n",
    "    \n",
    "2. 환경 만들기\n",
    "\n",
    "`conda create -n qiskit python=3.10`\n",
    "\n",
    "3. 쥬피터 노트북 혹은 쥬피터 랩 설치\n",
    "\n",
    "`conda install jupyter notebook` 혹은 `conda install jupyterlab`\n",
    "\n",
    "4. qiskit_ibm_provider 설치\n",
    "\n",
    "`pip install qiskit qiskit_ibm_provider`\n",
    "\n",
    "5. qiskit-ibm-runtime 설치\n",
    "\n",
    "`pip install qiskit-ibm-runtime`\n",
    "\n",
    "6.  Qiskit 설치 (머신러닝, 파이낸스 등 모든 라이브러리 한번에 설치)\n",
    "\n",
    "`pip install qiskit[all]`\n",
    "\n",
    "## 패키지 설치 확인\n",
    "설치가 잘 되었는지 다음의 명령어를 실행해서 확인해 봅시다."
   ]
  },
  {
   "cell_type": "code",
   "execution_count": null,
   "id": "c51150ee",
   "metadata": {},
   "outputs": [],
   "source": [
    "import qiskit.tools.jupyter\n",
    "%qiskit_version_table"
   ]
  },
  {
   "cell_type": "code",
   "execution_count": null,
   "id": "1cfc712f",
   "metadata": {},
   "outputs": [],
   "source": [
    "# 필수 라이브러리 불러오기 \n",
    "\n",
    "import numpy as np\n",
    "import pandas as pd\n",
    "from math import sqrt, pi\n",
    "\n",
    "from qiskit import *\n",
    "from qiskit.visualization import plot_histogram, plot_distribution, plot_error_map\n",
    "from qiskit.visualization.array import array_to_latex\n",
    "\n",
    "from qiskit.quantum_info import hellinger_fidelity, random_statevector\n",
    "\n",
    "\n",
    "from qiskit_ibm_provider import IBMProvider\n",
    "\n",
    "from qiskit_aer import AerSimulator\n",
    "\n",
    "\n",
    "# Plotting tools\n",
    "import matplotlib.pyplot as plt"
   ]
  },
  {
   "cell_type": "markdown",
   "id": "035ee024",
   "metadata": {},
   "source": [
    "## 실습을 위한 계정 설정 및 백엔드 설정\n",
    "\n",
    "실습을 위한 계정 설정을 해봅시다. 토큰은 https://quantum-computing.ibm.com/ 에서 복사해 옵니다.\n",
    "\n",
    "<img src=\"img/token.png\" alt=\"Alternative text\" width=800/>"
   ]
  },
  {
   "cell_type": "code",
   "execution_count": null,
   "id": "70e7c237",
   "metadata": {},
   "outputs": [],
   "source": [
    "#IBMProvider.save_account(\"Your_Token\", overwrite=True)\n",
    "#provider = IBMProvider()\n",
    "\n",
    "#밋업을 위해 추가된 허브와 그룹, 프로젝트를 프로바이더에 설정\n",
    "provider = IBMProvider(instance=\"ibm-q-yonsei/internal/qc-and-simulatio\")"
   ]
  },
  {
   "cell_type": "code",
   "execution_count": null,
   "id": "c8c105a8",
   "metadata": {},
   "outputs": [],
   "source": [
    "provider.backends() #5 27Q Backends"
   ]
  },
  {
   "cell_type": "markdown",
   "id": "9a1fc027",
   "metadata": {},
   "source": [
    "수업을 위해 제공되는 5개의 27 큐비트 백엔드들 중 가장 적은 Queue를 지닌 백엔드를 찾아 실습을 위한 백엔드로 설정합니다. "
   ]
  },
  {
   "cell_type": "code",
   "execution_count": null,
   "id": "fcd3eb0d",
   "metadata": {},
   "outputs": [],
   "source": [
    "from qiskit_ibm_provider import least_busy\n",
    "\n",
    "backend = least_busy(provider.backends())\n",
    "backend"
   ]
  },
  {
   "cell_type": "markdown",
   "id": "00ea9435",
   "metadata": {},
   "source": [
    "## 수업 중간중간 사용할 퀴즈 플랫폼 로그인\n",
    "\n",
    "Representing qubit states 와 Single qubit gates 파트에 있는 퀴즈와 연습 문제를 기반으로 라이브 퀴즈 쇼를 함께 진행해 봅시다 :) \n",
    "\n",
    "<h3>모두 로그인해주세요!</h3>\n",
    "\n",
    "수업을 모두 마친후 최상위 5인에게는 종강전에 특별 기념품을 보내드립니다! 기대하세요!\n",
    "\n",
    "https://ahaslides.com/ZD03X \n",
    "\n",
    "<img src=\"img/quiz.png\" alt=\"Alternative text\" width=800/>"
   ]
  },
  {
   "cell_type": "markdown",
   "id": "0cf8cfd4",
   "metadata": {},
   "source": [
    "# 자주 사용하게 될  유용한 Python 잠시 살펴보기\n",
    "\n",
    "1. list를 만드는 유용한 방법\n",
    "\n",
    "이름이 a인 다음의 리스트를 만들어 보세요: [2,3,4,5,6]"
   ]
  },
  {
   "cell_type": "code",
   "execution_count": null,
   "id": "3c629f6a",
   "metadata": {},
   "outputs": [],
   "source": [
    "# define with value\n",
    "#a = [2, 3, 4, 5, 6]\n",
    "a"
   ]
  },
  {
   "cell_type": "code",
   "execution_count": null,
   "id": "0584bc7b",
   "metadata": {},
   "outputs": [],
   "source": [
    "# use range()\n",
    "#a = list(range(2, 7))\n",
    "a"
   ]
  },
  {
   "cell_type": "code",
   "execution_count": null,
   "id": "94dc9d24",
   "metadata": {},
   "outputs": [],
   "source": [
    "# use append() and for loop\n",
    "\n",
    "'''a = []\n",
    "for N in range(2,7):\n",
    "    a.append(N)'''\n",
    "a"
   ]
  },
  {
   "cell_type": "markdown",
   "id": "5e9779b0",
   "metadata": {},
   "source": [
    "2. Dictionary 를 다루는 법\n",
    "\n",
    "a 라는 이름의 다음의 key 와 value를 갖는 dictionary를 만들어 보세요 \n",
    "\n",
    "| key | value | \n",
    "| --- | --- |\n",
    "| '00' | 10 |\n",
    "| '11' | 1014 |"
   ]
  },
  {
   "cell_type": "code",
   "execution_count": null,
   "id": "b92bd7ea",
   "metadata": {},
   "outputs": [],
   "source": [
    "#define\n",
    "#a = {'00': 10, '11': 1014}\n",
    "a"
   ]
  },
  {
   "cell_type": "code",
   "execution_count": null,
   "id": "c1728531",
   "metadata": {},
   "outputs": [],
   "source": [
    "#add key and value\n",
    "a = {}\n",
    "             # dic이라는 이름으로 비어있는 딕셔너리를 만든다.\n",
    "#a['00'] = 10\n",
    "#a['11'] = 1014\n",
    "\n",
    "a"
   ]
  },
  {
   "cell_type": "markdown",
   "id": "b2af9ee2",
   "metadata": {},
   "source": [
    "만들어진 dictionary의 '00' key의 값을 가져와 봅시다."
   ]
  },
  {
   "cell_type": "code",
   "execution_count": null,
   "id": "3a4f57c0",
   "metadata": {},
   "outputs": [],
   "source": [
    "# a['00']"
   ]
  },
  {
   "cell_type": "markdown",
   "id": "e9250385",
   "metadata": {},
   "source": [
    "만들어진 dictionary의 key 값만을 출력해 봅시다. 또한 value 값만을 출력해 봅시다."
   ]
  },
  {
   "cell_type": "code",
   "execution_count": null,
   "id": "abf91cdc",
   "metadata": {},
   "outputs": [],
   "source": [
    "#print(a.keys()) \n",
    "#print(a.values()) "
   ]
  },
  {
   "cell_type": "markdown",
   "id": "ff4b2816",
   "metadata": {},
   "source": [
    "Dictionary 에 '01' 인 키가 있는지 없는지 확인해 봅시다.\n",
    "\n"
   ]
  },
  {
   "cell_type": "code",
   "execution_count": null,
   "id": "87f765f3",
   "metadata": {},
   "outputs": [],
   "source": [
    "#'01' in a"
   ]
  },
  {
   "cell_type": "markdown",
   "id": "f1b753ba",
   "metadata": {},
   "source": [
    "Dictionary에 '11'인 키가 있는지 없는지 확인해 봅시다."
   ]
  },
  {
   "cell_type": "code",
   "execution_count": null,
   "id": "32a5b7e1",
   "metadata": {},
   "outputs": [],
   "source": [
    "#'11' in a"
   ]
  },
  {
   "cell_type": "markdown",
   "id": "0d8f67cc",
   "metadata": {},
   "source": [
    "3. 행렬을 만들고 다루기\n",
    "\n",
    "임의의 Bra, Ket 행렬 만들어 보기\n",
    "\n",
    "$$a = \\begin{bmatrix} 0 & 1 \\end{bmatrix}, b = \\begin{bmatrix} 0 \\\\1 \\end{bmatrix}$$\n",
    "를 만들어 봅시다."
   ]
  },
  {
   "cell_type": "code",
   "execution_count": null,
   "id": "1f6dabc4",
   "metadata": {},
   "outputs": [],
   "source": [
    "# row matrix, column matrix 만들기\n",
    "#a = [[0, 1]]\n",
    "\n",
    "array_to_latex(a)\n"
   ]
  },
  {
   "cell_type": "code",
   "execution_count": null,
   "id": "efac470b",
   "metadata": {},
   "outputs": [],
   "source": [
    "#b = [[0],[1]]\n",
    "array_to_latex(b)"
   ]
  },
  {
   "cell_type": "markdown",
   "id": "8181acfb",
   "metadata": {},
   "source": [
    "numpy를 이용하여 R이란 이름의 2x2 랜덤 행렬을 만들고 각각의 row값과 column 값을 list 로 저장해 봅시다."
   ]
  },
  {
   "cell_type": "code",
   "execution_count": null,
   "id": "7907305a",
   "metadata": {},
   "outputs": [],
   "source": [
    "#R = np.random.rand(2,2)\n",
    "array_to_latex(R)"
   ]
  },
  {
   "cell_type": "code",
   "execution_count": null,
   "id": "4443968d",
   "metadata": {},
   "outputs": [],
   "source": [
    "#R_row0 = R[0,:]\n",
    "array_to_latex(R_row0)"
   ]
  },
  {
   "cell_type": "code",
   "execution_count": null,
   "id": "c8aa7e72",
   "metadata": {},
   "outputs": [],
   "source": [
    "#R_row1 = R[1,:]\n",
    "array_to_latex(R_row1)"
   ]
  },
  {
   "cell_type": "code",
   "execution_count": null,
   "id": "b50170ad",
   "metadata": {},
   "outputs": [],
   "source": [
    "#R_col0 = R[:,[0]]\n",
    "array_to_latex(R_col0)"
   ]
  },
  {
   "cell_type": "code",
   "execution_count": null,
   "id": "c9192877",
   "metadata": {},
   "outputs": [],
   "source": [
    "#R_col1 = R[:,[1]]\n",
    "array_to_latex(R_col1)"
   ]
  },
  {
   "cell_type": "markdown",
   "id": "8e7fe408",
   "metadata": {},
   "source": [
    "4. 간단한 함수를 만들어 봅시다\n",
    "\n",
    "2x2 행렬을 입력으로 받아서 각각의 row와 column을 반환하는 함수를 만들어 봅시다."
   ]
  },
  {
   "cell_type": "code",
   "execution_count": null,
   "id": "1baefd3b",
   "metadata": {},
   "outputs": [],
   "source": [
    "def slice_matrix( Input ):\n",
    "    row0 = # your code\n",
    "    row1 = # your code\n",
    "    col0 = # your code\n",
    "    col1 = # your code\n",
    "    return row0, row1, col0, col1"
   ]
  },
  {
   "cell_type": "code",
   "execution_count": null,
   "id": "c8117ed5",
   "metadata": {},
   "outputs": [],
   "source": [
    "R = np.random.rand(2,2)\n",
    "array_to_latex(R)\n"
   ]
  },
  {
   "cell_type": "code",
   "execution_count": null,
   "id": "d920f0c8",
   "metadata": {},
   "outputs": [],
   "source": [
    "result = slice_matrix(R)\n",
    "for a in result:\n",
    "    display(array_to_latex(a))"
   ]
  },
  {
   "cell_type": "markdown",
   "id": "9ef9c993",
   "metadata": {},
   "source": [
    "위에서 만들어진 리스트들을 사용하여, 행렬간의 덧셈, 뺄셈, 상수 곱셈, 내적을 해봅시다."
   ]
  },
  {
   "cell_type": "code",
   "execution_count": null,
   "id": "93b26b82",
   "metadata": {},
   "outputs": [],
   "source": [
    "array_to_latex(result[0] + result[1])"
   ]
  },
  {
   "cell_type": "code",
   "execution_count": null,
   "id": "52f48f00",
   "metadata": {},
   "outputs": [],
   "source": [
    "array_to_latex(result[2] + result[3])"
   ]
  },
  {
   "cell_type": "code",
   "execution_count": null,
   "id": "e9e56f1d",
   "metadata": {},
   "outputs": [],
   "source": [
    "array_to_latex(5 * result[0])"
   ]
  },
  {
   "cell_type": "code",
   "execution_count": null,
   "id": "1d3ec326",
   "metadata": {},
   "outputs": [],
   "source": [
    "np.matmul(result[0], result[2])"
   ]
  },
  {
   "cell_type": "code",
   "execution_count": null,
   "id": "78f86add",
   "metadata": {},
   "outputs": [],
   "source": [
    "np.matmul(result[0], result[2]).item()"
   ]
  },
  {
   "cell_type": "code",
   "execution_count": null,
   "id": "9c60f6e8",
   "metadata": {},
   "outputs": [],
   "source": [
    "type(np.matmul(result[0], result[2]).item())"
   ]
  },
  {
   "cell_type": "markdown",
   "id": "9b8a164f",
   "metadata": {},
   "source": [
    "5. 복소수 행렬을 정의해 봅시다.\n",
    "\n",
    "$$c1 = \\begin{bmatrix} 1 + 2i & 3+ 6i \\end{bmatrix},c2 = \\begin{bmatrix} 3 - i \\\\ 2 + i \\end{bmatrix}$$ 를 정의하고 내적을 계산해 봅시다./"
   ]
  },
  {
   "cell_type": "code",
   "execution_count": null,
   "id": "350ff470",
   "metadata": {},
   "outputs": [],
   "source": [
    "c1 = # your code\n",
    "c2 = # your code\n",
    "np.matmul(c1, c2).item()"
   ]
  },
  {
   "cell_type": "markdown",
   "id": "1398a978",
   "metadata": {},
   "source": [
    "# Representing Qubit States\n",
    "## 1. Classical vs Quantum Bits\n",
    "\n",
    "1 큐비트로 구성된 양자 회로를 만들고 임의의 상태로 큐비트를 초기화 시킨 후 Aer simulator를 사용해 20000 측정한 결과를 plot 해 봅시다."
   ]
  },
  {
   "cell_type": "code",
   "execution_count": null,
   "id": "f3b5fe96",
   "metadata": {},
   "outputs": [],
   "source": [
    "\n",
    "#qc = QuantumCircuit(1)\n",
    "#initial_state = random_statevector(2)   \n",
    "#qc.initialize(initial_state, 0)\n",
    "qc.draw('mpl') "
   ]
  },
  {
   "cell_type": "markdown",
   "id": "ecee94c1",
   "metadata": {},
   "source": [
    "이 회로의 Statevector를 계산하는 방법은 여러가지가 있습니다. 가장 먼저 quantum_info 라이브러리를 사용하는 방법을 소개합니다."
   ]
  },
  {
   "cell_type": "code",
   "execution_count": null,
   "id": "6f8abc9e",
   "metadata": {},
   "outputs": [],
   "source": [
    "from qiskit.quantum_info import Statevector\n",
    "\n",
    "#array_to_latex(Statevector(qc))"
   ]
  },
  {
   "cell_type": "code",
   "execution_count": null,
   "id": "cf28acf8",
   "metadata": {},
   "outputs": [],
   "source": [
    "#without measurement, use StatevectorSimulator\n",
    "\n",
    "from qiskit_aer import StatevectorSimulator\n",
    "\n",
    "#backend = StatevectorSimulator()\n",
    "#backend.run(qc).result().get_statevector()"
   ]
  },
  {
   "cell_type": "code",
   "execution_count": null,
   "id": "e9d44d17",
   "metadata": {},
   "outputs": [],
   "source": [
    "#qc.save_statevector()"
   ]
  },
  {
   "cell_type": "code",
   "execution_count": null,
   "id": "ffe329a8",
   "metadata": {},
   "outputs": [],
   "source": [
    "#without measurement, use AerSimulator and save_statevector()\n",
    "\n",
    "#backend = AerSimulator()\n",
    "#backend.run(qc).result().data(0)\n"
   ]
  },
  {
   "cell_type": "markdown",
   "id": "bb6e4416",
   "metadata": {},
   "source": [
    "이 회로에 measurement를 추가하고, 시뮬레이터와 real_backend에서 실행해 봅시다."
   ]
  },
  {
   "cell_type": "code",
   "execution_count": null,
   "id": "f8aa0562",
   "metadata": {},
   "outputs": [],
   "source": [
    "#qc.measure_all()\n",
    "qc.draw('mpl')"
   ]
  },
  {
   "cell_type": "code",
   "execution_count": null,
   "id": "cb1470b5",
   "metadata": {},
   "outputs": [],
   "source": [
    "backend = AerSimulator()\n",
    "counts = backend.run(qc, shots=20000).result().get_counts()\n",
    "plot_histogram(counts)"
   ]
  },
  {
   "cell_type": "markdown",
   "id": "44d94380",
   "metadata": {},
   "source": [
    "\n",
    "1 큐비트로 구성된 양자 회로를 만들고 임의의 상태$|q_0\\rangle = \\frac{1}{\\sqrt{2}}|0\\rangle + i\\frac{1}{\\sqrt{2}}|1\\rangle$로 큐비트를 초기화 시킨 후 Aer simulator를 사용해 20000 측정한 결과를 plot 해 봅시다."
   ]
  },
  {
   "cell_type": "code",
   "execution_count": null,
   "id": "4a62b624",
   "metadata": {},
   "outputs": [],
   "source": [
    "initial_state = #your code  # Define state |q_0>\n",
    "\n",
    "qc = QuantumCircuit(1) # Must redefine qc\n",
    "qc.initialize(initial_state, 0) # Initialize the 0th qubit in the state `initial_state`\n",
    "backend = StatevectorSimulator()\n",
    "result = backend.run(qc).result()\n",
    "state= result.get_statevector() \n",
    "array_to_latex(state)# Print the result"
   ]
  },
  {
   "cell_type": "code",
   "execution_count": null,
   "id": "6b4d226d",
   "metadata": {},
   "outputs": [],
   "source": [
    "counts = result.get_counts()\n",
    "plot_histogram(counts)"
   ]
  },
  {
   "cell_type": "markdown",
   "id": "1c7062f5",
   "metadata": {},
   "source": [
    "<div class=\"alert alert-block alert-info\"> <b>Quiz Time</b> 퀴즈 1번, 2번, 3번, 4번을 풀고 노트북으로 돌아옵시다! </div>\n",
    "\n",
    "## 2. The Rules of Measurement\n",
    "\n",
    "$|q_0\\rangle = \\frac{1}{\\sqrt{2}}|0\\rangle + i\\frac{1}{\\sqrt{2}}|1\\rangle$인 상태의 0 또는 1로 측정될 확률을 행렬의 내적을 사용해 계산해 봅시다."
   ]
  },
  {
   "cell_type": "code",
   "execution_count": null,
   "id": "03e1abe2",
   "metadata": {},
   "outputs": [],
   "source": [
    "initial_state = [[1/sqrt(2)], [1j/sqrt(2)]]\n",
    "array_to_latex(initial_state)"
   ]
  },
  {
   "cell_type": "markdown",
   "id": "447e5d45",
   "metadata": {},
   "source": [
    "큐비트의 계산 기저 |0> 과 |1> 을 각각 다음과 같이 정의합니다."
   ]
  },
  {
   "cell_type": "code",
   "execution_count": null,
   "id": "7ef5fa8d",
   "metadata": {},
   "outputs": [],
   "source": [
    "#ket0 = [[1], [0]]\n",
    "#ket1 = [[0], [1]]"
   ]
  },
  {
   "cell_type": "markdown",
   "id": "288ff145",
   "metadata": {},
   "source": [
    "$\\langle 0 | q_0 \\rangle $을 계산해 봅시다."
   ]
  },
  {
   "cell_type": "code",
   "execution_count": null,
   "id": "0dd407b5",
   "metadata": {},
   "outputs": [],
   "source": [
    "#inner_product = np.matmul(np.transpose(ket0), initial_state)\n",
    "#inner_product.item()"
   ]
  },
  {
   "cell_type": "markdown",
   "id": "28a1f12c",
   "metadata": {},
   "source": [
    "$ | \\langle 0 | q_0 \\rangle|^2 $을 계산해 봅시다."
   ]
  },
  {
   "cell_type": "code",
   "execution_count": null,
   "id": "84d8b712",
   "metadata": {},
   "outputs": [],
   "source": [
    "#(np.abs(inner_product) ** 2).item()\n"
   ]
  },
  {
   "cell_type": "markdown",
   "id": "ec784340",
   "metadata": {},
   "source": [
    "### Normalization\n",
    "\n",
    "Statevector는 최종 측정확률이 1이 된다는 제약을 지니기 때문에, 다음을 항상 만족하게 됩니다\n",
    "$$\\langle \\psi | \\psi \\rangle = 1$$\n",
    "따라서,  $|\\psi \\rangle = \\alpha |0\\rangle + \\beta|1\\rangle$ 일때 $|\\alpha|^2 + |\\beta|^2 = 1$ 을 만족하게 됩니다.\n",
    "\n",
    "다음에서 random statevector를 생성하여 위의 normalization 이 성립하는지 확인해 보고, normalization을 만족하지 않는 statevector를 사용할 경우 양자회로가 초기화 되지 않는 것을 확인해 봅시다."
   ]
  },
  {
   "cell_type": "code",
   "execution_count": null,
   "id": "25ed8cc8",
   "metadata": {},
   "outputs": [],
   "source": [
    "#random_statevector 를 사용해서 normalization이 성립하는 지 확인\n",
    "\n",
    "initial_state = random_statevector(2) \n",
    "#np.abs(initial_state.data[0])**2 + np.abs(initial_state.data[1])**2"
   ]
  },
  {
   "cell_type": "code",
   "execution_count": null,
   "id": "61532bf0",
   "metadata": {},
   "outputs": [],
   "source": [
    "#임의의 initial state를 만들어서 회로에 사용할 수 없음을 확인\n",
    "rand_init= np.random.rand(2)\n",
    "#np.abs(rand_init[0])**2 + np.abs(rand_init[1])**2"
   ]
  },
  {
   "cell_type": "code",
   "execution_count": null,
   "id": "5ffe4c32",
   "metadata": {},
   "outputs": [],
   "source": [
    "#qc = QuantumCircuit(1)\n",
    "#qc.initialize(rand_init, 0)"
   ]
  },
  {
   "cell_type": "markdown",
   "id": "55902fd0",
   "metadata": {},
   "source": [
    "Exercise: \n",
    "- Create a state vector that will give a  probability of measuring .\n",
    "- Create a different state vector that will give the same measurement probabilities.\n",
    "- Verify that the probability of measuring  for these two states is .\n",
    "\n",
    "<div class=\"aalert alert-block alert-danger\">    \n",
    "    3분 동안 만들어봅시다!  </div>"
   ]
  },
  {
   "cell_type": "code",
   "execution_count": null,
   "id": "4d24c56e",
   "metadata": {},
   "outputs": [],
   "source": [
    "#Code here#\n",
    "\n"
   ]
  },
  {
   "cell_type": "code",
   "execution_count": null,
   "id": "0d491d16",
   "metadata": {},
   "outputs": [],
   "source": [
    "from IPython.display import IFrame\n",
    "\n",
    "# Youtube\n",
    "IFrame(width=\"560\", height=\"315\", src=\"https://www.youtube.com/embed/B84tAaqC6Bc\", title=\"YouTube video player\", frameborder=\"0\", allow=\"accelerometer; autoplay; clipboard-write; encrypted-media; gyroscope; picture-in-picture; web-share\")"
   ]
  },
  {
   "cell_type": "markdown",
   "id": "6ef78c84",
   "metadata": {},
   "source": [
    "### Alternative measurement\n",
    "\n",
    "측정을 위한 기저는 반드시 계산기저 일 필요는 없습니다. 자세한 내용은 single qubit gate에서 다룹니다.\n",
    "\n",
    "### Global Phase\n",
    "\n",
    "다음의 관계를 갖는 세가지 statevector를 가정해 봅시다.\n",
    "$$|\\psi_0 \\rangle, |\\psi_1 \\rangle = -|\\psi_0 \\rangle, |\\psi_2 \\rangle = i|\\psi_0 \\rangle$$\n",
    "\n",
    "\n",
    "이 세 가지 statevector는 \"Global phase의 차이만 가지고 있다\"고 표현하며, 측정을 하거나, 임의의 Unitary를 적용한 후 측정해도 그 측정 확률이 동일하여 구분이 불가능합니다. 이러한 성질을 코딩 실습으로 확인해 봅시다.\n",
    "\n",
    "\n",
    "<div class=\"aalert alert-block alert-danger\">    \n",
    "psi1, psi2에 대해서 위와 같이 U게이트를 적용하는 양자 회로를 작성하고 counts를 plot 해보세요!  </div>"
   ]
  },
  {
   "cell_type": "code",
   "execution_count": null,
   "id": "0c9b6ebe",
   "metadata": {},
   "outputs": [],
   "source": [
    "psi0 = random_statevector(2) \n",
    "psi1 = -psi0\n",
    "psi2 = -1j * psi0\n",
    "print(psi0, \" \", psi1, \" \", psi2)"
   ]
  },
  {
   "cell_type": "code",
   "execution_count": null,
   "id": "c9ad2797",
   "metadata": {},
   "outputs": [],
   "source": [
    "# measurement probability of psi0\n",
    "'''\n",
    "qc = QuantumCircuit(1)\n",
    "qc.initialize(psi0, 0)\n",
    "state = Statevector.from_instruction(qc)\n",
    "probs = state.probabilities()\n",
    "print('probs: {}'.format(probs))\n",
    "'''"
   ]
  },
  {
   "cell_type": "code",
   "execution_count": null,
   "id": "c617c109",
   "metadata": {},
   "outputs": [],
   "source": [
    "# measurement probability of psi1\n",
    "'''\n",
    "qc = QuantumCircuit(1)\n",
    "qc.initialize(psi1, 0)\n",
    "state = Statevector.from_instruction(qc)\n",
    "probs = state.probabilities()\n",
    "print('probs: {}'.format(probs))\n",
    "'''"
   ]
  },
  {
   "cell_type": "code",
   "execution_count": null,
   "id": "58bade1d",
   "metadata": {},
   "outputs": [],
   "source": [
    "# measurement probability of psi2\n",
    "'''\n",
    "qc = QuantumCircuit(1)\n",
    "qc.initialize(psi2, 0)\n",
    "state = Statevector.from_instruction(qc)\n",
    "probs = state.probabilities()\n",
    "print('probs: {}'.format(probs))\n",
    "'''"
   ]
  },
  {
   "cell_type": "code",
   "execution_count": null,
   "id": "4cc15b44",
   "metadata": {},
   "outputs": [],
   "source": [
    "\n",
    "from qiskit.quantum_info import random_unitary\n",
    "#num_qubits = 1\n",
    "#U = random_unitary(2 ** num_qubits)\n",
    "#array_to_latex(U)"
   ]
  },
  {
   "cell_type": "code",
   "execution_count": null,
   "id": "efc4c368",
   "metadata": {},
   "outputs": [],
   "source": [
    "#Upsi0 = np.matmul(U, psi0)\n",
    "#Upsi1 = np.matmul(U, psi1)\n",
    "#Upsi2 = np.matmul(U, psi2)\n",
    "print(Upsi0, \" \", Upsi1, \" \", Upsi2)"
   ]
  },
  {
   "cell_type": "code",
   "execution_count": null,
   "id": "b43c4457",
   "metadata": {},
   "outputs": [],
   "source": [
    "# measurement probability of Upsi0\n",
    "\n"
   ]
  },
  {
   "cell_type": "code",
   "execution_count": null,
   "id": "d83652f8",
   "metadata": {},
   "outputs": [],
   "source": [
    "# measurement probability of Upsi1\n"
   ]
  },
  {
   "cell_type": "code",
   "execution_count": null,
   "id": "846b7475",
   "metadata": {},
   "outputs": [],
   "source": [
    "# measurement probability of Upsi2\n"
   ]
  },
  {
   "cell_type": "markdown",
   "id": "30cdd8b2",
   "metadata": {},
   "source": [
    "양자 회로를 구성하여 확인해봅시다! psi0에 대해서만 확인해 보겠습니다!"
   ]
  },
  {
   "cell_type": "code",
   "execution_count": null,
   "id": "8632de3d",
   "metadata": {},
   "outputs": [],
   "source": [
    "qc0 = QuantumCircuit(1)\n",
    "qc0.initialize(psi0, 0)\n",
    "qc0.unitary(U, 0)\n",
    "qc0.draw('mpl')"
   ]
  },
  {
   "cell_type": "code",
   "execution_count": null,
   "id": "e5b92f4c",
   "metadata": {},
   "outputs": [],
   "source": [
    "#create qc1 for psi1 and U\n",
    "\n"
   ]
  },
  {
   "cell_type": "code",
   "execution_count": null,
   "id": "7a8be7ae",
   "metadata": {},
   "outputs": [],
   "source": [
    "#create qc2 for psi2 and U\n"
   ]
  },
  {
   "cell_type": "code",
   "execution_count": null,
   "id": "a83df356",
   "metadata": {},
   "outputs": [],
   "source": [
    "#plot qc0\n",
    "\n",
    "backend = StatevectorSimulator()\n",
    "counts = backend.run(qc0).result().get_counts()\n",
    "plot_histogram(counts)"
   ]
  },
  {
   "cell_type": "code",
   "execution_count": null,
   "id": "2ab3050a",
   "metadata": {},
   "outputs": [],
   "source": [
    "#plot qc1"
   ]
  },
  {
   "cell_type": "code",
   "execution_count": null,
   "id": "e8402bae",
   "metadata": {},
   "outputs": [],
   "source": [
    "#plot qc2\n"
   ]
  },
  {
   "cell_type": "code",
   "execution_count": null,
   "id": "70cea7af",
   "metadata": {},
   "outputs": [],
   "source": [
    "IFrame(width=\"560\", height=\"315\", src=\"https://www.youtube.com/embed/PIljiNRTHqY\", title=\"YouTube video player\", frameborder=\"0\" )"
   ]
  },
  {
   "cell_type": "markdown",
   "id": "5cce35b7",
   "metadata": {},
   "source": [
    "### The Observer Effect\n",
    "\n",
    "큐비트는 여러가지 중첩 가능한 상태로 초기화 되어 사용 될 수 있습니다. 하지만 한번 측정되고 난 후에는 $|0\\rangle$이나 $|1\\rangle$로 그 상태가 결정됩니다. 이것을 측정이 큐비트의 상태를 0또는 1로 붕괴시킨다고 표현하곤 합니다. \n",
    "\n",
    "다음의 실습에서 measurement를 포함하거나 포함하지 않은, 두가지 회로를 구성하고, 각 경우 최종 회로의 statevector값을 확인해 봅시다. 큐비트의 초기 값은  0과 1로 측정될 확률이 각각 50%에 해당하는 텍스트북에 제시된 상태를 사용하도록 하겠습니다."
   ]
  },
  {
   "cell_type": "code",
   "execution_count": null,
   "id": "ec427c84",
   "metadata": {},
   "outputs": [],
   "source": [
    "#측정이 없는 회로\n",
    "'''\n",
    "qc_without_measurment = QuantumCircuit(1) # We are redefining qc\n",
    "initial_state = [0.+1.j/sqrt(2),1/sqrt(2)+0.j]\n",
    "qc_without_measurment.initialize(initial_state, 0)\n",
    "qc_without_measurment.draw('mpl')\n",
    "'''"
   ]
  },
  {
   "cell_type": "code",
   "execution_count": null,
   "id": "6b64c550",
   "metadata": {},
   "outputs": [],
   "source": [
    "backend = StatevectorSimulator()\n",
    "backend.run(qc_without_measurment).result().get_statevector()"
   ]
  },
  {
   "cell_type": "code",
   "execution_count": null,
   "id": "77c3b8b8",
   "metadata": {},
   "outputs": [],
   "source": [
    "'''\n",
    "qc_with_measurment = QuantumCircuit(1) # We are redefining qc\n",
    "initial_state = [0.+1.j/sqrt(2),1/sqrt(2)+0.j]\n",
    "qc_with_measurment.initialize(initial_state, 0)\n",
    "qc_with_measurment.measure_all()\n",
    "qc_with_measurment.draw('mpl')\n",
    "'''"
   ]
  },
  {
   "cell_type": "code",
   "execution_count": null,
   "id": "5c081527",
   "metadata": {},
   "outputs": [],
   "source": [
    "backend = StatevectorSimulator()\n",
    "backend.run(qc_with_measurment, shots=1).result().get_statevector()"
   ]
  },
  {
   "cell_type": "markdown",
   "id": "ad19aeef",
   "metadata": {},
   "source": [
    "바로 위의 셀을 여러번 실행시켜 보면 statevector의 값이 0 또는 1에 해당하게 계속 변하는 것을 볼수있습니다. 마치 동전던지기와 같습니다 :)\n",
    "\n",
    "### A Note about Quantum Simulators\n",
    "\n",
    "`qiskit_aer`는 Qiskit의 시뮬레이션 패키지로, 다음과 같은 시뮬레이터 들을 보유하고 있습니다\n",
    "- [AerSimulator](https://qiskit.org/ecosystem/aer/stubs/qiskit_aer.AerSimulator.html#qiskit_aer.AerSimulator)\n",
    "- [QasmSimulator](https://qiskit.org/ecosystem/aer/stubs/qiskit_aer.QasmSimulator.html#qiskit_aer.QasmSimulator)\n",
    "- [StatevectorSimulator](https://qiskit.org/ecosystem/aer/stubs/qiskit_aer.StatevectorSimulator.html#qiskit_aer.StatevectorSimulator)\n",
    "- [UnitarySimulator](https://qiskit.org/ecosystem/aer/stubs/qiskit_aer.UnitarySimulator.html#qiskit_aer.UnitarySimulator)\n",
    "\n",
    "이 중 `AerSimulator`는 회로를 실행하고 측정된 값의 count를 반환합니다. 노이즈가 없는 이상적인 시뮬레이션을 하며 실행의 기본값은 `shots=1024`로 회로를 1024번 실행하도록 하고 있습니다. \n",
    "\n",
    "### Bloch Sphere vs QSphere\n",
    "\n",
    "Qiskit은 양자 상태를 visual하고, 직관적으로 보여주기 위해 세가지 라이브러리를 제공하고 있습니다. \n",
    "- [plot_bloch_vector](https://qiskit.org/documentation/stubs/qiskit.visualization.plot_bloch_vector.html) (입력이 구면의 좌표, Cartesian or Spherical)\n",
    "- [plot_bloch_multivector](https://qiskit.org/documentation/stubs/qiskit.visualization.plot_bloch_multivector.html) (입력이 statevector)\n",
    "- [plot_state_qsphere](https://qiskit.org/documentation/stubs/qiskit.visualization.plot_state_qsphere.html) (입력이 statevector)\n",
    "\n",
    "다음의 실습에서는 임의의 양자상태를 생성하고, 세가지 라이브러리를 사용해 큐비트의 상태를 표현해 보도록 하겠습니다.\n"
   ]
  },
  {
   "cell_type": "code",
   "execution_count": null,
   "id": "e732dcac",
   "metadata": {},
   "outputs": [],
   "source": [
    "from qiskit.visualization import plot_state_qsphere, plot_bloch_vector, plot_bloch_multivector\n",
    "\n",
    "qc = QuantumCircuit(1)\n",
    "initial_state = random_statevector(2) \n",
    "qc.initialize(initial_state, 0)\n",
    "\n",
    "qc.draw('mpl')"
   ]
  },
  {
   "cell_type": "code",
   "execution_count": null,
   "id": "f11999f8",
   "metadata": {},
   "outputs": [],
   "source": [
    "def get_spherical_coordinates(statevector):\n",
    "    # Convert to polar form:\n",
    "    r0 = np.abs(statevector[0])\n",
    "    ϕ0 = np.angle(statevector[0])\n",
    "\n",
    "    r1 = np.abs(statevector[1])\n",
    "    ϕ1 = np.angle(statevector[1])\n",
    "\n",
    "    # Calculate the coordinates:\n",
    "    r = np.sqrt(r0 ** 2 + r1 ** 2)\n",
    "    θ = 2 * np.arccos(r0 / r)\n",
    "    ϕ = ϕ1 - ϕ0\n",
    "    return [r, θ, ϕ]"
   ]
  },
  {
   "cell_type": "code",
   "execution_count": null,
   "id": "a207387f",
   "metadata": {},
   "outputs": [],
   "source": [
    "#plot_bloch_vector(get_spherical_coordinates(initial_state), coord_type = 'spherical')"
   ]
  },
  {
   "cell_type": "code",
   "execution_count": null,
   "id": "76b143f0",
   "metadata": {},
   "outputs": [],
   "source": [
    "#plot_bloch_multivector(initial_state)"
   ]
  },
  {
   "cell_type": "code",
   "execution_count": null,
   "id": "88ee0c4e",
   "metadata": {},
   "outputs": [],
   "source": [
    "#plot_state_qsphere(initial_state)"
   ]
  },
  {
   "cell_type": "markdown",
   "id": "3c5a190d",
   "metadata": {},
   "source": [
    "각각의 방법은 Single Qubit회로, Multi Qubit 회로 등, 각각의 상황에 따라, 목적에 따라 편리하게 이용할 수 있습니다. 참고로 IBM Quantum Cloud의 Circuit composer는 QSphere를 사용하고 있습니다."
   ]
  },
  {
   "cell_type": "markdown",
   "id": "7aba6021",
   "metadata": {},
   "source": [
    "# 퀴즈를 시작하기 전! Real Backend 실습\n",
    "\n",
    "27개의 큐비트를 모두 중첩시켜서 24비트의 난수를 10000개 발생시켜서 100x100이미지를 만들어 봅시다.\n"
   ]
  },
  {
   "cell_type": "code",
   "execution_count": null,
   "id": "c7acb79e",
   "metadata": {},
   "outputs": [],
   "source": [
    "qc_rgb=QuantumCircuit(24)\n",
    "qc_rgb.h(range(24))\n",
    "qc_rgb.measure_all()\n",
    "qc_rgb.draw('mpl')"
   ]
  },
  {
   "cell_type": "code",
   "execution_count": null,
   "id": "799c9183",
   "metadata": {},
   "outputs": [],
   "source": [
    "qc_rgb_tr = transpile(qc_rgb, backend)\n",
    "real_job = backend.run(qc_rgb_tr, shots = 10000, memory=True )\n",
    "real_job.job_id()"
   ]
  },
  {
   "cell_type": "code",
   "execution_count": null,
   "id": "3aea81d2",
   "metadata": {},
   "outputs": [],
   "source": [
    "job0 = provider.retrieve_job('ch45ig85ngm0qheaggrg')\n",
    "#job_monitor(job0)\n",
    "job0.status()"
   ]
  },
  {
   "cell_type": "code",
   "execution_count": null,
   "id": "93a8144e",
   "metadata": {},
   "outputs": [],
   "source": [
    "result = job0.result().get_memory()"
   ]
  },
  {
   "cell_type": "code",
   "execution_count": null,
   "id": "07237dcb",
   "metadata": {},
   "outputs": [],
   "source": [
    "rgb= []\n",
    "for i in range(10000):\n",
    "    r = int(result[i][0:8], base=2)\n",
    "    g = int(result[i][8:16], base=2)\n",
    "    b = int(result[i][16:24], base=2)\n",
    "    rgb.append([r, g, b])"
   ]
  },
  {
   "cell_type": "code",
   "execution_count": null,
   "id": "ea454f90",
   "metadata": {},
   "outputs": [],
   "source": [
    "from PIL import Image\n",
    "\n",
    "img_w, img_h = 100, 100\n",
    "data = np.zeros((img_h, img_w , 3), dtype=np.uint8)\n",
    "for i in range(100):\n",
    "    for j in range(100):\n",
    "        data[i , j] = rgb[i*100 + j]\n",
    "scale = 3\n",
    "img = Image.fromarray(data, 'RGB')\n",
    "display(img.resize(( int(img.width * scale), int(img.height * scale))))\n",
    "#display(img)"
   ]
  },
  {
   "cell_type": "markdown",
   "id": "034c4da7",
   "metadata": {},
   "source": [
    "<div class=\"alert alert-block alert-info\"> <b>Quiz Time</b> 퀴즈 5번과 6번, 7번, 8번을 풀고 노트북 2번으로 돌아옵시다! </div>\n"
   ]
  }
 ],
 "metadata": {
  "kernelspec": {
   "display_name": "Python 3 (ipykernel)",
   "language": "python",
   "name": "python3"
  },
  "language_info": {
   "codemirror_mode": {
    "name": "ipython",
    "version": 3
   },
   "file_extension": ".py",
   "mimetype": "text/x-python",
   "name": "python",
   "nbconvert_exporter": "python",
   "pygments_lexer": "ipython3",
   "version": "3.9.0"
  }
 },
 "nbformat": 4,
 "nbformat_minor": 5
}
