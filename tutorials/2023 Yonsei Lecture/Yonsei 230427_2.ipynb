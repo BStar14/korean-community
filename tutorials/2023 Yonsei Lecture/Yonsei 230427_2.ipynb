{
 "cells": [
  {
   "cell_type": "code",
   "execution_count": null,
   "id": "e5ed51a6",
   "metadata": {},
   "outputs": [],
   "source": [
    "import numpy as np\n",
    "from numpy import linalg as LA\n",
    "\n",
    "import pandas as pd\n",
    "from math import sqrt, pi\n",
    "\n",
    "from qiskit import *\n",
    "from qiskit.visualization import plot_histogram, plot_distribution, plot_error_map\n",
    "from qiskit.visualization.array import array_to_latex\n",
    "from qiskit.visualization import plot_bloch_multivector, plot_state_qsphere\n",
    "from qiskit.quantum_info import hellinger_fidelity, random_statevector, Statevector\n",
    "from qiskit.quantum_info import Operator\n",
    "\n",
    "\n",
    "from qiskit_ibm_provider import IBMProvider\n",
    "\n",
    "from qiskit_aer import AerSimulator\n",
    "\n",
    "\n",
    "# Plotting tools\n",
    "import matplotlib.pyplot as plt"
   ]
  },
  {
   "cell_type": "code",
   "execution_count": null,
   "id": "553c06a3",
   "metadata": {},
   "outputs": [],
   "source": [
    "#IBMProvider.save_account(\"Your_Token\", overwrite=True)\n",
    "#provider = IBMProvider()\n",
    "\n",
    "#밋업을 위해 추가된 허브와 그룹, 프로젝트를 프로바이더에 설정\n",
    "provider = IBMProvider(instance=\"ibm-q-yonsei/internal/qc-and-simulatio\")"
   ]
  },
  {
   "cell_type": "code",
   "execution_count": null,
   "id": "55514c18",
   "metadata": {},
   "outputs": [],
   "source": [
    "from qiskit_ibm_provider import least_busy\n",
    "\n",
    "real_backend = least_busy(provider.backends())\n",
    "real_backend"
   ]
  },
  {
   "cell_type": "markdown",
   "id": "667b3815",
   "metadata": {},
   "source": [
    "# Pauli Gates\n",
    "\n",
    "## Single Qubit Quantum states <a name=\"single_states\"/>\n",
    "\n",
    "단일 큐비트의 양자 상태는 다음과 같이 쓸수 있음을 앞서 살펴보았습니다.\n",
    "\n",
    "$$\\left|\\psi\\right\\rangle = \\alpha|0\\rangle + \\beta|1\\rangle$$\n",
    "\n",
    "\n",
    "여기에서 $\\alpha$ 와 $\\beta$는 복소수 입니다. 측정에 의해서 큐비트가 $\\left|0\\right\\rangle$ 로 측정될 확률은 $|\\alpha|^2$이고 $\\left|1\\right\\rangle$로 측정될 확률은 $|\\beta|^2$입니다. 양자 상태는 벡터로 다음과 같이도 쓸수 있습니다.\n",
    "\n",
    "$$\n",
    "\\left|\\psi\\right\\rangle =  \n",
    "\\begin{pmatrix}\n",
    "\\alpha \\\\\n",
    "\\beta\n",
    "\\end{pmatrix}.\n",
    "$$\n",
    "\n",
    "측정될 확률의 합이 $|\\alpha|^2+ |\\beta|^2 = 1$ 이고,  전역 위상은 측정에 영향을 미치지 않기 때문에 $\\left|\\psi\\right\\rangle := e^{i\\delta} \\left|\\psi\\right\\rangle$ 큐비트의 양자 상태를 표현하기 위해서는 사실은 두개의 실수만 있어도 됩니다.\n",
    "\n",
    "그 형태는 다음과 같습니다.\n",
    "\n",
    "$$\\left|\\psi\\right\\rangle = \\cos(\\theta/2)\\left|0\\right\\rangle + \\sin(\\theta/2)e^{i\\phi}\\left|1\\right\\rangle$$\n",
    "\n",
    "여기에서 $0\\leq \\phi < 2\\pi$, 이며 $0\\leq \\theta \\leq \\pi$ 입니다.  이로부터, 양자상태 ($\\mathbb{C}^2$) 와 블로흐 구면의 점($\\mathbb{R}^3$)은 1:1로 매칭된다는 것을 알 수 있습니다. 이 방식을 큐비트 상태의 블로흐 구면 표현법이라고 부릅니다.\n",
    "\n",
    "앞으로 우리는 단일 양자 게이트를 살펴보게 될 것입니다. Qiskit의 단일, 및 다중 양자 게이트의 종류와 설명은 Qiskit Tutorial의 [이곳](https://qiskit.org/documentation/tutorials/circuits/3_summary_of_quantum_operations.html)에서 찾아보실 수 있습니다. \n",
    "\n",
    "실습을 시작하기 전 필요한 라이브러리들을 불러들입니다."
   ]
  },
  {
   "cell_type": "code",
   "execution_count": null,
   "id": "d5805757",
   "metadata": {},
   "outputs": [],
   "source": [
    "from qiskit import QuantumCircuit, execute, Aer, IBMQ\n",
    "from qiskit.visualization import *\n",
    "from qiskit.quantum_info import state_fidelity\n",
    "\n",
    "import numpy as np\n",
    "\n",
    "#ignore warnings\n",
    "import warnings\n",
    "warnings.filterwarnings('ignore')\n",
    "\n",
    "# Magic function to render plots\n",
    "%matplotlib inline"
   ]
  },
  {
   "cell_type": "markdown",
   "id": "8f7a662d",
   "metadata": {},
   "source": [
    "## Pauli gates\n",
    "\n",
    "### $X$: bit-flip gate\n",
    "\n",
    "The bit-flip gate $X$ is defined as:\n",
    "\n",
    "$$\n",
    "X   =  \n",
    "\\begin{pmatrix}\n",
    "0 & 1\\\\\n",
    "1 & 0\n",
    "\\end{pmatrix}= u3(\\pi,0,\\pi) = |0\\rangle\\langle 1| + |1\\rangle \\langle 0|\n",
    "$$\n",
    "\n",
    "$$X|0\\rangle = |1\\rangle$$\n",
    "$$X|1\\rangle = |0\\rangle$$\n"
   ]
  },
  {
   "cell_type": "code",
   "execution_count": null,
   "id": "81722df5",
   "metadata": {},
   "outputs": [],
   "source": [
    "x_gate=QuantumCircuit(1) # Create a quantum circuit with 1 qubit\n",
    "Statevector(x_gate).draw('bloch')"
   ]
  },
  {
   "cell_type": "code",
   "execution_count": null,
   "id": "c9f7821f",
   "metadata": {},
   "outputs": [],
   "source": [
    "#your code here\n",
    "x_gate.draw(output='mpl')"
   ]
  },
  {
   "cell_type": "code",
   "execution_count": null,
   "id": "f5ab8632",
   "metadata": {},
   "outputs": [],
   "source": [
    "Statevector(x_gate).draw('bloch')"
   ]
  },
  {
   "cell_type": "code",
   "execution_count": null,
   "id": "280b5d1d",
   "metadata": {},
   "outputs": [],
   "source": [
    "x_gate.measure_all()"
   ]
  },
  {
   "cell_type": "code",
   "execution_count": null,
   "id": "1260b036",
   "metadata": {},
   "outputs": [],
   "source": [
    "backend = AerSimulator()\n",
    "\n",
    "job = backend.run(x_gate, shots=10000) #shot\n",
    "results = job.result()\n",
    "counts = results.get_counts()\n",
    "\n",
    "plot_distribution(counts, figsize=(6, 4))"
   ]
  },
  {
   "cell_type": "code",
   "execution_count": null,
   "id": "26e9a1c9",
   "metadata": {},
   "outputs": [],
   "source": [
    "qc = QuantumCircuit(1)\n",
    "qc.x(0)\n",
    "Statevector(qc).draw('bloch')"
   ]
  },
  {
   "cell_type": "code",
   "execution_count": null,
   "id": "e998e833",
   "metadata": {},
   "outputs": [],
   "source": [
    "qc.barrier()\n",
    "#your code here\n",
    "Statevector(qc).draw('bloch')"
   ]
  },
  {
   "cell_type": "markdown",
   "id": "8da98a20",
   "metadata": {},
   "source": [
    "#### $Y$: bit- and phase-flip gate\n",
    "\n",
    "The $Y$ gate is defined as:\n",
    "\n",
    "$$\n",
    "Y  = \n",
    "\\begin{pmatrix}\n",
    "0 & -i\\\\\n",
    "i & 0\n",
    "\\end{pmatrix}=u3(\\pi,\\pi/2,\\pi/2)\n",
    "$$\n",
    "\n",
    "$$\n",
    "Y  =  -i|0\\rangle\\langle 1| + i|1\\rangle \\langle 0|\n",
    "$$\n",
    "\n",
    "$$Y|0\\rangle = i|1\\rangle$$\n",
    "$$Y|1\\rangle = -i|0\\rangle$$"
   ]
  },
  {
   "cell_type": "code",
   "execution_count": null,
   "id": "d8ef3bc4",
   "metadata": {},
   "outputs": [],
   "source": [
    "y_gate = QuantumCircuit(1)\n",
    "Statevector(y_gate).draw('qsphere')"
   ]
  },
  {
   "cell_type": "code",
   "execution_count": null,
   "id": "70ee9b3f",
   "metadata": {},
   "outputs": [],
   "source": [
    "#your code here\n",
    "\n",
    "Statevector(y_gate).draw('qsphere')"
   ]
  },
  {
   "cell_type": "markdown",
   "id": "1cf2360a",
   "metadata": {},
   "source": [
    "#### $Z$: phase-flip gate\n",
    "\n",
    "The phase-flip gate $Z$ is defined as:\n",
    "\n",
    "$$\n",
    "Z = \n",
    "\\begin{pmatrix}\n",
    "1 & 0\\\\\n",
    "0 & -1\n",
    "\\end{pmatrix}=u1(\\pi)\n",
    "$$\n",
    "\n",
    "$$\n",
    "Z  =  |0\\rangle\\langle 0| + -|1\\rangle \\langle 1|\n",
    "$$\n",
    "\n",
    "$$Z|0\\rangle = |0\\rangle$$\n",
    "$$Z|1\\rangle = -|1\\rangle$$"
   ]
  },
  {
   "cell_type": "code",
   "execution_count": null,
   "id": "bb316e97",
   "metadata": {},
   "outputs": [],
   "source": [
    "z_gate = QuantumCircuit(1)\n",
    "z_gate.x(0)  \n",
    "Statevector(z_gate).draw('qsphere')"
   ]
  },
  {
   "cell_type": "code",
   "execution_count": null,
   "id": "9ac14465",
   "metadata": {},
   "outputs": [],
   "source": [
    "#your code here\n",
    "\n",
    "Statevector(z_gate).draw('qsphere')"
   ]
  },
  {
   "cell_type": "markdown",
   "id": "9fb8b131",
   "metadata": {},
   "source": [
    "위의 그림, 뭔가 이상하지 않으신가요? :) 네 맞아요 버그입니다. https://quantum-computing.ibm.com/ 의 circuit composer를 사용해서 정확한 phase를 살펴봅시다.\n",
    "\n",
    "- [Y Gate 결과](https://quantum-computing.ibm.com/composer/files/new?initial=N4IgdghgtgpiBcICqYAuBLVAbGATABAMboBOhArpiADQgCOEAzlAiAPIAKAogHICKAQQDKAWXwAmAHQAGANwAdMOjCEs5XDHzz6MLOgBGARknLC2hWEV0SMAOb46AbUMBdC4Rv3CjgCxvFAJ4OjtJuNCAajB7oAA4YAPZgrCAAvkA)\n",
    "- [Z Gate 결과](https://quantum-computing.ibm.com/composer/files/new?initial=N4IgdghgtgpiBcICqYAuBLVAbGATABAMboBOhArpiADQgCOEAzlAiAPIAKAogHICKAQQDKAWXwAmAHQAGANwAdMOjCEs5XDHzz6MLOgBGARknLC2hWEV0SMAOb46AbUMBdC4Rv3CjgCxvFAB4OjtL%2BYPoQJCToMCTBoRYAXvFuNCAajB7oAA4YAPZgrCAAvkA)\n",
    "\n",
    "이 버그와 관련하여 repository에 있는 issue를 살펴봅시다.\n",
    "\n",
    "!! Code Contribution Chance !!\n",
    "https://github.com/Qiskit/qiskit-terra/issues/7512\n",
    "\n",
    "Qiskit은 여러분의 Contribution을 기다리고 있습니다! :) 이 이슈들 외에도 여러분이 기여할 수 있는 이슈들을 찾아서 해결해 보세요!\n",
    "\n",
    "<div class=\"alert alert-block alert-info\"> <b>긴급 점검!</b> <br>\n",
    "    다음을 양자회로로 구현해 봅시다! $$ZYX|0\\rangle$$ </div>\n"
   ]
  },
  {
   "cell_type": "code",
   "execution_count": null,
   "id": "7fa87a91",
   "metadata": {},
   "outputs": [],
   "source": [
    "qc = QuantumCircuit(1)\n",
    "qc.x(0)\n",
    "qc.y(0)\n",
    "qc.z(0)\n",
    "qc.draw('mpl')"
   ]
  },
  {
   "cell_type": "markdown",
   "id": "9a9272f7",
   "metadata": {},
   "source": [
    "<div class=\"alert alert-block alert-info\"> <b>Quiz Time</b> 퀴즈 9번, 10번을 풀고 노트북으로 돌아옵시다! </div>\n"
   ]
  },
  {
   "cell_type": "markdown",
   "id": "bb9b8d22",
   "metadata": {},
   "source": [
    "## 2. Digression: The X, Y & Z-Bases\n",
    "\n",
    "이번 챕터에서는 X, Y, Z 게이트의 유니터리 행렬을 얻어보고, 그의 Eigen Vector와 Eigen Value를 계산해 봅시다."
   ]
  },
  {
   "cell_type": "code",
   "execution_count": null,
   "id": "0e41e1cd",
   "metadata": {},
   "outputs": [],
   "source": [
    "#X Gate 회로\n",
    "qc = QuantumCircuit(1)\n",
    "qc.x(0)\n",
    "Ux=Operator(qc).to_matrix()"
   ]
  },
  {
   "cell_type": "code",
   "execution_count": null,
   "id": "1e5562e1",
   "metadata": {},
   "outputs": [],
   "source": [
    "w, v = LA.eig(Ux)\n",
    "display(array_to_latex(w))\n",
    "display(array_to_latex(v))"
   ]
  },
  {
   "cell_type": "code",
   "execution_count": null,
   "id": "6037dfac",
   "metadata": {},
   "outputs": [],
   "source": [
    "#Y Gate 회로\n",
    "qc = QuantumCircuit(1)\n",
    "qc.y(0)\n",
    "Uy=Operator(qc).to_matrix()\n",
    "w, v = LA.eig(Uy)\n",
    "display(array_to_latex(w))\n",
    "display(array_to_latex(v))"
   ]
  },
  {
   "cell_type": "code",
   "execution_count": null,
   "id": "11673507",
   "metadata": {},
   "outputs": [],
   "source": [
    "#R state\n",
    "eigen_y1 = v[0]\n",
    "plot_bloch_multivector(eigen_y1)"
   ]
  },
  {
   "cell_type": "code",
   "execution_count": null,
   "id": "fc97ddcf",
   "metadata": {},
   "outputs": [],
   "source": [
    "#L State\n",
    "eigen_y2 = v[1]\n",
    "plot_bloch_multivector(eigen_y2)"
   ]
  },
  {
   "cell_type": "code",
   "execution_count": null,
   "id": "75afda0c",
   "metadata": {},
   "outputs": [],
   "source": [
    "#Z Gate 회로\n",
    "qc = QuantumCircuit(1)\n",
    "qc.z(0)\n",
    "Uz=Operator(qc).to_matrix()\n",
    "w, v = LA.eig(Uz)\n",
    "display(array_to_latex(w))\n",
    "display(array_to_latex(v))"
   ]
  },
  {
   "cell_type": "markdown",
   "id": "3fb9e178",
   "metadata": {},
   "source": [
    "<div class=\"alert alert-block alert-info\"> <b>Quiz Time</b> 퀴즈 11번, 12번을 풀고 노트북으로 돌아옵시다! </div>\n"
   ]
  },
  {
   "cell_type": "markdown",
   "id": "21414dde",
   "metadata": {},
   "source": [
    "## 3. The Hadamard Gate\n",
    "\n",
    "A Hadamard gate represents a rotation of $\\pi$ about the axis that is in the middle of the X-axis and Z-axis.\n",
    "It maps the basis state $|0\\rangle$ to $\\frac{|0\\rangle + |1\\rangle}{\\sqrt{2}}$, which means that a measurement will have equal probabilities of being `1` or `0`, creating a 'superposition' of states. This state is also written as $|+\\rangle$. What the Hadamard does is to transform between the $|0\\rangle$ $|1\\rangle$ and the $|+\\rangle$ $|-\\rangle$ base. \n",
    "\n",
    "$$\n",
    "H = \n",
    "\\frac{1}{\\sqrt{2}}\n",
    "\\begin{pmatrix}\n",
    "1 & 1\\\\\n",
    "1 & -1\n",
    "\\end{pmatrix}= u2(0,\\pi)\n",
    "$$\n",
    "\n",
    "$$\n",
    "H  = |+\\rangle\\langle 0| + |-\\rangle \\langle 1|\n",
    "$$\n",
    "\n",
    "$$H|0\\rangle = |+\\rangle$$\n",
    "$$H|1\\rangle = |-\\rangle$$"
   ]
  },
  {
   "cell_type": "code",
   "execution_count": null,
   "id": "09cced96",
   "metadata": {},
   "outputs": [],
   "source": [
    "# Let's do an H-gate on a |0> qubit\n",
    "h_gate = QuantumCircuit(1)\n",
    "Statevector(h_gate).draw('bloch')"
   ]
  },
  {
   "cell_type": "code",
   "execution_count": null,
   "id": "934999c1",
   "metadata": {},
   "outputs": [],
   "source": [
    "#your code here\n",
    "\n",
    "Statevector(h_gate).draw('bloch')"
   ]
  },
  {
   "cell_type": "code",
   "execution_count": null,
   "id": "f2373a21",
   "metadata": {},
   "outputs": [],
   "source": [
    "# Let's do an H-gate on a |1> qubit\n",
    "h_gate = QuantumCircuit(1)\n",
    "h_gate.x(0)\n",
    "Statevector(h_gate).draw('bloch')"
   ]
  },
  {
   "cell_type": "code",
   "execution_count": null,
   "id": "8366286c",
   "metadata": {},
   "outputs": [],
   "source": [
    "#your code here\n",
    "\n",
    "Statevector(h_gate).draw('bloch')"
   ]
  },
  {
   "cell_type": "markdown",
   "id": "7e33a539",
   "metadata": {},
   "source": [
    "### Commutation relation of pauli gates\n",
    "\n",
    "파울리 메트리스의 성질로 인해, 파울리 게이트들도 재미있는 결합법을 지니고 있습니다. \n",
    "\n",
    "$$XY = iZ$$\n",
    "$$YZ = iX$$\n",
    "$$ZX = iY$$\n",
    "\n",
    "노트) $ H = \\frac{1}{\\sqrt{2}} (X + Z)$, 이므로\n",
    "$$HZH = \\frac{1}{2}(X + Z)Z(X+Z) = (XZ + ZZ)(X + Z) = \\frac{1}{2}(-iY + I)(X + Z) = \\frac{1}{2}(-iYX + X -iYZ + Z) = \\frac{1}{2}(-Z + X +X + Z) = X $$"
   ]
  },
  {
   "cell_type": "code",
   "execution_count": null,
   "id": "54f888df",
   "metadata": {},
   "outputs": [],
   "source": [
    "#reference\n",
    "qc = QuantumCircuit(1)\n",
    "qc.y(0)\n",
    "array_to_latex(Operator(qc).to_matrix())"
   ]
  },
  {
   "cell_type": "code",
   "execution_count": null,
   "id": "aeec326a",
   "metadata": {},
   "outputs": [],
   "source": [
    "#방법 1 - pauli gate의 성질 이용\n",
    "\n"
   ]
  },
  {
   "cell_type": "code",
   "execution_count": null,
   "id": "25a31930",
   "metadata": {},
   "outputs": [],
   "source": [
    "#방법 2 - transpiler 이용\n",
    "\n"
   ]
  },
  {
   "cell_type": "code",
   "execution_count": null,
   "id": "cfc99f54",
   "metadata": {},
   "outputs": [],
   "source": [
    "array_to_latex(Operator(qc).to_matrix())"
   ]
  },
  {
   "cell_type": "code",
   "execution_count": null,
   "id": "d162a25d",
   "metadata": {},
   "outputs": [],
   "source": [
    "#위의 회로를 직접 수정\n"
   ]
  },
  {
   "cell_type": "markdown",
   "id": "d6a60f37",
   "metadata": {},
   "source": [
    "## 4. Digression: Measuring in Different Bases\n",
    "\n",
    "양자 회로의 측정에 임의의 연산 U를 적용한 후 Z-basis로 측정할 때, 이 연산이 어떤 영향을 미치는지 살펴 봅시다.\n",
    "\n",
    "이 경우 측정의 기대값은 \n",
    "$$\\langle \\psi U^{\\dagger}| Z | U \\psi \\rangle = \\langle \\psi | U^{\\dagger}ZU | \\psi \\rangle $$\n",
    "이 됩니다. 이때\n",
    "$$ \\langle \\psi | U^{\\dagger}ZU | \\psi \\rangle = U^{\\dagger}|0\\rangle\\langle 0|U + U^{\\dagger}|1\\rangle\\langle 1|U$$\n",
    "이 때, $U^{\\dagger}|0\\rangle = |\\phi_0\\rangle$로 $U^{\\dagger}|1\\rangle = |\\phi_1\\rangle$이라 정의하면, $|\\phi_0\\rangle$ 과 $|\\phi_1\\rangle$은 서로 직교하는 새로운 계산 basis가 되고 \n",
    "$$|\\phi_0\\rangle\\langle\\phi_0 | + |\\phi_1\\rangle\\langle \\phi_1|$$\n",
    "이 되어, 새로운 베이시스로 측정되는 효과를 갖게 됩니다.\n",
    "\n",
    "이 방식을 X-basis로 계산하기 위해 H 게이트를 측정 전에 적용 하는 원리로 살펴 보면,\n",
    "$H^{\\dagger} = H$이므로, 양자 회로의 측정 전 H 게이트를 적용하는 것은 곧 $H|0\\rangle = |+\\rangle$과 $H|1\\rangle = |-\\rangle$로 회로를 측정하는 것과 동일함을 의미합니다.\n",
    "\n",
    "Y-게이트의 basis인 $|R\\rangle$과 $|L\\rangle$을 만들기 위해서 다음을 확인해 봅시다."
   ]
  },
  {
   "cell_type": "code",
   "execution_count": null,
   "id": "5618f767",
   "metadata": {},
   "outputs": [],
   "source": [
    "qc = QuantumCircuit(1)\n",
    "#Qubit |0> state\n",
    "qc.h(0)\n",
    "qc.s(0)\n",
    "Statevector(qc).draw('bloch')"
   ]
  },
  {
   "cell_type": "code",
   "execution_count": null,
   "id": "498395f1",
   "metadata": {},
   "outputs": [],
   "source": [
    "qc = QuantumCircuit(1)\n",
    "qc.x(0)\n",
    "#Qubit |1> state\n",
    "qc.h(0)\n",
    "qc.s(0)\n",
    "Statevector(qc).draw('bloch')"
   ]
  },
  {
   "cell_type": "markdown",
   "id": "548d32a2",
   "metadata": {},
   "source": [
    "즉, $U^{\\dagger} = SH$ 이므로, 적용해야 하는 유니터리는, $HS^{\\dagger}$가 됩니다. 양자 회로로 구현하면 순서에 주의하여 다음과 같습니다."
   ]
  },
  {
   "cell_type": "code",
   "execution_count": null,
   "id": "28805a16",
   "metadata": {},
   "outputs": [],
   "source": [
    "#your code here\n"
   ]
  },
  {
   "cell_type": "markdown",
   "id": "8d806cf7",
   "metadata": {},
   "source": [
    "작성한 회로가 잘 동작하는지 확인해 봅시다. 먼저 $|R\\rangle$ 상태로 큐비트를 초기화 한 후, y축으로 측정을 하고 결과를 확인합니다."
   ]
  },
  {
   "cell_type": "code",
   "execution_count": null,
   "id": "4f1a0ebe",
   "metadata": {},
   "outputs": [],
   "source": [
    "initial_state = [-sqrt(1/2)*1j ,sqrt(1/2)]\n",
    "qc = QuantumCircuit(1)\n",
    "qc.initialize(initial_state, 0)\n",
    "qc.draw('mpl') "
   ]
  },
  {
   "cell_type": "code",
   "execution_count": null,
   "id": "bb61113b",
   "metadata": {},
   "outputs": [],
   "source": [
    "#your code here\n",
    "\n",
    "qc.measure_all()\n",
    "qc.draw('mpl') "
   ]
  },
  {
   "cell_type": "code",
   "execution_count": null,
   "id": "b675a574",
   "metadata": {},
   "outputs": [],
   "source": [
    "backend = StatevectorSimulator()\n",
    "counts = backend.run(qc).result().get_counts()\n",
    "plot_histogram(counts)"
   ]
  },
  {
   "cell_type": "markdown",
   "id": "94c51fa2",
   "metadata": {},
   "source": [
    "$|0\\rangle$과 대응되는 $|R\\rangle$상태로 100%의 확률로 측정이 됩니다. 다음으로 회로를 $|L\\rangle$ 상태로 초기화 한 후 동일하게 측정해 보겠습니다."
   ]
  },
  {
   "cell_type": "code",
   "execution_count": null,
   "id": "7f6ce40a",
   "metadata": {},
   "outputs": [],
   "source": [
    "initial_state = [sqrt(1/2), -sqrt(1/2)*1j ]\n",
    "qc = QuantumCircuit(1)\n",
    "qc.initialize(initial_state, 0)\n",
    "\n",
    "qc.draw('mpl') "
   ]
  },
  {
   "cell_type": "code",
   "execution_count": null,
   "id": "9b2c2269",
   "metadata": {},
   "outputs": [],
   "source": [
    "#your code here\n",
    "\n",
    "qc.measure_all()\n",
    "counts = backend.run(qc).result().get_counts()\n",
    "plot_histogram(counts)"
   ]
  },
  {
   "cell_type": "markdown",
   "id": "5a3a02d0",
   "metadata": {},
   "source": [
    "## other single qubit gates\n",
    "\n",
    "### P Gate\n",
    "Parameterized Phase Gate:\n",
    "\n",
    "$$\n",
    "P(\\phi) = \n",
    "\\begin{pmatrix}\n",
    "1 & 0\\\\\n",
    "0 & e^{i\\phi}\n",
    "\\end{pmatrix}\n",
    "$$\n",
    "\n",
    "$$\n",
    "P(\\phi)  =  |0\\rangle\\langle 0| + e^{i\\phi}|1\\rangle \\langle 1|\n",
    "$$\n",
    "\n",
    "$$P(\\phi)|0\\rangle = |0\\rangle$$\n",
    "$$P(\\phi)|1\\rangle = e^{i\\phi}|1\\rangle$$\n",
    "\n",
    "P Gate를 중첩 상태에 반복적으로 적용하면서 statevector가 bloch구면에서 회전 하는 것을 살펴봅시다."
   ]
  },
  {
   "cell_type": "code",
   "execution_count": null,
   "id": "cde28065",
   "metadata": {},
   "outputs": [],
   "source": [
    "qc = QuantumCircuit(1)\n",
    "qc.h(0)"
   ]
  },
  {
   "cell_type": "code",
   "execution_count": null,
   "id": "456b89cd",
   "metadata": {},
   "outputs": [],
   "source": [
    "#여러번 실행해 보세요\n",
    "qc.p(pi/8, 0)\n",
    "Statevector(qc).draw('bloch')"
   ]
  },
  {
   "cell_type": "markdown",
   "id": "6061ac19",
   "metadata": {},
   "source": [
    "### I Gate\n",
    "Idendity Gate:\n",
    "\n",
    "$$\n",
    "I = \n",
    "\\begin{pmatrix}\n",
    "1 & 0\\\\\n",
    "0 & 1\n",
    "\\end{pmatrix}\n",
    "$$\n",
    "\n",
    "$$\n",
    "I  =  |0\\rangle\\langle 0| + |1\\rangle \\langle 1|\n",
    "$$\n",
    "\n",
    "$$I|0\\rangle = |0\\rangle$$\n",
    "$$I|1\\rangle = |1\\rangle$$\n",
    "\n",
    "I gate의 eigenvector를 다음과 같이 numpy를 사용해 구해봅시다. "
   ]
  },
  {
   "cell_type": "code",
   "execution_count": null,
   "id": "f2908c54",
   "metadata": {},
   "outputs": [],
   "source": [
    "qc = QuantumCircuit(1)\n",
    "qc.i(0)\n",
    "Uz=Operator(qc).to_matrix()\n",
    "w, v = LA.eig(Uz)\n",
    "display(array_to_latex(w))\n",
    "display(array_to_latex(v))"
   ]
  },
  {
   "cell_type": "markdown",
   "id": "8f61b3c1",
   "metadata": {},
   "source": [
    "### S Gate\n",
    "Phase Gate with $\\phi = \\pi/2$:\n",
    "\n",
    "$$\n",
    "S = \n",
    "\\begin{pmatrix}\n",
    "1 & 0\\\\\n",
    "0 & e^{i\\frac{\\pi}{2}}\n",
    "\\end{pmatrix}\n",
    "$$\n",
    "\n",
    "$$\n",
    "S  =  |0\\rangle\\langle 0| + e^{i\\frac{\\pi}{2}}|1\\rangle \\langle 1|\n",
    "$$\n",
    "\n",
    "$$S|0\\rangle = |0\\rangle$$\n",
    "$$S|1\\rangle = e^{i\\frac{\\pi}{2}}|1\\rangle$$\n",
    "\n",
    "S Gate는 $\\phi = \\frac{\\pi}{2}$로 값이 고정된 P 게이트와 같습니다. 따라서 S게이트를 두번 연산한 것은 Z 게이트와 동일하고, Z 게이트는 $\\phi = \\pi$인 P 게이트라 보아도 무방합니다.\n",
    "\n",
    "P 게이트와 마찬가지로 블로흐 구면을 그려서 동작을 확인해봅시다."
   ]
  },
  {
   "cell_type": "code",
   "execution_count": null,
   "id": "6e33e84f",
   "metadata": {},
   "outputs": [],
   "source": [
    "qc = QuantumCircuit(1)\n",
    "qc.h(0)"
   ]
  },
  {
   "cell_type": "code",
   "execution_count": null,
   "id": "d94395cf",
   "metadata": {},
   "outputs": [],
   "source": [
    "#여러번 실행해 보세요\n",
    "qc.s(0)\n",
    "Statevector(qc).draw('bloch')"
   ]
  },
  {
   "cell_type": "markdown",
   "id": "92da877d",
   "metadata": {},
   "source": [
    "### T Gate\n",
    "Phase Gate with $\\phi = \\pi/4$:\n",
    "\n",
    "$$\n",
    "T = \n",
    "\\begin{pmatrix}\n",
    "1 & 0\\\\\n",
    "0 & e^{i\\frac{\\pi}{4}}\n",
    "\\end{pmatrix}\n",
    "$$\n",
    "\n",
    "$$\n",
    "T  =  |0\\rangle\\langle 0| + e^{i\\frac{\\pi}{4}}|1\\rangle \\langle 1|\n",
    "$$\n",
    "\n",
    "$$T|0\\rangle = |0\\rangle$$\n",
    "$$T|1\\rangle = e^{i\\frac{\\pi}{4}}|1\\rangle$$\n",
    "\n",
    "S Gate와 마찬가지로 T Gate는 $\\phi = \\frac{\\pi}{4}$로 값이 고정된 P 게이트와 같습니다. 실습은 생략하도록 하겠습니다."
   ]
  },
  {
   "cell_type": "markdown",
   "id": "bccff260",
   "metadata": {},
   "source": [
    "### The U-gate\n",
    "General single-qubit quantum gates\n",
    "\n",
    "$$\n",
    "U(\\theta, \\phi, \\lambda) = \n",
    "\\begin{pmatrix}\n",
    "cos(\\frac{\\theta}{2}) & -e^{i\\lambda}sin(\\frac{\\theta}{2})\\\\\n",
    "e^{i\\phi}sin(\\frac{\\theta}{2}) & e^{i(\\phi + \\lambda)}cos(\\frac{\\theta}{2})\n",
    "\\end{pmatrix}\n",
    "$$\n",
    "\n",
    "다음은 몇가지 잘 알려진 게이트의 U Gate 형식 입니다.\n",
    "$$H = U(\\frac{\\pi}{2}, 0 , \\pi)$$\n",
    "$$P(\\lambda) = U(0, 0, \\lambda)$$\n",
    "\n",
    "양자 회로를 작성할때, U 게이트는 많이 사용하지는 않습니다. 알고리즘 적인 원리를 파악하기 위해 기본 게이트들을 사용하기 때문이라고 개인적으로 생각합니다. "
   ]
  },
  {
   "cell_type": "markdown",
   "id": "ff603310",
   "metadata": {},
   "source": [
    "### Rotational Gate\n",
    "\n",
    "The standard rotation gates are those that define rotations around the Paulis $P=\\{X,Y,Z\\}$. They are defined as \n",
    "\n",
    "$$ R_P(\\theta) = \\exp(-i \\theta P/2) = \\cos(\\theta/2)I -i \\sin(\\theta/2)P$$\n",
    "\n",
    "#### Rotation around X-axis\n",
    "\n",
    "$$\n",
    "R_x(\\theta) = \n",
    "\\begin{pmatrix}\n",
    "\\cos(\\theta/2) & -i\\sin(\\theta/2)\\\\\n",
    "-i\\sin(\\theta/2) & \\cos(\\theta/2)\n",
    "\\end{pmatrix} = U(\\theta, -\\pi/2,\\pi/2)\n",
    "$$\n",
    "\n",
    "#### Rotation around Y-axis\n",
    "\n",
    "$$\n",
    "R_y(\\theta) =\n",
    "\\begin{pmatrix}\n",
    "\\cos(\\theta/2) & - \\sin(\\theta/2)\\\\\n",
    "\\sin(\\theta/2) & \\cos(\\theta/2).\n",
    "\\end{pmatrix} =U(\\theta,0,0)\n",
    "$$\n",
    "\n",
    "#### Rotation around Z-axis\n",
    "\n",
    "$$\n",
    "R_z(\\phi) = \n",
    "\\begin{pmatrix}\n",
    "e^{-i \\phi/2} & 0 \\\\\n",
    "0 & e^{i \\phi/2}\n",
    "\\end{pmatrix}\n",
    "$$\n",
    "\n",
    "여기에서 주의해야 할 것은, $R_z$ 게이트를 $\\pi$만큼 회전한 것과 Z 게이트를 적용하는 결과에 차이가 있다는 것입니다. 비교를 위해 랜덤 Statevector를 생성하고 각각 Rz게이트를 $\\pi$만큼, 그리고 Z 게이트를 적용한 후 QSphere 결과를 비교해 보겠습니다."
   ]
  },
  {
   "cell_type": "code",
   "execution_count": null,
   "id": "9fe2694b",
   "metadata": {},
   "outputs": [],
   "source": [
    "initial_state = random_statevector(2) \n",
    "\n",
    "qc = QuantumCircuit(1)\n",
    "qc.initialize(initial_state, 0)\n",
    "\n",
    "Statevector(qc).draw('bloch')"
   ]
  },
  {
   "cell_type": "code",
   "execution_count": null,
   "id": "0ca24236",
   "metadata": {},
   "outputs": [],
   "source": [
    "qc.rz(pi,0)\n",
    "Statevector(qc).draw('qsphere')"
   ]
  },
  {
   "cell_type": "code",
   "execution_count": null,
   "id": "054e6eac",
   "metadata": {},
   "outputs": [],
   "source": [
    "qc = QuantumCircuit(1)\n",
    "qc.initialize(initial_state, 0)\n",
    "qc.z(0)\n",
    "Statevector(qc).draw('qsphere')"
   ]
  },
  {
   "cell_type": "markdown",
   "id": "a7c2b6fa",
   "metadata": {},
   "source": [
    "일반적으로 양자 백엔드들은 회로를 실제로 실행하기 위해 몇가지 기본 게이트들을 가지고 있는데, 이런 일반 게이트로 회로를 작성 한 후에는 반드시, Transpile이라는 과정을 거쳐서 회로를 백엔드에 실행할 수 있도록 변환해 주어야 합니다. \n",
    "\n",
    "다음으로 넘어가기 전, 양자 백엔드의 기본 게이트를 확인하는 방법과, 그 기본 게이트로 회로가 transpile되는 과정을 간단하게 살펴보도록 하겠습니다."
   ]
  },
  {
   "cell_type": "code",
   "execution_count": null,
   "id": "460c6c7f",
   "metadata": {},
   "outputs": [],
   "source": [
    "real_backend"
   ]
  },
  {
   "cell_type": "code",
   "execution_count": null,
   "id": "8226246d",
   "metadata": {},
   "outputs": [],
   "source": [
    "conf = real_backend.configuration()"
   ]
  },
  {
   "cell_type": "code",
   "execution_count": null,
   "id": "7f50293e",
   "metadata": {},
   "outputs": [],
   "source": [
    "print('backend:{}'.format(backend.name))\n",
    "print('num_qubit:{}, QV:{}, CLOP:{}\\n'.format(conf.num_qubits, conf.quantum_volume, conf.clops))\n",
    "print('max_num_circuits:{},'.format(conf.max_experiments), \n",
    "      'max_shots:{}\\n'.format(conf.max_shots)) #default num_shots = 4000\n",
    "print('basis gates:{}'.format(conf.basis_gates),'\\n')\n",
    "print('coupling map:{}'.format(conf.coupling_map))"
   ]
  },
  {
   "cell_type": "code",
   "execution_count": null,
   "id": "b8cd5411",
   "metadata": {},
   "outputs": [],
   "source": [
    "plot_error_map(real_backend)"
   ]
  },
  {
   "cell_type": "code",
   "execution_count": null,
   "id": "9a082922",
   "metadata": {},
   "outputs": [],
   "source": [
    "# make a random general gate\n",
    "rand = np.random.uniform(0,2*pi,3)\n",
    "\n",
    "qc = QuantumCircuit(1)\n",
    "qc.u(rand[0], rand[1], rand[2], 0)\n",
    "qc.draw('mpl')"
   ]
  },
  {
   "cell_type": "code",
   "execution_count": null,
   "id": "d94f209b",
   "metadata": {},
   "outputs": [],
   "source": [
    "tr_qc = transpile(qc, real_backend)\n",
    "display(tr_qc.draw('mpl'))\n",
    "display(tr_qc.draw('mpl', idle_wires=False))"
   ]
  }
 ],
 "metadata": {
  "kernelspec": {
   "display_name": "Python 3 (ipykernel)",
   "language": "python",
   "name": "python3"
  },
  "language_info": {
   "codemirror_mode": {
    "name": "ipython",
    "version": 3
   },
   "file_extension": ".py",
   "mimetype": "text/x-python",
   "name": "python",
   "nbconvert_exporter": "python",
   "pygments_lexer": "ipython3",
   "version": "3.9.0"
  }
 },
 "nbformat": 4,
 "nbformat_minor": 5
}
