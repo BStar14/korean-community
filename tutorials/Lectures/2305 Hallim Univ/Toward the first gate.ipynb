{
 "cells": [
  {
   "cell_type": "markdown",
   "id": "d086ec27",
   "metadata": {},
   "source": [
    "# Qiskit 설치 및 수업 준비\n",
    "\n",
    "## 필수 패키지 설치\n",
    "\n",
    "최신 버젼의 Qiskit을 설치하는 것! 헷갈리신다면 다음의 순서를 따라해보세요 \n",
    "\n",
    "1. [아나콘다 설치](https://www.anaconda.com/)\n",
    "\n",
    "    1-1. 만약 오래된 아나콘다가 설치되어 있다면 터미널을 열어 다음의 명령어를 실행해 보세요\n",
    "\n",
    "    `conda update -n base conda`\n",
    "    \n",
    "2. 환경 만들기\n",
    "\n",
    "`conda create -n qiskit python=3.10`\n",
    "\n",
    "3. 쥬피터 노트북 혹은 쥬피터 랩 설치\n",
    "\n",
    "`conda install jupyter notebook` 혹은 `conda install jupyterlab`\n",
    "\n",
    "4. qiskit_ibm_provider 설치\n",
    "\n",
    "`pip install qiskit qiskit_ibm_provider`\n",
    "\n",
    "5. qiskit-ibm-runtime 설치\n",
    "\n",
    "`pip install qiskit-ibm-runtime`\n",
    "\n",
    "6.  Qiskit 설치 (머신러닝, 파이낸스 등 모든 라이브러리 한번에 설치)\n",
    "\n",
    "`pip install qiskit[all]`\n",
    "\n",
    "## 패키지 설치 확인\n",
    "설치가 잘 되었는지 다음의 명령어를 실행해서 확인해 봅시다."
   ]
  },
  {
   "cell_type": "code",
   "execution_count": null,
   "id": "7d4cd593",
   "metadata": {},
   "outputs": [],
   "source": [
    "import qiskit.tools.jupyter\n",
    "%qiskit_version_table"
   ]
  },
  {
   "cell_type": "code",
   "execution_count": null,
   "id": "ce951d96",
   "metadata": {},
   "outputs": [],
   "source": [
    "# 필수 라이브러리 불러오기 \n",
    "\n",
    "import numpy as np\n",
    "from math import sqrt, pi\n",
    "\n",
    "from qiskit import *\n",
    "from qiskit.visualization import plot_histogram, plot_distribution, plot_error_map\n",
    "from qiskit.visualization.array import array_to_latex\n",
    "from qiskit.quantum_info import Operator, Statevector, random_statevector\n",
    "\n",
    "from qiskit_ibm_provider import IBMProvider\n",
    "\n",
    "from qiskit_aer import AerSimulator, StatevectorSimulator\n",
    "\n",
    "import matplotlib.pyplot as plt"
   ]
  },
  {
   "cell_type": "markdown",
   "id": "3bd6f930",
   "metadata": {},
   "source": [
    "## 실습을 위한 계정 설정 및 백엔드 설정\n",
    "\n",
    "실습을 위한 계정 설정을 해봅시다. 토큰은 https://quantum-computing.ibm.com/ 에서 복사해 옵니다.\n",
    "\n",
    "<img src=\"img/token.png\" alt=\"Alternative text\" width=800/>"
   ]
  },
  {
   "cell_type": "code",
   "execution_count": null,
   "id": "f1b2476e",
   "metadata": {},
   "outputs": [],
   "source": [
    "#IBMProvider.save_account(\"Your_Token\", overwrite=True)\n",
    "#provider = IBMProvider()\n",
    "\n",
    "#수업을 위해 추가된 허브와 그룹, 프로젝트를 프로바이더에 설정\n",
    "provider = IBMProvider(instance=\"ibm-q-education/ibm-quantum-1/hallimu\")"
   ]
  },
  {
   "cell_type": "code",
   "execution_count": null,
   "id": "99a3b4ff",
   "metadata": {},
   "outputs": [],
   "source": [
    "provider.backends() #5 27Q Backends"
   ]
  },
  {
   "cell_type": "markdown",
   "id": "8c55eabc",
   "metadata": {},
   "source": [
    "수업을 위해 제공되는 백엔드들 중 가장 적은 Queue를 지닌 백엔드를 찾아 실습을 위한 백엔드로 설정합니다. "
   ]
  },
  {
   "cell_type": "code",
   "execution_count": null,
   "id": "09f38008",
   "metadata": {},
   "outputs": [],
   "source": [
    "from qiskit_ibm_provider import least_busy\n",
    "\n",
    "backend = least_busy(provider.backends())\n",
    "backend"
   ]
  },
  {
   "cell_type": "markdown",
   "id": "f2f0a7f3",
   "metadata": {},
   "source": [
    "## 박스안에 들어 있던 것들\n",
    "\n",
    "여러분의 문 앞에 놓여있던 박스에는 동시에 색이 변하는 두 개의 구슬과 오선지 모양의 무언가와 거기에 끼울 수 있는 여러장의 카드가 있었습니다. 이중 동시에 색이 변하는 두개의 구슬은 오선지에도 끼울 수 있는 것으로 보이네요! \n",
    "\n",
    "이 아이템들의 의미와 사용법을 알아 봅시다.\n",
    "\n",
    "1. 동시에 색이 변하는 구슬\n",
    "\n",
    "이 두 구슬은 서로 얽혀있는 양자비트입니다. 항상 같은 색으로 변하는 것으로 보아 `늘 같은 상태를 유지하도록` 얽혀있군요! 혹시 모르니 하나는 함께 들어있던 이미 회로가 그려져 있는 오선지에 끼워서 식탁위에 올려두고 나머지 하나만 가방에 넣어 둡니다.\n",
    "\n",
    "2. 오선지와 여러장의 카드\n",
    "\n",
    "다음의 링크를 클릭해 봅시다. [링크](https://quantum-computing.ibm.com/composer/files/new?initial=N4IgdghgtgpiBcIASEA2qCWUAEBVMGAbtgLTYDKGYA5qjNgIoCuARhgC7YDiE7cANCACOEAM5QEIAPIAFAKIA5BgEFyAWWwAmAHQAGANwAdAmADGqJgBN6h4TEwsAjNqqnbRsMaEAnGNWxCANqOALoepr7%2BpoEAzGHGAB4BgbphIILWohEYAA7sGAD2YJIgAL5AA) \n",
    "\n",
    "### Bit and Qubit\n",
    "\n",
    "여러분의 휴대폰, 컴퓨터 등과 같은 디지털 기기들은 모두 0과 1로 데이터를 구축하고 있습니다. 우리가 컴퓨터화면을 통해 보는 이미지나 유튜브를 통해 듣는 음악, 키보드의 입력등은 모두 컴퓨터의 중앙처리장치에서 0과 1의 무수한 조합으로 구성되며 0과 1에 대한 논리 연산을 통해 처리됩니다. 아래의 셀에 여러분의 한글 이름을 입력하고 Shift+Enter를 눌러서 실행시켜 보세요. 여러분의 이름은 저렇게 많은 0과 1로 표현되고 있습니다."
   ]
  },
  {
   "cell_type": "code",
   "execution_count": null,
   "id": "d0354636",
   "metadata": {},
   "outputs": [],
   "source": [
    "st = \"여러분의 이름을 넣어 보세요\"\n",
    "' '.join(format(x, 'b') for x in bytearray(st, 'utf-8'))\n"
   ]
  },
  {
   "cell_type": "markdown",
   "id": "6e4a756d",
   "metadata": {},
   "source": [
    "하나의 비트는 한번에 0 또는 1의 값을 가질 수 있습니다. 마치 스위치를 켜고 끄는 것과 같습니다. \n",
    "\n",
    "이에 비해 양자컴퓨터는 큐비트라고 불리는, 양자 역학적인 성지를 지니는 연산 단위를 계산에 사용합니다. 큐비트가 비트와 구별되는 가장 큰 특성은 0과 1을 동시에 가질 수 있다는 점 입니다. 큐비트도 일반 비트처럼 0과 1상태를 지닙니다. 큐비트의 상태는 복소수 벡터로 주로 표현되기 때문에 $|0\\rangle$과 $|1\\rangle$로 0과 1상태를 표현하며, 큐비트가 가질 수 있는 무한히 가능한 상태들 중 이 두 상태는 계산의 기본이 되는 `계산 기저`라고 부르고, 양자 회로를 구성하여 측정할 경우 큐비트의 상태는 이 둘 중의 하나로만 측정될 수 있습니다.\n",
    "\n",
    "큐비트는 0과 1의 상태를 동시에 가질 수 있는 크기가 1인 복소수 벡터이기 때문에, 다음과 같이 일반적으로 표현합니다. \n",
    "\n",
    "$$\\left|\\psi\\right\\rangle = \\alpha\\left|0\\right\\rangle + \\beta \\left|1\\right\\rangle$$\n",
    "\n",
    "이때 $\\psi$는 큐비트의 임의의 양자상태를 표현하는 기호로 사용되고 있으며 이 임의의 상태가 갖는 $|0\\rangle$ 상태의 계수를 $\\alpha$,  $|1\\rangle$ 상태의 계수를 $\\beta$라 정의하며 이 두 계수는 허수부를 갖는 복소수 입니다. 큐비트를 측정하면 0 또는 1의 상태로 측정되며 각각 측정될 확률($|\\alpha|^2$과 $|\\beta|^2$)을 더하면 1이 되어야 하는 조건을 지니고 있습니다. 이 조건은 다음과 같이 식으로 표현할 수있습니다. \n",
    "\n",
    "$$|\\alpha|^2+ |\\beta|^2 = 1$$ \n",
    "\n",
    "큐비트의 계산 기저 역시 벡터형태로 존재하기 때문에, 다음과 같이 행렬로 정의 됩니다.\n",
    "\n",
    "$$\n",
    "|0\\rangle =  \n",
    "\\begin{pmatrix}\n",
    "1 \\\\\n",
    "0\n",
    "\\end{pmatrix} , \n",
    "|1\\rangle =  \n",
    "\\begin{pmatrix}\n",
    "0 \\\\\n",
    "1\n",
    "\\end{pmatrix}\n",
    "$$\n",
    "\n",
    "따라서 $\\psi$는 다음과 같이 행렬로 표현할 수 있습니다.\n",
    "\n",
    "$$\n",
    "\\left|\\psi\\right\\rangle =  \n",
    "\\begin{pmatrix}\n",
    "\\alpha \\\\\n",
    "\\beta\n",
    "\\end{pmatrix}\n",
    "$$\n",
    "\n",
    "위와 같이 큐비트의 상태를 두개의 복소수로 표현하게 되면, (a + bi), (c + di)와 같이 총 네개의 실수가 필요하게 됩니다. 하지만 두 계수의 절대값의 제곱의 합이 1이 된다는 조건을 활용하여 삼각함수를 적용하면, 큐비트의 상태는 다음과 같이 두 개의 실수 ($\\theta$, $\\phi$)만으로 정의할 수 있게 됩니다.\n",
    "\n",
    "$$\\left|\\psi\\right\\rangle = \\cos(\\theta/2)\\left|0\\right\\rangle + \\sin(\\theta/2)e^{i\\phi}\\left|1\\right\\rangle$$\n",
    "\n",
    "그리고 이렇게 정의된 큐비트의 상태는 반지름이 1인 원위의 점으로 표현할 수 있어지며, 이것이 큐비트의 상태를 표현하기 위해 자주 사용되는 블로흐 구면입니다.\n",
    "\n",
    "<img src=\"https://user-images.githubusercontent.com/62553200/125445676-0d502818-1341-482c-9291-a38d652469be.png\" alt=\"Alternative text\" width=300/>\n"
   ]
  },
  {
   "cell_type": "markdown",
   "id": "79532263",
   "metadata": {},
   "source": [
    "지금부터, 다음 실습에 필요한 단일 / 다중 양자게이트들의 기능을 Qiskit을 사용해 구현해 보고 그 동작을 블로흐 구면을 사용해 확인해 보겠습니다. 먼저 단일 큐비트 게이트부터 시작해 봅시다.\n",
    "\n",
    "### Single Qubit Gate\n",
    "\n",
    "#### X Gate\n",
    "\n",
    "X게이트는 큐비트의 상태를 반전시킵니다. 즉 $X|0\\rangle = |1\\rangle$, $X|1\\rangle = |0\\rangle$을 만족하기 때문에 일반적으로 bit-flip 게이트로 불립니다.\n",
    "\n",
    "$$\n",
    "X = \n",
    "\\begin{pmatrix}\n",
    "0 & 1\\\\\n",
    "1 & 0\n",
    "\\end{pmatrix}\n",
    "$$"
   ]
  },
  {
   "cell_type": "code",
   "execution_count": null,
   "id": "aaed8e35",
   "metadata": {},
   "outputs": [],
   "source": [
    "x_gate = QuantumCircuit(1)\n",
    "Statevector(x_gate).draw('bloch')"
   ]
  },
  {
   "cell_type": "code",
   "execution_count": null,
   "id": "3664fc16",
   "metadata": {},
   "outputs": [],
   "source": [
    "x_gate.x(0)\n",
    "Statevector(x_gate).draw('bloch')"
   ]
  },
  {
   "cell_type": "code",
   "execution_count": null,
   "id": "d1e98cdd",
   "metadata": {},
   "outputs": [],
   "source": [
    "x_gate.x(0)\n",
    "Statevector(x_gate).draw('bloch')"
   ]
  },
  {
   "cell_type": "markdown",
   "id": "9021bce1",
   "metadata": {},
   "source": [
    "#### Hadamard Gate\n",
    "\n",
    "하다마드 게이트는 x축과 z축의 중간 지점을 기준으로 $\\pi$만큼 큐비트의 상태를 회전하는 것과 같습니다. 하다마드 게이트는 $|0\\rangle$ 상태를 $\\frac{|0\\rangle + |1\\rangle}{\\sqrt{2}}$로, $|1\\rangle$ 상태를 $\\frac{|0\\rangle - |1\\rangle}{\\sqrt{2}}$로 변환하며 그 반대도 성립하기 때문에 일반적으로 뒤의 상태를 각각 $|+\\rangle$와 $|-\\rangle$ 상태로 부르기 때문에, $|0\\rangle$과 $|1\\rangle, $|+\\rangle$와  $|-\\rangle$ 사이의 변환이라고 표현 하기도 합니다. \n",
    "\n",
    "$$\n",
    "H = \n",
    "\\frac{1}{\\sqrt{2}}\n",
    "\\begin{pmatrix}\n",
    "1 & 1\\\\\n",
    "1 & -1\n",
    "\\end{pmatrix})\n",
    "$$"
   ]
  },
  {
   "cell_type": "code",
   "execution_count": null,
   "id": "ca0386d7",
   "metadata": {},
   "outputs": [],
   "source": [
    "h_gate = QuantumCircuit(1)\n",
    "Statevector(h_gate).draw('bloch')"
   ]
  },
  {
   "cell_type": "code",
   "execution_count": null,
   "id": "c39ae1ac",
   "metadata": {},
   "outputs": [],
   "source": [
    "h_gate.h(0)\n",
    "Statevector(h_gate).draw('bloch')"
   ]
  },
  {
   "cell_type": "code",
   "execution_count": null,
   "id": "d4155c83",
   "metadata": {},
   "outputs": [],
   "source": [
    "h_gate.h(0)\n",
    "Statevector(h_gate).draw('bloch')"
   ]
  },
  {
   "cell_type": "code",
   "execution_count": null,
   "id": "b7aa42af",
   "metadata": {},
   "outputs": [],
   "source": [
    "h_gate.x(0)\n",
    "Statevector(h_gate).draw('bloch')"
   ]
  },
  {
   "cell_type": "code",
   "execution_count": null,
   "id": "8e2de93c",
   "metadata": {},
   "outputs": [],
   "source": [
    "h_gate.h(0)\n",
    "Statevector(h_gate).draw('bloch')"
   ]
  },
  {
   "cell_type": "code",
   "execution_count": null,
   "id": "39793f83",
   "metadata": {},
   "outputs": [],
   "source": [
    "h_gate.h(0)\n",
    "Statevector(h_gate).draw('bloch')"
   ]
  },
  {
   "cell_type": "markdown",
   "id": "6ccc74ad",
   "metadata": {},
   "source": [
    "### Multi Qubit Gate\n",
    "\n",
    "다중 큐비트 게이트를 알아보기 전, 다중 큐비트 상태의 표현법 (tensor product)에 대해 알아봅시다. 두개의 큐비트로 이루어진 시스템을 생긱하 봅시다. \n",
    "$A$와 $B$가 각각의 큐비트에 작용한다고 할때 두 연산자의 텐서곱 $A \\otimes B$은 다음과 같습니다.\n",
    "\n",
    "$$\\begin{equation}\n",
    "\tA\\otimes B = \n",
    "\t\\begin{pmatrix} \n",
    "\t\tA_{00} \\begin{pmatrix} \n",
    "\t\t\tB_{00} & B_{01} \\\\\n",
    "\t\t\tB_{10} & B_{11}\n",
    "\t\t\\end{pmatrix} & A_{01} \t\\begin{pmatrix} \n",
    "\t\t\t\tB_{00} & B_{01} \\\\\n",
    "\t\t\t\tB_{10} & B_{11}\n",
    "\t\t\t\\end{pmatrix} \\\\\n",
    "\t\tA_{10} \t\\begin{pmatrix} \n",
    "\t\t\t\t\tB_{00} & B_{01} \\\\\n",
    "\t\t\t\t\tB_{10} & B_{11}\n",
    "\t\t\t\t\\end{pmatrix} & A_{11} \t\\begin{pmatrix} \n",
    "\t\t\t\t\t\t\tB_{00} & B_{01} \\\\\n",
    "\t\t\t\t\t\t\tB_{10} & B_{11}\n",
    "\t\t\t\t\t\t\\end{pmatrix}\n",
    "\t\\end{pmatrix},\t\t\t\t\t\t\n",
    "\\end{equation}$$\n",
    "\n",
    "같은 방식으로 2 큐비트 시스템의 계산 기저도 같은 방식으로 단일큐비트의 계산 기저로 부터 만들어 집니다. \n",
    "\n",
    "$$\\begin{equation}\\begin{split}\n",
    "\t\\left|{00}\\right\\rangle &= \\begin{pmatrix} \n",
    "\t\t1 \\begin{pmatrix} \n",
    "\t\t\t1  \\\\\n",
    "\t\t\t0\n",
    "\t\t\\end{pmatrix} \\\\\n",
    "\t\t0 \\begin{pmatrix} \n",
    "\t\t\t1  \\\\\n",
    "\t\t\t0 \n",
    "\t\t\\end{pmatrix}\n",
    "\t\\end{pmatrix} = \\begin{pmatrix} 1 \\\\ 0 \\\\ 0 \\\\0 \\end{pmatrix}~~~\\left|{01}\\right\\rangle = \\begin{pmatrix} \n",
    "\t1 \\begin{pmatrix} \n",
    "\t0 \\\\\n",
    "\t1\n",
    "\t\\end{pmatrix} \\\\\n",
    "\t0 \\begin{pmatrix} \n",
    "\t0  \\\\\n",
    "\t1 \n",
    "\t\\end{pmatrix}\n",
    "\t\\end{pmatrix} = \\begin{pmatrix}0 \\\\ 1 \\\\ 0 \\\\ 0 \\end{pmatrix}\\end{split}\n",
    "\\end{equation}$$\n",
    "    \n",
    "$$\\begin{equation}\\begin{split}\\left|{10}\\right\\rangle = \\begin{pmatrix} \n",
    "\t0\\begin{pmatrix} \n",
    "\t1  \\\\\n",
    "\t0\n",
    "\t\\end{pmatrix} \\\\\n",
    "\t1\\begin{pmatrix} \n",
    "\t1 \\\\\n",
    "\t0 \n",
    "\t\\end{pmatrix}\n",
    "\t\\end{pmatrix} = \\begin{pmatrix} 0 \\\\ 0 \\\\ 1 \\\\ 0 \\end{pmatrix}~~~ \t\\left|{11}\\right\\rangle = \\begin{pmatrix} \n",
    "\t0 \\begin{pmatrix} \n",
    "\t0  \\\\\n",
    "\t1\n",
    "\t\\end{pmatrix} \\\\\n",
    "\t1\\begin{pmatrix} \n",
    "\t0  \\\\\n",
    "\t1 \n",
    "\t\\end{pmatrix}\n",
    "\t\\end{pmatrix} = \\begin{pmatrix} 0 \\\\ 0 \\\\ 0 \\\\1 \\end{pmatrix}\\end{split}\n",
    "\\end{equation}.$$\n"
   ]
  },
  {
   "cell_type": "markdown",
   "id": "da1dead4",
   "metadata": {},
   "source": [
    "#### Controlled Gate\n",
    "\n",
    "대부분의 2 큐비트 게이트들은 SWAP 게이트를 제외하면 대부분 제어 연산의 형태입니다. 일반적으로 제어 연산의 경우 제어 비트와 대상 비트, 그리고 대상 비트에 적용될 단일 큐비트 유니터리 연산자 $U$ 로 정의됩니다. \n",
    "임의의 $U$를 다음과 같이 생각해 봅시다.\n",
    "\n",
    "$$U = \\begin{pmatrix} u_{00} & u_{01} \\\\ u_{10} & u_{11}\\end{pmatrix}$$\n",
    "\n",
    "이 연산자를 사용한 제어 연산은 다음과 같이 생각 해 볼 수 있습니다. **control qubit**가 **qubit 0** 이고, **control qubit**가  **qubit 1**인 경우를 생각해 봅시다. 이 경우 제어 연산은 **qubit 0**이 1일때 $U$를  **qubit 1**에 적용하기 때문에 계산 기저는 다음과 같이 영향을 받게 됩니다. \n",
    "\n",
    "$$\\begin{align*}\n",
    "C_{U}: \\underset{\\text{qubit}~1}{\\left|0\\right\\rangle}\\otimes \\underset{\\text{qubit}~0}{\\left|0\\right\\rangle} &\\rightarrow \\underset{\\text{qubit}~1}{\\left|0\\right\\rangle}\\otimes \\underset{\\text{qubit}~0}{\\left|0\\right\\rangle}\\\\\n",
    "C_{U}: \\underset{\\text{qubit}~1}{\\left|0\\right\\rangle}\\otimes \\underset{\\text{qubit}~0}{\\left|1\\right\\rangle} &\\rightarrow \\underset{\\text{qubit}~1}{U\\left|0\\right\\rangle}\\otimes \\underset{\\text{qubit}~0}{\\left|1\\right\\rangle}\\\\\n",
    "C_{U}: \\underset{\\text{qubit}~1}{\\left|1\\right\\rangle}\\otimes \\underset{\\text{qubit}~0}{\\left|0\\right\\rangle} &\\rightarrow \\underset{\\text{qubit}~1}{\\left|1\\right\\rangle}\\otimes \\underset{\\text{qubit}~0}{\\left|0\\right\\rangle}\\\\\n",
    "C_{U}: \\underset{\\text{qubit}~1}{\\left|1\\right\\rangle}\\otimes \\underset{\\text{qubit}~0}{\\left|1\\right\\rangle} &\\rightarrow \\underset{\\text{qubit}~1}{U\\left|1\\right\\rangle}\\otimes \\underset{\\text{qubit}~0}{\\left|1\\right\\rangle}\\\\\n",
    "\\end{align*}.$$\n",
    "\n",
    "이것을 행렬의 형태로 작성해 보면 $C_{U}$연산은 다음과 같이 정리할 수 있습니다.\n",
    "\n",
    "$$\\begin{equation}\n",
    "\tC_U = \\begin{pmatrix}\n",
    "\t1 & 0 & 0 & 0 \\\\\n",
    "\t0 & u_{00} & 0 & u_{01} \\\\\n",
    "\t0 & 0 & 1 & 0 \\\\\n",
    "\t0 & u_{10} &0 & u_{11}\n",
    "\t\t\\end{pmatrix}.\n",
    "\\end{equation}$$\n"
   ]
  },
  {
   "cell_type": "markdown",
   "id": "f8780694",
   "metadata": {},
   "source": [
    "이제 **qubit 1**이 제어 비트이고 **qubit 0** 대상 비트가 되는 경우를 생각해 봅시다. 이 경우 계산 기저는 \n",
    "\n",
    "$$\\begin{align*}\n",
    "C_{U}: \\underset{\\text{qubit}~1}{\\left|0\\right\\rangle}\\otimes \\underset{\\text{qubit}~0}{\\left|0\\right\\rangle} &\\rightarrow \\underset{\\text{qubit}~1}{\\left|0\\right\\rangle}\\otimes \\underset{\\text{qubit}~0}{\\left|0\\right\\rangle}\\\\\n",
    "C_{U}: \\underset{\\text{qubit}~1}{\\left|0\\right\\rangle}\\otimes \\underset{\\text{qubit}~0}{\\left|1\\right\\rangle} &\\rightarrow \\underset{\\text{qubit}~1}{\\left|0\\right\\rangle}\\otimes \\underset{\\text{qubit}~0}{\\left|1\\right\\rangle}\\\\\n",
    "C_{U}: \\underset{\\text{qubit}~1}{\\left|1\\right\\rangle}\\otimes \\underset{\\text{qubit}~0}{\\left|0\\right\\rangle} &\\rightarrow \\underset{\\text{qubit}~1}{\\left|1\\right\\rangle}\\otimes \\underset{\\text{qubit}~0}{U\\left|0\\right\\rangle}\\\\\n",
    "C_{U}: \\underset{\\text{qubit}~1}{\\left|1\\right\\rangle}\\otimes \\underset{\\text{qubit}~0}{\\left|1\\right\\rangle} &\\rightarrow \\underset{\\text{qubit}~1}{\\left|1\\right\\rangle}\\otimes \\underset{\\text{qubit}~0}{U\\left|1\\right\\rangle}\\\\\n",
    "\\end{align*},$$\n",
    "\n",
    "위와 같이 변하게 되고 이것을 행렬의 형태로 정리하면 아래와 같게 됩니다. \n",
    "\n",
    "$$\\begin{equation}\n",
    "\tC_U = \\begin{pmatrix}\n",
    "\t1 & 0 & 0  & 0 \\\\\n",
    "\t0 & 1 & 0 & 0 \\\\\n",
    "\t0 & 0 & u_{00} & u_{01} \\\\\n",
    "\t0 & 0 & u_{10} & u_{11}\n",
    "\t\t\\end{pmatrix}.\n",
    "\\end{equation}$$"
   ]
  },
  {
   "cell_type": "markdown",
   "id": "efaca2e4",
   "metadata": {},
   "source": [
    "#### CX 게이트\n",
    "\n",
    "이제 가장 많이 사용하게 되는 제어 연산 중 하나인 Controlled-X, CX 게이트에 대해서 살펴봅시다. CX 연산은 제어 큐비트가 1일때 X 게이트를 적용하는 연산으로 제어 큐비트가 큐비트 1, 대상 큐비트가 큐비트 0일때 위의 행렬식과 같이 아래와 같은 행렬식을 갖게 되며, 10과 11상태를 서로 교환하는 것으로 이해하기도 합니다.\n",
    "\n",
    "$$\n",
    "C_X = \n",
    "\\begin{pmatrix}\n",
    "1 & 0 & 0 & 0\\\\\n",
    "0 & 1 & 0 & 0\\\\\n",
    "0 & 0 & 0 & 1\\\\\n",
    "0 & 0 & 1 & 0\n",
    "\\end{pmatrix}. \n",
    "$$\n",
    "\n",
    "반대로, 제어 큐비트가 큐비트 0, 대상 큐비트가 큐비트 1이라면 아래와 같아 지며 01과 11의 상태를 서로 교환하는 것으로 이해하기도 합니다.\n",
    "\n",
    "$$\n",
    "C_X = \n",
    "\\begin{pmatrix}\n",
    "1 & 0 & 0 & 0\\\\\n",
    "0 & 0 & 0 & 1\\\\\n",
    "0 & 0 & 1 & 0\\\\\n",
    "0 & 1 & 0 & 0\n",
    "\\end{pmatrix}. \n",
    "$$"
   ]
  },
  {
   "cell_type": "code",
   "execution_count": null,
   "id": "cdf74532",
   "metadata": {},
   "outputs": [],
   "source": [
    "cx_gate = QuantumCircuit(2)\n",
    "Statevector(cx_gate).draw('bloch')"
   ]
  },
  {
   "cell_type": "code",
   "execution_count": null,
   "id": "17a08e4c",
   "metadata": {},
   "outputs": [],
   "source": [
    "cx_gate.x(0)\n",
    "Statevector(cx_gate).draw('bloch')"
   ]
  },
  {
   "cell_type": "code",
   "execution_count": null,
   "id": "949d24ba",
   "metadata": {},
   "outputs": [],
   "source": [
    "cx_gate.cx(0,1)\n",
    "Statevector(cx_gate).draw('bloch')"
   ]
  },
  {
   "cell_type": "code",
   "execution_count": null,
   "id": "09bd4b21",
   "metadata": {},
   "outputs": [],
   "source": [
    "cx_gate.cx(0,1)\n",
    "Statevector(cx_gate).draw('bloch')"
   ]
  },
  {
   "cell_type": "code",
   "execution_count": null,
   "id": "cf82cd00",
   "metadata": {},
   "outputs": [],
   "source": [
    "cx_gate.x([0,1])\n",
    "Statevector(cx_gate).draw('bloch')"
   ]
  },
  {
   "cell_type": "code",
   "execution_count": null,
   "id": "e77b3895",
   "metadata": {},
   "outputs": [],
   "source": [
    "cx_gate.cx(1,0)\n",
    "Statevector(cx_gate).draw('bloch')"
   ]
  },
  {
   "cell_type": "code",
   "execution_count": null,
   "id": "152483b9",
   "metadata": {},
   "outputs": [],
   "source": [
    "cx_gate.cx(1,0)\n",
    "Statevector(cx_gate).draw('bloch')"
   ]
  },
  {
   "cell_type": "markdown",
   "id": "6f0b82a8",
   "metadata": {},
   "source": [
    "#### SWAP gate\n",
    "\n",
    "스왑 게이트는 두 큐비트의 상태를 통째로 교환합니다. 이 게이트는 계산 기저를 다음과 같이 변환합니다. \n",
    "\n",
    "$$\\left|00\\right\\rangle \\rightarrow \\left|00\\right\\rangle~,~\\left|01\\right\\rangle \\rightarrow \\left|10\\right\\rangle~,~\\left|10\\right\\rangle \\rightarrow \\left|01\\right\\rangle~,~\\left|11\\right\\rangle \\rightarrow \\left|11\\right\\rangle,$$\n",
    "\n",
    "이 연산은 행렬로 표현하면 다음과 같습니다. \n",
    "\n",
    "$$\n",
    "\\mathrm{SWAP} = \n",
    "\\begin{pmatrix}\n",
    "1 & 0 & 0 & 0\\\\\n",
    "0 & 0 & 1 & 0\\\\\n",
    "0 & 1 & 0 & 0\\\\\n",
    "0 & 0 & 0 & 1\n",
    "\\end{pmatrix}.\n",
    "$$\n",
    "\n",
    "Swap 게이트의 성능을 확인하기 위해 각각의 큐비트를 임의의 상태벡터로 초기화 해보도록 합시다."
   ]
  },
  {
   "cell_type": "code",
   "execution_count": null,
   "id": "0eeab3f5",
   "metadata": {},
   "outputs": [],
   "source": [
    "swap_gate = QuantumCircuit(2)\n",
    "initial_1 = random_statevector(2)   \n",
    "initial_2 = random_statevector(2)   \n",
    "swap_gate.initialize(initial_1, 0)\n",
    "swap_gate.initialize(initial_2, 1)\n",
    "Statevector(swap_gate).draw('bloch')"
   ]
  },
  {
   "cell_type": "code",
   "execution_count": null,
   "id": "d053c5c0",
   "metadata": {},
   "outputs": [],
   "source": [
    "array_to_latex(Statevector(swap_gate))"
   ]
  },
  {
   "cell_type": "code",
   "execution_count": null,
   "id": "e1db15de",
   "metadata": {},
   "outputs": [],
   "source": [
    "swap_gate.swap(0,1)\n",
    "Statevector(swap_gate).draw('bloch')"
   ]
  },
  {
   "cell_type": "code",
   "execution_count": null,
   "id": "e879c10b",
   "metadata": {},
   "outputs": [],
   "source": [
    "array_to_latex(Statevector(swap_gate))"
   ]
  },
  {
   "cell_type": "markdown",
   "id": "a8f2fbbe",
   "metadata": {},
   "source": [
    "### 측정\n",
    "\n",
    "\n",
    "큐비트는 여러가지 중첩 가능한 상태로 초기화 되어 사용 될 수 있습니다. 하지만 한번 측정되고 난 후에는 $|0\\rangle$이나 $|1\\rangle$로 그 상태가 결정됩니다. 이것을 측정이 큐비트의 상태를 0또는 1로 붕괴시킨다고 표현하곤 합니다. \n",
    "\n",
    "다음의 실습에서 measurement를 포함하거나 포함하지 않은, 두가지 회로를 구성하고, 각 경우 최종 회로의 statevector값을 확인해 봅시다. 큐비트의 초기 값은  0과 1로 측정될 확률이 각각 50%에 해당하는 텍스트북에 제시된 상태를 사용하도록 하겠습니다."
   ]
  },
  {
   "cell_type": "code",
   "execution_count": null,
   "id": "5db7f970",
   "metadata": {},
   "outputs": [],
   "source": [
    "#측정이 없는 회로\n",
    "\n",
    "qc_without_measurment = QuantumCircuit(1) # We are redefining qc\n",
    "initial_state = [0.+1.j/sqrt(2),1/sqrt(2)+0.j]\n",
    "qc_without_measurment.initialize(initial_state, 0)\n",
    "qc_without_measurment.draw('mpl')\n"
   ]
  },
  {
   "cell_type": "code",
   "execution_count": null,
   "id": "06a6281a",
   "metadata": {},
   "outputs": [],
   "source": [
    "backend = StatevectorSimulator()\n",
    "backend.run(qc_without_measurment).result().get_statevector()"
   ]
  },
  {
   "cell_type": "code",
   "execution_count": null,
   "id": "d333a4bb",
   "metadata": {},
   "outputs": [],
   "source": [
    "\n",
    "qc_with_measurment = QuantumCircuit(1) # We are redefining qc\n",
    "initial_state = [0.+1.j/sqrt(2),1/sqrt(2)+0.j]\n",
    "qc_with_measurment.initialize(initial_state, 0)\n",
    "qc_with_measurment.measure_all()\n",
    "qc_with_measurment.draw('mpl')\n"
   ]
  },
  {
   "cell_type": "code",
   "execution_count": null,
   "id": "25a67fde",
   "metadata": {},
   "outputs": [],
   "source": [
    "backend = StatevectorSimulator()\n",
    "backend.run(qc_with_measurment).result().get_statevector()"
   ]
  },
  {
   "cell_type": "markdown",
   "id": "797d287f",
   "metadata": {},
   "source": [
    "바로 위의 셀을 여러번 실행시켜 보면 statevector의 값이 0 또는 1에 해당하게 계속 변하는 것을 볼수있습니다. 마치 동전던지기와 같습니다 :)\n",
    "\n",
    "### A Note about Quantum Simulators\n",
    "\n",
    "`qiskit_aer`는 Qiskit의 시뮬레이션 패키지로, 다음과 같은 시뮬레이터 들을 보유하고 있습니다\n",
    "- [AerSimulator](https://qiskit.org/ecosystem/aer/stubs/qiskit_aer.AerSimulator.html#qiskit_aer.AerSimulator)\n",
    "- [QasmSimulator](https://qiskit.org/ecosystem/aer/stubs/qiskit_aer.QasmSimulator.html#qiskit_aer.QasmSimulator)\n",
    "- [StatevectorSimulator](https://qiskit.org/ecosystem/aer/stubs/qiskit_aer.StatevectorSimulator.html#qiskit_aer.StatevectorSimulator)\n",
    "- [UnitarySimulator](https://qiskit.org/ecosystem/aer/stubs/qiskit_aer.UnitarySimulator.html#qiskit_aer.UnitarySimulator)\n",
    "\n",
    "이 중 `AerSimulator`는 회로를 실행하고 측정된 값의 count를 반환합니다. 노이즈가 없는 이상적인 시뮬레이션을 하며 실행의 기본값은 `shots=1024`로 회로를 1024번 실행하도록 하고 있습니다. \n",
    "\n",
    "### Bloch Sphere vs QSphere\n",
    "\n",
    "Qiskit은 양자 상태를 visual하고, 직관적으로 보여주기 위해 세가지 라이브러리를 제공하고 있습니다. \n",
    "- [plot_bloch_vector](https://qiskit.org/documentation/stubs/qiskit.visualization.plot_bloch_vector.html) (입력이 구면의 좌표, Cartesian or Spherical)\n",
    "- [plot_bloch_multivector](https://qiskit.org/documentation/stubs/qiskit.visualization.plot_bloch_multivector.html) (입력이 statevector)\n",
    "- [plot_state_qsphere](https://qiskit.org/documentation/stubs/qiskit.visualization.plot_state_qsphere.html) (입력이 statevector)\n",
    "\n",
    "다음의 실습에서는 임의의 양자상태를 생성하고, 세가지 라이브러리를 사용해 큐비트의 상태를 표현해 보도록 하겠습니다."
   ]
  },
  {
   "cell_type": "code",
   "execution_count": null,
   "id": "7a67c203",
   "metadata": {},
   "outputs": [],
   "source": [
    "from qiskit.visualization import plot_state_qsphere, plot_bloch_vector, plot_bloch_multivector\n",
    "\n",
    "qc = QuantumCircuit(1)\n",
    "initial_state = random_statevector(2) \n",
    "qc.initialize(initial_state, 0)\n",
    "\n",
    "qc.draw('mpl')"
   ]
  },
  {
   "cell_type": "code",
   "execution_count": null,
   "id": "aefa4112",
   "metadata": {},
   "outputs": [],
   "source": [
    "def get_spherical_coordinates(statevector):\n",
    "    # Convert to polar form:\n",
    "    r0 = np.abs(statevector[0])\n",
    "    ϕ0 = np.angle(statevector[0])\n",
    "\n",
    "    r1 = np.abs(statevector[1])\n",
    "    ϕ1 = np.angle(statevector[1])\n",
    "\n",
    "    # Calculate the coordinates:\n",
    "    r = np.sqrt(r0 ** 2 + r1 ** 2)\n",
    "    θ = 2 * np.arccos(r0 / r)\n",
    "    ϕ = ϕ1 - ϕ0\n",
    "    return [r, θ, ϕ]"
   ]
  },
  {
   "cell_type": "code",
   "execution_count": null,
   "id": "e9beaa3c",
   "metadata": {},
   "outputs": [],
   "source": [
    "plot_bloch_vector(get_spherical_coordinates(initial_state), coord_type = 'spherical')"
   ]
  },
  {
   "cell_type": "code",
   "execution_count": null,
   "id": "38b38bb6",
   "metadata": {},
   "outputs": [],
   "source": [
    "plot_bloch_multivector(initial_state)"
   ]
  },
  {
   "cell_type": "code",
   "execution_count": null,
   "id": "dc0fa6db",
   "metadata": {},
   "outputs": [],
   "source": [
    "plot_state_qsphere(initial_state)"
   ]
  },
  {
   "cell_type": "markdown",
   "id": "38287429",
   "metadata": {},
   "source": [
    "이제 우리의 Quantum Journey의 첫번째 관문에 거의 다다랐습니다. 문제를 확인해 봅시다. \n",
    "\n",
    "# 양자 세계로 들어가는 진짜 문을 찾아라\n",
    "\n",
    "(contents from: [The Quantum Enigmas 001 - The treasure door](https://www.youtube.com/watch?v=c1beJIg8lRs) of Institut quantique de l'Université de Sherbrooke)\n",
    "\n",
    "<img src=\"img/enigma1.png\" alt=\"Alternative text\" width=800/>\n",
    "\n",
    "여러분은 각각 문지기가 지키고 있는 두개의 문 앞에 다다랐습니다. \n",
    "\n",
    "1. 두개의 문 중 하나만이 진짜 양자세계로 가는 문 입니다.\n",
    "2. 두 문지기는 모두 진짜 문이 무엇인지 알고 있습니다.\n",
    "3. 문지기 중 한명은 늘 진실만은 이야기 합니다.\n",
    "4. 문지기 중 나머지 하나는 늘 거짓만을 이야기 합니다.\n",
    "5. 여러분은 문지기 중 단 한명에게 단 하나의 질문만을 던져서 진짜 문을 찾아내야 합니다.\n",
    "\n",
    "자, 이 문제를 양자게이트들을 사용해서 해결해 봅시다. \n",
    "\n",
    "## 첫번째 단계 - 두 문지기는 같은 것을 알고 있다 - Quantum Entanglement\n",
    "\n",
    "우선 두 문지기는 오른쪽 문(0)이 진짜 문인지 왼쪽 문(1)이 진짜 문인지를 알고 있습니다. 오른쪽 문지기를 큐비트0, 왼쪽 문지기를 큐비트 1이라 한다면 진짜문이 각각 오른쪽과 왼쪽인 경우 큐비트의 상태는 다음과 같아야 합니다.\n",
    "\n",
    "- 오른쪽 문이 진짜 문인 경우, 0번 큐비트의 상태는 0, 1번 큐비트의 상태는 0 -> $|00\\rangle$\n",
    "- 왼쪽 문이 진짜 문인 경우, 0번 큐비트의 상태는 1, 1번 큐비트의 상태는 1 -> $|11\\rangle$\n",
    "\n",
    "두개의 문지기 큐비트가 이와 같은 상태를 갖도록 양자 회로를 만들어 봅시다."
   ]
  },
  {
   "cell_type": "code",
   "execution_count": null,
   "id": "ed86bc87",
   "metadata": {},
   "outputs": [],
   "source": [
    "state1 = QuantumCircuit(2)\n",
    "\n",
    "#your code\n"
   ]
  },
  {
   "cell_type": "code",
   "execution_count": null,
   "id": "86ed0ddd",
   "metadata": {},
   "outputs": [],
   "source": [
    "Statevector(state1).draw('qsphere')"
   ]
  },
  {
   "cell_type": "markdown",
   "id": "0f983337",
   "metadata": {},
   "source": [
    "네 두 문지기는 어느 문이 진짜 문인지, 같은 정보를 나눠갖고 있는 상태가 되었습니다. 이 상태는 얽힘 상태라고 표현합니다. 즉, 두개의 큐비트의 상태가 항상 같은 값이나 반대 값으로 묶여 있다고 볼 수 있으며, 수학적으로 이런 얽힘 상태는 위에서 배운 텐서곱을 사용해 두개의 단일 큐비트 상태의 곱으로 `나눌 수 없`습니다.\n",
    "\n",
    "## 두번째 단계 - 두 문지기 중에 거짓말 장이가 있다\n",
    "\n",
    "두 문지기는 같은 것을 알고 있지만, 둘중에 하나는 거짓말을 하고 있습니다. 이 경우 거짓말 쟁이가 알고 있는 정보는 반전되게 됩니다. 이 부분을 추가 적인 큐비트 - 거짓말 쟁이 큐비트 - 를 만들어서 구현해 보도록 합시다.\n",
    "\n",
    "우선 거짓말쟁이 큐비트를 하나 지정한 후 회로에 추가해 봅시다.\n"
   ]
  },
  {
   "cell_type": "code",
   "execution_count": null,
   "id": "c44854ce",
   "metadata": {},
   "outputs": [],
   "source": [
    "lier = QuantumRegister(1)\n",
    "state1.add_bits(lier)\n",
    "state1.draw('mpl')"
   ]
  },
  {
   "cell_type": "markdown",
   "id": "7153e213",
   "metadata": {},
   "source": [
    "거짓말쟁이는 왼쪽 문지기, 오른쪽 문지기 중 하나이므로 중첩 상태를 만듭니다. "
   ]
  },
  {
   "cell_type": "code",
   "execution_count": null,
   "id": "0a910aef",
   "metadata": {},
   "outputs": [],
   "source": [
    "\n",
    "#your code\n",
    "\n",
    "state1.draw('mpl')"
   ]
  },
  {
   "cell_type": "markdown",
   "id": "f8d42e29",
   "metadata": {},
   "source": [
    "그리고 이제 거짓말쟁이 큐비트를 사용해 다음과 같은 기능을 구현해 봅니다.\n",
    "\n",
    "1. 오른쪽 문지기가 거짓말쟁이라면 (거짓말 쟁이 큐비트가 0의 상태라면) Q0의 정보를 반전시킨다\n",
    "2. 왼쪽 문지기가 거짓말쟁이라면 (거짓말쟁이 큐비트가 1의 상태라면) Q1의 정보를 반전시킨다.\n",
    "\n",
    "이 기능을 x 게이트와 cx 게이트를 사용해 구현해 봅시다. 우선 1번을 구현해 봅시다."
   ]
  },
  {
   "cell_type": "code",
   "execution_count": null,
   "id": "63cf771d",
   "metadata": {},
   "outputs": [],
   "source": [
    "\n",
    "#your code\n",
    "\n",
    "state1.draw('mpl')"
   ]
  },
  {
   "cell_type": "code",
   "execution_count": null,
   "id": "4e8e7777",
   "metadata": {},
   "outputs": [],
   "source": [
    "Statevector(state1).draw('qsphere')"
   ]
  },
  {
   "cell_type": "markdown",
   "id": "a031fd85",
   "metadata": {},
   "source": [
    "다음으로 2번을 구현해 봅시다."
   ]
  },
  {
   "cell_type": "code",
   "execution_count": null,
   "id": "5fdb0e79",
   "metadata": {},
   "outputs": [],
   "source": [
    "#your code\n",
    "\n",
    "state1.draw('mpl')"
   ]
  },
  {
   "cell_type": "code",
   "execution_count": null,
   "id": "f03eff14",
   "metadata": {},
   "outputs": [],
   "source": [
    "Statevector(state1).draw('qsphere')"
   ]
  },
  {
   "cell_type": "markdown",
   "id": "e09bcdb2",
   "metadata": {},
   "source": [
    "이제, 둘중 하나의 문지기에게 던질 질문을 준비해 봅시다. \n",
    "\n",
    "위의 상태를 자세히 살펴 봅시다.\n",
    "1. 오른쪽 문지기가 거짓말쟁이인 경우, 정답은 왼쪽 문지기의 정답\n",
    "- $|001\\rangle$: 정답 - 오른쪽, 오른쪽 문지기가 거짓말쟁이이고, 왼쪽 문지기는 오른쪽 문이 진짜 문이라고 대답할것이며, 오른쪽 문지기는 왼쪽 문이 진짜문이라고 대답할 것이다.\n",
    "- $|010\\rangle$: 정답 - 왼쪽, 오른쪽 문지기가 거짓말쟁이이고, 왼쪽 문지기는 왼쪽 문이 진짜 문이라고 대답할것이며, 오른쪽 문지기는 오른쪽 문이 진짜문이라고 대답할 것이다.\n",
    "\n",
    "이 경우 두 문지기가 같은 답을 하게 하는 가장 쉬운 방법은 둘 중 하나의 문지기에게 \"반대편 문지기가 어떤 문을 열지 말라고 할지\" 물어보는 것입니다. $|001\\rangle$인 경우를 생각해 봅시다. 이 경우 진실은 오른쪽 문(0)입니다.\n",
    "\n",
    "- 오른쪽 문지기에게 질문할 경우: 왼쪽 문을 열지 말라고 말하려다가 다시 거짓말을 할것이기 때문에 오른쪽 문을열지 말라고 말할 것입니다.  $|001\\rangle$ $\\rightarrow$ $|000\\rangle$\n",
    "- 왼쪽 문지기에게 오른쪽 문지기가 어떤 문을 나에게 열지 말지 물어보면: 오른쪽 문을 열지 말라고 말할 것입니다.  $|001\\rangle$ $\\rightarrow$ $|000\\rangle$\n",
    "\n",
    "위에서 알 수 있듯이 반대편 문지기가 어떤 문을 열지 말라고 물어볼 경우 두 문지기 모두 진실을 말하게 됨을 알 수 있습니다. 다른 상황에서도 이와 같음을 논리표를 그려서 확인해 봅시다.\n"
   ]
  },
  {
   "cell_type": "markdown",
   "id": "f55dcea1",
   "metadata": {},
   "source": [
    "| liar      | correct answer | current answer | asked | final answer |\n",
    "| ----------- | ----------- | ------------| ------| ------ |\n",
    "| 0 | 0 | 01 | 0 | 00 |\n",
    "| 0 | 0 | 01 | 1 | 00 |\n",
    "| 0 | 1 | 10 | 0 | fill this! |\n",
    "| 0 | 1 | 10 | 1 | fill this! |\n",
    "| 1 | 1 | 01 | 0 | fill this! |\n",
    "| 1 | 1 | 01 | 1 | fill this! |\n",
    "| 1 | 0 | 10 | 0 | fill this! |\n",
    "| 1 | 0 | 10 | 1 | fill this! |"
   ]
  },
  {
   "cell_type": "markdown",
   "id": "5327379b",
   "metadata": {},
   "source": [
    "그럼 우리의 양자 회로에 이 질문 \"다른 문지기가 어떤 문을 열지 말라고 할지\"를 코딩해 봅시다. 우선 질문을 하는 문지기의 답이 상대방의 답의 상태로 바뀌게 되므로 Swap 게이트를 회로에 적용합니다."
   ]
  },
  {
   "cell_type": "code",
   "execution_count": null,
   "id": "4c5c2d2f",
   "metadata": {},
   "outputs": [],
   "source": [
    "\n",
    "#your code\n",
    "\n",
    "state1.draw('mpl')\n"
   ]
  },
  {
   "cell_type": "markdown",
   "id": "1775bcce",
   "metadata": {},
   "source": [
    "다음으로 열지 말것을 물어보고 있으므로 x 게이트를 적용합니다."
   ]
  },
  {
   "cell_type": "code",
   "execution_count": null,
   "id": "6f647dae",
   "metadata": {},
   "outputs": [],
   "source": [
    "\n",
    "#your code\n",
    "\n",
    "state1.draw('mpl')\n"
   ]
  },
  {
   "cell_type": "markdown",
   "id": "b48a63dc",
   "metadata": {},
   "source": [
    "마지막으로 거짓말쟁이는 다시 거짓말을 할 것이므로, 거짓말 쟁이 회로를 다시 한번 적용합니다."
   ]
  },
  {
   "cell_type": "code",
   "execution_count": null,
   "id": "c42a8062",
   "metadata": {},
   "outputs": [],
   "source": [
    "\n",
    "#your code\n",
    "\n",
    "state1.draw('mpl')"
   ]
  },
  {
   "cell_type": "markdown",
   "id": "9b21cff4",
   "metadata": {},
   "source": [
    "이제 이 회로를 측정해서 결과를 확인해 봅시다."
   ]
  },
  {
   "cell_type": "code",
   "execution_count": null,
   "id": "d91f0390",
   "metadata": {},
   "outputs": [],
   "source": [
    "state1.measure_all()\n",
    "backend = AerSimulator()\n",
    "counts = backend.run(state1).result().get_counts()\n",
    "plot_histogram(counts)"
   ]
  },
  {
   "cell_type": "markdown",
   "id": "29c6ee8d",
   "metadata": {},
   "source": [
    "결과를 살펴 봅시다. \"상대방 문지기가 열지 말라고 할 문\"을 둘중 하나의 문지기에게 한번 물어보는 경우, 어느쪽 문이 진짜 문인지, 어느 문지기가 거짓말 쟁이인지에 관계 없이 두 문지기는 진실만을 이야기 하게 되어 있습니다. \n",
    "\n",
    "# 축하합니다! 첫번째 관문을 통과했습니다. 이제 두번째 관문을 향해 이동해 봅시다."
   ]
  },
  {
   "cell_type": "code",
   "execution_count": null,
   "id": "cdad95b9",
   "metadata": {},
   "outputs": [],
   "source": []
  }
 ],
 "metadata": {
  "kernelspec": {
   "display_name": "Python 3 (ipykernel)",
   "language": "python",
   "name": "python3"
  },
  "language_info": {
   "codemirror_mode": {
    "name": "ipython",
    "version": 3
   },
   "file_extension": ".py",
   "mimetype": "text/x-python",
   "name": "python",
   "nbconvert_exporter": "python",
   "pygments_lexer": "ipython3",
   "version": "3.9.0"
  }
 },
 "nbformat": 4,
 "nbformat_minor": 5
}
